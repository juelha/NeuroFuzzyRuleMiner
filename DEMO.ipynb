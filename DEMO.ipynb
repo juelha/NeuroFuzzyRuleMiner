{
 "cells": [
  {
   "cell_type": "markdown",
   "metadata": {},
   "source": [
    "## Neuro-Fuzzy Rule Miner Demo\n",
    "\n",
    "\n",
    "\n",
    "\n",
    "#### Table of Contents \n",
    "  * [Cloning](#cloning)  \n",
    "  * [About Neuro-Fuzziness](#neuro-fuzzy)  \n",
    "  * [Datasets](#datasets)\n",
    "    + [XOR](#xor)\n",
    "    + [Iris](#iris)\n",
    "  * [Running the model](#running-the-model)\n",
    "  * [Results](#results)\n",
    "  * [Sources](#sources)\n",
    "\n",
    "\n",
    "\n"
   ]
  },
  {
   "cell_type": "markdown",
   "metadata": {},
   "source": [
    "To run this project in Google Colab, either download this file and upload it manually or use the github option with the path: https://github.com/juelha/NeuroFuzzyRuleMiner/blob/demo/DEMO.ipynb.\n",
    "To clone and enter the repo, run the following cell:"
   ]
  },
  {
   "cell_type": "code",
   "execution_count": 13,
   "metadata": {},
   "outputs": [
    {
     "name": "stdout",
     "output_type": "stream",
     "text": [
      "^C\n",
      "c:\\Users\\julia\\Documents\\GitHub\\BachelorThesis\\NeuroFuzzyRuleMiner\n"
     ]
    },
    {
     "name": "stderr",
     "output_type": "stream",
     "text": [
      "Cloning into 'NeuroFuzzyRuleMiner'...\n"
     ]
    }
   ],
   "source": [
    "# @title Run to Clone\n",
    "!git clone --branch demo https://github.com/juelha/NeuroFuzzyRuleMiner.git\n",
    "%cd NeuroFuzzyRuleMiner"
   ]
  },
  {
   "cell_type": "markdown",
   "metadata": {},
   "source": [
    "### About Neuro-Fuzziness\n",
    "\n",
    "#### What?\n",
    "- neuro-fuzzy = models that adjust fuzzy sets and rules according to neural networks tuning techniques \n",
    "- neuro-fuzzy system = when the model can act as a fuzzy system once it is trained \n",
    "\n",
    "#### Why?\n",
    "- Knowledge acquisition directly from data\n",
    "- White box neural nets \n",
    "\n",
    "#### How?\n",
    "\n",
    "<img align=\"right\" width=\"400\" src=\"doc\\figures\\nf_annot.svg\" hspace=\"150\">\n",
    "\n",
    "The architecture is comprised of three layers: for fuzzification, for the IF-part of a rule and for the THEN-part of a rule. \n",
    "The propagation of the input through the architecture is computed as follows:\n",
    "\n",
    "\n",
    "**Fuzzification-Layer:**\n",
    "\n",
    "The input vector $\\vec{x}$ is fuzzified. Each input $x_i$ has its own set of membership functions $MF_i$, for example: $MF_i = (MF_{low}, MF_{medium}, MF_{high})$.  The outputs of this layer can be referred to as the degrees of membership, $\\mu_{ij}$, of an input $x_i$ to a function $MF_{ij}$. \n",
    "$$ \\mu_{ij} = MF_{ij}(x_i) $$\n",
    "\n",
    "\n",
    "**IF-Layer:**\n",
    "\n",
    "The fuzzified inputs are combined via a T-norm operation, here multiplication. This represents the if-part of the fuzzy rule. The outputs of this layer is referred to as the rule strengths $\\vec{R} = (r_1, r_2, ..., r_{m^n})$, where $\\rho$ = (1, ..., $m^n$) for $n$ inputs and $m$ membership functions.\n",
    "$$ R_\\rho = \\text{T-norm} (\\mu_{ij}, \\mu_{(i+1)j}, ..., \\mu_{nm}) = \\mu_{ij} * \\mu_{(i+1)j} * ... * \\mu_{nm} $$\n",
    "\n",
    "**THEN-Layer:**\n",
    "\n",
    "The rule strengths are mapped to classes by one-hot encoded class weights.\n",
    "$$ y_\\rho = R_\\rho * class weight_\\rho $$"
   ]
  },
  {
   "cell_type": "markdown",
   "metadata": {},
   "source": [
    "### Dataset\n",
    "\n",
    "<img align=\"right\" width=\"600\" src=\"doc\\figures\\iris_scatter.png\" hspace=\"100\">\n",
    "\n",
    "The Iris dataset is a popular classification problem where four features were measured for the three iris species setosa, versicolor, virginica.\n",
    "\n",
    "On the right is a scatter plot of the Iris Dataset. The first 50 samples belong to the species setosa, the samples from 50 to 100 to versicolor, and the samples from 100 to 150 to virginica.\n"
   ]
  },
  {
   "cell_type": "markdown",
   "metadata": {},
   "source": [
    "### Running the model\n",
    "\n",
    "<img align=\"right\" width=\"600\" src=\"doc\\figures\\repo_struct.svg\" hspace=\"100\">\n",
    "\n",
    "\n",
    "Each operation that is performed on the neuro-fuzzy architecture is implemented in a script, i.e. Builder, Trainer, Classifier, and Rule Miner.\n",
    "\n",
    "**Builder:** \n",
    "- initializes the free parameters: parameters of the membership functions, and\n",
    "class weights\n",
    "\n",
    "**Trainer:**\n",
    "- trains the parameters of the membership functions with gradient descent \n",
    "\n",
    "**Rule Miner:**\n",
    "- extracts the IF-THEN rules from a trained neuro-fuzzy model  \n",
    "\n",
    "**Classifier:**\n",
    "- propagates a sample through the model and outputs the class with the highest activation\n"
   ]
  },
  {
   "cell_type": "code",
   "execution_count": 12,
   "metadata": {},
   "outputs": [
    {
     "name": "stdout",
     "output_type": "stream",
     "text": [
      "Directory iris created in config, full path is c:\\Users\\julia\\Documents\\GitHub\\BachelorThesis\\model_pkg/../config/iris\n",
      "Directory iris created in results, full path is c:\\Users\\julia\\Documents\\GitHub\\BachelorThesis\\model_pkg/../results/iris\n",
      "WEI [0.45   0.45   0.45   0.3    0.3    0.3    0.7375 0.7375 0.7375 0.3\n",
      " 0.3    0.3   ]\n"
     ]
    },
    {
     "name": "stderr",
     "output_type": "stream",
     "text": [
      "building: 100%|██████████| 150/150 [00:00<00:00, 14993.94it/s]\n",
      "selecting: 100%|██████████| 81/81 [00:00<00:00, 81025.19it/s]"
     ]
    },
    {
     "name": "stdout",
     "output_type": "stream",
     "text": [
      "Build done\n"
     ]
    },
    {
     "name": "stderr",
     "output_type": "stream",
     "text": [
      "\n",
      "class testing: 100%|██████████| 30/30 [00:00<00:00, 9999.14it/s]\n",
      "testing: 100%|██████████| 30/30 [00:00<00:00, 4285.88it/s]\n",
      "class testing: 100%|██████████| 120/120 [00:00<00:00, 8885.77it/s]\n",
      "testing: 100%|██████████| 120/120 [00:00<00:00, 3870.98it/s]\n"
     ]
    },
    {
     "name": "stdout",
     "output_type": "stream",
     "text": [
      "Epoch: 0 starting with \n",
      "             test accuracy 1.0 \n",
      "             train accuracy 0.9333333333333333 \n",
      "             test loss 0.15870545821310703 \n",
      "             train loss 0.1660461134961524\n"
     ]
    },
    {
     "name": "stderr",
     "output_type": "stream",
     "text": [
      "class testing: 100%|██████████| 120/120 [00:00<00:00, 15023.48it/s]\n",
      "training: 100%|██████████| 120/120 [00:00<00:00, 941.12it/s]\n",
      "class testing: 100%|██████████| 30/30 [00:00<00:00, 10001.52it/s]\n",
      "testing: 100%|██████████| 30/30 [00:00<00:00, 2999.50it/s]\n"
     ]
    },
    {
     "name": "stdout",
     "output_type": "stream",
     "text": [
      "Training Loop completed\n"
     ]
    },
    {
     "name": "stderr",
     "output_type": "stream",
     "text": [
      "class testing: 100%|██████████| 150/150 [00:00<00:00, 16671.41it/s]"
     ]
    },
    {
     "name": "stdout",
     "output_type": "stream",
     "text": [
      "\n",
      "┌─────────────────────────────────────────────────────────────────┐\n",
      "  Classifying Results: Accuracy total: 0.947, No. incorrect: 8 \n",
      "└─────────────────────────────────────────────────────────────────┘\n",
      "\n",
      "0.9466666666666667\n"
     ]
    },
    {
     "name": "stderr",
     "output_type": "stream",
     "text": [
      "\n"
     ]
    },
    {
     "data": {
      "text/plain": [
       "<Figure size 640x480 with 0 Axes>"
      ]
     },
     "metadata": {},
     "output_type": "display_data"
    },
    {
     "data": {
      "text/plain": [
       "<Figure size 640x480 with 0 Axes>"
      ]
     },
     "metadata": {},
     "output_type": "display_data"
    }
   ],
   "source": [
    "# imports \n",
    "from model_pkg import *\n",
    "from neurofuzzy_pkg import * \n",
    "\n",
    "# hyper parameters\n",
    "learning_rate = 1\n",
    "n_epochs = 1\n",
    "\n",
    "# parameters for running iris dataset\n",
    "df_name = \"iris\"\n",
    "fuzzy_labels = [\"small\" , \"medium\",\"high\"] \n",
    "lingusitic_output = [\"Setosa\", \"Versicolour\", \"Virginica\"]\n",
    "n_participants = 4\n",
    "\n",
    "MyModel = Model(DataPipeline(df_name), \n",
    "                    MyArc(fuzzy_labels, n_participants, len(lingusitic_output)), \n",
    "                    MyArcTrainer(n_epochs=n_epochs, learning_rate=learning_rate),\n",
    "                    Builder(),\n",
    "                    Classifier())\n",
    "MyModel.build() # init MF params and class weights\n",
    "MyModel.train()\n",
    "print(MyModel.class_accuracy()) \n"
   ]
  },
  {
   "cell_type": "markdown",
   "metadata": {},
   "source": [
    "### Results <a class=\"anchor\" id=\"results\"></a>"
   ]
  },
  {
   "cell_type": "code",
   "execution_count": 11,
   "metadata": {},
   "outputs": [
    {
     "data": {
      "text/html": [
       "<div>\n",
       "<style scoped>\n",
       "    .dataframe tbody tr th:only-of-type {\n",
       "        vertical-align: middle;\n",
       "    }\n",
       "\n",
       "    .dataframe tbody tr th {\n",
       "        vertical-align: top;\n",
       "    }\n",
       "\n",
       "    .dataframe thead th {\n",
       "        text-align: right;\n",
       "    }\n",
       "</style>\n",
       "<table border=\"1\" class=\"dataframe\">\n",
       "  <thead>\n",
       "    <tr style=\"text-align: right;\">\n",
       "      <th></th>\n",
       "      <th>Rule No.</th>\n",
       "      <th>sepal length</th>\n",
       "      <th>sepal width</th>\n",
       "      <th>petal length</th>\n",
       "      <th>petal width</th>\n",
       "      <th>Class</th>\n",
       "      <th>Activations</th>\n",
       "    </tr>\n",
       "  </thead>\n",
       "  <tbody>\n",
       "    <tr>\n",
       "      <th>0</th>\n",
       "      <td>10</td>\n",
       "      <td>small</td>\n",
       "      <td>medium</td>\n",
       "      <td>small</td>\n",
       "      <td>small</td>\n",
       "      <td>Setosa</td>\n",
       "      <td>0.107836</td>\n",
       "    </tr>\n",
       "    <tr>\n",
       "      <th>1</th>\n",
       "      <td>41</td>\n",
       "      <td>medium</td>\n",
       "      <td>medium</td>\n",
       "      <td>medium</td>\n",
       "      <td>medium</td>\n",
       "      <td>Versicolour</td>\n",
       "      <td>0.083070</td>\n",
       "    </tr>\n",
       "    <tr>\n",
       "      <th>2</th>\n",
       "      <td>32</td>\n",
       "      <td>medium</td>\n",
       "      <td>small</td>\n",
       "      <td>medium</td>\n",
       "      <td>medium</td>\n",
       "      <td>Versicolour</td>\n",
       "      <td>0.042747</td>\n",
       "    </tr>\n",
       "    <tr>\n",
       "      <th>3</th>\n",
       "      <td>37</td>\n",
       "      <td>medium</td>\n",
       "      <td>medium</td>\n",
       "      <td>small</td>\n",
       "      <td>small</td>\n",
       "      <td>Setosa</td>\n",
       "      <td>0.026257</td>\n",
       "    </tr>\n",
       "    <tr>\n",
       "      <th>4</th>\n",
       "      <td>45</td>\n",
       "      <td>medium</td>\n",
       "      <td>medium</td>\n",
       "      <td>high</td>\n",
       "      <td>high</td>\n",
       "      <td>Virginica</td>\n",
       "      <td>0.025801</td>\n",
       "    </tr>\n",
       "    <tr>\n",
       "      <th>5</th>\n",
       "      <td>42</td>\n",
       "      <td>medium</td>\n",
       "      <td>medium</td>\n",
       "      <td>medium</td>\n",
       "      <td>high</td>\n",
       "      <td>Virginica</td>\n",
       "      <td>0.020032</td>\n",
       "    </tr>\n",
       "    <tr>\n",
       "      <th>6</th>\n",
       "      <td>72</td>\n",
       "      <td>high</td>\n",
       "      <td>medium</td>\n",
       "      <td>high</td>\n",
       "      <td>high</td>\n",
       "      <td>Virginica</td>\n",
       "      <td>0.015928</td>\n",
       "    </tr>\n",
       "    <tr>\n",
       "      <th>7</th>\n",
       "      <td>46</td>\n",
       "      <td>medium</td>\n",
       "      <td>high</td>\n",
       "      <td>small</td>\n",
       "      <td>small</td>\n",
       "      <td>Setosa</td>\n",
       "      <td>0.013719</td>\n",
       "    </tr>\n",
       "    <tr>\n",
       "      <th>8</th>\n",
       "      <td>5</td>\n",
       "      <td>small</td>\n",
       "      <td>small</td>\n",
       "      <td>medium</td>\n",
       "      <td>medium</td>\n",
       "      <td>Versicolour</td>\n",
       "      <td>0.011363</td>\n",
       "    </tr>\n",
       "    <tr>\n",
       "      <th>9</th>\n",
       "      <td>19</td>\n",
       "      <td>small</td>\n",
       "      <td>high</td>\n",
       "      <td>small</td>\n",
       "      <td>small</td>\n",
       "      <td>Setosa</td>\n",
       "      <td>0.010577</td>\n",
       "    </tr>\n",
       "  </tbody>\n",
       "</table>\n",
       "</div>"
      ],
      "text/plain": [
       "   Rule No. sepal length sepal width petal length petal width        Class  \\\n",
       "0        10        small      medium        small       small       Setosa   \n",
       "1        41       medium      medium       medium      medium  Versicolour   \n",
       "2        32       medium       small       medium      medium  Versicolour   \n",
       "3        37       medium      medium        small       small       Setosa   \n",
       "4        45       medium      medium         high        high    Virginica   \n",
       "5        42       medium      medium       medium        high    Virginica   \n",
       "6        72         high      medium         high        high    Virginica   \n",
       "7        46       medium        high        small       small       Setosa   \n",
       "8         5        small       small       medium      medium  Versicolour   \n",
       "9        19        small        high        small       small       Setosa   \n",
       "\n",
       "   Activations  \n",
       "0     0.107836  \n",
       "1     0.083070  \n",
       "2     0.042747  \n",
       "3     0.026257  \n",
       "4     0.025801  \n",
       "5     0.020032  \n",
       "6     0.015928  \n",
       "7     0.013719  \n",
       "8     0.011363  \n",
       "9     0.010577  "
      ]
     },
     "execution_count": 11,
     "metadata": {},
     "output_type": "execute_result"
    }
   ],
   "source": [
    "# get save path \n",
    "\n",
    "import os\n",
    "import pandas as pd\n",
    "\n",
    "file_name = 'iris_best__rules.csv'\n",
    "relative_path =   '/results/iris'\n",
    "\n",
    "save_path = os.getcwd() +  relative_path # https://stackoverflow.com/questions/39125532/file-does-not-exist-in-jupyter-notebook\n",
    "full_path = os.path.join(save_path, file_name)\n",
    "assert  os.path.exists(full_path), f'Path {relative_path}/{file_name} does not exist'\n",
    "df = pd.read_csv(full_path).rename(columns={\"Unnamed: 0\": \"Rule No.\"})\n",
    "df"
   ]
  },
  {
   "cell_type": "markdown",
   "metadata": {},
   "source": [
    "<center>\n",
    "<img src=\"results\\iris\\figures\\PerformanceMyArc.png\" width=500>\n",
    "</center>"
   ]
  }
 ],
 "metadata": {
  "interpreter": {
   "hash": "61024a008e68019e4ec147d832b28336a5ff2f5e1265d3a28dec79ad48f487e3"
  },
  "kernelspec": {
   "display_name": "Python 3.9.7 ('ann')",
   "language": "python",
   "name": "python3"
  },
  "language_info": {
   "codemirror_mode": {
    "name": "ipython",
    "version": 3
   },
   "file_extension": ".py",
   "mimetype": "text/x-python",
   "name": "python",
   "nbconvert_exporter": "python",
   "pygments_lexer": "ipython3",
   "version": "3.10.13"
  },
  "orig_nbformat": 4
 },
 "nbformat": 4,
 "nbformat_minor": 2
}
