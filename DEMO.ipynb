{
 "cells": [
  {
   "cell_type": "markdown",
   "metadata": {},
   "source": [
    "## Demo Notebook\n",
    "\n",
    "To run this project in Google Colab, either download this file and upload it manually or use the github option with the path: .\n",
    "To clone the repo, execute the following cell:\n"
   ]
  },
  {
   "cell_type": "code",
   "execution_count": 1,
   "metadata": {},
   "outputs": [
    {
     "name": "stderr",
     "output_type": "stream",
     "text": [
      "Cloning into 'NeuroFuzzyRuleMiner'...\n"
     ]
    }
   ],
   "source": [
    "!git clone https://github.com/juelha/NeuroFuzzyRuleMiner.git"
   ]
  },
  {
   "cell_type": "markdown",
   "metadata": {},
   "source": [
    "  * [Datasets](#Datasets)\n",
    "    + [XOR](#xor)\n",
    "    + [Iris](#iris)\n",
    "  * [Running the model](#running-the-model)\n",
    "  * [Results](#Results)\n",
    "  * [Sources](#sources)"
   ]
  },
  {
   "cell_type": "markdown",
   "metadata": {},
   "source": [
    "<div class=\"alert alert-block alert-info\">\n",
    "<b>Example:</b> Blue boxes are used to display information.\n",
    "</div>"
   ]
  },
  {
   "cell_type": "markdown",
   "metadata": {},
   "source": [
    "### Dataset\n",
    "\n",
    "#### XOR\n",
    "The XOR (exclusive OR) classification problem is considered a valuable benchmark for testing machine learning models due to its non-linearity. The inputs of the dataset are\n",
    "sampled from a uniform distribution in the interval $[0,1] \\in \\mathbb{Q}$. The dataset of 200 samples is generated with the boolean experession $\\bold{if}$ $\\neg$ (A $\\approx$ B) $\\bold{then}$ true $\\bold{else}$ false.\n",
    "\n",
    "<center>\n",
    "<img src=\"doc\\figures\\xor_scatter.png\" width=400>\n",
    "</center>\n",
    "\n",
    "#### Iris\n",
    "The Iris dataset \\cite{fisher1936use} is a popular classification problem where four features were measured for the three iris species setosa, versicolor, virginica.\n",
    "\n",
    "A scatter plot of the Iris Dataset. The first 50 samples belong to the species setosa, the samples from 50 to 100 to versicolor, and the samples from 100 to 150 to virginica.\n",
    "\n",
    "<center>\n",
    "<img src=\"doc\\figures\\iris_scatter.png\" width=500>\n",
    "</center>"
   ]
  },
  {
   "cell_type": "markdown",
   "metadata": {},
   "source": [
    "### Running the model"
   ]
  },
  {
   "cell_type": "code",
   "execution_count": 7,
   "metadata": {},
   "outputs": [
    {
     "ename": "AttributeError",
     "evalue": "'Model' object has no attribute 'build'",
     "output_type": "error",
     "traceback": [
      "\u001b[1;31m---------------------------------------------------------------------------\u001b[0m",
      "\u001b[1;31mAttributeError\u001b[0m                            Traceback (most recent call last)",
      "Cell \u001b[1;32mIn[7], line 19\u001b[0m\n\u001b[0;32m     12\u001b[0m n_participants \u001b[38;5;241m=\u001b[39m \u001b[38;5;28mlen\u001b[39m(lingusitic_output)\n\u001b[0;32m     14\u001b[0m MyModel \u001b[38;5;241m=\u001b[39m Model(DataPipeline(df_name), \n\u001b[0;32m     15\u001b[0m                     MyArc(fuzzy_labels, n_participants, \u001b[38;5;28mlen\u001b[39m(lingusitic_output)), \n\u001b[0;32m     16\u001b[0m                     MyArcTrainer(n_epochs\u001b[38;5;241m=\u001b[39mn_epochs, learning_rate\u001b[38;5;241m=\u001b[39mlearning_rate),\n\u001b[0;32m     17\u001b[0m                     Builder(),\n\u001b[0;32m     18\u001b[0m                     Classifier())\n\u001b[1;32m---> 19\u001b[0m \u001b[43mMyModel\u001b[49m\u001b[38;5;241;43m.\u001b[39;49m\u001b[43mbuild\u001b[49m() \n\u001b[0;32m     20\u001b[0m MyModel\u001b[38;5;241m.\u001b[39mtrain()\n\u001b[0;32m     21\u001b[0m \u001b[38;5;28mprint\u001b[39m(MyModel\u001b[38;5;241m.\u001b[39mclass_acc()) \n",
      "\u001b[1;31mAttributeError\u001b[0m: 'Model' object has no attribute 'build'"
     ]
    }
   ],
   "source": [
    "# imports \n",
    "from model_pkg import *\n",
    "from neurofuzzy_pkg import * \n",
    "\n",
    "# hyper parameters\n",
    "learning_rate = 1\n",
    "n_epochs = 1\n",
    "\n",
    "def run(df_name, fuzzy_labels, n_participants, lingusitic_output):\n",
    "    MyModel = Model(DataPipeline(df_name), \n",
    "                        MyArc(fuzzy_labels, n_participants, len(lingusitic_output)), \n",
    "                        MyArcTrainer(n_epochs=n_epochs, learning_rate=learning_rate),\n",
    "                        Builder(),\n",
    "                        Classifier())\n",
    "    MyModel.build() # init MF params and class weights\n",
    "    MyModel.train()\n",
    "    print(MyModel.class_acc()) \n"
   ]
  },
  {
   "cell_type": "code",
   "execution_count": null,
   "metadata": {},
   "outputs": [],
   "source": [
    "# parameters for running xor dataset\n",
    "df_name = \"xor\"\n",
    "fuzzy_labels = [\"false\", \"true\"]\n",
    "lingusitic_output = [\"false\",\"true\"]\n",
    "n_participants = len(lingusitic_output)\n",
    "\n",
    "run(df_name, fuzzy_labels, n_participants, lingusitic_output)"
   ]
  },
  {
   "cell_type": "code",
   "execution_count": null,
   "metadata": {},
   "outputs": [],
   "source": [
    "# parameters for running iris dataset\n",
    "df_name = \"iris\"\n",
    "fuzzy_labels = [\"small\" , \"medium\",\"high\"] \n",
    "lingusitic_output = [\"Setosa\", \"Versicolour\", \"Virginica\"]\n",
    "n_participants = len(lingusitic_output)\n",
    "\n",
    "run(df_name, fuzzy_labels, n_participants, lingusitic_output)"
   ]
  },
  {
   "cell_type": "markdown",
   "metadata": {},
   "source": [
    "### Results"
   ]
  },
  {
   "cell_type": "code",
   "execution_count": 20,
   "metadata": {},
   "outputs": [
    {
     "data": {
      "text/html": [
       "<div>\n",
       "<style scoped>\n",
       "    .dataframe tbody tr th:only-of-type {\n",
       "        vertical-align: middle;\n",
       "    }\n",
       "\n",
       "    .dataframe tbody tr th {\n",
       "        vertical-align: top;\n",
       "    }\n",
       "\n",
       "    .dataframe thead th {\n",
       "        text-align: right;\n",
       "    }\n",
       "</style>\n",
       "<table border=\"1\" class=\"dataframe\">\n",
       "  <thead>\n",
       "    <tr style=\"text-align: right;\">\n",
       "      <th></th>\n",
       "      <th>Rule No.</th>\n",
       "      <th>sepal length</th>\n",
       "      <th>sepal width</th>\n",
       "      <th>petal length</th>\n",
       "      <th>petal width</th>\n",
       "      <th>Class</th>\n",
       "      <th>Activations</th>\n",
       "    </tr>\n",
       "  </thead>\n",
       "  <tbody>\n",
       "    <tr>\n",
       "      <th>0</th>\n",
       "      <td>10</td>\n",
       "      <td>small</td>\n",
       "      <td>medium</td>\n",
       "      <td>small</td>\n",
       "      <td>small</td>\n",
       "      <td>Setosa</td>\n",
       "      <td>0.107836</td>\n",
       "    </tr>\n",
       "    <tr>\n",
       "      <th>1</th>\n",
       "      <td>41</td>\n",
       "      <td>medium</td>\n",
       "      <td>medium</td>\n",
       "      <td>medium</td>\n",
       "      <td>medium</td>\n",
       "      <td>Versicolour</td>\n",
       "      <td>0.083070</td>\n",
       "    </tr>\n",
       "    <tr>\n",
       "      <th>2</th>\n",
       "      <td>32</td>\n",
       "      <td>medium</td>\n",
       "      <td>small</td>\n",
       "      <td>medium</td>\n",
       "      <td>medium</td>\n",
       "      <td>Versicolour</td>\n",
       "      <td>0.042747</td>\n",
       "    </tr>\n",
       "    <tr>\n",
       "      <th>3</th>\n",
       "      <td>37</td>\n",
       "      <td>medium</td>\n",
       "      <td>medium</td>\n",
       "      <td>small</td>\n",
       "      <td>small</td>\n",
       "      <td>Setosa</td>\n",
       "      <td>0.026257</td>\n",
       "    </tr>\n",
       "    <tr>\n",
       "      <th>4</th>\n",
       "      <td>45</td>\n",
       "      <td>medium</td>\n",
       "      <td>medium</td>\n",
       "      <td>high</td>\n",
       "      <td>high</td>\n",
       "      <td>Virginica</td>\n",
       "      <td>0.025801</td>\n",
       "    </tr>\n",
       "    <tr>\n",
       "      <th>5</th>\n",
       "      <td>42</td>\n",
       "      <td>medium</td>\n",
       "      <td>medium</td>\n",
       "      <td>medium</td>\n",
       "      <td>high</td>\n",
       "      <td>Virginica</td>\n",
       "      <td>0.020032</td>\n",
       "    </tr>\n",
       "    <tr>\n",
       "      <th>6</th>\n",
       "      <td>72</td>\n",
       "      <td>high</td>\n",
       "      <td>medium</td>\n",
       "      <td>high</td>\n",
       "      <td>high</td>\n",
       "      <td>Virginica</td>\n",
       "      <td>0.015928</td>\n",
       "    </tr>\n",
       "    <tr>\n",
       "      <th>7</th>\n",
       "      <td>46</td>\n",
       "      <td>medium</td>\n",
       "      <td>high</td>\n",
       "      <td>small</td>\n",
       "      <td>small</td>\n",
       "      <td>Setosa</td>\n",
       "      <td>0.013719</td>\n",
       "    </tr>\n",
       "    <tr>\n",
       "      <th>8</th>\n",
       "      <td>5</td>\n",
       "      <td>small</td>\n",
       "      <td>small</td>\n",
       "      <td>medium</td>\n",
       "      <td>medium</td>\n",
       "      <td>Versicolour</td>\n",
       "      <td>0.011363</td>\n",
       "    </tr>\n",
       "    <tr>\n",
       "      <th>9</th>\n",
       "      <td>19</td>\n",
       "      <td>small</td>\n",
       "      <td>high</td>\n",
       "      <td>small</td>\n",
       "      <td>small</td>\n",
       "      <td>Setosa</td>\n",
       "      <td>0.010577</td>\n",
       "    </tr>\n",
       "  </tbody>\n",
       "</table>\n",
       "</div>"
      ],
      "text/plain": [
       "   Rule No. sepal length sepal width petal length petal width        Class  \\\n",
       "0        10        small      medium        small       small       Setosa   \n",
       "1        41       medium      medium       medium      medium  Versicolour   \n",
       "2        32       medium       small       medium      medium  Versicolour   \n",
       "3        37       medium      medium        small       small       Setosa   \n",
       "4        45       medium      medium         high        high    Virginica   \n",
       "5        42       medium      medium       medium        high    Virginica   \n",
       "6        72         high      medium         high        high    Virginica   \n",
       "7        46       medium        high        small       small       Setosa   \n",
       "8         5        small       small       medium      medium  Versicolour   \n",
       "9        19        small        high        small       small       Setosa   \n",
       "\n",
       "   Activations  \n",
       "0     0.107836  \n",
       "1     0.083070  \n",
       "2     0.042747  \n",
       "3     0.026257  \n",
       "4     0.025801  \n",
       "5     0.020032  \n",
       "6     0.015928  \n",
       "7     0.013719  \n",
       "8     0.011363  \n",
       "9     0.010577  "
      ]
     },
     "execution_count": 20,
     "metadata": {},
     "output_type": "execute_result"
    }
   ],
   "source": [
    "# get save path \n",
    "\n",
    "import os\n",
    "import pandas as pd\n",
    "\n",
    "file_name = 'iris_best__rules.csv'\n",
    "relative_path =   '/results/iris'\n",
    "\n",
    "save_path = os.getcwd() +  relative_path # https://stackoverflow.com/questions/39125532/file-does-not-exist-in-jupyter-notebook\n",
    "full_path = os.path.join(save_path, file_name)\n",
    "assert  os.path.exists(full_path), f'Path {relative_path}/{file_name} does not exist'\n",
    "df = pd.read_csv(full_path).rename(columns={\"Unnamed: 0\": \"Rule No.\"})\n",
    "df"
   ]
  },
  {
   "cell_type": "markdown",
   "metadata": {},
   "source": [
    "<center>\n",
    "<img src=\"results\\iris\\figures\\PerformanceMyArc.png\" width=500>\n",
    "</center>"
   ]
  },
  {
   "cell_type": "markdown",
   "metadata": {},
   "source": [
    "### Performance\n",
    "\n",
    "<center>\n",
    "<img src=\"results\\iris\\figures\\PerformanceMyArc.png\" width=500>\n",
    "</center>"
   ]
  },
  {
   "cell_type": "code",
   "execution_count": null,
   "metadata": {},
   "outputs": [],
   "source": []
  },
  {
   "cell_type": "markdown",
   "metadata": {},
   "source": [
    "### Sources"
   ]
  }
 ],
 "metadata": {
  "interpreter": {
   "hash": "61024a008e68019e4ec147d832b28336a5ff2f5e1265d3a28dec79ad48f487e3"
  },
  "kernelspec": {
   "display_name": "Python 3.9.7 ('ann')",
   "language": "python",
   "name": "python3"
  },
  "language_info": {
   "codemirror_mode": {
    "name": "ipython",
    "version": 3
   },
   "file_extension": ".py",
   "mimetype": "text/x-python",
   "name": "python",
   "nbconvert_exporter": "python",
   "pygments_lexer": "ipython3",
   "version": "3.10.13"
  },
  "orig_nbformat": 4
 },
 "nbformat": 4,
 "nbformat_minor": 2
}
