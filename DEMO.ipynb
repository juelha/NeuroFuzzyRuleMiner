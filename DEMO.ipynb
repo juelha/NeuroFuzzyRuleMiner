{
  "cells": [
    {
      "cell_type": "markdown",
      "metadata": {
        "id": "6qxuQG-J026F"
      },
      "source": [
        "## Neuro-Fuzzy Rule Miner Demo\n",
        "\n",
        "This Notebook serves as a simple demo of the classifying neuro-fuzzy rule miner using the example of the iris dataset.\n",
        "\n",
        "Outline:\n",
        "- About Neuro-Fuzziness\n",
        "- Dataset\n",
        "- Running the model\n",
        "- Results"
      ]
    },
    {
      "cell_type": "markdown",
      "metadata": {
        "id": "NS9vKMzD026G"
      },
      "source": [
        "To run this project in Google Colab, either download this file and upload it manually or use the github option with the path: https://github.com/juelha/NeuroFuzzyRuleMiner/blob/demo/DEMO.ipynb."
      ]
    },
    {
      "cell_type": "code",
      "execution_count": 1,
      "metadata": {
        "cellView": "form",
        "colab": {
          "base_uri": "https://localhost:8080/"
        },
        "id": "dws2p9sx026H",
        "outputId": "af081562-9db6-4abb-b494-bdbe193d1ac5"
      },
      "outputs": [
        {
          "name": "stdout",
          "output_type": "stream",
          "text": [
            "fatal: destination path 'NeuroFuzzyRuleMiner' already exists and is not an empty directory.\n",
            "/content/NeuroFuzzyRuleMiner\n"
          ]
        }
      ],
      "source": [
        "# @title Run to Clone\n",
        "!git clone --branch demo https://github.com/juelha/NeuroFuzzyRuleMiner.git\n",
        "%cd NeuroFuzzyRuleMiner"
      ]
    },
    {
      "cell_type": "markdown",
      "metadata": {
        "id": "SsjvdCEm026I"
      },
      "source": [
        "## About Neuro-Fuzziness <a class=\"anchor\" id=\"neuro-fuzzy\"></a>\n",
        "\n",
        "#### What?\n",
        "- neuro-fuzzy = models that adjust fuzzy sets and rules according to neural networks tuning techniques\n",
        "- neuro-fuzzy system = when the model can act as a fuzzy system once it is trained\n",
        "\n",
        "#### Why?\n",
        "- Knowledge acquisition directly from data\n",
        "- White box neural nets\n",
        "\n",
        "#### How?\n",
        "\n",
        "<img align=\"right\" width=\"400\" src=\"https://github.com/juelha/NeuroFuzzyRuleMiner/blob/demo/doc/figures/nf_annot.svg?raw=1\" hspace=\"50\">\n",
        "\n",
        "The architecture is comprised of three layers: for fuzzification, for the IF-part of a rule and for the THEN-part of a rule.\n",
        "The propagation of the input through the architecture is computed as follows:\n",
        "\n",
        "\n",
        "**Fuzzification-Layer:**\n",
        "\n",
        "The input vector $\\vec{x}$ is fuzzified. Each input $x_i$ has its own set of membership functions $MF_i$, for example: $MF_i = (MF_{low}, MF_{medium}, MF_{high})$.  The outputs of this layer can be referred to as the degrees of membership, $\\mu_{ij}$, of an input $x_i$ to a function $MF_{ij}$.\n",
        "$$ \\mu_{ij} = MF_{ij}(x_i) $$\n",
        "\n",
        "\n",
        "**IF-Layer:**\n",
        "\n",
        "The fuzzified inputs are combined via a T-norm operation, here multiplication. This represents the if-part of the fuzzy rule. The outputs of this layer is referred to as the rule strengths $\\vec{R} = (r_1, r_2, ..., r_{m^n})$, where $\\rho$ = (1, ..., $m^n$) for $n$ inputs and $m$ membership functions.\n",
        "$$ R_\\rho = \\text{T-norm} (\\mu_{ij}, \\mu_{(i+1)j}, ..., \\mu_{nm}) = \\mu_{ij} * \\mu_{(i+1)j} * ... * \\mu_{nm} $$\n",
        "\n",
        "**THEN-Layer:**\n",
        "\n",
        "The rule strengths are mapped to classes by one-hot encoded class weights.\n",
        "$$ y_\\rho = R_\\rho * class weight_\\rho $$"
      ]
    },
    {
      "cell_type": "markdown",
      "metadata": {
        "id": "HW0RGdEy026I"
      },
      "source": [
        "## Dataset <a id=\"data\"></a>\n",
        "\n",
        "<img align=\"right\" width=\"600\" src=\"https://github.com/juelha/NeuroFuzzyRuleMiner/blob/demo/doc/figures/iris_scatter.png?raw=1\" hspace=\"10\">\n",
        "\n",
        "The Iris dataset is a popular classification problem where four features were measured for the three iris species setosa, versicolor, virginica.\n",
        "\n",
        "On the right is a scatter plot of the Iris Dataset. The first 50 samples belong to the species setosa, the samples from 50 to 100 to versicolor, and the samples from 100 to 150 to virginica.\n"
      ]
    },
    {
      "cell_type": "markdown",
      "metadata": {
        "id": "F9u04b7P026J"
      },
      "source": [
        "### Running the model\n",
        "\n",
        "<img align=\"right\" width=\"500\" src=\"https://github.com/juelha/NeuroFuzzyRuleMiner/blob/demo/doc/figures/repo_struct.svg?raw=1\" hspace=\"10\">\n",
        "\n",
        "\n",
        "Each operation that is performed on the neuro-fuzzy architecture is implemented in a script, i.e. Builder, Trainer, Classifier, and Rule Miner.\n",
        "\n",
        "**Builder:**\n",
        "- initializes the free parameters: parameters of the membership functions, and\n",
        "class weights\n",
        "\n",
        "**Trainer:**\n",
        "- trains the parameters of the membership functions with gradient descent\n",
        "\n",
        "**Rule Miner:**\n",
        "- extracts the IF-THEN rules from a trained neuro-fuzzy model  \n",
        "\n",
        "**Classifier:**\n",
        "- propagates a sample through the model and outputs the class with the highest activation\n"
      ]
    },
    {
      "cell_type": "code",
      "execution_count": 4,
      "metadata": {
        "colab": {
          "base_uri": "https://localhost:8080/",
          "height": 477
        },
        "id": "nfDRpzL8026K",
        "outputId": "7da3cbf2-8174-4ce9-e16a-e08f3b950cfb"
      },
      "outputs": [
        {
          "name": "stderr",
          "output_type": "stream",
          "text": [
            "building: 100%|██████████| 150/150 [00:00<00:00, 5700.02it/s]\n",
            "selecting: 100%|██████████| 81/81 [00:00<00:00, 18403.05it/s]\n"
          ]
        },
        {
          "name": "stdout",
          "output_type": "stream",
          "text": [
            "Build done\n"
          ]
        },
        {
          "name": "stderr",
          "output_type": "stream",
          "text": [
            "class testing: 100%|██████████| 30/30 [00:00<00:00, 2755.60it/s]\n",
            "testing: 100%|██████████| 30/30 [00:00<00:00, 672.96it/s]\n",
            "class testing: 100%|██████████| 120/120 [00:00<00:00, 2813.24it/s]\n",
            "testing: 100%|██████████| 120/120 [00:00<00:00, 863.28it/s]\n"
          ]
        },
        {
          "name": "stdout",
          "output_type": "stream",
          "text": [
            "Epoch: 0 starting with \n",
            "             test accuracy 0.9333333333333333 \n",
            "             train accuracy 0.95 \n",
            "             test loss 0.1627985672936622 \n",
            "             train loss 0.1650228362260136\n"
          ]
        },
        {
          "name": "stderr",
          "output_type": "stream",
          "text": [
            "class testing: 100%|██████████| 120/120 [00:00<00:00, 2801.70it/s]\n",
            "training: 100%|██████████| 120/120 [00:00<00:00, 302.74it/s]\n",
            "class testing: 100%|██████████| 30/30 [00:00<00:00, 4253.86it/s]\n",
            "testing: 100%|██████████| 30/30 [00:00<00:00, 1905.35it/s]\n"
          ]
        },
        {
          "name": "stdout",
          "output_type": "stream",
          "text": [
            "Training Loop completed\n"
          ]
        },
        {
          "name": "stderr",
          "output_type": "stream",
          "text": [
            "class testing: 100%|██████████| 150/150 [00:00<00:00, 3362.37it/s]"
          ]
        },
        {
          "name": "stdout",
          "output_type": "stream",
          "text": [
            "\n",
            "┌─────────────────────────────────────────────────────────────────┐\n",
            "  Classifying Results: Accuracy total: 0.947, No. incorrect: 8 \n",
            "└─────────────────────────────────────────────────────────────────┘\n",
            "\n",
            "0.9466666666666667\n"
          ]
        },
        {
          "name": "stderr",
          "output_type": "stream",
          "text": [
            "\n"
          ]
        },
        {
          "data": {
            "text/plain": [
              "<Figure size 640x480 with 0 Axes>"
            ]
          },
          "metadata": {},
          "output_type": "display_data"
        },
        {
          "data": {
            "text/plain": [
              "<Figure size 640x480 with 0 Axes>"
            ]
          },
          "metadata": {},
          "output_type": "display_data"
        }
      ],
      "source": [
        "# imports\n",
        "from model_pkg import *\n",
        "from neurofuzzy_pkg import *\n",
        "\n",
        "# hyper parameters\n",
        "learning_rate = 1\n",
        "n_epochs = 1\n",
        "\n",
        "# parameters for running iris dataset\n",
        "df_name = \"iris\"\n",
        "fuzzy_labels = [\"small\" , \"medium\",\"high\"]\n",
        "lingusitic_output = [\"Setosa\", \"Versicolour\", \"Virginica\"]\n",
        "n_participants = 4\n",
        "\n",
        "MyModel = Model(DataPipeline(df_name),\n",
        "                    MyArc(fuzzy_labels, n_participants, len(lingusitic_output)),\n",
        "                    MyArcTrainer(n_epochs=n_epochs, learning_rate=learning_rate),\n",
        "                    Builder(),\n",
        "                    Classifier())\n",
        "MyModel.build() # init MF params and class weights\n",
        "MyModel.train()\n",
        "print(MyModel.class_accuracy())\n"
      ]
    },
    {
      "cell_type": "markdown",
      "metadata": {
        "id": "ovltGGSW026K"
      },
      "source": [
        "### Results <a class=\"anchor\" id=\"results\"></a>"
      ]
    },
    {
      "cell_type": "code",
      "execution_count": 5,
      "metadata": {
        "cellView": "form",
        "colab": {
          "base_uri": "https://localhost:8080/",
          "height": 363
        },
        "id": "njIbJpuq026K",
        "outputId": "ed94ecbd-16e0-4847-b3d6-e48e41e465fe"
      },
      "outputs": [
        {
          "data": {
            "application/vnd.google.colaboratory.intrinsic+json": {
              "summary": "{\n  \"name\": \"df\",\n  \"rows\": 10,\n  \"fields\": [\n    {\n      \"column\": \"Rule No.\",\n      \"properties\": {\n        \"dtype\": \"number\",\n        \"std\": 19,\n        \"min\": 5,\n        \"max\": 72,\n        \"num_unique_values\": 10,\n        \"samples\": [\n          5,\n          41,\n          42\n        ],\n        \"semantic_type\": \"\",\n        \"description\": \"\"\n      }\n    },\n    {\n      \"column\": \"sepal length\",\n      \"properties\": {\n        \"dtype\": \"category\",\n        \"num_unique_values\": 3,\n        \"samples\": [\n          \"small\",\n          \"medium\",\n          \"high\"\n        ],\n        \"semantic_type\": \"\",\n        \"description\": \"\"\n      }\n    },\n    {\n      \"column\": \"sepal width\",\n      \"properties\": {\n        \"dtype\": \"category\",\n        \"num_unique_values\": 3,\n        \"samples\": [\n          \"medium\",\n          \"small\",\n          \"high\"\n        ],\n        \"semantic_type\": \"\",\n        \"description\": \"\"\n      }\n    },\n    {\n      \"column\": \"petal length\",\n      \"properties\": {\n        \"dtype\": \"category\",\n        \"num_unique_values\": 3,\n        \"samples\": [\n          \"small\",\n          \"medium\",\n          \"high\"\n        ],\n        \"semantic_type\": \"\",\n        \"description\": \"\"\n      }\n    },\n    {\n      \"column\": \"petal width\",\n      \"properties\": {\n        \"dtype\": \"category\",\n        \"num_unique_values\": 3,\n        \"samples\": [\n          \"small\",\n          \"medium\",\n          \"high\"\n        ],\n        \"semantic_type\": \"\",\n        \"description\": \"\"\n      }\n    },\n    {\n      \"column\": \"Class\",\n      \"properties\": {\n        \"dtype\": \"category\",\n        \"num_unique_values\": 3,\n        \"samples\": [\n          \"Setosa\",\n          \"Versicolour\",\n          \"Virginica\"\n        ],\n        \"semantic_type\": \"\",\n        \"description\": \"\"\n      }\n    },\n    {\n      \"column\": \"Activations\",\n      \"properties\": {\n        \"dtype\": \"number\",\n        \"std\": 0.03337886061781189,\n        \"min\": 0.0105774657441268,\n        \"max\": 0.1078358698171868,\n        \"num_unique_values\": 10,\n        \"samples\": [\n          0.0113629056345688,\n          0.0830700352823375,\n          0.0200319000990279\n        ],\n        \"semantic_type\": \"\",\n        \"description\": \"\"\n      }\n    }\n  ]\n}",
              "type": "dataframe",
              "variable_name": "df"
            },
            "text/html": [
              "\n",
              "  <div id=\"df-7a8eff2d-5b6f-40de-b578-97940b3bbdaa\" class=\"colab-df-container\">\n",
              "    <div>\n",
              "<style scoped>\n",
              "    .dataframe tbody tr th:only-of-type {\n",
              "        vertical-align: middle;\n",
              "    }\n",
              "\n",
              "    .dataframe tbody tr th {\n",
              "        vertical-align: top;\n",
              "    }\n",
              "\n",
              "    .dataframe thead th {\n",
              "        text-align: right;\n",
              "    }\n",
              "</style>\n",
              "<table border=\"1\" class=\"dataframe\">\n",
              "  <thead>\n",
              "    <tr style=\"text-align: right;\">\n",
              "      <th></th>\n",
              "      <th>Rule No.</th>\n",
              "      <th>sepal length</th>\n",
              "      <th>sepal width</th>\n",
              "      <th>petal length</th>\n",
              "      <th>petal width</th>\n",
              "      <th>Class</th>\n",
              "      <th>Activations</th>\n",
              "    </tr>\n",
              "  </thead>\n",
              "  <tbody>\n",
              "    <tr>\n",
              "      <th>0</th>\n",
              "      <td>10</td>\n",
              "      <td>small</td>\n",
              "      <td>medium</td>\n",
              "      <td>small</td>\n",
              "      <td>small</td>\n",
              "      <td>Setosa</td>\n",
              "      <td>0.107836</td>\n",
              "    </tr>\n",
              "    <tr>\n",
              "      <th>1</th>\n",
              "      <td>41</td>\n",
              "      <td>medium</td>\n",
              "      <td>medium</td>\n",
              "      <td>medium</td>\n",
              "      <td>medium</td>\n",
              "      <td>Versicolour</td>\n",
              "      <td>0.083070</td>\n",
              "    </tr>\n",
              "    <tr>\n",
              "      <th>2</th>\n",
              "      <td>32</td>\n",
              "      <td>medium</td>\n",
              "      <td>small</td>\n",
              "      <td>medium</td>\n",
              "      <td>medium</td>\n",
              "      <td>Versicolour</td>\n",
              "      <td>0.042747</td>\n",
              "    </tr>\n",
              "    <tr>\n",
              "      <th>3</th>\n",
              "      <td>37</td>\n",
              "      <td>medium</td>\n",
              "      <td>medium</td>\n",
              "      <td>small</td>\n",
              "      <td>small</td>\n",
              "      <td>Setosa</td>\n",
              "      <td>0.026257</td>\n",
              "    </tr>\n",
              "    <tr>\n",
              "      <th>4</th>\n",
              "      <td>45</td>\n",
              "      <td>medium</td>\n",
              "      <td>medium</td>\n",
              "      <td>high</td>\n",
              "      <td>high</td>\n",
              "      <td>Virginica</td>\n",
              "      <td>0.025801</td>\n",
              "    </tr>\n",
              "    <tr>\n",
              "      <th>5</th>\n",
              "      <td>42</td>\n",
              "      <td>medium</td>\n",
              "      <td>medium</td>\n",
              "      <td>medium</td>\n",
              "      <td>high</td>\n",
              "      <td>Virginica</td>\n",
              "      <td>0.020032</td>\n",
              "    </tr>\n",
              "    <tr>\n",
              "      <th>6</th>\n",
              "      <td>72</td>\n",
              "      <td>high</td>\n",
              "      <td>medium</td>\n",
              "      <td>high</td>\n",
              "      <td>high</td>\n",
              "      <td>Virginica</td>\n",
              "      <td>0.015928</td>\n",
              "    </tr>\n",
              "    <tr>\n",
              "      <th>7</th>\n",
              "      <td>46</td>\n",
              "      <td>medium</td>\n",
              "      <td>high</td>\n",
              "      <td>small</td>\n",
              "      <td>small</td>\n",
              "      <td>Setosa</td>\n",
              "      <td>0.013719</td>\n",
              "    </tr>\n",
              "    <tr>\n",
              "      <th>8</th>\n",
              "      <td>5</td>\n",
              "      <td>small</td>\n",
              "      <td>small</td>\n",
              "      <td>medium</td>\n",
              "      <td>medium</td>\n",
              "      <td>Versicolour</td>\n",
              "      <td>0.011363</td>\n",
              "    </tr>\n",
              "    <tr>\n",
              "      <th>9</th>\n",
              "      <td>19</td>\n",
              "      <td>small</td>\n",
              "      <td>high</td>\n",
              "      <td>small</td>\n",
              "      <td>small</td>\n",
              "      <td>Setosa</td>\n",
              "      <td>0.010577</td>\n",
              "    </tr>\n",
              "  </tbody>\n",
              "</table>\n",
              "</div>\n",
              "    <div class=\"colab-df-buttons\">\n",
              "\n",
              "  <div class=\"colab-df-container\">\n",
              "    <button class=\"colab-df-convert\" onclick=\"convertToInteractive('df-7a8eff2d-5b6f-40de-b578-97940b3bbdaa')\"\n",
              "            title=\"Convert this dataframe to an interactive table.\"\n",
              "            style=\"display:none;\">\n",
              "\n",
              "  <svg xmlns=\"http://www.w3.org/2000/svg\" height=\"24px\" viewBox=\"0 -960 960 960\">\n",
              "    <path d=\"M120-120v-720h720v720H120Zm60-500h600v-160H180v160Zm220 220h160v-160H400v160Zm0 220h160v-160H400v160ZM180-400h160v-160H180v160Zm440 0h160v-160H620v160ZM180-180h160v-160H180v160Zm440 0h160v-160H620v160Z\"/>\n",
              "  </svg>\n",
              "    </button>\n",
              "\n",
              "  <style>\n",
              "    .colab-df-container {\n",
              "      display:flex;\n",
              "      gap: 12px;\n",
              "    }\n",
              "\n",
              "    .colab-df-convert {\n",
              "      background-color: #E8F0FE;\n",
              "      border: none;\n",
              "      border-radius: 50%;\n",
              "      cursor: pointer;\n",
              "      display: none;\n",
              "      fill: #1967D2;\n",
              "      height: 32px;\n",
              "      padding: 0 0 0 0;\n",
              "      width: 32px;\n",
              "    }\n",
              "\n",
              "    .colab-df-convert:hover {\n",
              "      background-color: #E2EBFA;\n",
              "      box-shadow: 0px 1px 2px rgba(60, 64, 67, 0.3), 0px 1px 3px 1px rgba(60, 64, 67, 0.15);\n",
              "      fill: #174EA6;\n",
              "    }\n",
              "\n",
              "    .colab-df-buttons div {\n",
              "      margin-bottom: 4px;\n",
              "    }\n",
              "\n",
              "    [theme=dark] .colab-df-convert {\n",
              "      background-color: #3B4455;\n",
              "      fill: #D2E3FC;\n",
              "    }\n",
              "\n",
              "    [theme=dark] .colab-df-convert:hover {\n",
              "      background-color: #434B5C;\n",
              "      box-shadow: 0px 1px 3px 1px rgba(0, 0, 0, 0.15);\n",
              "      filter: drop-shadow(0px 1px 2px rgba(0, 0, 0, 0.3));\n",
              "      fill: #FFFFFF;\n",
              "    }\n",
              "  </style>\n",
              "\n",
              "    <script>\n",
              "      const buttonEl =\n",
              "        document.querySelector('#df-7a8eff2d-5b6f-40de-b578-97940b3bbdaa button.colab-df-convert');\n",
              "      buttonEl.style.display =\n",
              "        google.colab.kernel.accessAllowed ? 'block' : 'none';\n",
              "\n",
              "      async function convertToInteractive(key) {\n",
              "        const element = document.querySelector('#df-7a8eff2d-5b6f-40de-b578-97940b3bbdaa');\n",
              "        const dataTable =\n",
              "          await google.colab.kernel.invokeFunction('convertToInteractive',\n",
              "                                                    [key], {});\n",
              "        if (!dataTable) return;\n",
              "\n",
              "        const docLinkHtml = 'Like what you see? Visit the ' +\n",
              "          '<a target=\"_blank\" href=https://colab.research.google.com/notebooks/data_table.ipynb>data table notebook</a>'\n",
              "          + ' to learn more about interactive tables.';\n",
              "        element.innerHTML = '';\n",
              "        dataTable['output_type'] = 'display_data';\n",
              "        await google.colab.output.renderOutput(dataTable, element);\n",
              "        const docLink = document.createElement('div');\n",
              "        docLink.innerHTML = docLinkHtml;\n",
              "        element.appendChild(docLink);\n",
              "      }\n",
              "    </script>\n",
              "  </div>\n",
              "\n",
              "\n",
              "<div id=\"df-84ab7479-084a-4180-827c-592febcbd455\">\n",
              "  <button class=\"colab-df-quickchart\" onclick=\"quickchart('df-84ab7479-084a-4180-827c-592febcbd455')\"\n",
              "            title=\"Suggest charts\"\n",
              "            style=\"display:none;\">\n",
              "\n",
              "<svg xmlns=\"http://www.w3.org/2000/svg\" height=\"24px\"viewBox=\"0 0 24 24\"\n",
              "     width=\"24px\">\n",
              "    <g>\n",
              "        <path d=\"M19 3H5c-1.1 0-2 .9-2 2v14c0 1.1.9 2 2 2h14c1.1 0 2-.9 2-2V5c0-1.1-.9-2-2-2zM9 17H7v-7h2v7zm4 0h-2V7h2v10zm4 0h-2v-4h2v4z\"/>\n",
              "    </g>\n",
              "</svg>\n",
              "  </button>\n",
              "\n",
              "<style>\n",
              "  .colab-df-quickchart {\n",
              "      --bg-color: #E8F0FE;\n",
              "      --fill-color: #1967D2;\n",
              "      --hover-bg-color: #E2EBFA;\n",
              "      --hover-fill-color: #174EA6;\n",
              "      --disabled-fill-color: #AAA;\n",
              "      --disabled-bg-color: #DDD;\n",
              "  }\n",
              "\n",
              "  [theme=dark] .colab-df-quickchart {\n",
              "      --bg-color: #3B4455;\n",
              "      --fill-color: #D2E3FC;\n",
              "      --hover-bg-color: #434B5C;\n",
              "      --hover-fill-color: #FFFFFF;\n",
              "      --disabled-bg-color: #3B4455;\n",
              "      --disabled-fill-color: #666;\n",
              "  }\n",
              "\n",
              "  .colab-df-quickchart {\n",
              "    background-color: var(--bg-color);\n",
              "    border: none;\n",
              "    border-radius: 50%;\n",
              "    cursor: pointer;\n",
              "    display: none;\n",
              "    fill: var(--fill-color);\n",
              "    height: 32px;\n",
              "    padding: 0;\n",
              "    width: 32px;\n",
              "  }\n",
              "\n",
              "  .colab-df-quickchart:hover {\n",
              "    background-color: var(--hover-bg-color);\n",
              "    box-shadow: 0 1px 2px rgba(60, 64, 67, 0.3), 0 1px 3px 1px rgba(60, 64, 67, 0.15);\n",
              "    fill: var(--button-hover-fill-color);\n",
              "  }\n",
              "\n",
              "  .colab-df-quickchart-complete:disabled,\n",
              "  .colab-df-quickchart-complete:disabled:hover {\n",
              "    background-color: var(--disabled-bg-color);\n",
              "    fill: var(--disabled-fill-color);\n",
              "    box-shadow: none;\n",
              "  }\n",
              "\n",
              "  .colab-df-spinner {\n",
              "    border: 2px solid var(--fill-color);\n",
              "    border-color: transparent;\n",
              "    border-bottom-color: var(--fill-color);\n",
              "    animation:\n",
              "      spin 1s steps(1) infinite;\n",
              "  }\n",
              "\n",
              "  @keyframes spin {\n",
              "    0% {\n",
              "      border-color: transparent;\n",
              "      border-bottom-color: var(--fill-color);\n",
              "      border-left-color: var(--fill-color);\n",
              "    }\n",
              "    20% {\n",
              "      border-color: transparent;\n",
              "      border-left-color: var(--fill-color);\n",
              "      border-top-color: var(--fill-color);\n",
              "    }\n",
              "    30% {\n",
              "      border-color: transparent;\n",
              "      border-left-color: var(--fill-color);\n",
              "      border-top-color: var(--fill-color);\n",
              "      border-right-color: var(--fill-color);\n",
              "    }\n",
              "    40% {\n",
              "      border-color: transparent;\n",
              "      border-right-color: var(--fill-color);\n",
              "      border-top-color: var(--fill-color);\n",
              "    }\n",
              "    60% {\n",
              "      border-color: transparent;\n",
              "      border-right-color: var(--fill-color);\n",
              "    }\n",
              "    80% {\n",
              "      border-color: transparent;\n",
              "      border-right-color: var(--fill-color);\n",
              "      border-bottom-color: var(--fill-color);\n",
              "    }\n",
              "    90% {\n",
              "      border-color: transparent;\n",
              "      border-bottom-color: var(--fill-color);\n",
              "    }\n",
              "  }\n",
              "</style>\n",
              "\n",
              "  <script>\n",
              "    async function quickchart(key) {\n",
              "      const quickchartButtonEl =\n",
              "        document.querySelector('#' + key + ' button');\n",
              "      quickchartButtonEl.disabled = true;  // To prevent multiple clicks.\n",
              "      quickchartButtonEl.classList.add('colab-df-spinner');\n",
              "      try {\n",
              "        const charts = await google.colab.kernel.invokeFunction(\n",
              "            'suggestCharts', [key], {});\n",
              "      } catch (error) {\n",
              "        console.error('Error during call to suggestCharts:', error);\n",
              "      }\n",
              "      quickchartButtonEl.classList.remove('colab-df-spinner');\n",
              "      quickchartButtonEl.classList.add('colab-df-quickchart-complete');\n",
              "    }\n",
              "    (() => {\n",
              "      let quickchartButtonEl =\n",
              "        document.querySelector('#df-84ab7479-084a-4180-827c-592febcbd455 button');\n",
              "      quickchartButtonEl.style.display =\n",
              "        google.colab.kernel.accessAllowed ? 'block' : 'none';\n",
              "    })();\n",
              "  </script>\n",
              "</div>\n",
              "    </div>\n",
              "  </div>\n"
            ],
            "text/plain": [
              "   Rule No. sepal length sepal width petal length petal width        Class  \\\n",
              "0        10        small      medium        small       small       Setosa   \n",
              "1        41       medium      medium       medium      medium  Versicolour   \n",
              "2        32       medium       small       medium      medium  Versicolour   \n",
              "3        37       medium      medium        small       small       Setosa   \n",
              "4        45       medium      medium         high        high    Virginica   \n",
              "5        42       medium      medium       medium        high    Virginica   \n",
              "6        72         high      medium         high        high    Virginica   \n",
              "7        46       medium        high        small       small       Setosa   \n",
              "8         5        small       small       medium      medium  Versicolour   \n",
              "9        19        small        high        small       small       Setosa   \n",
              "\n",
              "   Activations  \n",
              "0     0.107836  \n",
              "1     0.083070  \n",
              "2     0.042747  \n",
              "3     0.026257  \n",
              "4     0.025801  \n",
              "5     0.020032  \n",
              "6     0.015928  \n",
              "7     0.013719  \n",
              "8     0.011363  \n",
              "9     0.010577  "
            ]
          },
          "execution_count": 5,
          "metadata": {},
          "output_type": "execute_result"
        }
      ],
      "source": [
        "# @title Show rule table\n",
        "# get save path\n",
        "\n",
        "import os\n",
        "import pandas as pd\n",
        "\n",
        "file_name = 'iris_best__rules.csv'\n",
        "relative_path =   '/results/iris'\n",
        "\n",
        "save_path = os.getcwd() +  relative_path # https://stackoverflow.com/questions/39125532/file-does-not-exist-in-jupyter-notebook\n",
        "full_path = os.path.join(save_path, file_name)\n",
        "assert  os.path.exists(full_path), f'Path {relative_path}/{file_name} does not exist'\n",
        "df = pd.read_csv(full_path).rename(columns={\"Unnamed: 0\": \"Rule No.\"})\n",
        "df"
      ]
    },
    {
      "cell_type": "markdown",
      "metadata": {
        "id": "exNGZ5gI026L"
      },
      "source": [
        "<center>\n",
        "<img src=\"https://github.com/juelha/NeuroFuzzyRuleMiner/blob/demo/results/iris/figures/PerformanceMyArc.png?raw=1\" width=500>\n",
        "</center>"
      ]
    }
  ],
  "metadata": {
    "colab": {
      "provenance": []
    },
    "interpreter": {
      "hash": "61024a008e68019e4ec147d832b28336a5ff2f5e1265d3a28dec79ad48f487e3"
    },
    "kernelspec": {
      "display_name": "Python 3.9.7 ('ann')",
      "language": "python",
      "name": "python3"
    },
    "language_info": {
      "codemirror_mode": {
        "name": "ipython",
        "version": 3
      },
      "file_extension": ".py",
      "mimetype": "text/x-python",
      "name": "python",
      "nbconvert_exporter": "python",
      "pygments_lexer": "ipython3",
      "version": "3.10.13"
    },
    "orig_nbformat": 4
  },
  "nbformat": 4,
  "nbformat_minor": 0
}
