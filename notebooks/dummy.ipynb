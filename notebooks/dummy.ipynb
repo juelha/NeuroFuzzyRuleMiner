{
 "cells": [
  {
   "cell_type": "markdown",
   "metadata": {},
   "source": [
    "## Gallery "
   ]
  },
  {
   "cell_type": "code",
   "execution_count": 5,
   "metadata": {},
   "outputs": [],
   "source": [
    "## basic imports ##\n",
    "\n",
    "import pandas as pd\n",
    "import numpy as np\n",
    "import os\n",
    "import matplotlib.pyplot as plt\n",
    "import yaml \n",
    "from yaml.loader import UnsafeLoader\n",
    "import os\n"
   ]
  },
  {
   "cell_type": "code",
   "execution_count": 6,
   "metadata": {},
   "outputs": [
    {
     "name": "stdout",
     "output_type": "stream",
     "text": [
      "           x1        x2  out\n",
      "0    3.745401  6.981617    1\n",
      "1    9.507143  5.360964    0\n",
      "2    7.319939  3.095276    0\n",
      "3    5.986585  8.137950    0\n",
      "4    1.560186  6.847312    1\n",
      "..        ...       ...  ...\n",
      "495  3.533522  0.915821    0\n",
      "496  5.836561  9.173136    0\n",
      "497  0.777346  1.368186    0\n",
      "498  9.743948  9.502374    0\n",
      "499  9.862107  4.460058    0\n",
      "\n",
      "[500 rows x 3 columns]\n"
     ]
    }
   ],
   "source": [
    "# make dummy dataset\n",
    "\n",
    "def create_dummy(num_rows):\n",
    "    np.random.seed(42)  # Setting seed for reproducibility\n",
    "    data = {\n",
    "        'x1': np.random.uniform(0, 10, num_rows),\n",
    "        'x2': np.random.uniform(0, 10, num_rows)\n",
    "    }\n",
    "\n",
    "    # Applying the condition to create the 'out' column\n",
    "    data['out'] = np.where((data['x1'] <= 5) & (data['x2'] >= 5), 1, 0)\n",
    "\n",
    "    # Creating the DataFrame\n",
    "    df = pd.DataFrame(data)\n",
    "\n",
    "    return df\n",
    "\n",
    "df = create_dummy(500)\n",
    "print(df)\n",
    "\n",
    "file_name = 'dummy_df.csv'\n",
    "relative_path =   '/../data'\n",
    "\n",
    "# get save path \n",
    "save_path = os.getcwd() +  relative_path # https://stackoverflow.com/questions/39125532/file-does-not-exist-in-jupyter-notebook\n",
    "full_path = os.path.join(save_path, file_name)\n",
    "df.to_csv(full_path, index=False)  "
   ]
  },
  {
   "cell_type": "markdown",
   "metadata": {},
   "source": [
    "## PRINTING"
   ]
  },
  {
   "cell_type": "code",
   "execution_count": 9,
   "metadata": {},
   "outputs": [
    {
     "name": "stdout",
     "output_type": "stream",
     "text": [
      "           x1        x2        x3        x4  out\n",
      "0    3.745401  6.981617  1.851329  5.190818    0\n",
      "1    9.507143  5.360964  5.419009  4.791819    0\n",
      "2    7.319939  3.095276  8.729458  0.256421    0\n",
      "3    5.986585  8.137950  7.322249  3.412478    0\n",
      "4    1.560186  6.847312  8.065611  3.801956    1\n",
      "..        ...       ...       ...       ...  ...\n",
      "495  3.533522  0.915821  6.682128  6.569552    0\n",
      "496  5.836561  9.173136  6.194903  9.566146    0\n",
      "497  0.777346  1.368186  4.634940  0.689580    1\n",
      "498  9.743948  9.502374  3.797858  0.570547    0\n",
      "499  9.862107  4.460058  8.633336  2.821871    0\n",
      "\n",
      "[500 rows x 5 columns]\n"
     ]
    }
   ],
   "source": [
    "# make dummy dataset\n",
    "\n",
    "def create_dummy(num_rows):\n",
    "    np.random.seed(42)  # Setting seed for reproducibility\n",
    "    data = {\n",
    "        'x1': np.random.uniform(0, 10, num_rows),\n",
    "        'x2': np.random.uniform(0, 10, num_rows),\n",
    "        'x3': np.random.uniform(0, 10, num_rows),\n",
    "        'x4': np.random.uniform(0, 10, num_rows)\n",
    "    }\n",
    "\n",
    "    # Applying the condition to create the 'out' column\n",
    "    data['out'] = np.where((data['x1'] <= 2.5 & data['x2'] <= 2.5  & data['x3'] <= 4  & data['x4'] <= 4 ) , 1, 0)\n",
    "\n",
    "    # Creating the DataFrame\n",
    "    df = pd.DataFrame(data)\n",
    "\n",
    "    return df\n",
    "\n",
    "df = create_dummy(500)\n",
    "print(df)\n",
    "\n",
    "file_name = 'dummy4_df.csv'\n",
    "relative_path =   '/../data'\n",
    "\n",
    "# get save path \n",
    "save_path = os.getcwd() +  relative_path # https://stackoverflow.com/questions/39125532/file-does-not-exist-in-jupyter-notebook\n",
    "full_path = os.path.join(save_path, file_name)\n",
    "df.to_csv(full_path, index=False)  "
   ]
  },
  {
   "cell_type": "code",
   "execution_count": null,
   "metadata": {},
   "outputs": [],
   "source": [
    "\n",
    "def create_dummy(num_rows):\n",
    "    np.random.seed(42)  # Setting seed for reproducibility\n",
    "    data = {\n",
    "        'x1': np.random.uniform(0, 10, num_rows),\n",
    "        'x2': np.random.uniform(0, 10, num_rows),\n",
    "        'x3': np.random.uniform(0, 10, num_rows),\n",
    "    }\n",
    "\n",
    "    # Applying the condition to create the 'out' column\n",
    "    data['out'] = np.where((data['x1'] <= 2.5 & data['x2'] <= 2.5  & data['x3'] <= 4 ) , 1, 0)\n",
    "\n",
    "    # Creating the DataFrame\n",
    "    df = pd.DataFrame(data)\n",
    "\n",
    "    return df\n",
    "\n",
    "df = create_dummy(500)\n",
    "print(df)\n",
    "\n",
    "file_name = 'dummy3_df.csv'\n",
    "relative_path =   '/../data'\n",
    "\n",
    "# get save path \n",
    "save_path = os.getcwd() +  relative_path # https://stackoverflow.com/questions/39125532/file-does-not-exist-in-jupyter-notebook\n",
    "full_path = os.path.join(save_path, file_name)\n",
    "df.to_csv(full_path, index=False)  "
   ]
  }
 ],
 "metadata": {
  "kernelspec": {
   "display_name": "neurofuzzy",
   "language": "python",
   "name": "python3"
  },
  "language_info": {
   "codemirror_mode": {
    "name": "ipython",
    "version": 3
   },
   "file_extension": ".py",
   "mimetype": "text/x-python",
   "name": "python",
   "nbconvert_exporter": "python",
   "pygments_lexer": "ipython3",
   "version": "3.11.5"
  },
  "vscode": {
   "interpreter": {
    "hash": "094bfa0ad74bbe3ac65e19bde92ab0b6ae2d79ac7a6e076b85e9f891e27e4215"
   }
  }
 },
 "nbformat": 4,
 "nbformat_minor": 2
}
