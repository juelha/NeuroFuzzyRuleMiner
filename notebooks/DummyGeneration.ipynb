{
 "cells": [
  {
   "cell_type": "markdown",
   "metadata": {},
   "source": [
    "## Gallery "
   ]
  },
  {
   "cell_type": "code",
   "execution_count": 5,
   "metadata": {},
   "outputs": [],
   "source": [
    "## basic imports ##\n",
    "\n",
    "import pandas as pd\n",
    "import numpy as np\n",
    "import os\n",
    "import matplotlib.pyplot as plt\n",
    "import yaml \n",
    "from yaml.loader import UnsafeLoader\n",
    "import os\n"
   ]
  },
  {
   "cell_type": "code",
   "execution_count": null,
   "metadata": {},
   "outputs": [],
   "source": [
    "# make dummy dataset\n",
    "\n",
    "def create_dummy(num_rows):\n",
    "    np.random.seed(42)  # Setting seed for reproducibility\n",
    "    data = {\n",
    "        'x1': np.random.uniform(0, 10, num_rows),\n",
    "        'x2': np.random.uniform(0, 10, num_rows)\n",
    "    }\n",
    "\n",
    "    # Applying the condition to create the 'out' column\n",
    "    data['out'] = np.where((data['x1'] <= 5) & (data['x2'] >= 5), 1, 0)\n",
    "\n",
    "    # Creating the DataFrame\n",
    "    df = pd.DataFrame(data)\n",
    "\n",
    "    return df\n",
    "\n",
    "# Example: Create a DataFrame with 10 rows\n",
    "df = create_dummy(500)\n",
    "print(df)\n",
    "\n",
    "file_name = 'dummy_df.csv'\n",
    "relative_path =   '/../data'\n",
    "\n",
    "# get save path \n",
    "save_path = os.getcwd() +  relative_path # https://stackoverflow.com/questions/39125532/file-does-not-exist-in-jupyter-notebook\n",
    "full_path = os.path.join(save_path, file_name)\n",
    "\n",
    "#assert  os.path.exists(full_path), f'Path {relative_path}/{file_name} does not exist'\n",
    "df.to_csv(full_path, index=False)  "
   ]
  },
  {
   "cell_type": "code",
   "execution_count": null,
   "metadata": {},
   "outputs": [],
   "source": [
    "# make dummy dataset\n",
    "\n",
    "def create_dummy(num_rows):\n",
    "    np.random.seed(42)  # Setting seed for reproducibility\n",
    "    data = {\n",
    "        'x1': np.random.uniform(0, 10, num_rows),\n",
    "        'x2': np.random.uniform(0, 10, num_rows)\n",
    "    }\n",
    "\n",
    "    # Applying the condition to create the 'out' column\n",
    "    data['out'] = np.where((data['x1'] <= 5) & (data['x2'] >= 5), 1, 0)\n",
    "\n",
    "    # Creating the DataFrame\n",
    "    df = pd.DataFrame(data)\n",
    "\n",
    "    return df\n",
    "\n",
    "# Example: Create a DataFrame with 10 rows\n",
    "df = create_dummy(500)\n",
    "print(df)\n",
    "\n",
    "file_name = 'dummy_df.csv'\n",
    "relative_path =   '/../data'\n",
    "\n",
    "# get save path \n",
    "save_path = os.getcwd() +  relative_path # https://stackoverflow.com/questions/39125532/file-does-not-exist-in-jupyter-notebook\n",
    "full_path = os.path.join(save_path, file_name)\n",
    "\n",
    "#assert  os.path.exists(full_path), f'Path {relative_path}/{file_name} does not exist'\n",
    "df.to_csv(full_path, index=False)  "
   ]
  },
  {
   "cell_type": "code",
   "execution_count": 3,
   "metadata": {},
   "outputs": [
    {
     "name": "stdout",
     "output_type": "stream",
     "text": [
      "           x1        x2  out\n",
      "0    3.745401  6.981617    1\n",
      "1    9.507143  5.360964    0\n",
      "2    7.319939  3.095276    0\n",
      "3    5.986585  8.137950    0\n",
      "4    1.560186  6.847312    1\n",
      "..        ...       ...  ...\n",
      "495  3.533522  0.915821    0\n",
      "496  5.836561  9.173136    0\n",
      "497  0.777346  1.368186    0\n",
      "498  9.743948  9.502374    0\n",
      "499  9.862107  4.460058    0\n",
      "\n",
      "[500 rows x 3 columns]\n"
     ]
    }
   ],
   "source": [
    "# make dummy dataset\n",
    "\n",
    "def create_dummy(num_rows):\n",
    "    np.random.seed(42)  # Setting seed for reproducibility\n",
    "    data = {\n",
    "        'x1': np.random.uniform(0, 10, num_rows),\n",
    "        'x2': np.random.uniform(0, 10, num_rows)\n",
    "    }\n",
    "\n",
    "    # Applying the condition to create the 'out' column\n",
    "    data['out'] = np.where((data['x1'] <= 5) & (data['x2'] >= 5), 1, 0)\n",
    "\n",
    "    # Creating the DataFrame\n",
    "    df = pd.DataFrame(data)\n",
    "\n",
    "    return df\n",
    "\n",
    "df = create_dummy(500)\n",
    "print(df)\n",
    "\n",
    "file_name = 'dummy_df.csv'\n",
    "relative_path =   '/../data'\n",
    "\n",
    "# get save path \n",
    "save_path = os.getcwd() +  relative_path # https://stackoverflow.com/questions/39125532/file-does-not-exist-in-jupyter-notebook\n",
    "full_path = os.path.join(save_path, file_name)\n",
    "df.to_csv(full_path, index=False)  "
   ]
  },
  {
   "cell_type": "markdown",
   "metadata": {},
   "source": [
    "## PRINTING"
   ]
  },
  {
   "cell_type": "code",
   "execution_count": 4,
   "metadata": {},
   "outputs": [
    {
     "ename": "TypeError",
     "evalue": "ufunc 'bitwise_and' not supported for the input types, and the inputs could not be safely coerced to any supported types according to the casting rule ''safe''",
     "output_type": "error",
     "traceback": [
      "\u001b[1;31m---------------------------------------------------------------------------\u001b[0m",
      "\u001b[1;31mTypeError\u001b[0m                                 Traceback (most recent call last)",
      "Cell \u001b[1;32mIn[4], line 20\u001b[0m\n\u001b[0;32m     16\u001b[0m     df \u001b[38;5;241m=\u001b[39m pd\u001b[38;5;241m.\u001b[39mDataFrame(data)\n\u001b[0;32m     18\u001b[0m     \u001b[38;5;28;01mreturn\u001b[39;00m df\n\u001b[1;32m---> 20\u001b[0m df \u001b[38;5;241m=\u001b[39m create_dummy(\u001b[38;5;241m500\u001b[39m)\n\u001b[0;32m     21\u001b[0m \u001b[38;5;28mprint\u001b[39m(df)\n\u001b[0;32m     23\u001b[0m file_name \u001b[38;5;241m=\u001b[39m \u001b[38;5;124m'\u001b[39m\u001b[38;5;124mdummy4_df.csv\u001b[39m\u001b[38;5;124m'\u001b[39m\n",
      "Cell \u001b[1;32mIn[4], line 13\u001b[0m, in \u001b[0;36mcreate_dummy\u001b[1;34m(num_rows)\u001b[0m\n\u001b[0;32m      5\u001b[0m data \u001b[38;5;241m=\u001b[39m {\n\u001b[0;32m      6\u001b[0m     \u001b[38;5;124m'\u001b[39m\u001b[38;5;124mx1\u001b[39m\u001b[38;5;124m'\u001b[39m: np\u001b[38;5;241m.\u001b[39mrandom\u001b[38;5;241m.\u001b[39muniform(\u001b[38;5;241m0\u001b[39m, \u001b[38;5;241m10\u001b[39m, num_rows),\n\u001b[0;32m      7\u001b[0m     \u001b[38;5;124m'\u001b[39m\u001b[38;5;124mx2\u001b[39m\u001b[38;5;124m'\u001b[39m: np\u001b[38;5;241m.\u001b[39mrandom\u001b[38;5;241m.\u001b[39muniform(\u001b[38;5;241m0\u001b[39m, \u001b[38;5;241m10\u001b[39m, num_rows),\n\u001b[0;32m      8\u001b[0m     \u001b[38;5;124m'\u001b[39m\u001b[38;5;124mx3\u001b[39m\u001b[38;5;124m'\u001b[39m: np\u001b[38;5;241m.\u001b[39mrandom\u001b[38;5;241m.\u001b[39muniform(\u001b[38;5;241m0\u001b[39m, \u001b[38;5;241m10\u001b[39m, num_rows),\n\u001b[0;32m      9\u001b[0m     \u001b[38;5;124m'\u001b[39m\u001b[38;5;124mx4\u001b[39m\u001b[38;5;124m'\u001b[39m: np\u001b[38;5;241m.\u001b[39mrandom\u001b[38;5;241m.\u001b[39muniform(\u001b[38;5;241m0\u001b[39m, \u001b[38;5;241m10\u001b[39m, num_rows)\n\u001b[0;32m     10\u001b[0m }\n\u001b[0;32m     12\u001b[0m \u001b[38;5;66;03m# Applying the condition to create the 'out' column\u001b[39;00m\n\u001b[1;32m---> 13\u001b[0m data[\u001b[38;5;124m'\u001b[39m\u001b[38;5;124mout\u001b[39m\u001b[38;5;124m'\u001b[39m] \u001b[38;5;241m=\u001b[39m np\u001b[38;5;241m.\u001b[39mwhere((data[\u001b[38;5;124m'\u001b[39m\u001b[38;5;124mx1\u001b[39m\u001b[38;5;124m'\u001b[39m] \u001b[38;5;241m<\u001b[39m\u001b[38;5;241m=\u001b[39m \u001b[38;5;241m2.5\u001b[39m \u001b[38;5;241m&\u001b[39m data[\u001b[38;5;124m'\u001b[39m\u001b[38;5;124mx2\u001b[39m\u001b[38;5;124m'\u001b[39m] \u001b[38;5;241m<\u001b[39m\u001b[38;5;241m=\u001b[39m \u001b[38;5;241m2.5\u001b[39m  \u001b[38;5;241m&\u001b[39m data[\u001b[38;5;124m'\u001b[39m\u001b[38;5;124mx3\u001b[39m\u001b[38;5;124m'\u001b[39m] \u001b[38;5;241m<\u001b[39m\u001b[38;5;241m=\u001b[39m \u001b[38;5;241m4\u001b[39m  \u001b[38;5;241m&\u001b[39m data[\u001b[38;5;124m'\u001b[39m\u001b[38;5;124mx4\u001b[39m\u001b[38;5;124m'\u001b[39m] \u001b[38;5;241m<\u001b[39m\u001b[38;5;241m=\u001b[39m \u001b[38;5;241m4\u001b[39m ) , \u001b[38;5;241m1\u001b[39m, \u001b[38;5;241m0\u001b[39m)\n\u001b[0;32m     15\u001b[0m \u001b[38;5;66;03m# Creating the DataFrame\u001b[39;00m\n\u001b[0;32m     16\u001b[0m df \u001b[38;5;241m=\u001b[39m pd\u001b[38;5;241m.\u001b[39mDataFrame(data)\n",
      "\u001b[1;31mTypeError\u001b[0m: ufunc 'bitwise_and' not supported for the input types, and the inputs could not be safely coerced to any supported types according to the casting rule ''safe''"
     ]
    }
   ],
   "source": [
    "# make dummy dataset\n",
    "\n",
    "def create_dummy(num_rows):\n",
    "    np.random.seed(42)  # Setting seed for reproducibility\n",
    "    data = {\n",
    "        'x1': np.random.uniform(0, 10, num_rows),\n",
    "        'x2': np.random.uniform(0, 10, num_rows),\n",
    "        'x3': np.random.uniform(0, 10, num_rows),\n",
    "        'x4': np.random.uniform(0, 10, num_rows)\n",
    "    }\n",
    "\n",
    "    # Applying the condition to create the 'out' column\n",
    "    data['out'] = np.where((data['x1'] <= 2.5 & data['x2'] <= 2.5  & data['x3'] <= 4  & data['x4'] <= 4 ) , 1, 0)\n",
    "\n",
    "    # Creating the DataFrame\n",
    "    df = pd.DataFrame(data)\n",
    "\n",
    "    return df\n",
    "\n",
    "df = create_dummy(500)\n",
    "print(df)\n",
    "\n",
    "file_name = 'dummy4_df.csv'\n",
    "relative_path =   '/../data'\n",
    "\n",
    "# get save path \n",
    "save_path = os.getcwd() +  relative_path # https://stackoverflow.com/questions/39125532/file-does-not-exist-in-jupyter-notebook\n",
    "full_path = os.path.join(save_path, file_name)\n",
    "df.to_csv(full_path, index=False)  "
   ]
  },
  {
   "cell_type": "code",
   "execution_count": 9,
   "metadata": {},
   "outputs": [
    {
     "name": "stdout",
     "output_type": "stream",
     "text": [
      "           x1        x2        x3  out\n",
      "0    3.745401  6.981617  1.851329    1\n",
      "1    9.507143  5.360964  5.419009    0\n",
      "2    7.319939  3.095276  8.729458    0\n",
      "3    5.986585  8.137950  7.322249    0\n",
      "4    1.560186  6.847312  8.065611    1\n",
      "..        ...       ...       ...  ...\n",
      "495  3.533522  0.915821  6.682128    0\n",
      "496  5.836561  9.173136  6.194903    0\n",
      "497  0.777346  1.368186  4.634940    0\n",
      "498  9.743948  9.502374  3.797858    0\n",
      "499  9.862107  4.460058  8.633336    0\n",
      "\n",
      "[500 rows x 4 columns]\n"
     ]
    }
   ],
   "source": [
    "\n",
    "def create_dummy(num_rows):\n",
    "    np.random.seed(42)  # Setting seed for reproducibility\n",
    "    data = {\n",
    "        'x1': np.random.uniform(0, 10, num_rows),\n",
    "        'x2': np.random.uniform(0, 10, num_rows),\n",
    "        'x3': np.random.uniform(0, 10, num_rows),\n",
    "    }\n",
    "\n",
    "    # Applying the condition to create the 'out' column\n",
    "    data['out'] = np.where(((data['x1'] <= 5) & (data['x2'] >= 5) ) , 1, 0)\n",
    "\n",
    "    # Creating the DataFrame\n",
    "    df = pd.DataFrame(data)\n",
    "\n",
    "    return df\n",
    "\n",
    "df = create_dummy(500)\n",
    "print(df)\n",
    "\n",
    "file_name = 'dummy3_df.csv'\n",
    "relative_path =   '/../data'\n",
    "\n",
    "# get save path \n",
    "save_path = os.getcwd() +  relative_path # https://stackoverflow.com/questions/39125532/file-does-not-exist-in-jupyter-notebook\n",
    "full_path = os.path.join(save_path, file_name)\n",
    "df.to_csv(full_path, index=False)  "
   ]
  },
  {
   "cell_type": "code",
   "execution_count": null,
   "metadata": {},
   "outputs": [],
   "source": []
  }
 ],
 "metadata": {
  "kernelspec": {
   "display_name": "neurofuzzy",
   "language": "python",
   "name": "python3"
  },
  "language_info": {
   "codemirror_mode": {
    "name": "ipython",
    "version": 3
   },
   "file_extension": ".py",
   "mimetype": "text/x-python",
   "name": "python",
   "nbconvert_exporter": "python",
   "pygments_lexer": "ipython3",
   "version": "3.11.5"
  },
  "vscode": {
   "interpreter": {
    "hash": "094bfa0ad74bbe3ac65e19bde92ab0b6ae2d79ac7a6e076b85e9f891e27e4215"
   }
  }
 },
 "nbformat": 4,
 "nbformat_minor": 2
}
