{
 "cells": [
  {
   "cell_type": "markdown",
   "metadata": {},
   "source": [
    "## things to only do once"
   ]
  },
  {
   "cell_type": "code",
   "execution_count": 125,
   "metadata": {},
   "outputs": [],
   "source": [
    "## basic imports ##\n",
    "\n",
    "import pandas as pd\n",
    "import numpy as np\n",
    "import os\n",
    "import matplotlib.pyplot as plt\n",
    "import yaml \n",
    "from yaml.loader import UnsafeLoader\n",
    "import os\n",
    "\n",
    "import tensorflow as tf\n",
    "import tensorflow_datasets as tfds"
   ]
  },
  {
   "cell_type": "code",
   "execution_count": 126,
   "metadata": {},
   "outputs": [
    {
     "data": {
      "text/plain": [
       "(500, 3)"
      ]
     },
     "execution_count": 126,
     "metadata": {},
     "output_type": "execute_result"
    }
   ],
   "source": [
    "file_name = 'dummy_df.csv'\n",
    "relative_path =   '/../data'\n",
    "\n",
    "# get save path \n",
    "save_path = os.getcwd() +  relative_path # https://stackoverflow.com/questions/39125532/file-does-not-exist-in-jupyter-notebook\n",
    "full_path = os.path.join(save_path, file_name)\n",
    "assert  os.path.exists(full_path), f'Path {relative_path}/{file_name} does not exist'\n",
    "\n",
    "# read via panda reader\n",
    "df = pd.read_csv(full_path)\n",
    "df.shape"
   ]
  },
  {
   "cell_type": "code",
   "execution_count": 127,
   "metadata": {},
   "outputs": [
    {
     "name": "stdout",
     "output_type": "stream",
     "text": [
      "<class 'list'>\n",
      "<class 'float'>\n",
      "[0.0, 1.0]\n"
     ]
    },
    {
     "data": {
      "text/plain": [
       "array([-1.,  1.])"
      ]
     },
     "execution_count": 127,
     "metadata": {},
     "output_type": "execute_result"
    }
   ],
   "source": [
    "# option: use tf.one_hot() and save the file to processed\n",
    "# problem: 1) have to use tf  2) one hot encoding is saved as list, however csv saves lists as str <- loading problems\n",
    "a = np.array(df[\"out\"])\n",
    "depth = 2\n",
    "b = tf.one_hot(a, depth)\n",
    "b = b.numpy()\n",
    "#print(b)\n",
    "type(b)\n",
    "df.out = b.tolist()\n",
    "print(type(df.out[0])) # <- list\n",
    "print(type(df.out[0][0])) # <- class 'float !\n",
    "print(df.out[0])\n",
    "#df.out\n",
    "# df\n",
    "\n",
    "test = df.out[0] - np.array([1.0,0.0])\n",
    "test # array([-1.,  1.]) # works here!  \n",
    "\n"
   ]
  },
  {
   "cell_type": "code",
   "execution_count": 128,
   "metadata": {},
   "outputs": [],
   "source": [
    "file_name = 'dummy_df.csv'\n",
    "relative_path =   '/../data/processed'\n",
    "\n",
    "# get save path \n",
    "save_path = os.getcwd() +  relative_path # https://stackoverflow.com/questions/39125532/file-does-not-exist-in-jupyter-notebook\n",
    "full_path = os.path.join(save_path, file_name)\n",
    "df.to_csv(full_path, index=False)  "
   ]
  },
  {
   "cell_type": "code",
   "execution_count": 131,
   "metadata": {},
   "outputs": [
    {
     "name": "stdout",
     "output_type": "stream",
     "text": [
      "[0.0, 1.0]\n",
      "<class 'str'>\n"
     ]
    },
    {
     "ename": "UFuncTypeError",
     "evalue": "ufunc 'subtract' did not contain a loop with signature matching types (dtype('<U10'), dtype('float64')) -> None",
     "output_type": "error",
     "traceback": [
      "\u001b[1;31m---------------------------------------------------------------------------\u001b[0m",
      "\u001b[1;31mUFuncTypeError\u001b[0m                            Traceback (most recent call last)",
      "Cell \u001b[1;32mIn[131], line 18\u001b[0m\n\u001b[0;32m     16\u001b[0m \u001b[38;5;28mprint\u001b[39m(df\u001b[38;5;241m.\u001b[39mout[\u001b[38;5;241m0\u001b[39m])\n\u001b[0;32m     17\u001b[0m \u001b[38;5;28mprint\u001b[39m(\u001b[38;5;28mtype\u001b[39m(df\u001b[38;5;241m.\u001b[39mout[\u001b[38;5;241m0\u001b[39m]))\n\u001b[1;32m---> 18\u001b[0m out \u001b[38;5;241m=\u001b[39m \u001b[43mdf\u001b[49m\u001b[38;5;241;43m.\u001b[39;49m\u001b[43mout\u001b[49m\u001b[43m[\u001b[49m\u001b[38;5;241;43m0\u001b[39;49m\u001b[43m]\u001b[49m\u001b[43m \u001b[49m\u001b[38;5;241;43m-\u001b[39;49m\u001b[43m \u001b[49m\u001b[43mnp\u001b[49m\u001b[38;5;241;43m.\u001b[39;49m\u001b[43marray\u001b[49m\u001b[43m(\u001b[49m\u001b[43m[\u001b[49m\u001b[38;5;241;43m1.0\u001b[39;49m\u001b[43m,\u001b[49m\u001b[43m \u001b[49m\u001b[38;5;241;43m0.0\u001b[39;49m\u001b[43m]\u001b[49m\u001b[43m)\u001b[49m\n\u001b[0;32m     19\u001b[0m out\n",
      "\u001b[1;31mUFuncTypeError\u001b[0m: ufunc 'subtract' did not contain a loop with signature matching types (dtype('<U10'), dtype('float64')) -> None"
     ]
    }
   ],
   "source": [
    "file_name = 'dummy_df.csv'\n",
    "relative_path =   '/../data/processed'\n",
    "\n",
    "# get save path \n",
    "save_path = os.getcwd() +  relative_path # https://stackoverflow.com/questions/39125532/file-does-not-exist-in-jupyter-notebook\n",
    "full_path = os.path.join(save_path, file_name)\n",
    "assert  os.path.exists(full_path), f'Path {relative_path}/{file_name} does not exist'\n",
    "\n",
    "# read via panda reader\n",
    "df = pd.read_csv(full_path) \n",
    "df\n",
    "\n",
    "type(np.array(df.out))\n",
    "\n",
    "df_out = np.array(df.out) \n",
    "print(df.out[0])\n",
    "print(type(df.out[0])) # <- str !\n",
    "out = df.out[0] - np.array([1.0, 0.0])\n",
    "out"
   ]
  },
  {
   "cell_type": "code",
   "execution_count": 137,
   "metadata": {},
   "outputs": [
    {
     "name": "stdout",
     "output_type": "stream",
     "text": [
      "['0.0', '1.0']\n",
      "<class 'list'>\n",
      "<class 'str'>\n"
     ]
    },
    {
     "ename": "UFuncTypeError",
     "evalue": "ufunc 'subtract' did not contain a loop with signature matching types (dtype('<U3'), dtype('float64')) -> None",
     "output_type": "error",
     "traceback": [
      "\u001b[1;31m---------------------------------------------------------------------------\u001b[0m",
      "\u001b[1;31mUFuncTypeError\u001b[0m                            Traceback (most recent call last)",
      "Cell \u001b[1;32mIn[137], line 6\u001b[0m\n\u001b[0;32m      4\u001b[0m \u001b[38;5;28mprint\u001b[39m(\u001b[38;5;28mtype\u001b[39m(df\u001b[38;5;241m.\u001b[39mout[\u001b[38;5;241m0\u001b[39m])) \u001b[38;5;66;03m# <- list \u001b[39;00m\n\u001b[0;32m      5\u001b[0m \u001b[38;5;28mprint\u001b[39m(\u001b[38;5;28mtype\u001b[39m(df\u001b[38;5;241m.\u001b[39mout[\u001b[38;5;241m0\u001b[39m][\u001b[38;5;241m0\u001b[39m])) \u001b[38;5;66;03m# <- str !\u001b[39;00m\n\u001b[1;32m----> 6\u001b[0m out \u001b[38;5;241m=\u001b[39m \u001b[43mdf\u001b[49m\u001b[38;5;241;43m.\u001b[39;49m\u001b[43mout\u001b[49m\u001b[43m[\u001b[49m\u001b[38;5;241;43m0\u001b[39;49m\u001b[43m]\u001b[49m\u001b[43m \u001b[49m\u001b[38;5;241;43m-\u001b[39;49m\u001b[43m \u001b[49m\u001b[43mnp\u001b[49m\u001b[38;5;241;43m.\u001b[39;49m\u001b[43marray\u001b[49m\u001b[43m(\u001b[49m\u001b[43m[\u001b[49m\u001b[38;5;241;43m1.0\u001b[39;49m\u001b[43m,\u001b[49m\u001b[43m \u001b[49m\u001b[38;5;241;43m0.0\u001b[39;49m\u001b[43m]\u001b[49m\u001b[43m)\u001b[49m\n\u001b[0;32m      7\u001b[0m out\n",
      "\u001b[1;31mUFuncTypeError\u001b[0m: ufunc 'subtract' did not contain a loop with signature matching types (dtype('<U3'), dtype('float64')) -> None"
     ]
    }
   ],
   "source": [
    "df = pd.read_csv(full_path,converters={\"out\": lambda x: x.strip(\"[]\").split(\", \")})\n",
    "df \n",
    "print(df.out[0])\n",
    "print(type(df.out[0])) # <- list \n",
    "print(type(df.out[0][0])) # <- str !\n",
    "out = df.out[0] - np.array([1.0, 0.0])\n",
    "out"
   ]
  },
  {
   "cell_type": "code",
   "execution_count": null,
   "metadata": {},
   "outputs": [],
   "source": []
  }
 ],
 "metadata": {
  "kernelspec": {
   "display_name": "base",
   "language": "python",
   "name": "python3"
  },
  "language_info": {
   "codemirror_mode": {
    "name": "ipython",
    "version": 3
   },
   "file_extension": ".py",
   "mimetype": "text/x-python",
   "name": "python",
   "nbconvert_exporter": "python",
   "pygments_lexer": "ipython3",
   "version": "3.10.13"
  }
 },
 "nbformat": 4,
 "nbformat_minor": 2
}
