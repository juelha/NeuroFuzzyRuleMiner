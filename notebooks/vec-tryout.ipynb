{
 "cells": [
  {
   "cell_type": "markdown",
   "metadata": {},
   "source": [
    "## Try-out notebook for playing around with vectorization"
   ]
  },
  {
   "cell_type": "code",
   "execution_count": 2,
   "metadata": {},
   "outputs": [],
   "source": [
    "import numpy as np"
   ]
  },
  {
   "cell_type": "markdown",
   "metadata": {},
   "source": [
    "#### How to stretch np arrays so row wise mult will be possible"
   ]
  },
  {
   "cell_type": "code",
   "execution_count": 3,
   "metadata": {},
   "outputs": [
    {
     "data": {
      "text/plain": [
       "array([1, 1, 1, 2, 2, 2])"
      ]
     },
     "execution_count": 3,
     "metadata": {},
     "output_type": "execute_result"
    }
   ],
   "source": [
    "x = np.array([1, 2])\n",
    "x = np.tile(x[:, np.newaxis], 3).ravel()\n",
    "x"
   ]
  },
  {
   "cell_type": "code",
   "execution_count": 4,
   "metadata": {},
   "outputs": [
    {
     "data": {
      "text/plain": [
       "array([1, 1, 1, 2, 2, 2])"
      ]
     },
     "execution_count": 4,
     "metadata": {},
     "output_type": "execute_result"
    }
   ],
   "source": [
    "x = np.array([1,2])\n",
    "x = np.repeat(x, 3)\n",
    "x"
   ]
  },
  {
   "cell_type": "markdown",
   "metadata": {},
   "source": [
    "### Fuzzification Layer"
   ]
  },
  {
   "cell_type": "code",
   "execution_count": 5,
   "metadata": {},
   "outputs": [
    {
     "data": {
      "text/plain": [
       "array([0, 1, 2, 0, 1, 2])"
      ]
     },
     "execution_count": 5,
     "metadata": {},
     "output_type": "execute_result"
    }
   ],
   "source": [
    "multiplicator = np.arange(3)\n",
    "multiplicator = np.tile(np.arange(3), 2)\n",
    "multiplicator"
   ]
  },
  {
   "cell_type": "code",
   "execution_count": 6,
   "metadata": {},
   "outputs": [
    {
     "name": "stdout",
     "output_type": "stream",
     "text": [
      "<class 'numpy.ndarray'>\n",
      "[2.  4.  6.  2.5 5.  7.5]\n",
      "<class 'numpy.ndarray'>\n"
     ]
    }
   ],
   "source": [
    "def center_init(x, n_mfs):\n",
    "    \"\"\"Initializes the centers of MFs by partitioning the domain of the features\n",
    "\n",
    "    Args:\n",
    "        x (numpy.ndarray): the max values for each feature, i.e. the domain\n",
    "        n_mfs (int): number of MFs in Fuzzification Layer\n",
    "        \n",
    "    Returns: \n",
    "        numpy.ndarray: initalized widths with the shape (x.size,)\n",
    "    \"\"\"\n",
    "    n_inputs = x.size // n_mfs\n",
    "    multiplicator = np.tile(np.arange(1, n_mfs + 1), n_inputs)\n",
    "    return (x / (n_mfs + 1)) * multiplicator\n",
    "\n",
    "x = np.array([8,10])\n",
    "x = np.repeat(x, 3)\n",
    "print(type(x))\n",
    "print(center_init(x, 3))\n",
    "print(type(center_init(x, 3))) # numpy.ndarray'"
   ]
  },
  {
   "cell_type": "code",
   "execution_count": 7,
   "metadata": {},
   "outputs": [
    {
     "name": "stdout",
     "output_type": "stream",
     "text": [
      "6\n",
      "[2.  2.  2.  2.5 2.5 2.5]\n",
      "(6,)\n"
     ]
    }
   ],
   "source": [
    "def widths_init(x, n_mfs):\n",
    "    \"\"\"Initializes the widths of MFs by partitioning the domain of the features\n",
    "\n",
    "    Args:\n",
    "        x (numpy.ndarray): the max values for each feature, i.e. the feature's domain\n",
    "        n_mfs (int): number of MFs in Fuzzification Layer\n",
    "\n",
    "    Returns: \n",
    "        numpy.ndarray: initalized widths with the shape (x.size,)\n",
    "    \"\"\"\n",
    "    return x/(n_mfs+1)\n",
    "\n",
    "x = np.array([8,10])\n",
    "x = np.repeat(x, 3)\n",
    "print(x.size)\n",
    "print(widths_init(x, 3))\n",
    "print(widths_init(x, 3).shape)"
   ]
  },
  {
   "cell_type": "code",
   "execution_count": 8,
   "metadata": {},
   "outputs": [],
   "source": [
    "def MF(x, center, width):\n",
    "    return np.exp(-0.5*(((x-center)/width)**2))\n",
    "    "
   ]
  },
  {
   "cell_type": "code",
   "execution_count": 9,
   "metadata": {},
   "outputs": [
    {
     "name": "stdout",
     "output_type": "stream",
     "text": [
      "[1 1 1 2 2 2]\n"
     ]
    },
    {
     "data": {
      "text/plain": [
       "array([1.        , 0.8824969 , 0.8007374 , 0.8824969 , 0.83527021,\n",
       "       0.8007374 ])"
      ]
     },
     "execution_count": 9,
     "metadata": {},
     "output_type": "execute_result"
    }
   ],
   "source": [
    "x = np.array([1,2])\n",
    "x = np.repeat(x, 3)\n",
    "\n",
    "center = np.array([1, 2, 3, 4, 5, 6])# np.ones(3)\n",
    "width = np.array([1, 2, 3, 4, 5, 6])\n",
    "\n",
    "print(x)\n",
    "\n",
    "MF(x, center, width)"
   ]
  },
  {
   "cell_type": "markdown",
   "metadata": {},
   "source": [
    "### Rule Antecedent Layer\n"
   ]
  },
  {
   "cell_type": "code",
   "execution_count": null,
   "metadata": {},
   "outputs": [],
   "source": []
  },
  {
   "cell_type": "code",
   "execution_count": 10,
   "metadata": {},
   "outputs": [
    {
     "data": {
      "text/plain": [
       "array([ 280,  308,  336,  320,  352,  384,  360,  396,  432,  560,  616,\n",
       "        672,  640,  704,  768,  720,  792,  864,  840,  924, 1008,  960,\n",
       "       1056, 1152, 1080, 1188, 1296,  350,  385,  420,  400,  440,  480,\n",
       "        450,  495,  540,  700,  770,  840,  800,  880,  960,  900,  990,\n",
       "       1080, 1050, 1155, 1260, 1200, 1320, 1440, 1350, 1485, 1620,  420,\n",
       "        462,  504,  480,  528,  576,  540,  594,  648,  840,  924, 1008,\n",
       "        960, 1056, 1152, 1080, 1188, 1296, 1260, 1386, 1512, 1440, 1584,\n",
       "       1728, 1620, 1782, 1944])"
      ]
     },
     "execution_count": 10,
     "metadata": {},
     "output_type": "execute_result"
    }
   ],
   "source": [
    "#x = np.array([1,2,3,4,5,6])\n",
    "x = np.array([1,2,3,4,5,6,7,8,9,10,11,12])\n",
    "\n",
    "\n",
    "x = np.array_split(x, range(3, len(x), 3))\n",
    "\n",
    "\n",
    "\n",
    "x = np.meshgrid(*x) # the '*' unpacks x and passes to messgrid\n",
    "\n",
    "x = np.prod(x, axis=0).ravel()\n",
    "\n",
    "x"
   ]
  },
  {
   "cell_type": "code",
   "execution_count": 11,
   "metadata": {},
   "outputs": [
    {
     "name": "stdout",
     "output_type": "stream",
     "text": [
      "[array(['x2,low', 'x2,medium', 'x2,high'], dtype='<U9'), array(['x1,low', 'x1,medium', 'x1,high'], dtype='<U9')]\n",
      "[[['x2,low' 'x2,medium' 'x2,high']\n",
      "  ['x2,low' 'x2,medium' 'x2,high']\n",
      "  ['x2,low' 'x2,medium' 'x2,high']]\n",
      "\n",
      " [['x1,low' 'x1,low' 'x1,low']\n",
      "  ['x1,medium' 'x1,medium' 'x1,medium']\n",
      "  ['x1,high' 'x1,high' 'x1,high']]]\n"
     ]
    },
    {
     "data": {
      "text/plain": [
       "['x1,low,x2,low',\n",
       " 'x1,low,x2,medium',\n",
       " 'x1,low,x2,high',\n",
       " 'x1,medium,x2,low',\n",
       " 'x1,medium,x2,medium',\n",
       " 'x1,medium,x2,high',\n",
       " 'x1,high,x2,low',\n",
       " 'x1,high,x2,medium',\n",
       " 'x1,high,x2,high']"
      ]
     },
     "execution_count": 11,
     "metadata": {},
     "output_type": "execute_result"
    }
   ],
   "source": [
    "feature_names = np.array([\"x1\", \"x2\"])\n",
    "mfs = np.array([\"low\", \"medium\", \"high\"])\n",
    "\n",
    "\n",
    "x = feature_names\n",
    "x = np.tile(x[:, np.newaxis], 3).ravel()\n",
    "mfs = np.tile(mfs, 2)\n",
    "\n",
    "x = np.char.add(x, \",\")    \n",
    "x = np.char.add(x, mfs)    \n",
    "x = np.array_split(x, range(3, len(x), 3))\n",
    "x.reverse()\n",
    "print(x)\n",
    "x = np.array(np.meshgrid(*x)) # the '*' unpacks x and passes to messgrid\n",
    "print(x)\n",
    "m = x[1].ravel()\n",
    "m = np.char.add(m, \",\")   \n",
    "x = np.char.add(m, x[0].ravel())   \n",
    "x = x.tolist()\n",
    "x"
   ]
  },
  {
   "cell_type": "code",
   "execution_count": 12,
   "metadata": {},
   "outputs": [
    {
     "name": "stdout",
     "output_type": "stream",
     "text": [
      "[array([1, 2, 3]), array([4, 5, 6]), array([7, 8, 9]), array([10, 11, 12])]\n"
     ]
    },
    {
     "data": {
      "text/plain": [
       "array([ 4,  4,  4,  8,  8,  8, 12, 12, 12,  5,  5,  5, 10, 10, 10, 15, 15,\n",
       "       15,  6,  6,  6, 12, 12, 12, 18, 18, 18])"
      ]
     },
     "execution_count": 12,
     "metadata": {},
     "output_type": "execute_result"
    }
   ],
   "source": [
    "x = np.array([1,2,3,4,5,6,7,8,9,10,11,12])\n",
    "\n",
    "x = np.array_split(x, range(3, len(x), 3))\n",
    "print(x)\n",
    "\n",
    "x =  np.meshgrid(x[0], x[1], x[2])\n",
    "#print(x)\n",
    "x = (x[0] * x[1]).ravel()\n",
    "x"
   ]
  },
  {
   "cell_type": "markdown",
   "metadata": {},
   "source": [
    "### rule consequent layer"
   ]
  },
  {
   "cell_type": "code",
   "execution_count": 13,
   "metadata": {},
   "outputs": [
    {
     "name": "stdout",
     "output_type": "stream",
     "text": [
      "[1. 2. 3. 4. 5. 6. 7. 8. 9.]\n",
      "[[0. 0.]\n",
      " [0. 0.]\n",
      " [0. 0.]\n",
      " [0. 0.]\n",
      " [0. 0.]\n",
      " [0. 0.]\n",
      " [0. 0.]\n",
      " [0. 0.]\n",
      " [0. 0.]]\n",
      "[[1.]\n",
      " [2.]\n",
      " [3.]\n",
      " [4.]\n",
      " [5.]\n",
      " [6.]\n",
      " [7.]\n",
      " [8.]\n",
      " [9.]]\n"
     ]
    },
    {
     "data": {
      "text/plain": [
       "array([[0., 0.],\n",
       "       [0., 0.],\n",
       "       [0., 0.],\n",
       "       [0., 0.],\n",
       "       [0., 0.],\n",
       "       [0., 0.],\n",
       "       [0., 0.],\n",
       "       [0., 0.],\n",
       "       [0., 0.]])"
      ]
     },
     "execution_count": 13,
     "metadata": {},
     "output_type": "execute_result"
    }
   ],
   "source": [
    "x = np.array([1,2,3,4,5,6,7,8,9], dtype=np.float64)\n",
    "weights = np.zeros((x.shape[0], 2), dtype=np.float64)\n",
    "print(x)\n",
    "print(weights)\n",
    "\n",
    "x = x[:, np.newaxis]\n",
    "print(x)\n",
    "\n",
    "x= x* weights\n",
    "x"
   ]
  },
  {
   "cell_type": "markdown",
   "metadata": {},
   "source": [
    "## Training"
   ]
  },
  {
   "cell_type": "markdown",
   "metadata": {},
   "source": [
    "### error function"
   ]
  },
  {
   "cell_type": "code",
   "execution_count": 14,
   "metadata": {},
   "outputs": [
    {
     "name": "stdout",
     "output_type": "stream",
     "text": [
      "[0. 0. 0. 0.]\n"
     ]
    }
   ],
   "source": [
    "output = np.array([[0, 1], [1, 0], [0, 1], [1, 0]], dtype=np.float64)\n",
    "target = np.array([[1,0], [1, 0], [0, 1], [0, 1]], dtype=np.float64)\n",
    "output.shape[0]\n",
    "result = np.zeros(shape=(output.shape[0],), dtype=np.float64)\n",
    "print(result)"
   ]
  },
  {
   "cell_type": "code",
   "execution_count": 15,
   "metadata": {},
   "outputs": [
    {
     "data": {
      "text/plain": [
       "array([1., 0., 0., 1.])"
      ]
     },
     "execution_count": 15,
     "metadata": {},
     "output_type": "execute_result"
    }
   ],
   "source": [
    "# opt 1\n",
    "def calculate_difference(output, target):\n",
    "    # Find indices where the value is 1 in the output array\n",
    "    indices = np.where(output == 1)\n",
    "\n",
    "    # Create a zero-filled array of the same shape as output\n",
    "    result = np.zeros(shape=(output.shape[0],), dtype=np.float64)\n",
    "\n",
    "    # Set the values at the found indices to the difference of output and target\n",
    "    result = output[indices] - target[indices]\n",
    "\n",
    "    return result\n",
    "\n",
    "calculate_difference(output, target)"
   ]
  },
  {
   "cell_type": "code",
   "execution_count": 16,
   "metadata": {},
   "outputs": [
    {
     "data": {
      "text/plain": [
       "array([[0. , 0.5],\n",
       "       [0. , 0. ],\n",
       "       [0. , 0. ],\n",
       "       [0.5, 0. ]])"
      ]
     },
     "execution_count": 16,
     "metadata": {},
     "output_type": "execute_result"
    }
   ],
   "source": [
    "# opt 2\n",
    "result = np.zeros_like(output, dtype=np.float64)\n",
    "\n",
    "# Directly subtract target from output at the found indices\n",
    "0.5*np.subtract(output, target, where=output==1, out=result)**2"
   ]
  },
  {
   "cell_type": "markdown",
   "metadata": {},
   "source": [
    "### adapt"
   ]
  },
  {
   "cell_type": "code",
   "execution_count": 17,
   "metadata": {},
   "outputs": [
    {
     "data": {
      "text/plain": [
       "[array([[1, 2, 3],\n",
       "        [1, 2, 3],\n",
       "        [1, 2, 3]]),\n",
       " array([[4, 4, 4],\n",
       "        [5, 5, 5],\n",
       "        [6, 6, 6]])]"
      ]
     },
     "execution_count": 17,
     "metadata": {},
     "output_type": "execute_result"
    }
   ],
   "source": [
    "error = np.ones(shape=(9,))\n",
    "\n",
    "x1 = np.array([1,2,3])\n",
    "x2 = np.array([4,5,6])\n",
    "\n",
    "x =  np.meshgrid(x1, x2)\n",
    "x # get those directly from antecedent layer with inputs attribute\n",
    "\n"
   ]
  },
  {
   "cell_type": "code",
   "execution_count": 18,
   "metadata": {},
   "outputs": [
    {
     "name": "stdout",
     "output_type": "stream",
     "text": [
      "[[1. 1. 1.]\n",
      " [1. 1. 1.]\n",
      " [1. 1. 1.]]\n",
      "[array([[4., 4., 4.],\n",
      "       [5., 5., 5.],\n",
      "       [6., 6., 6.]]), array([[1., 2., 3.],\n",
      "       [1., 2., 3.],\n",
      "       [1., 2., 3.]])]\n"
     ]
    }
   ],
   "source": [
    "# reshape error to match each mu \n",
    "error = np.reshape(error, x[0].shape)\n",
    "print(error)\n",
    "\n",
    "delta = [mu * error for mu in x]\n",
    "delta.reverse() # the other mu\n",
    "print(delta)"
   ]
  },
  {
   "cell_type": "code",
   "execution_count": 19,
   "metadata": {},
   "outputs": [],
   "source": [
    "# these would result from derived MF function\n",
    "centers_prime = np.arange(stop=6) \n",
    "widths_prime = np.arange(stop=6)\n",
    "\n",
    "# imitate the whole meshgrid process like in antecedent layer\n",
    "x = np.array_split(centers_prime, range(3, len(centers_prime), 3))\n",
    "centers_grided = np.meshgrid(x[0], x[1]) \n",
    "\n",
    "x = np.array_split(widths_prime, range(3, len(widths_prime), 3))\n",
    "widths_grided = np.meshgrid(x[0], x[1]) "
   ]
  },
  {
   "cell_type": "code",
   "execution_count": 20,
   "metadata": {},
   "outputs": [
    {
     "name": "stdout",
     "output_type": "stream",
     "text": [
      "[array([[4., 4., 4.],\n",
      "       [5., 5., 5.],\n",
      "       [6., 6., 6.]]), array([[1., 2., 3.],\n",
      "       [1., 2., 3.],\n",
      "       [1., 2., 3.]])]\n",
      "\n",
      "\n",
      "[array([[0, 1, 2],\n",
      "       [0, 1, 2],\n",
      "       [0, 1, 2]]), array([[3, 3, 3],\n",
      "       [4, 4, 4],\n",
      "       [5, 5, 5]])]\n",
      "\n",
      "\n",
      "[array([[0, 1, 2],\n",
      "       [0, 1, 2],\n",
      "       [0, 1, 2]]), array([[3, 3, 3],\n",
      "       [4, 4, 4],\n",
      "       [5, 5, 5]])]\n"
     ]
    }
   ],
   "source": [
    "print(delta)\n",
    "print(\"\\n\")\n",
    "print(centers_grided)\n",
    "print(\"\\n\")\n",
    "print(widths_grided)"
   ]
  },
  {
   "cell_type": "code",
   "execution_count": 21,
   "metadata": {},
   "outputs": [
    {
     "data": {
      "text/plain": [
       "[array([[ 0.,  4.,  8.],\n",
       "        [ 0.,  5., 10.],\n",
       "        [ 0.,  6., 12.]]),\n",
       " array([[ 3.,  6.,  9.],\n",
       "        [ 4.,  8., 12.],\n",
       "        [ 5., 10., 15.]])]"
      ]
     },
     "execution_count": 21,
     "metadata": {},
     "output_type": "execute_result"
    }
   ],
   "source": [
    "delta = [d * centers for d,centers in zip(delta,centers_grided)]\n",
    "delta"
   ]
  },
  {
   "cell_type": "code",
   "execution_count": 22,
   "metadata": {},
   "outputs": [
    {
     "name": "stdout",
     "output_type": "stream",
     "text": [
      "[0 1 2 3 4 5]\n"
     ]
    }
   ],
   "source": [
    "centers_to_tune = np.arange(stop=6) \n",
    "widths_to_tune = np.arange(stop=6)\n",
    "print(centers_to_tune)"
   ]
  },
  {
   "cell_type": "code",
   "execution_count": 23,
   "metadata": {},
   "outputs": [
    {
     "data": {
      "text/plain": [
       "[array([0, 1, 2]), array([3, 4, 5])]"
      ]
     },
     "execution_count": 23,
     "metadata": {},
     "output_type": "execute_result"
    }
   ],
   "source": [
    "centers_to_tune = np.array_split(centers_to_tune, range(3, len(centers_to_tune), 3))\n",
    "widths_to_tune = np.array_split(widths_to_tune, range(3, len(widths_to_tune), 3))\n",
    "centers_to_tune"
   ]
  },
  {
   "cell_type": "code",
   "execution_count": 24,
   "metadata": {},
   "outputs": [],
   "source": [
    "centers_to_tune[0] = centers_to_tune[0]"
   ]
  },
  {
   "cell_type": "code",
   "execution_count": 25,
   "metadata": {},
   "outputs": [
    {
     "name": "stdout",
     "output_type": "stream",
     "text": [
      "[array([1, 2, 3]), array([4, 5, 6]), array([7, 8, 9])]\n"
     ]
    },
    {
     "data": {
      "text/plain": [
       "array([[[ 28,  32,  36],\n",
       "        [ 35,  40,  45],\n",
       "        [ 42,  48,  54]],\n",
       "\n",
       "       [[ 56,  64,  72],\n",
       "        [ 70,  80,  90],\n",
       "        [ 84,  96, 108]],\n",
       "\n",
       "       [[ 84,  96, 108],\n",
       "        [105, 120, 135],\n",
       "        [126, 144, 162]]])"
      ]
     },
     "execution_count": 25,
     "metadata": {},
     "output_type": "execute_result"
    }
   ],
   "source": [
    "error = np.arange(stop=9)\n",
    "\n",
    "x = np.array([1,2,3,4,5,6,7,8,9])\n",
    "\n",
    "x = np.array_split(x, range(3, len(x), 3))\n",
    "print(x)\n",
    "\n",
    "x =  np.meshgrid(*x, indexing=\"ij\")\n",
    "x = np.prod(x,axis=0)\n",
    "x # get those directly from antecedent layer with inputs attribute\n"
   ]
  },
  {
   "cell_type": "code",
   "execution_count": 26,
   "metadata": {},
   "outputs": [
    {
     "name": "stdout",
     "output_type": "stream",
     "text": [
      "[[0 1 2]\n",
      " [3 4 5]\n",
      " [6 7 8]]\n"
     ]
    }
   ],
   "source": [
    "# reshape error to match each mu \n",
    "error = np.reshape(error, x[0].shape)\n",
    "print(error)\n",
    "\n"
   ]
  },
  {
   "cell_type": "code",
   "execution_count": 27,
   "metadata": {},
   "outputs": [
    {
     "name": "stdout",
     "output_type": "stream",
     "text": [
      "[array([[   0,   96,  216],\n",
      "       [ 315,  480,  675],\n",
      "       [ 756, 1008, 1296]]), array([[  0,  64, 144],\n",
      "       [210, 320, 450],\n",
      "       [504, 672, 864]]), array([[  0,  32,  72],\n",
      "       [105, 160, 225],\n",
      "       [252, 336, 432]])]\n"
     ]
    }
   ],
   "source": [
    "delta = [mu * error for mu in x]\n",
    "delta.reverse() # the other mu\n",
    "print(delta)"
   ]
  },
  {
   "cell_type": "code",
   "execution_count": 28,
   "metadata": {},
   "outputs": [
    {
     "name": "stdout",
     "output_type": "stream",
     "text": [
      "i 0\n",
      "p None\n",
      "e [[0 1 2]\n",
      " [3 4 5]\n",
      " [6 7 8]]\n",
      "j 0\n",
      "j 1\n",
      "Delta [[  0  64 144]\n",
      " [210 320 450]\n",
      " [504 672 864]]\n",
      "j 2\n",
      "Delta [[     0   6144  15552]\n",
      " [ 22050  38400  60750]\n",
      " [ 63504  96768 139968]]\n",
      "i 1\n",
      "p None\n",
      "e [[     0   6144  15552]\n",
      " [ 22050  38400  60750]\n",
      " [ 63504  96768 139968]]\n",
      "j 0\n",
      "Delta [[      0  196608  559872]\n",
      " [ 771750 1536000 2733750]\n",
      " [2667168 4644864 7558272]]\n",
      "j 1\n",
      "j 2\n",
      "Delta [[         0   18874368   60466176]\n",
      " [  81033750  184320000  369056250]\n",
      " [ 336063168  668860416 1224440064]]\n",
      "i 2\n",
      "p None\n",
      "e [[         0   18874368   60466176]\n",
      " [  81033750  184320000  369056250]\n",
      " [ 336063168  668860416 1224440064]]\n",
      "j 0\n",
      "Delta [[          0   603979776 -2118184960]\n",
      " [-1458786046 -1217134592  -572337934]\n",
      " [ 1229751168  2040528896  1695254016]]\n",
      "j 1\n",
      "Delta [[          0           0  2109505536]\n",
      " [  964191884  1413480448    29193492]\n",
      " [  219883008 -1677721600 -1596160000]]\n",
      "j 2\n"
     ]
    },
    {
     "data": {
      "text/plain": [
       "[array([[          0,           0,  2109505536],\n",
       "        [  964191884,  1413480448,    29193492],\n",
       "        [  219883008, -1677721600, -1596160000]]),\n",
       " array([[          0,           0,  2109505536],\n",
       "        [  964191884,  1413480448,    29193492],\n",
       "        [  219883008, -1677721600, -1596160000]]),\n",
       " array([[          0,           0,  2109505536],\n",
       "        [  964191884,  1413480448,    29193492],\n",
       "        [  219883008, -1677721600, -1596160000]])]"
      ]
     },
     "execution_count": 28,
     "metadata": {},
     "output_type": "execute_result"
    }
   ],
   "source": [
    "deltas = []\n",
    "for i, _ in enumerate(x):\n",
    "    print(\"i\", i)\n",
    "    p = None\n",
    "    print(\"p\", p)\n",
    "    p = error\n",
    "    \n",
    "    print(\"e\", error)\n",
    "    for j, mu in enumerate(x):\n",
    "        \n",
    "        print(\"j\", j)\n",
    "        if i==j:\n",
    "            \n",
    "            continue\n",
    "        else:\n",
    "            p *= mu\n",
    "            print(\"Delta\", p)\n",
    "    deltas.append(p)\n",
    "deltas"
   ]
  },
  {
   "cell_type": "markdown",
   "metadata": {},
   "source": [
    "## decompose"
   ]
  },
  {
   "cell_type": "code",
   "execution_count": 29,
   "metadata": {},
   "outputs": [
    {
     "name": "stdout",
     "output_type": "stream",
     "text": [
      "[array([[[[1, 1, 1],\n",
      "         [1, 1, 1],\n",
      "         [1, 1, 1]],\n",
      "\n",
      "        [[1, 1, 1],\n",
      "         [1, 1, 1],\n",
      "         [1, 1, 1]],\n",
      "\n",
      "        [[1, 1, 1],\n",
      "         [1, 1, 1],\n",
      "         [1, 1, 1]]],\n",
      "\n",
      "\n",
      "       [[[2, 2, 2],\n",
      "         [2, 2, 2],\n",
      "         [2, 2, 2]],\n",
      "\n",
      "        [[2, 2, 2],\n",
      "         [2, 2, 2],\n",
      "         [2, 2, 2]],\n",
      "\n",
      "        [[2, 2, 2],\n",
      "         [2, 2, 2],\n",
      "         [2, 2, 2]]],\n",
      "\n",
      "\n",
      "       [[[3, 3, 3],\n",
      "         [3, 3, 3],\n",
      "         [3, 3, 3]],\n",
      "\n",
      "        [[3, 3, 3],\n",
      "         [3, 3, 3],\n",
      "         [3, 3, 3]],\n",
      "\n",
      "        [[3, 3, 3],\n",
      "         [3, 3, 3],\n",
      "         [3, 3, 3]]]]), array([[[[4, 4, 4],\n",
      "         [4, 4, 4],\n",
      "         [4, 4, 4]],\n",
      "\n",
      "        [[5, 5, 5],\n",
      "         [5, 5, 5],\n",
      "         [5, 5, 5]],\n",
      "\n",
      "        [[6, 6, 6],\n",
      "         [6, 6, 6],\n",
      "         [6, 6, 6]]],\n",
      "\n",
      "\n",
      "       [[[4, 4, 4],\n",
      "         [4, 4, 4],\n",
      "         [4, 4, 4]],\n",
      "\n",
      "        [[5, 5, 5],\n",
      "         [5, 5, 5],\n",
      "         [5, 5, 5]],\n",
      "\n",
      "        [[6, 6, 6],\n",
      "         [6, 6, 6],\n",
      "         [6, 6, 6]]],\n",
      "\n",
      "\n",
      "       [[[4, 4, 4],\n",
      "         [4, 4, 4],\n",
      "         [4, 4, 4]],\n",
      "\n",
      "        [[5, 5, 5],\n",
      "         [5, 5, 5],\n",
      "         [5, 5, 5]],\n",
      "\n",
      "        [[6, 6, 6],\n",
      "         [6, 6, 6],\n",
      "         [6, 6, 6]]]]), array([[[[7, 7, 7],\n",
      "         [8, 8, 8],\n",
      "         [9, 9, 9]],\n",
      "\n",
      "        [[7, 7, 7],\n",
      "         [8, 8, 8],\n",
      "         [9, 9, 9]],\n",
      "\n",
      "        [[7, 7, 7],\n",
      "         [8, 8, 8],\n",
      "         [9, 9, 9]]],\n",
      "\n",
      "\n",
      "       [[[7, 7, 7],\n",
      "         [8, 8, 8],\n",
      "         [9, 9, 9]],\n",
      "\n",
      "        [[7, 7, 7],\n",
      "         [8, 8, 8],\n",
      "         [9, 9, 9]],\n",
      "\n",
      "        [[7, 7, 7],\n",
      "         [8, 8, 8],\n",
      "         [9, 9, 9]]],\n",
      "\n",
      "\n",
      "       [[[7, 7, 7],\n",
      "         [8, 8, 8],\n",
      "         [9, 9, 9]],\n",
      "\n",
      "        [[7, 7, 7],\n",
      "         [8, 8, 8],\n",
      "         [9, 9, 9]],\n",
      "\n",
      "        [[7, 7, 7],\n",
      "         [8, 8, 8],\n",
      "         [9, 9, 9]]]]), array([[[[10, 11, 12],\n",
      "         [10, 11, 12],\n",
      "         [10, 11, 12]],\n",
      "\n",
      "        [[10, 11, 12],\n",
      "         [10, 11, 12],\n",
      "         [10, 11, 12]],\n",
      "\n",
      "        [[10, 11, 12],\n",
      "         [10, 11, 12],\n",
      "         [10, 11, 12]]],\n",
      "\n",
      "\n",
      "       [[[10, 11, 12],\n",
      "         [10, 11, 12],\n",
      "         [10, 11, 12]],\n",
      "\n",
      "        [[10, 11, 12],\n",
      "         [10, 11, 12],\n",
      "         [10, 11, 12]],\n",
      "\n",
      "        [[10, 11, 12],\n",
      "         [10, 11, 12],\n",
      "         [10, 11, 12]]],\n",
      "\n",
      "\n",
      "       [[[10, 11, 12],\n",
      "         [10, 11, 12],\n",
      "         [10, 11, 12]],\n",
      "\n",
      "        [[10, 11, 12],\n",
      "         [10, 11, 12],\n",
      "         [10, 11, 12]],\n",
      "\n",
      "        [[10, 11, 12],\n",
      "         [10, 11, 12],\n",
      "         [10, 11, 12]]]])]\n"
     ]
    }
   ],
   "source": [
    "error = np.arange(stop=9)\n",
    "\n",
    "x = np.array([1,2,3,4,5,6,7,8,9,10,11,12])\n",
    "\n",
    "x = np.array_split(x, range(3, len(x), 3))\n",
    "\n",
    "\n",
    "delta =  np.meshgrid(*x, indexing=\"ij\")\n",
    "print(delta)\n"
   ]
  },
  {
   "cell_type": "code",
   "execution_count": 30,
   "metadata": {},
   "outputs": [
    {
     "name": "stdout",
     "output_type": "stream",
     "text": [
      "[array([27, 54, 81]), array([108, 135, 162]), array([189, 216, 243]), array([270, 297, 324])]\n"
     ]
    }
   ],
   "source": [
    "deltas = []\n",
    "x = delta[0]\n",
    "x = np.sum(x, axis=3)\n",
    "x = np.sum(x, axis=1)\n",
    "x = np.sum(x, axis=1)\n",
    "deltas.append(x)\n",
    "\n",
    "x = delta[1]\n",
    "x = np.sum(x, axis=0)\n",
    "x = np.sum(x, axis=1)\n",
    "x = np.sum(x, axis=1)\n",
    "deltas.append(x)\n",
    "\n",
    "x = delta[2]\n",
    "x = np.sum(x, axis=0) # or 1\n",
    "x = np.sum(x, axis=2)\n",
    "x = np.sum(x, axis=0)\n",
    "deltas.append(x)\n",
    "\n",
    "x = delta[3]\n",
    "x = np.sum(x, axis=1) # or 2\n",
    "x = np.sum(x, axis=0)\n",
    "x = np.sum(x, axis=0)\n",
    "deltas.append(x)\n",
    "print(deltas)"
   ]
  },
  {
   "cell_type": "code",
   "execution_count": 31,
   "metadata": {},
   "outputs": [
    {
     "data": {
      "text/plain": [
       "array([ 27,  54,  81, 108, 135, 162, 189, 216, 243, 270, 297, 324])"
      ]
     },
     "execution_count": 31,
     "metadata": {},
     "output_type": "execute_result"
    }
   ],
   "source": [
    "deltas = np.array(deltas)\n",
    "deltas = deltas.ravel()\n",
    "deltas"
   ]
  },
  {
   "cell_type": "code",
   "execution_count": 32,
   "metadata": {},
   "outputs": [
    {
     "name": "stdout",
     "output_type": "stream",
     "text": [
      "[array([[[1, 1, 1],\n",
      "        [1, 1, 1],\n",
      "        [1, 1, 1]],\n",
      "\n",
      "       [[2, 2, 2],\n",
      "        [2, 2, 2],\n",
      "        [2, 2, 2]],\n",
      "\n",
      "       [[3, 3, 3],\n",
      "        [3, 3, 3],\n",
      "        [3, 3, 3]]]), array([[[4, 4, 4],\n",
      "        [5, 5, 5],\n",
      "        [6, 6, 6]],\n",
      "\n",
      "       [[4, 4, 4],\n",
      "        [5, 5, 5],\n",
      "        [6, 6, 6]],\n",
      "\n",
      "       [[4, 4, 4],\n",
      "        [5, 5, 5],\n",
      "        [6, 6, 6]]]), array([[[7, 8, 9],\n",
      "        [7, 8, 9],\n",
      "        [7, 8, 9]],\n",
      "\n",
      "       [[7, 8, 9],\n",
      "        [7, 8, 9],\n",
      "        [7, 8, 9]],\n",
      "\n",
      "       [[7, 8, 9],\n",
      "        [7, 8, 9],\n",
      "        [7, 8, 9]]])]\n"
     ]
    }
   ],
   "source": [
    "error = np.arange(stop=9)\n",
    "\n",
    "x = np.array([1,2,3,4,5,6,7,8,9])\n",
    "\n",
    "x = np.array_split(x, range(3, len(x), 3))\n",
    "\n",
    "\n",
    "delta =  np.meshgrid(*x, indexing=\"ij\")\n",
    "print(delta)\n"
   ]
  },
  {
   "cell_type": "code",
   "execution_count": 33,
   "metadata": {},
   "outputs": [
    {
     "data": {
      "text/plain": [
       "array([ 9, 18, 27])"
      ]
     },
     "execution_count": 33,
     "metadata": {},
     "output_type": "execute_result"
    }
   ],
   "source": [
    "x = delta[0]\n",
    "x = np.sum(x, axis=(1,2))\n",
    "\n",
    "\n",
    "#x = np.sum(x, axis=1)\n",
    "x"
   ]
  },
  {
   "cell_type": "code",
   "execution_count": 34,
   "metadata": {},
   "outputs": [
    {
     "data": {
      "text/plain": [
       "array([36, 45, 54])"
      ]
     },
     "execution_count": 34,
     "metadata": {},
     "output_type": "execute_result"
    }
   ],
   "source": [
    "x = delta[1]\n",
    "x = np.sum(x, axis=0)\n",
    "x = np.sum(x, axis=1)\n",
    "x"
   ]
  },
  {
   "cell_type": "code",
   "execution_count": 35,
   "metadata": {},
   "outputs": [
    {
     "data": {
      "text/plain": [
       "array([63, 72, 81])"
      ]
     },
     "execution_count": 35,
     "metadata": {},
     "output_type": "execute_result"
    }
   ],
   "source": [
    "x = delta[2]\n",
    "x = np.sum(x, axis=1)\n",
    "x = np.sum(x, axis=0)\n",
    "x"
   ]
  },
  {
   "cell_type": "code",
   "execution_count": 36,
   "metadata": {},
   "outputs": [
    {
     "name": "stdout",
     "output_type": "stream",
     "text": [
      "out [array([[1, 2, 3]]), array([[4],\n",
      "       [5],\n",
      "       [6]])]\n",
      "[[4 5 6]\n",
      " [4 5 6]\n",
      " [4 5 6]]\n",
      "[array([4, 5, 6]), array([4, 5, 6])]\n"
     ]
    }
   ],
   "source": [
    "x = np.array([1,2,3,4,5,6])\n",
    "x.setflags(write=1) # not needed \n",
    "x = np.array_split(x, range(3, len(x), 3))\n",
    "\n",
    "xi = x\n",
    "ndim = len(xi)\n",
    "\n",
    "\n",
    "\n",
    "s0 = (1,) * ndim\n",
    "output = [np.asanyarray(x).reshape(s0[:i] + (-1,) + s0[i + 1:])\n",
    "            for i, x in enumerate(xi)]\n",
    "\n",
    "if ndim > 1:\n",
    "    # switch first and second axis\n",
    "    output[0].shape = (1, -1) + s0[2:]\n",
    "    output[1].shape = (-1, 1) + s0[2:]\n",
    "\n",
    "\n",
    "# Return the full N-D matrix (not only the 1-D vector)\n",
    "print(\"out\", output)\n",
    "output = np.broadcast_arrays(*output, subok=True)\n",
    "\n",
    "output = output[0]\n",
    "output.setflags(write=1) # needed \n",
    "output += 3\n",
    "#output = output * 3\n",
    "print(output)\n",
    "print(x)"
   ]
  },
  {
   "cell_type": "code",
   "execution_count": 37,
   "metadata": {},
   "outputs": [
    {
     "name": "stdout",
     "output_type": "stream",
     "text": [
      "[ 5 10 15  4  5  6]\n",
      "[ 5 10 15]\n"
     ]
    }
   ],
   "source": [
    "# params to tune\n",
    "param = np.array([1,2,3,4,5,6])\n",
    "\n",
    "param_split = np.array_split(param, range(3, len(param), 3)) # does return adress \n",
    "\n",
    "#param_gridded = [p*5 for p in param_gridded] # does not change param\n",
    "param_split = param_split[0]\n",
    "param_split *= 5 # changes param\n",
    "\n",
    "\n",
    "print(param)\n",
    "print(param_split)"
   ]
  },
  {
   "cell_type": "code",
   "execution_count": 38,
   "metadata": {},
   "outputs": [
    {
     "name": "stdout",
     "output_type": "stream",
     "text": [
      "[ 5 10 15  4  5  6]\n",
      "[array([ 5, 10, 15]), array([4, 5, 6])]\n",
      "[[ 5  5  5]\n",
      " [10 10 10]\n",
      " [15 15 15]]\n"
     ]
    }
   ],
   "source": [
    "# params to tune\n",
    "param = np.array([1,2,3,4,5,6])\n",
    "\n",
    "param_split = np.array_split(param, range(3, len(param), 3)) # does return adress \n",
    "\n",
    "param_gridded = np.meshgrid(*param_split, indexing=\"ij\", copy=False) # If False, a view into the original arrays are returned in order to conserve memory.  Default is True.\n",
    "param_gridded = param_gridded[0]\n",
    "param_gridded.setflags(write=1) # needed \n",
    "param_gridded *= 5 # changes param\n",
    "\n",
    "\n",
    "print(param)\n",
    "print(param_split)\n",
    "print(param_gridded)"
   ]
  },
  {
   "cell_type": "code",
   "execution_count": 39,
   "metadata": {},
   "outputs": [
    {
     "name": "stdout",
     "output_type": "stream",
     "text": [
      "[1 2 3 4 5 6]\n",
      "[array([1, 2, 3]), array([4, 5, 6])]\n",
      "[array([[1, 1, 1],\n",
      "       [2, 2, 2],\n",
      "       [3, 3, 3]]), array([[4, 5, 6],\n",
      "       [4, 5, 6],\n",
      "       [4, 5, 6]])]\n"
     ]
    }
   ],
   "source": [
    "param = np.array([1,2,3,4,5,6])\n",
    "\n",
    "param_split = np.array_split(param, range(3, len(param), 3)) # does return adress \n",
    "\n",
    "param_gridded = np.meshgrid(*param_split, indexing=\"ij\", copy=False) # If False, a view into the original arrays are returned in order to conserve memory.  Default is True.\n",
    "\n",
    "\n",
    "print(param)\n",
    "print(param_split)\n",
    "print(param_gridded)"
   ]
  },
  {
   "cell_type": "code",
   "execution_count": 40,
   "metadata": {},
   "outputs": [
    {
     "name": "stdout",
     "output_type": "stream",
     "text": [
      "[ 5 10 15 20 25 30]\n",
      "[array([ 5, 10, 15]), array([20, 25, 30])]\n",
      "[array([[ 5,  5,  5],\n",
      "       [10, 10, 10],\n",
      "       [15, 15, 15]]), array([[20, 25, 30],\n",
      "       [20, 25, 30],\n",
      "       [20, 25, 30]])]\n"
     ]
    }
   ],
   "source": [
    "# params to tune\n",
    "param = np.array([1,2,3,4,5,6])\n",
    "\n",
    "param_split = np.array_split(param, range(3, len(param), 3)) # does return adress \n",
    "\n",
    "param_gridded = np.meshgrid(*param_split, indexing=\"ij\", copy=False) # If False, a view into the original arrays are returned in order to conserve memory.  Default is True.\n",
    "\n",
    "for p in param_gridded:\n",
    "   # param_gridded = param_gridded[0]\n",
    "    p.setflags(write=1) # needed \n",
    "    p *= 5 # changes param\n",
    " \n",
    "\n",
    "print(param)\n",
    "print(param_split)\n",
    "print(param_gridded)"
   ]
  },
  {
   "cell_type": "code",
   "execution_count": 41,
   "metadata": {},
   "outputs": [],
   "source": [
    "\n",
    "\n",
    "def _broadcast_to(array, shape, subok, readonly):\n",
    "    print(\"arr\", array)\n",
    "    print(\"shape\", shape)\n",
    "    shape = tuple(shape) if np.iterable(shape) else (shape,)\n",
    "    array = np.array(array, copy=False, subok=subok)\n",
    "    if not shape and array.shape:\n",
    "        raise ValueError('cannot broadcast a non-scalar to a scalar array')\n",
    "    if any(size < 0 for size in shape):\n",
    "        raise ValueError('all elements of broadcast shape must be non-'\n",
    "                         'negative')\n",
    "    extras = []\n",
    "    it = np.nditer(\n",
    "        (array,), flags=['multi_index', 'refs_ok', 'zerosize_ok'] + extras,\n",
    "        op_flags=['readonly'], itershape=shape, order='C')\n",
    "    print(\"it views\", it.itviews)\n",
    "\n",
    "    with it:\n",
    "        # never really has writebackifcopy semantics\n",
    "        broadcast = it.itviews[0]\n",
    "        print(\"it views\", it.itviews)\n",
    "        print(\"broad\", broadcast)\n",
    "   # result = _maybe_view_as_subclass(array, broadcast)\n",
    "    # In a future version this will go away\n",
    "   # if not readonly and array.flags._writeable_no_warn:\n",
    "        \n",
    "\n",
    "\n",
    "    \n",
    "    broadcast.flags.writeable = True\n",
    "    broadcast = broadcast.reshape(-1, 1)\n",
    "   # broadcast.flags._warn_on_write = True\n",
    "    return broadcast\n",
    "\n",
    "\n",
    "def _maybe_view_as_subclass(original_array, new_array):\n",
    "    if type(original_array) is not type(new_array):\n",
    "        # if input was an ndarray subclass and subclasses were OK,\n",
    "        # then view the result as that subclass.\n",
    "        new_array = new_array.view(type=type(original_array))\n",
    "        # Since we have done something akin to a view from original_array, we\n",
    "        # should let the subclass finalize (if it has it implemented, i.e., is\n",
    "        # not None).\n",
    "        if new_array.__array_finalize__:\n",
    "            new_array.__array_finalize__(original_array)\n",
    "    return new_array\n",
    "\n",
    "\n",
    "def broadcast_to(array, shape, subok=False):\n",
    "    \"\"\"Broadcast an array to a new shape.\n",
    "\n",
    "    Parameters\n",
    "    ----------\n",
    "    array : array_like\n",
    "        The array to broadcast.\n",
    "    shape : tuple or int\n",
    "        The shape of the desired array. A single integer ``i`` is interpreted\n",
    "        as ``(i,)``.\n",
    "    subok : bool, optional\n",
    "        If True, then sub-classes will be passed-through, otherwise\n",
    "        the returned array will be forced to be a base-class array (default).\n",
    "\n",
    "    Returns\n",
    "    -------\n",
    "    broadcast : array\n",
    "        A readonly view on the original array with the given shape. It is\n",
    "        typically not contiguous. Furthermore, more than one element of a\n",
    "        broadcasted array may refer to a single memory location.\n",
    "\n",
    "    Raises\n",
    "    ------\n",
    "    ValueError\n",
    "        If the array is not compatible with the new shape according to NumPy's\n",
    "        broadcasting rules.\n",
    "\n",
    "    See Also\n",
    "    --------\n",
    "    broadcast\n",
    "    broadcast_arrays\n",
    "    broadcast_shapes\n",
    "\n",
    "    Notes\n",
    "    -----\n",
    "    .. versionadded:: 1.10.0\n",
    "\n",
    "    Examples\n",
    "    --------\n",
    "    >>> x = np.array([1, 2, 3])\n",
    "    >>> np.broadcast_to(x, (3, 3))\n",
    "    array([[1, 2, 3],\n",
    "           [1, 2, 3],\n",
    "           [1, 2, 3]])\n",
    "    \"\"\"\n",
    "    return _broadcast_to(array, shape, subok=subok, readonly=False)\n",
    "\n",
    "def _broadcast_shape(*args):\n",
    "    \"\"\"Returns the shape of the arrays that would result from broadcasting the\n",
    "    supplied arrays against each other.\n",
    "    \"\"\"\n",
    "    # use the old-iterator because np.nditer does not handle size 0 arrays\n",
    "    # consistently\n",
    "    b = np.broadcast(*args[:32])\n",
    "    # unfortunately, it cannot handle 32 or more arguments directly\n",
    "    for pos in range(32, len(args), 31):\n",
    "        # ironically, np.broadcast does not properly handle np.broadcast\n",
    "        # objects (it treats them as scalars)\n",
    "        # use broadcasting to avoid allocating the full array\n",
    "        b = broadcast_to(0, b.shape)\n",
    "        b = np.broadcast(b, *args[pos:(pos + 31)])\n",
    "    return b.shape\n",
    "\n",
    "\n",
    "\n",
    "def broadcast_arrays(*args, subok=True):\n",
    "    args = [np.array(_m, copy=False, subok=subok) for _m in args]\n",
    "    temp = args\n",
    "    #temp *= 5 \n",
    "    print(args)\n",
    "    shape = _broadcast_shape(*args)\n",
    "\n",
    "    if all(array.shape == shape for array in args):\n",
    "        # Common case where nothing needs to be broadcasted.\n",
    "        return args\n",
    "\n",
    "    return [_broadcast_to(array, shape, subok=subok, readonly=False) # changed\n",
    "            for array in args]\n"
   ]
  },
  {
   "cell_type": "code",
   "execution_count": 42,
   "metadata": {},
   "outputs": [],
   "source": [
    "\n",
    "\n",
    "\n",
    "\n",
    "\n",
    "def meshgrid_custom(*xi,  indexing='ij',copy=False):\n",
    "    \"\"\"\n",
    "    https://github.com/numpy/numpy/blob/v1.26.0/numpy/lib/function_base.py#L5010-L5165\n",
    "    \"\"\"\n",
    "    ndim = len(xi)\n",
    "\n",
    "\n",
    "    s0 = (1,) * ndim\n",
    "    output = [np.asanyarray(x).reshape(s0[:i] + (-1,) + s0[i + 1:])\n",
    "              for i, x in enumerate(xi)]\n",
    "   # output1 = [np.asanyarray(x).reshape(s0[:i] + (-1,) + s0[i + 1:])\n",
    "   #           for i, x in enumerate(xi)]\n",
    "   # output2 = [np.asanyarray(x).reshape(s0[:i] + (-1,) + s0[i + 1:])\n",
    "   #           for i, x in enumerate(xi)]\n",
    "\n",
    "    \n",
    "    # Return the full N-D matrix (not only the 1-D vector)\n",
    "  #  output = broadcast_arrays(*output, subok=True)\n",
    "    \n",
    "    args = [np.array(_m, copy=False, subok=True) for _m in output]\n",
    "    shape = _broadcast_shape(*args)\n",
    "\n",
    "   # out = [_broadcast_to(array, shape, subok=True, readonly=False) # changed\n",
    "     #       for array in args]\n",
    "    \n",
    "    out = []\n",
    "    for array in args:\n",
    "        \n",
    "        shape = tuple(shape) if np.iterable(shape) else (shape,)\n",
    "        array = np.array(array, copy=False, subok=True)\n",
    "        extras = []\n",
    "        it = np.nditer(\n",
    "            (array,), flags=['multi_index', 'refs_ok', 'zerosize_ok'] + extras,\n",
    "            op_flags=['readonly'], itershape=shape, order='C')\n",
    "        print(\"it views\", it.itviews)\n",
    "\n",
    "        with it:\n",
    "            # never really has writebackifcopy semantics\n",
    "            broadcast = it.itviews[0]\n",
    "            print(\"it views\", it.itviews)\n",
    "            print(\"broad\", broadcast)\n",
    "    \n",
    "        broadcast.flags.writeable = True\n",
    "       # broadcast = broadcast.reshape(-1, 1)\n",
    "   # broadcast.flags._warn_on_write = True\n",
    "        out.append(broadcast)\n",
    "\n",
    "\n",
    "\n",
    "\n",
    "          \n",
    "    print(\"Output\", out)\n",
    "    \n",
    "    \n",
    "  #  a1  = np.array(output[0], copy=False)    \n",
    "   # a2 = np.array(output[0], copy=False)    \n",
    " #   output[0]  = np.concatenate((output[0], output1[0], output2[0]), axis=1)\n",
    "\n",
    "\n",
    "   # a3  = np.array(output[1], copy=False)    \n",
    "  #  a4 = np.array(output[1], copy=False)    \n",
    "  #  output[1]  = np.concatenate((output[1], output1[1], output2[1]), axis=0)\n",
    "    return out\n",
    "\n",
    "\n",
    "\n",
    "\n"
   ]
  },
  {
   "cell_type": "code",
   "execution_count": 43,
   "metadata": {},
   "outputs": [],
   "source": [
    "\n",
    "\n",
    "\n",
    "def meshgrid_sum_reverse(*xi,  indexing='ij',copy=False):\n",
    "    \"\"\"\n",
    "    https://github.com/numpy/numpy/blob/v1.26.0/numpy/lib/function_base.py#L5010-L5165\n",
    "    \"\"\"\n",
    "\n",
    "    \n",
    "    args = [np.array(_m, copy=False, subok=True) for _m in xi]\n",
    "    print(\"args\", args)\n",
    "    shape = _broadcast_shape(*args)\n",
    "    out = []\n",
    "    for array in args:\n",
    "        \n",
    "        shape = tuple(shape) if np.iterable(shape) else (shape,)\n",
    "        array = np.array(array, copy=False, subok=True)\n",
    "        extras = []\n",
    "        it = np.nditer(\n",
    "            (array,), flags=['multi_index', 'refs_ok', 'zerosize_ok'] + extras,\n",
    "            op_flags=['readonly'], itershape=shape, order='C')\n",
    "        print(\"it views\", it.itviews)\n",
    "\n",
    "        with it:\n",
    "            # never really has writebackifcopy semantics\n",
    "            broadcast = it.itviews[0]\n",
    "            print(\"it views\", it.itviews)\n",
    "            print(\"broad\", broadcast)\n",
    "    \n",
    "        broadcast.flags.writeable = True\n",
    "       # broadcast = broadcast.reshape(-1, 1)\n",
    "   # broadcast.flags._warn_on_write = True\n",
    "        out.append(broadcast)\n",
    "\n",
    "    ndim = len(xi)\n",
    "    s0 = (1,) * ndim\n",
    "    print(\"HUH\", s0)\n",
    "    print(\"WHAT\", s0[:i] + (-1,) + s0[i + 1:])\n",
    "    output = [np.asanyarray(x).sum(s0[:i] + (-1,) + s0[i + 1:])\n",
    "              for i, x in enumerate(out)]\n",
    "    \n",
    "    print(\"oUT\", output)\n",
    "\n",
    "    return output"
   ]
  },
  {
   "cell_type": "code",
   "execution_count": 44,
   "metadata": {},
   "outputs": [
    {
     "name": "stdout",
     "output_type": "stream",
     "text": [
      "[1 2 3 4 5 6]\n",
      "it views (array([[1, 1, 1],\n",
      "       [2, 2, 2],\n",
      "       [3, 3, 3]]),)\n",
      "it views (array([[1, 1, 1],\n",
      "       [2, 2, 2],\n",
      "       [3, 3, 3]]),)\n",
      "broad [[1 1 1]\n",
      " [2 2 2]\n",
      " [3 3 3]]\n",
      "it views (array([[4, 5, 6],\n",
      "       [4, 5, 6],\n",
      "       [4, 5, 6]]),)\n",
      "it views (array([[4, 5, 6],\n",
      "       [4, 5, 6],\n",
      "       [4, 5, 6]]),)\n",
      "broad [[4 5 6]\n",
      " [4 5 6]\n",
      " [4 5 6]]\n",
      "Output [array([[1, 1, 1],\n",
      "       [2, 2, 2],\n",
      "       [3, 3, 3]]), array([[4, 5, 6],\n",
      "       [4, 5, 6],\n",
      "       [4, 5, 6]])]\n",
      "here [array([[1, 1, 1],\n",
      "       [2, 2, 2],\n",
      "       [3, 3, 3]]), array([[4, 5, 6],\n",
      "       [4, 5, 6],\n",
      "       [4, 5, 6]])]\n",
      "args [array([[[1, 1, 1],\n",
      "        [2, 2, 2],\n",
      "        [3, 3, 3]],\n",
      "\n",
      "       [[4, 5, 6],\n",
      "        [4, 5, 6],\n",
      "        [4, 5, 6]]])]\n",
      "it views (array([[[1, 1, 1],\n",
      "        [2, 2, 2],\n",
      "        [3, 3, 3]],\n",
      "\n",
      "       [[4, 5, 6],\n",
      "        [4, 5, 6],\n",
      "        [4, 5, 6]]]),)\n",
      "it views (array([[[1, 1, 1],\n",
      "        [2, 2, 2],\n",
      "        [3, 3, 3]],\n",
      "\n",
      "       [[4, 5, 6],\n",
      "        [4, 5, 6],\n",
      "        [4, 5, 6]]]),)\n",
      "broad [[[1 1 1]\n",
      "  [2 2 2]\n",
      "  [3 3 3]]\n",
      "\n",
      " [[4 5 6]\n",
      "  [4 5 6]\n",
      "  [4 5 6]]]\n",
      "HUH (1,)\n",
      "WHAT (1, -1)\n",
      "oUT [array([[ 3,  6,  9],\n",
      "       [15, 15, 15]])]\n"
     ]
    },
    {
     "data": {
      "text/plain": [
       "[array([[ 3,  6,  9],\n",
       "        [15, 15, 15]])]"
      ]
     },
     "execution_count": 44,
     "metadata": {},
     "output_type": "execute_result"
    }
   ],
   "source": [
    "\n",
    "# params to tune\n",
    "param = np.array([1,2,3,4,5,6])\n",
    "print(param)\n",
    "\n",
    "param_split = np.array_split(param, range(3, len(param), 3)) # does return adress \n",
    "\n",
    "param_gridded = meshgrid_custom(*param_split, indexing='ij', copy=False) # If False, a view into the original arrays are returned in order to conserve memory.  Default is True.\n",
    "print(\"here\",param_gridded)\n",
    "\n",
    "\n",
    "res = meshgrid_sum_reverse(param_gridded)\n",
    "res"
   ]
  },
  {
   "cell_type": "code",
   "execution_count": 45,
   "metadata": {},
   "outputs": [
    {
     "name": "stdout",
     "output_type": "stream",
     "text": [
      "[1 2 3 4 5 6]\n",
      "it views (array([[1, 1, 1],\n",
      "       [2, 2, 2],\n",
      "       [3, 3, 3]]),)\n",
      "it views (array([[1, 1, 1],\n",
      "       [2, 2, 2],\n",
      "       [3, 3, 3]]),)\n",
      "broad [[1 1 1]\n",
      " [2 2 2]\n",
      " [3 3 3]]\n",
      "it views (array([[4, 5, 6],\n",
      "       [4, 5, 6],\n",
      "       [4, 5, 6]]),)\n",
      "it views (array([[4, 5, 6],\n",
      "       [4, 5, 6],\n",
      "       [4, 5, 6]]),)\n",
      "broad [[4 5 6]\n",
      " [4 5 6]\n",
      " [4 5 6]]\n",
      "Output [array([[1, 1, 1],\n",
      "       [2, 2, 2],\n",
      "       [3, 3, 3]]), array([[4, 5, 6],\n",
      "       [4, 5, 6],\n",
      "       [4, 5, 6]])]\n",
      "here [array([[1, 1, 1],\n",
      "       [2, 2, 2],\n",
      "       [3, 3, 3]]), array([[4, 5, 6],\n",
      "       [4, 5, 6],\n",
      "       [4, 5, 6]])]\n",
      "_p [[1 1 1]\n",
      " [2 2 2]\n",
      " [3 3 3]]\n",
      "__d [[1 2 3]\n",
      " [4 5 6]\n",
      " [7 8 9]]\n",
      "p beyond [[ 4  4  4]\n",
      " [ 8  8  8]\n",
      " [12 12 12]]\n",
      "_p [[4 5 6]\n",
      " [4 5 6]\n",
      " [4 5 6]]\n",
      "__d [[10 11 12]\n",
      " [13 14 15]\n",
      " [16 17 18]]\n",
      "p beyond [[20 22 24]\n",
      " [20 22 24]\n",
      " [20 22 24]]\n",
      "after.........\n",
      "[ 4  8 12 20 22 24]\n",
      "[array([ 4,  8, 12]), array([20, 22, 24])]\n",
      "[array([[ 4,  4,  4],\n",
      "       [ 8,  8,  8],\n",
      "       [12, 12, 12]]), array([[20, 22, 24],\n",
      "       [20, 22, 24],\n",
      "       [20, 22, 24]])]\n"
     ]
    }
   ],
   "source": [
    "# params to tune\n",
    "param = np.array([1,2,3,4,5,6])\n",
    "print(param)\n",
    "\n",
    "param_split = np.array_split(param, range(3, len(param), 3)) # does return adress \n",
    "\n",
    "param_gridded = meshgrid_custom(*param_split, indexing='ij', copy=False) # If False, a view into the original arrays are returned in order to conserve memory.  Default is True.\n",
    "print(\"here\",param_gridded)\n",
    "\n",
    "delta = [np.array([[1, 2, 3],\n",
    "       [4, 5, 6],\n",
    "       [7, 8, 9]]), np.array([[ 10, 11, 12],\n",
    "       [ 13, 14, 15],\n",
    "       [ 16, 17, 18]])]\n",
    "\n",
    "#delta = [np.array(d).reshape(-1, 1) for d in delta]\n",
    "\n",
    "for p, d in zip(param_gridded,delta):\n",
    "   # param_gridded = param_gridded[0]\n",
    "   # for _p, _d in zip(p,d):\n",
    "              #temp = []\n",
    "             # for __p, __d in zip(_p,_d):\n",
    "       p.setflags(write=1) # needed \n",
    "       print(\"_p\", p)\n",
    "       print(\"__d\",d)\n",
    "       p += d # changes param\n",
    "       print(\"p beyond\", p)\n",
    "                     \n",
    " \n",
    "\n",
    "print(\"after.........\")\n",
    "print(param)\n",
    "print(param_split)\n",
    "print(param_gridded)"
   ]
  },
  {
   "cell_type": "code",
   "execution_count": null,
   "metadata": {},
   "outputs": [],
   "source": []
  },
  {
   "cell_type": "code",
   "execution_count": null,
   "metadata": {},
   "outputs": [],
   "source": []
  },
  {
   "cell_type": "code",
   "execution_count": 60,
   "metadata": {},
   "outputs": [
    {
     "data": {
      "text/plain": [
       "array([[ 28,  35,  42],\n",
       "       [ 64,  80,  96],\n",
       "       [108, 135, 162]])"
      ]
     },
     "execution_count": 60,
     "metadata": {},
     "output_type": "execute_result"
    }
   ],
   "source": [
    "\n",
    "x = np.array([1,2,3,4,5,6,7,8,9])\n",
    "\n",
    "mid = np.array_split(x, range(3, len(x), 3)) # does not return adress \n",
    "mid[0] = mid[0].reshape(-1, 1)\n",
    "hm = mid[0] * mid[1] * mid[2].reshape(-1, 1)\n",
    "hm"
   ]
  },
  {
   "cell_type": "code",
   "execution_count": 62,
   "metadata": {},
   "outputs": [
    {
     "data": {
      "text/plain": [
       "array([2, 3, 4, 5], dtype=int64)"
      ]
     },
     "execution_count": 62,
     "metadata": {},
     "output_type": "execute_result"
    }
   ],
   "source": [
    "x = np.array([1,2,3,4,5,6])\n",
    "n = 4\n",
    "best_indeces = np.argsort(x)[-n:] \n",
    "best_indeces"
   ]
  },
  {
   "cell_type": "code",
   "execution_count": 63,
   "metadata": {},
   "outputs": [
    {
     "name": "stdout",
     "output_type": "stream",
     "text": [
      "[array([[1, 1, 1],\n",
      "       [2, 2, 2],\n",
      "       [3, 3, 3]]), array([[4, 5, 6],\n",
      "       [4, 5, 6],\n",
      "       [4, 5, 6]])]\n",
      "[[ 4  5  6]\n",
      " [ 8 10 12]\n",
      " [12 15 18]]\n",
      "[1 2 3 4 5 6]\n"
     ]
    }
   ],
   "source": [
    "x = np.array([1,2,3,4,5,6])\n",
    "\n",
    "mid = np.array_split(x, range(3, len(x), 3)) # does not return adress \n",
    "mid =  np.meshgrid(*mid, indexing=\"ij\")\n",
    "\n",
    "# out = mid[0]\n",
    "# out.setflags(write=1) # needed \n",
    "# out += 3\n",
    "print(mid)\n",
    "mid = np.prod(mid,axis=0)\n",
    "\n",
    "print(mid)\n",
    "print(x)\n"
   ]
  },
  {
   "cell_type": "code",
   "execution_count": 64,
   "metadata": {},
   "outputs": [
    {
     "ename": "TypeError",
     "evalue": "arrays to stack must be passed as a \"sequence\" type such as list or tuple.",
     "output_type": "error",
     "traceback": [
      "\u001b[1;31m---------------------------------------------------------------------------\u001b[0m",
      "\u001b[1;31mTypeError\u001b[0m                                 Traceback (most recent call last)",
      "Cell \u001b[1;32mIn[64], line 6\u001b[0m\n\u001b[0;32m      3\u001b[0m mid \u001b[38;5;241m=\u001b[39m np\u001b[38;5;241m.\u001b[39marray_split(x, \u001b[38;5;28mrange\u001b[39m(\u001b[38;5;241m3\u001b[39m, \u001b[38;5;28mlen\u001b[39m(x), \u001b[38;5;241m3\u001b[39m)) \u001b[38;5;66;03m# does not return adress \u001b[39;00m\n\u001b[0;32m      4\u001b[0m mid \u001b[38;5;241m=\u001b[39m  np\u001b[38;5;241m.\u001b[39mmeshgrid(\u001b[38;5;241m*\u001b[39mmid, indexing\u001b[38;5;241m=\u001b[39m\u001b[38;5;124m\"\u001b[39m\u001b[38;5;124mij\u001b[39m\u001b[38;5;124m\"\u001b[39m)\n\u001b[1;32m----> 6\u001b[0m positions \u001b[38;5;241m=\u001b[39m \u001b[43mnp\u001b[49m\u001b[38;5;241;43m.\u001b[39;49m\u001b[43mvstack\u001b[49m\u001b[43m(\u001b[49m\u001b[38;5;28;43mmap\u001b[39;49m\u001b[43m(\u001b[49m\u001b[43mnp\u001b[49m\u001b[38;5;241;43m.\u001b[39;49m\u001b[43mravel\u001b[49m\u001b[43m,\u001b[49m\u001b[43m \u001b[49m\u001b[43mmid\u001b[49m\u001b[43m)\u001b[49m\u001b[43m)\u001b[49m\n\u001b[0;32m      7\u001b[0m positions\n",
      "File \u001b[1;32mc:\\Users\\julia\\anaconda3\\envs\\neurofuzzy\\lib\\site-packages\\numpy\\core\\shape_base.py:216\u001b[0m, in \u001b[0;36m_vhstack_dispatcher\u001b[1;34m(tup, dtype, casting)\u001b[0m\n\u001b[0;32m    215\u001b[0m \u001b[38;5;28;01mdef\u001b[39;00m \u001b[38;5;21m_vhstack_dispatcher\u001b[39m(tup, \u001b[38;5;241m*\u001b[39m, dtype\u001b[38;5;241m=\u001b[39m\u001b[38;5;28;01mNone\u001b[39;00m, casting\u001b[38;5;241m=\u001b[39m\u001b[38;5;28;01mNone\u001b[39;00m):\n\u001b[1;32m--> 216\u001b[0m     \u001b[38;5;28;01mreturn\u001b[39;00m \u001b[43m_arrays_for_stack_dispatcher\u001b[49m\u001b[43m(\u001b[49m\u001b[43mtup\u001b[49m\u001b[43m)\u001b[49m\n",
      "File \u001b[1;32mc:\\Users\\julia\\anaconda3\\envs\\neurofuzzy\\lib\\site-packages\\numpy\\core\\shape_base.py:209\u001b[0m, in \u001b[0;36m_arrays_for_stack_dispatcher\u001b[1;34m(arrays)\u001b[0m\n\u001b[0;32m    207\u001b[0m \u001b[38;5;28;01mdef\u001b[39;00m \u001b[38;5;21m_arrays_for_stack_dispatcher\u001b[39m(arrays):\n\u001b[0;32m    208\u001b[0m     \u001b[38;5;28;01mif\u001b[39;00m \u001b[38;5;129;01mnot\u001b[39;00m \u001b[38;5;28mhasattr\u001b[39m(arrays, \u001b[38;5;124m\"\u001b[39m\u001b[38;5;124m__getitem__\u001b[39m\u001b[38;5;124m\"\u001b[39m):\n\u001b[1;32m--> 209\u001b[0m         \u001b[38;5;28;01mraise\u001b[39;00m \u001b[38;5;167;01mTypeError\u001b[39;00m(\u001b[38;5;124m'\u001b[39m\u001b[38;5;124marrays to stack must be passed as a \u001b[39m\u001b[38;5;124m\"\u001b[39m\u001b[38;5;124msequence\u001b[39m\u001b[38;5;124m\"\u001b[39m\u001b[38;5;124m type \u001b[39m\u001b[38;5;124m'\u001b[39m\n\u001b[0;32m    210\u001b[0m                         \u001b[38;5;124m'\u001b[39m\u001b[38;5;124msuch as list or tuple.\u001b[39m\u001b[38;5;124m'\u001b[39m)\n\u001b[0;32m    212\u001b[0m     \u001b[38;5;28;01mreturn\u001b[39;00m \u001b[38;5;28mtuple\u001b[39m(arrays)\n",
      "\u001b[1;31mTypeError\u001b[0m: arrays to stack must be passed as a \"sequence\" type such as list or tuple."
     ]
    }
   ],
   "source": [
    "x = np.array([1,2,3,4,5,6])\n",
    "\n",
    "mid = np.array_split(x, range(3, len(x), 3)) # does not return adress \n",
    "mid =  np.meshgrid(*mid, indexing=\"ij\")\n",
    "\n",
    "positions = np.vstack(map(np.ravel, mid))\n",
    "positions"
   ]
  },
  {
   "cell_type": "code",
   "execution_count": null,
   "metadata": {},
   "outputs": [
    {
     "name": "stdout",
     "output_type": "stream",
     "text": [
      "[[0.71659513 0.         0.75135812 0.        ]\n",
      " [0.         0.47190284 0.         0.65214701]\n",
      " [0.         0.47169245 0.         0.65205271]\n",
      " [0.71323643 0.         0.74836295 0.        ]\n",
      " [0.         0.46969102 0.         0.64954733]\n",
      " [0.         0.46948161 0.         0.6494534 ]\n",
      " [0.97967696 0.         0.88774161 0.        ]\n",
      " [0.64515139 0.         0.7705221  0.        ]\n",
      " [0.64486374 0.         0.77041068 0.        ]]\n"
     ]
    },
    {
     "data": {
      "text/plain": [
       "array([1.46795325, 1.12404985, 1.12374516, 1.46159938, 1.11923835,\n",
       "       1.11893501, 1.86741857, 1.41567349, 1.41527442])"
      ]
     },
     "execution_count": 52,
     "metadata": {},
     "output_type": "execute_result"
    }
   ],
   "source": [
    "one = np.array([[0.71659513, 0.        ],\n",
    "       [0.        , 0.47190284],\n",
    "       [0.        , 0.47169245],\n",
    "       [0.71323643, 0.        ],\n",
    "       [0.        , 0.46969102],\n",
    "       [0.        , 0.46948161],\n",
    "       [0.97967696, 0.        ],\n",
    "       [0.64515139, 0.        ],\n",
    "       [0.64486374, 0.        ]])\n",
    "\n",
    "two = np.array([[0.75135812, 0.        ],\n",
    "       [0.        , 0.65214701],\n",
    "       [0.        , 0.65205271],\n",
    "       [0.74836295, 0.        ],\n",
    "       [0.        , 0.64954733],\n",
    "       [0.        , 0.6494534 ],\n",
    "       [0.88774161, 0.        ],\n",
    "       [0.7705221 , 0.        ],\n",
    "       [0.77041068, 0.        ]])\n",
    "\n",
    "\n",
    "\n",
    "arr = [one,two]\n",
    "x = np.concatenate(arr, axis=1)\n",
    "print(x)\n",
    "\n",
    "res = np.sum(x, axis =1)\n",
    "res"
   ]
  },
  {
   "cell_type": "code",
   "execution_count": null,
   "metadata": {},
   "outputs": [],
   "source": []
  }
 ],
 "metadata": {
  "kernelspec": {
   "display_name": "base",
   "language": "python",
   "name": "python3"
  },
  "language_info": {
   "codemirror_mode": {
    "name": "ipython",
    "version": 3
   },
   "file_extension": ".py",
   "mimetype": "text/x-python",
   "name": "python",
   "nbconvert_exporter": "python",
   "pygments_lexer": "ipython3",
   "version": "3.10.13"
  }
 },
 "nbformat": 4,
 "nbformat_minor": 2
}
