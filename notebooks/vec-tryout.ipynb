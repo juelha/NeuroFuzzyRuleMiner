{
 "cells": [
  {
   "cell_type": "markdown",
   "metadata": {},
   "source": [
    "## Try-out notebook for playing around with vectorization"
   ]
  },
  {
   "cell_type": "code",
   "execution_count": 52,
   "metadata": {},
   "outputs": [],
   "source": [
    "import numpy as np"
   ]
  },
  {
   "cell_type": "markdown",
   "metadata": {},
   "source": [
    "#### How to stretch np arrays so row wise mult will be possible"
   ]
  },
  {
   "cell_type": "code",
   "execution_count": 53,
   "metadata": {},
   "outputs": [
    {
     "data": {
      "text/plain": [
       "array([1, 1, 1, 2, 2, 2])"
      ]
     },
     "execution_count": 53,
     "metadata": {},
     "output_type": "execute_result"
    }
   ],
   "source": [
    "x = np.array([1, 2])\n",
    "x = np.tile(x[:, np.newaxis], 3).ravel()\n",
    "x"
   ]
  },
  {
   "cell_type": "code",
   "execution_count": 54,
   "metadata": {},
   "outputs": [
    {
     "data": {
      "text/plain": [
       "array([1, 1, 1, 2, 2, 2])"
      ]
     },
     "execution_count": 54,
     "metadata": {},
     "output_type": "execute_result"
    }
   ],
   "source": [
    "x = np.array([1,2])\n",
    "x = np.repeat(x, 3)\n",
    "x"
   ]
  },
  {
   "cell_type": "markdown",
   "metadata": {},
   "source": [
    "### Fuzzification Layer"
   ]
  },
  {
   "cell_type": "code",
   "execution_count": 55,
   "metadata": {},
   "outputs": [
    {
     "data": {
      "text/plain": [
       "array([0, 1, 2, 0, 1, 2])"
      ]
     },
     "execution_count": 55,
     "metadata": {},
     "output_type": "execute_result"
    }
   ],
   "source": [
    "multiplicator = np.arange(3)\n",
    "multiplicator = np.tile(np.arange(3), 2)\n",
    "multiplicator"
   ]
  },
  {
   "cell_type": "code",
   "execution_count": 56,
   "metadata": {},
   "outputs": [
    {
     "name": "stdout",
     "output_type": "stream",
     "text": [
      "<class 'numpy.ndarray'>\n",
      "[2.  4.  6.  2.5 5.  7.5]\n",
      "<class 'numpy.ndarray'>\n"
     ]
    }
   ],
   "source": [
    "def center_init(x, n_mfs):\n",
    "    \"\"\"Initializes the centers of MFs by partitioning the domain of the features\n",
    "\n",
    "    Args:\n",
    "        x (numpy.ndarray): the max values for each feature, i.e. the domain\n",
    "        n_mfs (int): number of MFs in Fuzzification Layer\n",
    "        \n",
    "    Returns: \n",
    "        numpy.ndarray: initalized widths with the shape (x.size,)\n",
    "    \"\"\"\n",
    "    n_inputs = x.size // n_mfs\n",
    "    multiplicator = np.tile(np.arange(1, n_mfs + 1), n_inputs)\n",
    "    return (x / (n_mfs + 1)) * multiplicator\n",
    "\n",
    "x = np.array([8,10])\n",
    "x = np.repeat(x, 3)\n",
    "print(type(x))\n",
    "print(center_init(x, 3))\n",
    "print(type(center_init(x, 3))) # numpy.ndarray'"
   ]
  },
  {
   "cell_type": "code",
   "execution_count": 57,
   "metadata": {},
   "outputs": [
    {
     "name": "stdout",
     "output_type": "stream",
     "text": [
      "6\n",
      "[2.  2.  2.  2.5 2.5 2.5]\n",
      "(6,)\n"
     ]
    }
   ],
   "source": [
    "def widths_init(x, n_mfs):\n",
    "    \"\"\"Initializes the widths of MFs by partitioning the domain of the features\n",
    "\n",
    "    Args:\n",
    "        x (numpy.ndarray): the max values for each feature, i.e. the feature's domain\n",
    "        n_mfs (int): number of MFs in Fuzzification Layer\n",
    "\n",
    "    Returns: \n",
    "        numpy.ndarray: initalized widths with the shape (x.size,)\n",
    "    \"\"\"\n",
    "    return x/(n_mfs+1)\n",
    "\n",
    "x = np.array([8,10])\n",
    "x = np.repeat(x, 3)\n",
    "print(x.size)\n",
    "print(widths_init(x, 3))\n",
    "print(widths_init(x, 3).shape)"
   ]
  },
  {
   "cell_type": "code",
   "execution_count": 58,
   "metadata": {},
   "outputs": [],
   "source": [
    "def MF(x, center, width):\n",
    "    return np.exp(-0.5*(((x-center)/width)**2))\n",
    "    "
   ]
  },
  {
   "cell_type": "code",
   "execution_count": 59,
   "metadata": {},
   "outputs": [
    {
     "name": "stdout",
     "output_type": "stream",
     "text": [
      "[1 1 1 2 2 2]\n"
     ]
    },
    {
     "data": {
      "text/plain": [
       "array([1.        , 0.8824969 , 0.8007374 , 0.8824969 , 0.83527021,\n",
       "       0.8007374 ])"
      ]
     },
     "execution_count": 59,
     "metadata": {},
     "output_type": "execute_result"
    }
   ],
   "source": [
    "x = np.array([1,2])\n",
    "x = np.repeat(x, 3)\n",
    "\n",
    "center = np.array([1, 2, 3, 4, 5, 6])# np.ones(3)\n",
    "width = np.array([1, 2, 3, 4, 5, 6])\n",
    "\n",
    "print(x)\n",
    "\n",
    "MF(x, center, width)"
   ]
  },
  {
   "cell_type": "markdown",
   "metadata": {},
   "source": [
    "### Rule Antecedent Layer\n"
   ]
  },
  {
   "cell_type": "code",
   "execution_count": 82,
   "metadata": {},
   "outputs": [],
   "source": []
  },
  {
   "cell_type": "code",
   "execution_count": 86,
   "metadata": {},
   "outputs": [
    {
     "name": "stdout",
     "output_type": "stream",
     "text": [
      "[array([[[[1, 1, 1],\n",
      "         [1, 1, 1],\n",
      "         [1, 1, 1]],\n",
      "\n",
      "        [[2, 2, 2],\n",
      "         [2, 2, 2],\n",
      "         [2, 2, 2]],\n",
      "\n",
      "        [[3, 3, 3],\n",
      "         [3, 3, 3],\n",
      "         [3, 3, 3]]],\n",
      "\n",
      "\n",
      "       [[[1, 1, 1],\n",
      "         [1, 1, 1],\n",
      "         [1, 1, 1]],\n",
      "\n",
      "        [[2, 2, 2],\n",
      "         [2, 2, 2],\n",
      "         [2, 2, 2]],\n",
      "\n",
      "        [[3, 3, 3],\n",
      "         [3, 3, 3],\n",
      "         [3, 3, 3]]],\n",
      "\n",
      "\n",
      "       [[[1, 1, 1],\n",
      "         [1, 1, 1],\n",
      "         [1, 1, 1]],\n",
      "\n",
      "        [[2, 2, 2],\n",
      "         [2, 2, 2],\n",
      "         [2, 2, 2]],\n",
      "\n",
      "        [[3, 3, 3],\n",
      "         [3, 3, 3],\n",
      "         [3, 3, 3]]]]), array([[[[4, 4, 4],\n",
      "         [4, 4, 4],\n",
      "         [4, 4, 4]],\n",
      "\n",
      "        [[4, 4, 4],\n",
      "         [4, 4, 4],\n",
      "         [4, 4, 4]],\n",
      "\n",
      "        [[4, 4, 4],\n",
      "         [4, 4, 4],\n",
      "         [4, 4, 4]]],\n",
      "\n",
      "\n",
      "       [[[5, 5, 5],\n",
      "         [5, 5, 5],\n",
      "         [5, 5, 5]],\n",
      "\n",
      "        [[5, 5, 5],\n",
      "         [5, 5, 5],\n",
      "         [5, 5, 5]],\n",
      "\n",
      "        [[5, 5, 5],\n",
      "         [5, 5, 5],\n",
      "         [5, 5, 5]]],\n",
      "\n",
      "\n",
      "       [[[6, 6, 6],\n",
      "         [6, 6, 6],\n",
      "         [6, 6, 6]],\n",
      "\n",
      "        [[6, 6, 6],\n",
      "         [6, 6, 6],\n",
      "         [6, 6, 6]],\n",
      "\n",
      "        [[6, 6, 6],\n",
      "         [6, 6, 6],\n",
      "         [6, 6, 6]]]]), array([[[[7, 7, 7],\n",
      "         [8, 8, 8],\n",
      "         [9, 9, 9]],\n",
      "\n",
      "        [[7, 7, 7],\n",
      "         [8, 8, 8],\n",
      "         [9, 9, 9]],\n",
      "\n",
      "        [[7, 7, 7],\n",
      "         [8, 8, 8],\n",
      "         [9, 9, 9]]],\n",
      "\n",
      "\n",
      "       [[[7, 7, 7],\n",
      "         [8, 8, 8],\n",
      "         [9, 9, 9]],\n",
      "\n",
      "        [[7, 7, 7],\n",
      "         [8, 8, 8],\n",
      "         [9, 9, 9]],\n",
      "\n",
      "        [[7, 7, 7],\n",
      "         [8, 8, 8],\n",
      "         [9, 9, 9]]],\n",
      "\n",
      "\n",
      "       [[[7, 7, 7],\n",
      "         [8, 8, 8],\n",
      "         [9, 9, 9]],\n",
      "\n",
      "        [[7, 7, 7],\n",
      "         [8, 8, 8],\n",
      "         [9, 9, 9]],\n",
      "\n",
      "        [[7, 7, 7],\n",
      "         [8, 8, 8],\n",
      "         [9, 9, 9]]]]), array([[[[10, 11, 12],\n",
      "         [10, 11, 12],\n",
      "         [10, 11, 12]],\n",
      "\n",
      "        [[10, 11, 12],\n",
      "         [10, 11, 12],\n",
      "         [10, 11, 12]],\n",
      "\n",
      "        [[10, 11, 12],\n",
      "         [10, 11, 12],\n",
      "         [10, 11, 12]]],\n",
      "\n",
      "\n",
      "       [[[10, 11, 12],\n",
      "         [10, 11, 12],\n",
      "         [10, 11, 12]],\n",
      "\n",
      "        [[10, 11, 12],\n",
      "         [10, 11, 12],\n",
      "         [10, 11, 12]],\n",
      "\n",
      "        [[10, 11, 12],\n",
      "         [10, 11, 12],\n",
      "         [10, 11, 12]]],\n",
      "\n",
      "\n",
      "       [[[10, 11, 12],\n",
      "         [10, 11, 12],\n",
      "         [10, 11, 12]],\n",
      "\n",
      "        [[10, 11, 12],\n",
      "         [10, 11, 12],\n",
      "         [10, 11, 12]],\n",
      "\n",
      "        [[10, 11, 12],\n",
      "         [10, 11, 12],\n",
      "         [10, 11, 12]]]])]\n"
     ]
    },
    {
     "data": {
      "text/plain": [
       "array([ 280,  308,  336,  320,  352,  384,  360,  396,  432,  560,  616,\n",
       "        672,  640,  704,  768,  720,  792,  864,  840,  924, 1008,  960,\n",
       "       1056, 1152, 1080, 1188, 1296,  350,  385,  420,  400,  440,  480,\n",
       "        450,  495,  540,  700,  770,  840,  800,  880,  960,  900,  990,\n",
       "       1080, 1050, 1155, 1260, 1200, 1320, 1440, 1350, 1485, 1620,  420,\n",
       "        462,  504,  480,  528,  576,  540,  594,  648,  840,  924, 1008,\n",
       "        960, 1056, 1152, 1080, 1188, 1296, 1260, 1386, 1512, 1440, 1584,\n",
       "       1728, 1620, 1782, 1944])"
      ]
     },
     "execution_count": 86,
     "metadata": {},
     "output_type": "execute_result"
    }
   ],
   "source": [
    "#x = np.array([1,2,3,4,5,6])\n",
    "x = np.array([1,2,3,4,5,6,7,8,9,10,11,12])\n",
    "\n",
    "\n",
    "x = np.array_split(x, range(3, len(x), 3))\n",
    "\n",
    "\n",
    "\n",
    "x = np.meshgrid(*x) # the '*' unpacks x and passes to messgrid\n",
    "\n",
    "x = np.prod(x, axis=0).ravel()\n",
    "\n",
    "x"
   ]
  },
  {
   "cell_type": "code",
   "execution_count": 81,
   "metadata": {},
   "outputs": [
    {
     "name": "stdout",
     "output_type": "stream",
     "text": [
      "[array(['x2,low', 'x2,medium', 'x2,high'], dtype='<U9'), array(['x1,low', 'x1,medium', 'x1,high'], dtype='<U9')]\n",
      "[[['x2,low' 'x2,medium' 'x2,high']\n",
      "  ['x2,low' 'x2,medium' 'x2,high']\n",
      "  ['x2,low' 'x2,medium' 'x2,high']]\n",
      "\n",
      " [['x1,low' 'x1,low' 'x1,low']\n",
      "  ['x1,medium' 'x1,medium' 'x1,medium']\n",
      "  ['x1,high' 'x1,high' 'x1,high']]]\n"
     ]
    },
    {
     "data": {
      "text/plain": [
       "['x1,low,x2,low',\n",
       " 'x1,low,x2,medium',\n",
       " 'x1,low,x2,high',\n",
       " 'x1,medium,x2,low',\n",
       " 'x1,medium,x2,medium',\n",
       " 'x1,medium,x2,high',\n",
       " 'x1,high,x2,low',\n",
       " 'x1,high,x2,medium',\n",
       " 'x1,high,x2,high']"
      ]
     },
     "execution_count": 81,
     "metadata": {},
     "output_type": "execute_result"
    }
   ],
   "source": [
    "feature_names = np.array([\"x1\", \"x2\"])\n",
    "mfs = np.array([\"low\", \"medium\", \"high\"])\n",
    "\n",
    "\n",
    "x = feature_names\n",
    "x = np.tile(x[:, np.newaxis], 3).ravel()\n",
    "mfs = np.tile(mfs, 2)\n",
    "\n",
    "x = np.char.add(x, \",\")    \n",
    "x = np.char.add(x, mfs)    \n",
    "x = np.array_split(x, range(3, len(x), 3))\n",
    "x.reverse()\n",
    "print(x)\n",
    "x = np.array(np.meshgrid(*x)) # the '*' unpacks x and passes to messgrid\n",
    "print(x)\n",
    "m = x[1].ravel()\n",
    "m = np.char.add(m, \",\")   \n",
    "x = np.char.add(m, x[0].ravel())   \n",
    "x = x.tolist()\n",
    "x"
   ]
  },
  {
   "cell_type": "code",
   "execution_count": 62,
   "metadata": {},
   "outputs": [
    {
     "name": "stdout",
     "output_type": "stream",
     "text": [
      "[array([1, 2, 3]), array([4, 5, 6]), array([7, 8, 9]), array([10, 11, 12])]\n"
     ]
    },
    {
     "data": {
      "text/plain": [
       "array([ 4,  4,  4,  8,  8,  8, 12, 12, 12,  5,  5,  5, 10, 10, 10, 15, 15,\n",
       "       15,  6,  6,  6, 12, 12, 12, 18, 18, 18])"
      ]
     },
     "execution_count": 62,
     "metadata": {},
     "output_type": "execute_result"
    }
   ],
   "source": [
    "x = np.array([1,2,3,4,5,6,7,8,9,10,11,12])\n",
    "\n",
    "x = np.array_split(x, range(3, len(x), 3))\n",
    "print(x)\n",
    "\n",
    "x =  np.meshgrid(x[0], x[1], x[2])\n",
    "#print(x)\n",
    "x = (x[0] * x[1]).ravel()\n",
    "x"
   ]
  },
  {
   "cell_type": "markdown",
   "metadata": {},
   "source": [
    "### rule consequent layer"
   ]
  },
  {
   "cell_type": "code",
   "execution_count": 63,
   "metadata": {},
   "outputs": [
    {
     "name": "stdout",
     "output_type": "stream",
     "text": [
      "[1. 2. 3. 4. 5. 6. 7. 8. 9.]\n",
      "[[0. 0.]\n",
      " [0. 0.]\n",
      " [0. 0.]\n",
      " [0. 0.]\n",
      " [0. 0.]\n",
      " [0. 0.]\n",
      " [0. 0.]\n",
      " [0. 0.]\n",
      " [0. 0.]]\n",
      "[[1.]\n",
      " [2.]\n",
      " [3.]\n",
      " [4.]\n",
      " [5.]\n",
      " [6.]\n",
      " [7.]\n",
      " [8.]\n",
      " [9.]]\n"
     ]
    },
    {
     "data": {
      "text/plain": [
       "array([[0., 0.],\n",
       "       [0., 0.],\n",
       "       [0., 0.],\n",
       "       [0., 0.],\n",
       "       [0., 0.],\n",
       "       [0., 0.],\n",
       "       [0., 0.],\n",
       "       [0., 0.],\n",
       "       [0., 0.]])"
      ]
     },
     "execution_count": 63,
     "metadata": {},
     "output_type": "execute_result"
    }
   ],
   "source": [
    "x = np.array([1,2,3,4,5,6,7,8,9], dtype=np.float64)\n",
    "weights = np.zeros((x.shape[0], 2), dtype=np.float64)\n",
    "print(x)\n",
    "print(weights)\n",
    "\n",
    "x = x[:, np.newaxis]\n",
    "print(x)\n",
    "\n",
    "x= x* weights\n",
    "x"
   ]
  },
  {
   "cell_type": "markdown",
   "metadata": {},
   "source": [
    "## Training"
   ]
  },
  {
   "cell_type": "markdown",
   "metadata": {},
   "source": [
    "### error function"
   ]
  },
  {
   "cell_type": "code",
   "execution_count": 64,
   "metadata": {},
   "outputs": [
    {
     "name": "stdout",
     "output_type": "stream",
     "text": [
      "[0. 0. 0. 0.]\n"
     ]
    }
   ],
   "source": [
    "output = np.array([[0, 1], [1, 0], [0, 1], [1, 0]], dtype=np.float64)\n",
    "target = np.array([[1,0], [1, 0], [0, 1], [0, 1]], dtype=np.float64)\n",
    "output.shape[0]\n",
    "result = np.zeros(shape=(output.shape[0],), dtype=np.float64)\n",
    "print(result)"
   ]
  },
  {
   "cell_type": "code",
   "execution_count": 65,
   "metadata": {},
   "outputs": [
    {
     "data": {
      "text/plain": [
       "array([1., 0., 0., 1.])"
      ]
     },
     "execution_count": 65,
     "metadata": {},
     "output_type": "execute_result"
    }
   ],
   "source": [
    "# opt 1\n",
    "def calculate_difference(output, target):\n",
    "    # Find indices where the value is 1 in the output array\n",
    "    indices = np.where(output == 1)\n",
    "\n",
    "    # Create a zero-filled array of the same shape as output\n",
    "    result = np.zeros(shape=(output.shape[0],), dtype=np.float64)\n",
    "\n",
    "    # Set the values at the found indices to the difference of output and target\n",
    "    result = output[indices] - target[indices]\n",
    "\n",
    "    return result\n",
    "\n",
    "calculate_difference(output, target)"
   ]
  },
  {
   "cell_type": "code",
   "execution_count": 66,
   "metadata": {},
   "outputs": [
    {
     "data": {
      "text/plain": [
       "array([[0. , 0.5],\n",
       "       [0. , 0. ],\n",
       "       [0. , 0. ],\n",
       "       [0.5, 0. ]])"
      ]
     },
     "execution_count": 66,
     "metadata": {},
     "output_type": "execute_result"
    }
   ],
   "source": [
    "# opt 2\n",
    "result = np.zeros_like(output, dtype=np.float64)\n",
    "\n",
    "# Directly subtract target from output at the found indices\n",
    "0.5*np.subtract(output, target, where=output==1, out=result)**2"
   ]
  },
  {
   "cell_type": "markdown",
   "metadata": {},
   "source": [
    "### adapt"
   ]
  },
  {
   "cell_type": "code",
   "execution_count": 67,
   "metadata": {},
   "outputs": [
    {
     "data": {
      "text/plain": [
       "[array([[1, 2, 3],\n",
       "        [1, 2, 3],\n",
       "        [1, 2, 3]]),\n",
       " array([[4, 4, 4],\n",
       "        [5, 5, 5],\n",
       "        [6, 6, 6]])]"
      ]
     },
     "execution_count": 67,
     "metadata": {},
     "output_type": "execute_result"
    }
   ],
   "source": [
    "error = np.ones(shape=(9,))\n",
    "\n",
    "x1 = np.array([1,2,3])\n",
    "x2 = np.array([4,5,6])\n",
    "\n",
    "x =  np.meshgrid(x1, x2)\n",
    "x # get those directly from antecedent layer with inputs attribute\n",
    "\n"
   ]
  },
  {
   "cell_type": "code",
   "execution_count": 68,
   "metadata": {},
   "outputs": [
    {
     "name": "stdout",
     "output_type": "stream",
     "text": [
      "[[1. 1. 1.]\n",
      " [1. 1. 1.]\n",
      " [1. 1. 1.]]\n",
      "[array([[4., 4., 4.],\n",
      "       [5., 5., 5.],\n",
      "       [6., 6., 6.]]), array([[1., 2., 3.],\n",
      "       [1., 2., 3.],\n",
      "       [1., 2., 3.]])]\n"
     ]
    }
   ],
   "source": [
    "# reshape error to match each mu \n",
    "error = np.reshape(error, x[0].shape)\n",
    "print(error)\n",
    "\n",
    "delta = [mu * error for mu in x]\n",
    "delta.reverse() # the other mu\n",
    "print(delta)"
   ]
  },
  {
   "cell_type": "code",
   "execution_count": 69,
   "metadata": {},
   "outputs": [],
   "source": [
    "# these would result from derived MF function\n",
    "centers_prime = np.arange(stop=6) \n",
    "widths_prime = np.arange(stop=6)\n",
    "\n",
    "# imitate the whole meshgrid process like in antecedent layer\n",
    "x = np.array_split(centers_prime, range(3, len(centers_prime), 3))\n",
    "centers_grided = np.meshgrid(x[0], x[1]) \n",
    "\n",
    "x = np.array_split(widths_prime, range(3, len(widths_prime), 3))\n",
    "widths_grided = np.meshgrid(x[0], x[1]) "
   ]
  },
  {
   "cell_type": "code",
   "execution_count": 70,
   "metadata": {},
   "outputs": [
    {
     "name": "stdout",
     "output_type": "stream",
     "text": [
      "[array([[4., 4., 4.],\n",
      "       [5., 5., 5.],\n",
      "       [6., 6., 6.]]), array([[1., 2., 3.],\n",
      "       [1., 2., 3.],\n",
      "       [1., 2., 3.]])]\n",
      "\n",
      "\n",
      "[array([[0, 1, 2],\n",
      "       [0, 1, 2],\n",
      "       [0, 1, 2]]), array([[3, 3, 3],\n",
      "       [4, 4, 4],\n",
      "       [5, 5, 5]])]\n",
      "\n",
      "\n",
      "[array([[0, 1, 2],\n",
      "       [0, 1, 2],\n",
      "       [0, 1, 2]]), array([[3, 3, 3],\n",
      "       [4, 4, 4],\n",
      "       [5, 5, 5]])]\n"
     ]
    }
   ],
   "source": [
    "print(delta)\n",
    "print(\"\\n\")\n",
    "print(centers_grided)\n",
    "print(\"\\n\")\n",
    "print(widths_grided)"
   ]
  },
  {
   "cell_type": "code",
   "execution_count": 71,
   "metadata": {},
   "outputs": [
    {
     "data": {
      "text/plain": [
       "[array([[ 0.,  4.,  8.],\n",
       "        [ 0.,  5., 10.],\n",
       "        [ 0.,  6., 12.]]),\n",
       " array([[ 3.,  6.,  9.],\n",
       "        [ 4.,  8., 12.],\n",
       "        [ 5., 10., 15.]])]"
      ]
     },
     "execution_count": 71,
     "metadata": {},
     "output_type": "execute_result"
    }
   ],
   "source": [
    "delta = [d * centers for d,centers in zip(delta,centers_grided)]\n",
    "delta"
   ]
  },
  {
   "cell_type": "code",
   "execution_count": 72,
   "metadata": {},
   "outputs": [
    {
     "name": "stdout",
     "output_type": "stream",
     "text": [
      "[0 1 2 3 4 5]\n"
     ]
    }
   ],
   "source": [
    "centers_to_tune = np.arange(stop=6) \n",
    "widths_to_tune = np.arange(stop=6)\n",
    "print(centers_to_tune)"
   ]
  },
  {
   "cell_type": "code",
   "execution_count": 73,
   "metadata": {},
   "outputs": [
    {
     "data": {
      "text/plain": [
       "[array([0, 1, 2]), array([3, 4, 5])]"
      ]
     },
     "execution_count": 73,
     "metadata": {},
     "output_type": "execute_result"
    }
   ],
   "source": [
    "centers_to_tune = np.array_split(centers_to_tune, range(3, len(centers_to_tune), 3))\n",
    "widths_to_tune = np.array_split(widths_to_tune, range(3, len(widths_to_tune), 3))\n",
    "centers_to_tune"
   ]
  },
  {
   "cell_type": "code",
   "execution_count": 74,
   "metadata": {},
   "outputs": [],
   "source": [
    "centers_to_tune[0] = centers_to_tune[0]"
   ]
  }
 ],
 "metadata": {
  "kernelspec": {
   "display_name": "base",
   "language": "python",
   "name": "python3"
  },
  "language_info": {
   "codemirror_mode": {
    "name": "ipython",
    "version": 3
   },
   "file_extension": ".py",
   "mimetype": "text/x-python",
   "name": "python",
   "nbconvert_exporter": "python",
   "pygments_lexer": "ipython3",
   "version": "3.11.5"
  }
 },
 "nbformat": 4,
 "nbformat_minor": 2
}
