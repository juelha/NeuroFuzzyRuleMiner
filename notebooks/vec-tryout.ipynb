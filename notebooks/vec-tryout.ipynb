{
 "cells": [
  {
   "cell_type": "code",
   "execution_count": 1,
   "metadata": {},
   "outputs": [],
   "source": [
    "import numpy as np"
   ]
  },
  {
   "cell_type": "code",
   "execution_count": 2,
   "metadata": {},
   "outputs": [
    {
     "name": "stdout",
     "output_type": "stream",
     "text": [
      "[0 1 2 3 4] [0 1 2]\n",
      "[[0]\n",
      " [1]\n",
      " [2]\n",
      " [3]\n",
      " [4]]\n"
     ]
    },
    {
     "data": {
      "text/plain": [
       "array([[0, 1, 2],\n",
       "       [1, 2, 3],\n",
       "       [2, 3, 4],\n",
       "       [3, 4, 5],\n",
       "       [4, 5, 6]])"
      ]
     },
     "execution_count": 2,
     "metadata": {},
     "output_type": "execute_result"
    }
   ],
   "source": [
    "import numpy as np\n",
    "\n",
    "X1 = np.arange(5)\n",
    "X2 = np.arange(3)\n",
    "print(X1, X2)\n",
    "# [0 1 2 3 4] [0 1 2]\n",
    "\n",
    "def my_op(x, y):\n",
    "  return x + y\n",
    "\n",
    "print(X1[:, np.newaxis])\n",
    "\n",
    "np.vectorize(my_op)(X1[:, np.newaxis], X2)"
   ]
  },
  {
   "cell_type": "code",
   "execution_count": 23,
   "metadata": {},
   "outputs": [
    {
     "data": {
      "text/plain": [
       "array([1, 1, 1, 2, 2, 2])"
      ]
     },
     "execution_count": 23,
     "metadata": {},
     "output_type": "execute_result"
    }
   ],
   "source": [
    "x = np.array([1, 2])\n",
    "x = np.tile(x[:, np.newaxis], 3).ravel()\n",
    "x"
   ]
  },
  {
   "cell_type": "code",
   "execution_count": 30,
   "metadata": {},
   "outputs": [
    {
     "data": {
      "text/plain": [
       "array([1, 1, 1, 2, 2, 2, 3, 3, 3, 4, 4, 4, 5, 5, 5, 6, 6, 6, 7, 7, 7, 8,\n",
       "       8, 8])"
      ]
     },
     "execution_count": 30,
     "metadata": {},
     "output_type": "execute_result"
    }
   ],
   "source": [
    "x = np.array([1,2,3,4,5,6,7,8])\n",
    "x = np.repeat(x, 3)\n",
    "x"
   ]
  },
  {
   "cell_type": "code",
   "execution_count": 29,
   "metadata": {},
   "outputs": [
    {
     "data": {
      "text/plain": [
       "array([1, 1, 1, 2, 2, 2])"
      ]
     },
     "execution_count": 29,
     "metadata": {},
     "output_type": "execute_result"
    }
   ],
   "source": [
    "x = np.array([1,2])\n",
    "x = np.repeat(x, 3)\n",
    "x"
   ]
  },
  {
   "cell_type": "code",
   "execution_count": 26,
   "metadata": {},
   "outputs": [
    {
     "data": {
      "text/plain": [
       "array([1, 1, 1, 2, 2, 2])"
      ]
     },
     "execution_count": 26,
     "metadata": {},
     "output_type": "execute_result"
    }
   ],
   "source": [
    "x = np.array([1,2])\n",
    "x = np.repeat(x[:, np.newaxis], 3).ravel()\n",
    "x"
   ]
  },
  {
   "cell_type": "code",
   "execution_count": 3,
   "metadata": {},
   "outputs": [],
   "source": [
    "def MF(x, center, width):\n",
    "    return x+center#np.exp(-0.5*(((x-center)/width)**2))\n",
    "    "
   ]
  },
  {
   "cell_type": "code",
   "execution_count": 38,
   "metadata": {},
   "outputs": [
    {
     "data": {
      "text/plain": [
       "array([0, 1, 2, 0, 1, 2])"
      ]
     },
     "execution_count": 38,
     "metadata": {},
     "output_type": "execute_result"
    }
   ],
   "source": [
    "multiplicator = np.arange(3)\n",
    "multiplicator = np.tile(np.arange(3), 2)\n",
    "multiplicator"
   ]
  },
  {
   "cell_type": "code",
   "execution_count": null,
   "metadata": {},
   "outputs": [],
   "source": []
  },
  {
   "cell_type": "code",
   "execution_count": 57,
   "metadata": {},
   "outputs": [
    {
     "name": "stdout",
     "output_type": "stream",
     "text": [
      "<class 'numpy.ndarray'>\n",
      "[2.  2.  4.  5.  7.5 7.5]\n",
      "<class 'numpy.ndarray'>\n"
     ]
    }
   ],
   "source": [
    "def center_init(x, n_mfs):\n",
    "    \"\"\"Initializes the centers of MFs by partitioning the domain of the inputs\n",
    "\n",
    "    Args:\n",
    "        x (numpy.ndarray): the max values for each feature, i.e. the domain\n",
    "        n_mfs (int): number of MFs in Fuzzification Layer\n",
    "    \"\"\"\n",
    "    n_inputs = x.size // n_mfs\n",
    "    multiplicator = np.arange(1, n_mfs + 1).repeat(n_inputs)\n",
    "    centers = (x / (n_mfs + 1)) * multiplicator\n",
    "    return centers\n",
    "\n",
    "x = np.array([8,10])\n",
    "x = np.repeat(x, 3)\n",
    "print(type(x))\n",
    "print(center_init(x, 3))\n",
    "print(type(center_init(x, 3))) # numpy.ndarray'"
   ]
  },
  {
   "cell_type": "code",
   "execution_count": 67,
   "metadata": {},
   "outputs": [
    {
     "name": "stdout",
     "output_type": "stream",
     "text": [
      "<class 'numpy.ndarray'>\n",
      "[2.  4.  6.  2.5 5.  7.5]\n",
      "<class 'numpy.ndarray'>\n"
     ]
    }
   ],
   "source": [
    "x = np.array([8,10])\n",
    "x = np.repeat(x, 3)\n",
    "\n",
    "def center_init(x, n_mfs):\n",
    "    \"\"\"Initializes the centers of MFs by partitioning the domain of the features\n",
    "\n",
    "    Args:\n",
    "        x (numpy.ndarray): the max values for each feature, i.e. the domain\n",
    "        n_mfs (int): number of MFs in Fuzzification Layer\n",
    "        \n",
    "    Returns: \n",
    "        numpy.ndarray: initalized widths with the shape (x.size,)\n",
    "    \"\"\"\n",
    "    n_inputs = x.size // n_mfs\n",
    "    multiplicator = np.tile(np.arange(1, n_mfs + 1), n_inputs)\n",
    "    return (x / (n_mfs + 1)) * multiplicator\n",
    "\n",
    "x = np.array([8,10])\n",
    "x = np.repeat(x, 3)\n",
    "print(type(x))\n",
    "print(center_init(x, 3))\n",
    "print(type(center_init(x, 3))) # numpy.ndarray'"
   ]
  },
  {
   "cell_type": "code",
   "execution_count": 69,
   "metadata": {},
   "outputs": [
    {
     "name": "stdout",
     "output_type": "stream",
     "text": [
      "6\n",
      "[2.  2.  2.  2.5 2.5 2.5]\n",
      "(6,)\n"
     ]
    }
   ],
   "source": [
    "def widths_init(x, n_mfs):\n",
    "    \"\"\"Initializes the widths of MFs by partitioning the domain of the features\n",
    "\n",
    "    Args:\n",
    "        x (numpy.ndarray): the max values for each feature, i.e. the feature's domain\n",
    "        n_mfs (int): number of MFs in Fuzzification Layer\n",
    "\n",
    "    Returns: \n",
    "        numpy.ndarray: initalized widths with the shape (x.size,)\n",
    "    \"\"\"\n",
    "    return x/(n_mfs+1)\n",
    "\n",
    "x = np.array([8,10])\n",
    "x = np.repeat(x, 3)\n",
    "print(x.size)\n",
    "print(widths_init(x, 3))\n",
    "print(widths_init(x, 3).shape)"
   ]
  },
  {
   "cell_type": "code",
   "execution_count": 31,
   "metadata": {},
   "outputs": [
    {
     "name": "stdout",
     "output_type": "stream",
     "text": [
      "[1 1 1 2 2 2]\n"
     ]
    },
    {
     "data": {
      "text/plain": [
       "array([2, 3, 4, 6, 7, 8])"
      ]
     },
     "execution_count": 31,
     "metadata": {},
     "output_type": "execute_result"
    }
   ],
   "source": [
    "x = np.array([1,2])\n",
    "x = np.repeat(x, 3)\n",
    "\n",
    "center = np.array([1, 2, 3, 4, 5, 6])# np.ones(3)\n",
    "width = np.array([1, 2, 3, 4, 5, 6])\n",
    "\n",
    "print(x)\n",
    "\n",
    "np.vectorize(MF)(x, center, width)"
   ]
  },
  {
   "cell_type": "code",
   "execution_count": null,
   "metadata": {},
   "outputs": [],
   "source": [
    "fuzzified_inputs=np.empty(shape=(1, self.n_mfs))\n",
    "\n",
    "# calculating the MF values μ \"mus\" per input\n",
    "for xID, x in enumerate(inputs):\n",
    "\n",
    "    fuzzified_x = np.vectorize(MF_vec)(x, self.centers[xID], self.widths[xID])\n",
    "    np.append(fuzzified_inputs,fuzzified_x , axis=0)"
   ]
  }
 ],
 "metadata": {
  "kernelspec": {
   "display_name": "base",
   "language": "python",
   "name": "python3"
  },
  "language_info": {
   "codemirror_mode": {
    "name": "ipython",
    "version": 3
   },
   "file_extension": ".py",
   "mimetype": "text/x-python",
   "name": "python",
   "nbconvert_exporter": "python",
   "pygments_lexer": "ipython3",
   "version": "3.11.5"
  }
 },
 "nbformat": 4,
 "nbformat_minor": 2
}
