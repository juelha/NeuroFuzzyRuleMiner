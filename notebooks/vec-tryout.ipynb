{
 "cells": [
  {
   "cell_type": "markdown",
   "metadata": {},
   "source": [
    "## Try-out notebook for playing around with vectorization"
   ]
  },
  {
   "cell_type": "code",
   "execution_count": 1,
   "metadata": {},
   "outputs": [],
   "source": [
    "import numpy as np"
   ]
  },
  {
   "cell_type": "markdown",
   "metadata": {},
   "source": [
    "#### How to stretch np arrays so row wise mult will be possible"
   ]
  },
  {
   "cell_type": "code",
   "execution_count": 2,
   "metadata": {},
   "outputs": [
    {
     "data": {
      "text/plain": [
       "array([1, 1, 1, 2, 2, 2])"
      ]
     },
     "execution_count": 2,
     "metadata": {},
     "output_type": "execute_result"
    }
   ],
   "source": [
    "x = np.array([1, 2])\n",
    "x = np.tile(x[:, np.newaxis], 3).ravel()\n",
    "x"
   ]
  },
  {
   "cell_type": "code",
   "execution_count": 3,
   "metadata": {},
   "outputs": [
    {
     "data": {
      "text/plain": [
       "array([1, 1, 1, 2, 2, 2])"
      ]
     },
     "execution_count": 3,
     "metadata": {},
     "output_type": "execute_result"
    }
   ],
   "source": [
    "x = np.array([1,2])\n",
    "x = np.repeat(x, 3)\n",
    "x"
   ]
  },
  {
   "cell_type": "markdown",
   "metadata": {},
   "source": [
    "### Fuzzification Layer"
   ]
  },
  {
   "cell_type": "code",
   "execution_count": 4,
   "metadata": {},
   "outputs": [
    {
     "data": {
      "text/plain": [
       "array([0, 1, 2, 0, 1, 2])"
      ]
     },
     "execution_count": 4,
     "metadata": {},
     "output_type": "execute_result"
    }
   ],
   "source": [
    "multiplicator = np.arange(3)\n",
    "multiplicator = np.tile(np.arange(3), 2)\n",
    "multiplicator"
   ]
  },
  {
   "cell_type": "code",
   "execution_count": 5,
   "metadata": {},
   "outputs": [
    {
     "name": "stdout",
     "output_type": "stream",
     "text": [
      "<class 'numpy.ndarray'>\n",
      "[2.  4.  6.  2.5 5.  7.5]\n",
      "<class 'numpy.ndarray'>\n"
     ]
    }
   ],
   "source": [
    "def center_init(x, n_mfs):\n",
    "    \"\"\"Initializes the centers of MFs by partitioning the domain of the features\n",
    "\n",
    "    Args:\n",
    "        x (numpy.ndarray): the max values for each feature, i.e. the domain\n",
    "        n_mfs (int): number of MFs in Fuzzification Layer\n",
    "        \n",
    "    Returns: \n",
    "        numpy.ndarray: initalized widths with the shape (x.size,)\n",
    "    \"\"\"\n",
    "    n_inputs = x.size // n_mfs\n",
    "    multiplicator = np.tile(np.arange(1, n_mfs + 1), n_inputs)\n",
    "    return (x / (n_mfs + 1)) * multiplicator\n",
    "\n",
    "x = np.array([8,10])\n",
    "x = np.repeat(x, 3)\n",
    "print(type(x))\n",
    "print(center_init(x, 3))\n",
    "print(type(center_init(x, 3))) # numpy.ndarray'"
   ]
  },
  {
   "cell_type": "code",
   "execution_count": 6,
   "metadata": {},
   "outputs": [
    {
     "name": "stdout",
     "output_type": "stream",
     "text": [
      "6\n",
      "[2.  2.  2.  2.5 2.5 2.5]\n",
      "(6,)\n"
     ]
    }
   ],
   "source": [
    "def widths_init(x, n_mfs):\n",
    "    \"\"\"Initializes the widths of MFs by partitioning the domain of the features\n",
    "\n",
    "    Args:\n",
    "        x (numpy.ndarray): the max values for each feature, i.e. the feature's domain\n",
    "        n_mfs (int): number of MFs in Fuzzification Layer\n",
    "\n",
    "    Returns: \n",
    "        numpy.ndarray: initalized widths with the shape (x.size,)\n",
    "    \"\"\"\n",
    "    return x/(n_mfs+1)\n",
    "\n",
    "x = np.array([8,10])\n",
    "x = np.repeat(x, 3)\n",
    "print(x.size)\n",
    "print(widths_init(x, 3))\n",
    "print(widths_init(x, 3).shape)"
   ]
  },
  {
   "cell_type": "code",
   "execution_count": 7,
   "metadata": {},
   "outputs": [],
   "source": [
    "def MF(x, center, width):\n",
    "    return np.exp(-0.5*(((x-center)/width)**2))\n",
    "    "
   ]
  },
  {
   "cell_type": "code",
   "execution_count": 8,
   "metadata": {},
   "outputs": [
    {
     "name": "stdout",
     "output_type": "stream",
     "text": [
      "[1 1 1 2 2 2]\n"
     ]
    },
    {
     "data": {
      "text/plain": [
       "array([1.        , 0.8824969 , 0.8007374 , 0.8824969 , 0.83527021,\n",
       "       0.8007374 ])"
      ]
     },
     "execution_count": 8,
     "metadata": {},
     "output_type": "execute_result"
    }
   ],
   "source": [
    "x = np.array([1,2])\n",
    "x = np.repeat(x, 3)\n",
    "\n",
    "center = np.array([1, 2, 3, 4, 5, 6])# np.ones(3)\n",
    "width = np.array([1, 2, 3, 4, 5, 6])\n",
    "\n",
    "print(x)\n",
    "\n",
    "MF(x, center, width)"
   ]
  },
  {
   "cell_type": "markdown",
   "metadata": {},
   "source": [
    "### Rule Antecedent Layer\n"
   ]
  },
  {
   "cell_type": "code",
   "execution_count": 9,
   "metadata": {},
   "outputs": [
    {
     "name": "stdout",
     "output_type": "stream",
     "text": [
      "[array([[1, 2, 3],\n",
      "       [1, 2, 3],\n",
      "       [1, 2, 3]]), array([[4, 4, 4],\n",
      "       [5, 5, 5],\n",
      "       [6, 6, 6]])]\n"
     ]
    },
    {
     "ename": "AttributeError",
     "evalue": "'list' object has no attribute 'size'",
     "output_type": "error",
     "traceback": [
      "\u001b[1;31m---------------------------------------------------------------------------\u001b[0m",
      "\u001b[1;31mAttributeError\u001b[0m                            Traceback (most recent call last)",
      "Cell \u001b[1;32mIn[9], line 14\u001b[0m\n\u001b[0;32m     12\u001b[0m \u001b[38;5;66;03m#x = np.prod(x, axis=0)#.ravel()\u001b[39;00m\n\u001b[0;32m     13\u001b[0m \u001b[38;5;28mprint\u001b[39m(x)\n\u001b[1;32m---> 14\u001b[0m \u001b[43mx\u001b[49m\u001b[38;5;241;43m.\u001b[39;49m\u001b[43msize\u001b[49m\n",
      "\u001b[1;31mAttributeError\u001b[0m: 'list' object has no attribute 'size'"
     ]
    }
   ],
   "source": [
    "x = np.array([1,2,3,4,5,6])\n",
    "\n",
    "\n",
    "\n",
    "x = np.array_split(x, range(3, len(x), 3))\n",
    "\n",
    "\n",
    "\n",
    "x = np.meshgrid(*x) # the '*' unpacks x and passes to messgrid\n",
    "\n",
    "\n",
    "#x = np.prod(x, axis=0)#.ravel()\n",
    "print(x)\n",
    "x.size"
   ]
  },
  {
   "cell_type": "code",
   "execution_count": null,
   "metadata": {},
   "outputs": [
    {
     "name": "stdout",
     "output_type": "stream",
     "text": [
      "[('a', 'b'), ('a', 'c'), ('a', 1), ('a', 2), ('a', 3), ('b', 'c'), ('b', 1), ('b', 2), ('b', 3), ('c', 1), ('c', 2), ('c', 3), (1, 2), (1, 3), (2, 3)]\n"
     ]
    }
   ],
   "source": [
    "from itertools import combinations\n",
    "x = combinations([\"a\", \"b\", \"c\", 1,2,3], 2)\n",
    "print(list(x))"
   ]
  },
  {
   "cell_type": "code",
   "execution_count": 45,
   "metadata": {},
   "outputs": [
    {
     "data": {
      "text/plain": [
       "array([[[[ 280,  308,  336],\n",
       "         [ 320,  352,  384],\n",
       "         [ 360,  396,  432]],\n",
       "\n",
       "        [[ 350,  385,  420],\n",
       "         [ 400,  440,  480],\n",
       "         [ 450,  495,  540]],\n",
       "\n",
       "        [[ 420,  462,  504],\n",
       "         [ 480,  528,  576],\n",
       "         [ 540,  594,  648]]],\n",
       "\n",
       "\n",
       "       [[[ 560,  616,  672],\n",
       "         [ 640,  704,  768],\n",
       "         [ 720,  792,  864]],\n",
       "\n",
       "        [[ 700,  770,  840],\n",
       "         [ 800,  880,  960],\n",
       "         [ 900,  990, 1080]],\n",
       "\n",
       "        [[ 840,  924, 1008],\n",
       "         [ 960, 1056, 1152],\n",
       "         [1080, 1188, 1296]]],\n",
       "\n",
       "\n",
       "       [[[ 840,  924, 1008],\n",
       "         [ 960, 1056, 1152],\n",
       "         [1080, 1188, 1296]],\n",
       "\n",
       "        [[1050, 1155, 1260],\n",
       "         [1200, 1320, 1440],\n",
       "         [1350, 1485, 1620]],\n",
       "\n",
       "        [[1260, 1386, 1512],\n",
       "         [1440, 1584, 1728],\n",
       "         [1620, 1782, 1944]]]])"
      ]
     },
     "execution_count": 45,
     "metadata": {},
     "output_type": "execute_result"
    }
   ],
   "source": [
    "import numpy as np\n",
    "\n",
    "x = np.array([1,2,3,4,5,6, 7,8,9, 10, 11, 12])\n",
    "#x = np.array([1,2,3,4,5,6,7,8,9,10,11,12,13,14,15])\n",
    "\n",
    "\n",
    "x = np.array_split(x, range(3, len(x), 3))\n",
    "\n",
    "\n",
    "#print(x)\n",
    "x = np.meshgrid(*x, indexing='ij') # the '*' unpacks x and passes to messgrid\n",
    "\n",
    "\n",
    "x = np.prod(x, axis=0)#.ravel()\n",
    "x"
   ]
  },
  {
   "cell_type": "code",
   "execution_count": 41,
   "metadata": {},
   "outputs": [
    {
     "name": "stdout",
     "output_type": "stream",
     "text": [
      "start [[[[10 11 12]\n",
      "   [10 11 12]\n",
      "   [10 11 12]]\n",
      "\n",
      "  [[10 11 12]\n",
      "   [10 11 12]\n",
      "   [10 11 12]]\n",
      "\n",
      "  [[10 11 12]\n",
      "   [10 11 12]\n",
      "   [10 11 12]]]\n",
      "\n",
      "\n",
      " [[[10 11 12]\n",
      "   [10 11 12]\n",
      "   [10 11 12]]\n",
      "\n",
      "  [[10 11 12]\n",
      "   [10 11 12]\n",
      "   [10 11 12]]\n",
      "\n",
      "  [[10 11 12]\n",
      "   [10 11 12]\n",
      "   [10 11 12]]]\n",
      "\n",
      "\n",
      " [[[10 11 12]\n",
      "   [10 11 12]\n",
      "   [10 11 12]]\n",
      "\n",
      "  [[10 11 12]\n",
      "   [10 11 12]\n",
      "   [10 11 12]]\n",
      "\n",
      "  [[10 11 12]\n",
      "   [10 11 12]\n",
      "   [10 11 12]]]]\n",
      "1st\n",
      "[[[30 33 36]\n",
      "  [30 33 36]\n",
      "  [30 33 36]]\n",
      "\n",
      " [[30 33 36]\n",
      "  [30 33 36]\n",
      "  [30 33 36]]\n",
      "\n",
      " [[30 33 36]\n",
      "  [30 33 36]\n",
      "  [30 33 36]]]\n",
      "2nd\n",
      "[[ 90  99 108]\n",
      " [ 90  99 108]\n",
      " [ 90  99 108]]\n",
      "3rd\n",
      "[270 297 324]\n"
     ]
    },
    {
     "data": {
      "text/plain": [
       "array([270, 297, 324])"
      ]
     },
     "execution_count": 41,
     "metadata": {},
     "output_type": "execute_result"
    }
   ],
   "source": [
    "import numpy as np\n",
    "\n",
    "x = np.array([1,2,3,4,5,6, 7,8,9, 10, 11, 12])\n",
    "#x = np.array([1,2,3,4,5,6,7,8,9,10,11,12,13,14,15])\n",
    "\n",
    "\n",
    "x = np.array_split(x, range(3, len(x), 3))\n",
    "\n",
    "\n",
    "#print(x)\n",
    "x = np.meshgrid(*x, indexing='ij') # the '*' unpacks x and passes to messgrid\n",
    "\n",
    "\n",
    "#x = np.prod(x, axis=0)#.ravel()\n",
    "#print(\"HONK\")\n",
    "#print(x)\n",
    "x = x[3]\n",
    "print(\"start\", x)\n",
    "\n",
    "x = np.sum(x, axis=2) # or 1\n",
    "#print(\"x\", x)\n",
    "print(\"1st\")\n",
    "print(x)\n",
    "x = np.sum(x, axis=0)\n",
    "print(\"2nd\")\n",
    "print(x)\n",
    "x = np.sum(x, axis=0)\n",
    "print(\"3rd\")\n",
    "print(x)\n",
    "x\n"
   ]
  },
  {
   "cell_type": "code",
   "execution_count": null,
   "metadata": {},
   "outputs": [],
   "source": [
    "[[[21 21 21]\n",
    "  [24 24 24]\n",
    "  [27 27 27]]"
   ]
  },
  {
   "cell_type": "code",
   "execution_count": 17,
   "metadata": {},
   "outputs": [
    {
     "name": "stdout",
     "output_type": "stream",
     "text": [
      "[array([1, 2, 3]), array([4, 5, 6])]\n",
      "[array([[1, 1, 1],\n",
      "       [2, 2, 2],\n",
      "       [3, 3, 3]]), array([[4, 5, 6],\n",
      "       [4, 5, 6],\n",
      "       [4, 5, 6]])]\n"
     ]
    },
    {
     "data": {
      "image/png": "[encoded data removed]",
      "text/plain": [
       "<Figure size 640x480 with 1 Axes>"
      ]
     },
     "metadata": {},
     "output_type": "display_data"
    }
   ],
   "source": [
    "import matplotlib.pyplot as plt\n",
    "#x = np.array([1,2,3,4,5,6, 7,8,9, 10, 11, 12])\n",
    "x = np.array([1,2,3,4,5,6])\n",
    "\n",
    "\n",
    "x = np.array_split(x, range(3, len(x), 3))\n",
    "\n",
    "\n",
    "print(x)\n",
    "x = np.meshgrid(*x, indexing='ij') # the '*' unpacks x and passes to messgrid\n",
    "\n",
    "\n",
    "#x = np.prod(x, axis=0)#.ravel()\n",
    "print(x)\n",
    "\n",
    "plt.plot(x[0], x[1], marker='o', color='k', linestyle='none')\n",
    "plt.show()"
   ]
  },
  {
   "cell_type": "code",
   "execution_count": 18,
   "metadata": {},
   "outputs": [
    {
     "name": "stdout",
     "output_type": "stream",
     "text": [
      "[array([[1, 1, 1],\n",
      "       [2, 2, 2],\n",
      "       [3, 3, 3]]), array([[4, 5, 6],\n",
      "       [4, 5, 6],\n",
      "       [4, 5, 6]])]\n",
      "[[1 1 1]\n",
      " [2 2 2]\n",
      " [3 3 3]]\n"
     ]
    },
    {
     "data": {
      "text/plain": [
       "array([6, 6, 6])"
      ]
     },
     "execution_count": 18,
     "metadata": {},
     "output_type": "execute_result"
    }
   ],
   "source": [
    "\n",
    "x = np.array([1,2,3,4,5,6])\n",
    "\n",
    "\n",
    "x = np.array_split(x, range(3, len(x), 3))\n",
    "\n",
    "def tryout(*xi):\n",
    "    ndim = len(xi)\n",
    "\n",
    "\n",
    "\n",
    "    s0 = (1,) * ndim\n",
    "    output = [np.asanyarray(x).reshape(s0[:i] + (-1,) + s0[i + 1:])\n",
    "                for i, x in enumerate(x)]\n",
    "    output = np.broadcast_arrays(*output, subok=True)\n",
    "    print(output)\n",
    "    return output\n",
    "\n",
    "x = tryout(*x)\n",
    "\n",
    "print(x[0])\n",
    "np.sum(x[0], axis=0)"
   ]
  },
  {
   "cell_type": "code",
   "execution_count": 19,
   "metadata": {},
   "outputs": [
    {
     "ename": "AxisError",
     "evalue": "axis 3 is out of bounds for array of dimension 3",
     "output_type": "error",
     "traceback": [
      "\u001b[1;31m---------------------------------------------------------------------------\u001b[0m",
      "\u001b[1;31mAxisError\u001b[0m                                 Traceback (most recent call last)",
      "Cell \u001b[1;32mIn[19], line 1\u001b[0m\n\u001b[1;32m----> 1\u001b[0m \u001b[43mnp\u001b[49m\u001b[38;5;241;43m.\u001b[39;49m\u001b[43msum\u001b[49m\u001b[43m(\u001b[49m\u001b[43mx\u001b[49m\u001b[43m,\u001b[49m\u001b[43m \u001b[49m\u001b[43maxis\u001b[49m\u001b[38;5;241;43m=\u001b[39;49m\u001b[43m(\u001b[49m\u001b[38;5;241;43m2\u001b[39;49m\u001b[43m,\u001b[49m\u001b[43m \u001b[49m\u001b[38;5;241;43m3\u001b[39;49m\u001b[43m)\u001b[49m\u001b[43m)\u001b[49m\n",
      "File \u001b[1;32mc:\\Users\\julia\\anaconda3\\envs\\neurofuzzy\\lib\\site-packages\\numpy\\core\\fromnumeric.py:2313\u001b[0m, in \u001b[0;36msum\u001b[1;34m(a, axis, dtype, out, keepdims, initial, where)\u001b[0m\n\u001b[0;32m   2310\u001b[0m         \u001b[38;5;28;01mreturn\u001b[39;00m out\n\u001b[0;32m   2311\u001b[0m     \u001b[38;5;28;01mreturn\u001b[39;00m res\n\u001b[1;32m-> 2313\u001b[0m \u001b[38;5;28;01mreturn\u001b[39;00m \u001b[43m_wrapreduction\u001b[49m\u001b[43m(\u001b[49m\u001b[43ma\u001b[49m\u001b[43m,\u001b[49m\u001b[43m \u001b[49m\u001b[43mnp\u001b[49m\u001b[38;5;241;43m.\u001b[39;49m\u001b[43madd\u001b[49m\u001b[43m,\u001b[49m\u001b[43m \u001b[49m\u001b[38;5;124;43m'\u001b[39;49m\u001b[38;5;124;43msum\u001b[39;49m\u001b[38;5;124;43m'\u001b[39;49m\u001b[43m,\u001b[49m\u001b[43m \u001b[49m\u001b[43maxis\u001b[49m\u001b[43m,\u001b[49m\u001b[43m \u001b[49m\u001b[43mdtype\u001b[49m\u001b[43m,\u001b[49m\u001b[43m \u001b[49m\u001b[43mout\u001b[49m\u001b[43m,\u001b[49m\u001b[43m \u001b[49m\u001b[43mkeepdims\u001b[49m\u001b[38;5;241;43m=\u001b[39;49m\u001b[43mkeepdims\u001b[49m\u001b[43m,\u001b[49m\n\u001b[0;32m   2314\u001b[0m \u001b[43m                      \u001b[49m\u001b[43minitial\u001b[49m\u001b[38;5;241;43m=\u001b[39;49m\u001b[43minitial\u001b[49m\u001b[43m,\u001b[49m\u001b[43m \u001b[49m\u001b[43mwhere\u001b[49m\u001b[38;5;241;43m=\u001b[39;49m\u001b[43mwhere\u001b[49m\u001b[43m)\u001b[49m\n",
      "File \u001b[1;32mc:\\Users\\julia\\anaconda3\\envs\\neurofuzzy\\lib\\site-packages\\numpy\\core\\fromnumeric.py:88\u001b[0m, in \u001b[0;36m_wrapreduction\u001b[1;34m(obj, ufunc, method, axis, dtype, out, **kwargs)\u001b[0m\n\u001b[0;32m     85\u001b[0m         \u001b[38;5;28;01melse\u001b[39;00m:\n\u001b[0;32m     86\u001b[0m             \u001b[38;5;28;01mreturn\u001b[39;00m reduction(axis\u001b[38;5;241m=\u001b[39maxis, out\u001b[38;5;241m=\u001b[39mout, \u001b[38;5;241m*\u001b[39m\u001b[38;5;241m*\u001b[39mpasskwargs)\n\u001b[1;32m---> 88\u001b[0m \u001b[38;5;28;01mreturn\u001b[39;00m ufunc\u001b[38;5;241m.\u001b[39mreduce(obj, axis, dtype, out, \u001b[38;5;241m*\u001b[39m\u001b[38;5;241m*\u001b[39mpasskwargs)\n",
      "\u001b[1;31mAxisError\u001b[0m: axis 3 is out of bounds for array of dimension 3"
     ]
    }
   ],
   "source": [
    "np.sum(x, axis=(2, 3))"
   ]
  },
  {
   "cell_type": "code",
   "execution_count": null,
   "metadata": {},
   "outputs": [
    {
     "name": "stdout",
     "output_type": "stream",
     "text": [
      "[array(['x2,low', 'x2,medium', 'x2,high'], dtype='<U9'), array(['x1,low', 'x1,medium', 'x1,high'], dtype='<U9')]\n",
      "[[['x2,low' 'x2,medium' 'x2,high']\n",
      "  ['x2,low' 'x2,medium' 'x2,high']\n",
      "  ['x2,low' 'x2,medium' 'x2,high']]\n",
      "\n",
      " [['x1,low' 'x1,low' 'x1,low']\n",
      "  ['x1,medium' 'x1,medium' 'x1,medium']\n",
      "  ['x1,high' 'x1,high' 'x1,high']]]\n"
     ]
    },
    {
     "data": {
      "text/plain": [
       "['x1,low,x2,low',\n",
       " 'x1,low,x2,medium',\n",
       " 'x1,low,x2,high',\n",
       " 'x1,medium,x2,low',\n",
       " 'x1,medium,x2,medium',\n",
       " 'x1,medium,x2,high',\n",
       " 'x1,high,x2,low',\n",
       " 'x1,high,x2,medium',\n",
       " 'x1,high,x2,high']"
      ]
     },
     "execution_count": 11,
     "metadata": {},
     "output_type": "execute_result"
    }
   ],
   "source": [
    "feature_names = np.array([\"x1\", \"x2\"])\n",
    "mfs = np.array([\"low\", \"medium\", \"high\"])\n",
    "\n",
    "\n",
    "x = feature_names\n",
    "x = np.tile(x[:, np.newaxis], 3).ravel()\n",
    "mfs = np.tile(mfs, 2)\n",
    "\n",
    "x = np.char.add(x, \",\")    \n",
    "x = np.char.add(x, mfs)    \n",
    "x = np.array_split(x, range(3, len(x), 3))\n",
    "x.reverse()\n",
    "print(x)\n",
    "x = np.array(np.meshgrid(*x)) # the '*' unpacks x and passes to messgrid\n",
    "print(x)\n",
    "m = x[1].ravel()\n",
    "m = np.char.add(m, \",\")   \n",
    "x = np.char.add(m, x[0].ravel())   \n",
    "x = x.tolist()\n",
    "x"
   ]
  },
  {
   "cell_type": "code",
   "execution_count": null,
   "metadata": {},
   "outputs": [
    {
     "name": "stdout",
     "output_type": "stream",
     "text": [
      "[array([1, 2, 3]), array([4, 5, 6]), array([7, 8, 9]), array([10, 11, 12])]\n"
     ]
    },
    {
     "data": {
      "text/plain": [
       "array([ 4,  4,  4,  8,  8,  8, 12, 12, 12,  5,  5,  5, 10, 10, 10, 15, 15,\n",
       "       15,  6,  6,  6, 12, 12, 12, 18, 18, 18])"
      ]
     },
     "execution_count": 12,
     "metadata": {},
     "output_type": "execute_result"
    }
   ],
   "source": [
    "x = np.array([1,2,3,4,5,6,7,8,9,10,11,12])\n",
    "\n",
    "x = np.array_split(x, range(3, len(x), 3))\n",
    "print(x)\n",
    "\n",
    "x =  np.meshgrid(x[0], x[1], x[2])\n",
    "#print(x)\n",
    "x = (x[0] * x[1]).ravel()\n",
    "x"
   ]
  },
  {
   "cell_type": "markdown",
   "metadata": {},
   "source": [
    "### rule consequent layer"
   ]
  },
  {
   "cell_type": "code",
   "execution_count": null,
   "metadata": {},
   "outputs": [
    {
     "name": "stdout",
     "output_type": "stream",
     "text": [
      "[1. 2. 3. 4. 5. 6. 7. 8. 9.]\n",
      "[[0. 0.]\n",
      " [0. 0.]\n",
      " [0. 0.]\n",
      " [0. 0.]\n",
      " [0. 0.]\n",
      " [0. 0.]\n",
      " [0. 0.]\n",
      " [0. 0.]\n",
      " [0. 0.]]\n",
      "[[1.]\n",
      " [2.]\n",
      " [3.]\n",
      " [4.]\n",
      " [5.]\n",
      " [6.]\n",
      " [7.]\n",
      " [8.]\n",
      " [9.]]\n"
     ]
    },
    {
     "data": {
      "text/plain": [
       "array([[0., 0.],\n",
       "       [0., 0.],\n",
       "       [0., 0.],\n",
       "       [0., 0.],\n",
       "       [0., 0.],\n",
       "       [0., 0.],\n",
       "       [0., 0.],\n",
       "       [0., 0.],\n",
       "       [0., 0.]])"
      ]
     },
     "execution_count": 13,
     "metadata": {},
     "output_type": "execute_result"
    }
   ],
   "source": [
    "x = np.array([1,2,3,4,5,6,7,8,9], dtype=np.float64)\n",
    "weights = np.zeros((x.shape[0], 2), dtype=np.float64)\n",
    "print(x)\n",
    "print(weights)\n",
    "\n",
    "x = x[:, np.newaxis]\n",
    "print(x)\n",
    "\n",
    "x= x* weights\n",
    "x"
   ]
  },
  {
   "cell_type": "markdown",
   "metadata": {},
   "source": [
    "## Training"
   ]
  },
  {
   "cell_type": "markdown",
   "metadata": {},
   "source": [
    "### error function"
   ]
  },
  {
   "cell_type": "code",
   "execution_count": null,
   "metadata": {},
   "outputs": [
    {
     "name": "stdout",
     "output_type": "stream",
     "text": [
      "[0. 0. 0. 0.]\n"
     ]
    }
   ],
   "source": [
    "output = np.array([[0, 1], [1, 0], [0, 1], [1, 0]], dtype=np.float64)\n",
    "target = np.array([[1,0], [1, 0], [0, 1], [0, 1]], dtype=np.float64)\n",
    "output.shape[0]\n",
    "result = np.zeros(shape=(output.shape[0],), dtype=np.float64)\n",
    "print(result)"
   ]
  },
  {
   "cell_type": "code",
   "execution_count": null,
   "metadata": {},
   "outputs": [
    {
     "data": {
      "text/plain": [
       "array([1., 0., 0., 1.])"
      ]
     },
     "execution_count": 15,
     "metadata": {},
     "output_type": "execute_result"
    }
   ],
   "source": [
    "# opt 1\n",
    "def calculate_difference(output, target):\n",
    "    # Find indices where the value is 1 in the output array\n",
    "    indices = np.where(output == 1)\n",
    "\n",
    "    # Create a zero-filled array of the same shape as output\n",
    "    result = np.zeros(shape=(output.shape[0],), dtype=np.float64)\n",
    "\n",
    "    # Set the values at the found indices to the difference of output and target\n",
    "    result = output[indices] - target[indices]\n",
    "\n",
    "    return result\n",
    "\n",
    "calculate_difference(output, target)"
   ]
  },
  {
   "cell_type": "code",
   "execution_count": null,
   "metadata": {},
   "outputs": [
    {
     "data": {
      "text/plain": [
       "array([[0. , 0.5],\n",
       "       [0. , 0. ],\n",
       "       [0. , 0. ],\n",
       "       [0.5, 0. ]])"
      ]
     },
     "execution_count": 16,
     "metadata": {},
     "output_type": "execute_result"
    }
   ],
   "source": [
    "# opt 2\n",
    "result = np.zeros_like(output, dtype=np.float64)\n",
    "\n",
    "# Directly subtract target from output at the found indices\n",
    "0.5*np.subtract(output, target, where=output==1, out=result)**2"
   ]
  },
  {
   "cell_type": "markdown",
   "metadata": {},
   "source": [
    "### adapt"
   ]
  },
  {
   "cell_type": "code",
   "execution_count": null,
   "metadata": {},
   "outputs": [
    {
     "data": {
      "text/plain": [
       "[array([[1, 2, 3],\n",
       "        [1, 2, 3],\n",
       "        [1, 2, 3]]),\n",
       " array([[4, 4, 4],\n",
       "        [5, 5, 5],\n",
       "        [6, 6, 6]])]"
      ]
     },
     "execution_count": 17,
     "metadata": {},
     "output_type": "execute_result"
    }
   ],
   "source": [
    "error = np.ones(shape=(9,))\n",
    "\n",
    "x1 = np.array([1,2,3])\n",
    "x2 = np.array([4,5,6])\n",
    "\n",
    "x =  np.meshgrid(x1, x2)\n",
    "x # get those directly from antecedent layer with inputs attribute\n",
    "\n"
   ]
  },
  {
   "cell_type": "code",
   "execution_count": null,
   "metadata": {},
   "outputs": [
    {
     "name": "stdout",
     "output_type": "stream",
     "text": [
      "[[1. 1. 1.]\n",
      " [1. 1. 1.]\n",
      " [1. 1. 1.]]\n",
      "[array([[4., 4., 4.],\n",
      "       [5., 5., 5.],\n",
      "       [6., 6., 6.]]), array([[1., 2., 3.],\n",
      "       [1., 2., 3.],\n",
      "       [1., 2., 3.]])]\n"
     ]
    }
   ],
   "source": [
    "# reshape error to match each mu \n",
    "error = np.reshape(error, x[0].shape)\n",
    "print(error)\n",
    "\n",
    "delta = [mu * error for mu in x]\n",
    "delta.reverse() # the other mu\n",
    "print(delta)"
   ]
  },
  {
   "cell_type": "code",
   "execution_count": null,
   "metadata": {},
   "outputs": [],
   "source": [
    "# these would result from derived MF function\n",
    "centers_prime = np.arange(stop=6) \n",
    "widths_prime = np.arange(stop=6)\n",
    "\n",
    "# imitate the whole meshgrid process like in antecedent layer\n",
    "x = np.array_split(centers_prime, range(3, len(centers_prime), 3))\n",
    "centers_grided = np.meshgrid(x[0], x[1]) \n",
    "\n",
    "x = np.array_split(widths_prime, range(3, len(widths_prime), 3))\n",
    "widths_grided = np.meshgrid(x[0], x[1]) "
   ]
  },
  {
   "cell_type": "code",
   "execution_count": null,
   "metadata": {},
   "outputs": [
    {
     "name": "stdout",
     "output_type": "stream",
     "text": [
      "[array([[4., 4., 4.],\n",
      "       [5., 5., 5.],\n",
      "       [6., 6., 6.]]), array([[1., 2., 3.],\n",
      "       [1., 2., 3.],\n",
      "       [1., 2., 3.]])]\n",
      "\n",
      "\n",
      "[array([[0, 1, 2],\n",
      "       [0, 1, 2],\n",
      "       [0, 1, 2]]), array([[3, 3, 3],\n",
      "       [4, 4, 4],\n",
      "       [5, 5, 5]])]\n",
      "\n",
      "\n",
      "[array([[0, 1, 2],\n",
      "       [0, 1, 2],\n",
      "       [0, 1, 2]]), array([[3, 3, 3],\n",
      "       [4, 4, 4],\n",
      "       [5, 5, 5]])]\n"
     ]
    }
   ],
   "source": [
    "print(delta)\n",
    "print(\"\\n\")\n",
    "print(centers_grided)\n",
    "print(\"\\n\")\n",
    "print(widths_grided)"
   ]
  },
  {
   "cell_type": "code",
   "execution_count": null,
   "metadata": {},
   "outputs": [
    {
     "data": {
      "text/plain": [
       "[array([[ 0.,  4.,  8.],\n",
       "        [ 0.,  5., 10.],\n",
       "        [ 0.,  6., 12.]]),\n",
       " array([[ 3.,  6.,  9.],\n",
       "        [ 4.,  8., 12.],\n",
       "        [ 5., 10., 15.]])]"
      ]
     },
     "execution_count": 21,
     "metadata": {},
     "output_type": "execute_result"
    }
   ],
   "source": [
    "delta = [d * centers for d,centers in zip(delta,centers_grided)]\n",
    "delta"
   ]
  },
  {
   "cell_type": "code",
   "execution_count": null,
   "metadata": {},
   "outputs": [
    {
     "name": "stdout",
     "output_type": "stream",
     "text": [
      "[0 1 2 3 4 5]\n"
     ]
    }
   ],
   "source": [
    "centers_to_tune = np.arange(stop=6) \n",
    "widths_to_tune = np.arange(stop=6)\n",
    "print(centers_to_tune)"
   ]
  },
  {
   "cell_type": "code",
   "execution_count": null,
   "metadata": {},
   "outputs": [
    {
     "data": {
      "text/plain": [
       "[array([0, 1, 2]), array([3, 4, 5])]"
      ]
     },
     "execution_count": 23,
     "metadata": {},
     "output_type": "execute_result"
    }
   ],
   "source": [
    "centers_to_tune = np.array_split(centers_to_tune, range(3, len(centers_to_tune), 3))\n",
    "widths_to_tune = np.array_split(widths_to_tune, range(3, len(widths_to_tune), 3))\n",
    "centers_to_tune"
   ]
  },
  {
   "cell_type": "code",
   "execution_count": null,
   "metadata": {},
   "outputs": [],
   "source": [
    "centers_to_tune[0] = centers_to_tune[0]"
   ]
  }
 ],
 "metadata": {
  "kernelspec": {
   "display_name": "base",
   "language": "python",
   "name": "python3"
  },
  "language_info": {
   "codemirror_mode": {
    "name": "ipython",
    "version": 3
   },
   "file_extension": ".py",
   "mimetype": "text/x-python",
   "name": "python",
   "nbconvert_exporter": "python",
   "pygments_lexer": "ipython3",
   "version": "3.10.13"
  }
 },
 "nbformat": 4,
 "nbformat_minor": 2
}
