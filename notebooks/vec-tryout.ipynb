{
 "cells": [
  {
   "cell_type": "markdown",
   "metadata": {},
   "source": [
    "## Try-out notebook for playing around with vectorization"
   ]
  },
  {
   "cell_type": "code",
   "execution_count": 91,
   "metadata": {},
   "outputs": [],
   "source": [
    "import numpy as np"
   ]
  },
  {
   "cell_type": "markdown",
   "metadata": {},
   "source": [
    "#### How to stretch np arrays so row wise mult will be possible"
   ]
  },
  {
   "cell_type": "code",
   "execution_count": 92,
   "metadata": {},
   "outputs": [
    {
     "data": {
      "text/plain": [
       "array([1, 1, 1, 2, 2, 2])"
      ]
     },
     "execution_count": 92,
     "metadata": {},
     "output_type": "execute_result"
    }
   ],
   "source": [
    "x = np.array([1, 2])\n",
    "x = np.tile(x[:, np.newaxis], 3).ravel()\n",
    "x"
   ]
  },
  {
   "cell_type": "code",
   "execution_count": 93,
   "metadata": {},
   "outputs": [
    {
     "data": {
      "text/plain": [
       "array([1, 1, 1, 2, 2, 2])"
      ]
     },
     "execution_count": 93,
     "metadata": {},
     "output_type": "execute_result"
    }
   ],
   "source": [
    "x = np.array([1,2])\n",
    "x = np.repeat(x, 3)\n",
    "x"
   ]
  },
  {
   "cell_type": "markdown",
   "metadata": {},
   "source": [
    "### Fuzzification Layer"
   ]
  },
  {
   "cell_type": "code",
   "execution_count": 94,
   "metadata": {},
   "outputs": [
    {
     "data": {
      "text/plain": [
       "array([0, 1, 2, 0, 1, 2])"
      ]
     },
     "execution_count": 94,
     "metadata": {},
     "output_type": "execute_result"
    }
   ],
   "source": [
    "multiplicator = np.arange(3)\n",
    "multiplicator = np.tile(np.arange(3), 2)\n",
    "multiplicator"
   ]
  },
  {
   "cell_type": "code",
   "execution_count": 95,
   "metadata": {},
   "outputs": [
    {
     "name": "stdout",
     "output_type": "stream",
     "text": [
      "<class 'numpy.ndarray'>\n",
      "[2.  4.  6.  2.5 5.  7.5]\n",
      "<class 'numpy.ndarray'>\n"
     ]
    }
   ],
   "source": [
    "def center_init(x, n_mfs):\n",
    "    \"\"\"Initializes the centers of MFs by partitioning the domain of the features\n",
    "\n",
    "    Args:\n",
    "        x (numpy.ndarray): the max values for each feature, i.e. the domain\n",
    "        n_mfs (int): number of MFs in Fuzzification Layer\n",
    "        \n",
    "    Returns: \n",
    "        numpy.ndarray: initalized widths with the shape (x.size,)\n",
    "    \"\"\"\n",
    "    n_inputs = x.size // n_mfs\n",
    "    multiplicator = np.tile(np.arange(1, n_mfs + 1), n_inputs)\n",
    "    return (x / (n_mfs + 1)) * multiplicator\n",
    "\n",
    "x = np.array([8,10])\n",
    "x = np.repeat(x, 3)\n",
    "print(type(x))\n",
    "print(center_init(x, 3))\n",
    "print(type(center_init(x, 3))) # numpy.ndarray'"
   ]
  },
  {
   "cell_type": "code",
   "execution_count": 96,
   "metadata": {},
   "outputs": [
    {
     "name": "stdout",
     "output_type": "stream",
     "text": [
      "6\n",
      "[2.  2.  2.  2.5 2.5 2.5]\n",
      "(6,)\n"
     ]
    }
   ],
   "source": [
    "def widths_init(x, n_mfs):\n",
    "    \"\"\"Initializes the widths of MFs by partitioning the domain of the features\n",
    "\n",
    "    Args:\n",
    "        x (numpy.ndarray): the max values for each feature, i.e. the feature's domain\n",
    "        n_mfs (int): number of MFs in Fuzzification Layer\n",
    "\n",
    "    Returns: \n",
    "        numpy.ndarray: initalized widths with the shape (x.size,)\n",
    "    \"\"\"\n",
    "    return x/(n_mfs+1)\n",
    "\n",
    "x = np.array([8,10])\n",
    "x = np.repeat(x, 3)\n",
    "print(x.size)\n",
    "print(widths_init(x, 3))\n",
    "print(widths_init(x, 3).shape)"
   ]
  },
  {
   "cell_type": "code",
   "execution_count": 97,
   "metadata": {},
   "outputs": [],
   "source": [
    "def MF(x, center, width):\n",
    "    return np.exp(-0.5*(((x-center)/width)**2))\n",
    "    "
   ]
  },
  {
   "cell_type": "code",
   "execution_count": 98,
   "metadata": {},
   "outputs": [
    {
     "name": "stdout",
     "output_type": "stream",
     "text": [
      "[1 1 1 2 2 2]\n"
     ]
    },
    {
     "data": {
      "text/plain": [
       "array([1.        , 0.8824969 , 0.8007374 , 0.8824969 , 0.83527021,\n",
       "       0.8007374 ])"
      ]
     },
     "execution_count": 98,
     "metadata": {},
     "output_type": "execute_result"
    }
   ],
   "source": [
    "x = np.array([1,2])\n",
    "x = np.repeat(x, 3)\n",
    "\n",
    "center = np.array([1, 2, 3, 4, 5, 6])# np.ones(3)\n",
    "width = np.array([1, 2, 3, 4, 5, 6])\n",
    "\n",
    "print(x)\n",
    "\n",
    "MF(x, center, width)"
   ]
  },
  {
   "cell_type": "markdown",
   "metadata": {},
   "source": [
    "### Rule Antecedent Layer\n"
   ]
  },
  {
   "cell_type": "code",
   "execution_count": null,
   "metadata": {},
   "outputs": [],
   "source": []
  },
  {
   "cell_type": "code",
   "execution_count": 99,
   "metadata": {},
   "outputs": [
    {
     "data": {
      "text/plain": [
       "array([ 280,  308,  336,  320,  352,  384,  360,  396,  432,  560,  616,\n",
       "        672,  640,  704,  768,  720,  792,  864,  840,  924, 1008,  960,\n",
       "       1056, 1152, 1080, 1188, 1296,  350,  385,  420,  400,  440,  480,\n",
       "        450,  495,  540,  700,  770,  840,  800,  880,  960,  900,  990,\n",
       "       1080, 1050, 1155, 1260, 1200, 1320, 1440, 1350, 1485, 1620,  420,\n",
       "        462,  504,  480,  528,  576,  540,  594,  648,  840,  924, 1008,\n",
       "        960, 1056, 1152, 1080, 1188, 1296, 1260, 1386, 1512, 1440, 1584,\n",
       "       1728, 1620, 1782, 1944])"
      ]
     },
     "execution_count": 99,
     "metadata": {},
     "output_type": "execute_result"
    }
   ],
   "source": [
    "#x = np.array([1,2,3,4,5,6])\n",
    "x = np.array([1,2,3,4,5,6,7,8,9,10,11,12])\n",
    "\n",
    "\n",
    "x = np.array_split(x, range(3, len(x), 3))\n",
    "\n",
    "\n",
    "\n",
    "x = np.meshgrid(*x) # the '*' unpacks x and passes to messgrid\n",
    "\n",
    "x = np.prod(x, axis=0).ravel()\n",
    "\n",
    "x"
   ]
  },
  {
   "cell_type": "code",
   "execution_count": 100,
   "metadata": {},
   "outputs": [
    {
     "name": "stdout",
     "output_type": "stream",
     "text": [
      "[array(['x2,low', 'x2,medium', 'x2,high'], dtype='<U9'), array(['x1,low', 'x1,medium', 'x1,high'], dtype='<U9')]\n",
      "[[['x2,low' 'x2,medium' 'x2,high']\n",
      "  ['x2,low' 'x2,medium' 'x2,high']\n",
      "  ['x2,low' 'x2,medium' 'x2,high']]\n",
      "\n",
      " [['x1,low' 'x1,low' 'x1,low']\n",
      "  ['x1,medium' 'x1,medium' 'x1,medium']\n",
      "  ['x1,high' 'x1,high' 'x1,high']]]\n"
     ]
    },
    {
     "data": {
      "text/plain": [
       "['x1,low,x2,low',\n",
       " 'x1,low,x2,medium',\n",
       " 'x1,low,x2,high',\n",
       " 'x1,medium,x2,low',\n",
       " 'x1,medium,x2,medium',\n",
       " 'x1,medium,x2,high',\n",
       " 'x1,high,x2,low',\n",
       " 'x1,high,x2,medium',\n",
       " 'x1,high,x2,high']"
      ]
     },
     "execution_count": 100,
     "metadata": {},
     "output_type": "execute_result"
    }
   ],
   "source": [
    "feature_names = np.array([\"x1\", \"x2\"])\n",
    "mfs = np.array([\"low\", \"medium\", \"high\"])\n",
    "\n",
    "\n",
    "x = feature_names\n",
    "x = np.tile(x[:, np.newaxis], 3).ravel()\n",
    "mfs = np.tile(mfs, 2)\n",
    "\n",
    "x = np.char.add(x, \",\")    \n",
    "x = np.char.add(x, mfs)    \n",
    "x = np.array_split(x, range(3, len(x), 3))\n",
    "x.reverse()\n",
    "print(x)\n",
    "x = np.array(np.meshgrid(*x)) # the '*' unpacks x and passes to messgrid\n",
    "print(x)\n",
    "m = x[1].ravel()\n",
    "m = np.char.add(m, \",\")   \n",
    "x = np.char.add(m, x[0].ravel())   \n",
    "x = x.tolist()\n",
    "x"
   ]
  },
  {
   "cell_type": "code",
   "execution_count": 101,
   "metadata": {},
   "outputs": [
    {
     "name": "stdout",
     "output_type": "stream",
     "text": [
      "[array([1, 2, 3]), array([4, 5, 6]), array([7, 8, 9]), array([10, 11, 12])]\n"
     ]
    },
    {
     "data": {
      "text/plain": [
       "array([ 4,  4,  4,  8,  8,  8, 12, 12, 12,  5,  5,  5, 10, 10, 10, 15, 15,\n",
       "       15,  6,  6,  6, 12, 12, 12, 18, 18, 18])"
      ]
     },
     "execution_count": 101,
     "metadata": {},
     "output_type": "execute_result"
    }
   ],
   "source": [
    "x = np.array([1,2,3,4,5,6,7,8,9,10,11,12])\n",
    "\n",
    "x = np.array_split(x, range(3, len(x), 3))\n",
    "print(x)\n",
    "\n",
    "x =  np.meshgrid(x[0], x[1], x[2])\n",
    "#print(x)\n",
    "x = (x[0] * x[1]).ravel()\n",
    "x"
   ]
  },
  {
   "cell_type": "markdown",
   "metadata": {},
   "source": [
    "### rule consequent layer"
   ]
  },
  {
   "cell_type": "code",
   "execution_count": 102,
   "metadata": {},
   "outputs": [
    {
     "name": "stdout",
     "output_type": "stream",
     "text": [
      "[1. 2. 3. 4. 5. 6. 7. 8. 9.]\n",
      "[[0. 0.]\n",
      " [0. 0.]\n",
      " [0. 0.]\n",
      " [0. 0.]\n",
      " [0. 0.]\n",
      " [0. 0.]\n",
      " [0. 0.]\n",
      " [0. 0.]\n",
      " [0. 0.]]\n",
      "[[1.]\n",
      " [2.]\n",
      " [3.]\n",
      " [4.]\n",
      " [5.]\n",
      " [6.]\n",
      " [7.]\n",
      " [8.]\n",
      " [9.]]\n"
     ]
    },
    {
     "data": {
      "text/plain": [
       "array([[0., 0.],\n",
       "       [0., 0.],\n",
       "       [0., 0.],\n",
       "       [0., 0.],\n",
       "       [0., 0.],\n",
       "       [0., 0.],\n",
       "       [0., 0.],\n",
       "       [0., 0.],\n",
       "       [0., 0.]])"
      ]
     },
     "execution_count": 102,
     "metadata": {},
     "output_type": "execute_result"
    }
   ],
   "source": [
    "x = np.array([1,2,3,4,5,6,7,8,9], dtype=np.float64)\n",
    "weights = np.zeros((x.shape[0], 2), dtype=np.float64)\n",
    "print(x)\n",
    "print(weights)\n",
    "\n",
    "x = x[:, np.newaxis]\n",
    "print(x)\n",
    "\n",
    "x= x* weights\n",
    "x"
   ]
  },
  {
   "cell_type": "markdown",
   "metadata": {},
   "source": [
    "## Training"
   ]
  },
  {
   "cell_type": "markdown",
   "metadata": {},
   "source": [
    "### error function"
   ]
  },
  {
   "cell_type": "code",
   "execution_count": 103,
   "metadata": {},
   "outputs": [
    {
     "name": "stdout",
     "output_type": "stream",
     "text": [
      "[0. 0. 0. 0.]\n"
     ]
    }
   ],
   "source": [
    "output = np.array([[0, 1], [1, 0], [0, 1], [1, 0]], dtype=np.float64)\n",
    "target = np.array([[1,0], [1, 0], [0, 1], [0, 1]], dtype=np.float64)\n",
    "output.shape[0]\n",
    "result = np.zeros(shape=(output.shape[0],), dtype=np.float64)\n",
    "print(result)"
   ]
  },
  {
   "cell_type": "code",
   "execution_count": 104,
   "metadata": {},
   "outputs": [
    {
     "data": {
      "text/plain": [
       "array([1., 0., 0., 1.])"
      ]
     },
     "execution_count": 104,
     "metadata": {},
     "output_type": "execute_result"
    }
   ],
   "source": [
    "# opt 1\n",
    "def calculate_difference(output, target):\n",
    "    # Find indices where the value is 1 in the output array\n",
    "    indices = np.where(output == 1)\n",
    "\n",
    "    # Create a zero-filled array of the same shape as output\n",
    "    result = np.zeros(shape=(output.shape[0],), dtype=np.float64)\n",
    "\n",
    "    # Set the values at the found indices to the difference of output and target\n",
    "    result = output[indices] - target[indices]\n",
    "\n",
    "    return result\n",
    "\n",
    "calculate_difference(output, target)"
   ]
  },
  {
   "cell_type": "code",
   "execution_count": 105,
   "metadata": {},
   "outputs": [
    {
     "data": {
      "text/plain": [
       "array([[0. , 0.5],\n",
       "       [0. , 0. ],\n",
       "       [0. , 0. ],\n",
       "       [0.5, 0. ]])"
      ]
     },
     "execution_count": 105,
     "metadata": {},
     "output_type": "execute_result"
    }
   ],
   "source": [
    "# opt 2\n",
    "result = np.zeros_like(output, dtype=np.float64)\n",
    "\n",
    "# Directly subtract target from output at the found indices\n",
    "0.5*np.subtract(output, target, where=output==1, out=result)**2"
   ]
  },
  {
   "cell_type": "markdown",
   "metadata": {},
   "source": [
    "### adapt"
   ]
  },
  {
   "cell_type": "code",
   "execution_count": 106,
   "metadata": {},
   "outputs": [
    {
     "data": {
      "text/plain": [
       "[array([[1, 2, 3],\n",
       "        [1, 2, 3],\n",
       "        [1, 2, 3]]),\n",
       " array([[4, 4, 4],\n",
       "        [5, 5, 5],\n",
       "        [6, 6, 6]])]"
      ]
     },
     "execution_count": 106,
     "metadata": {},
     "output_type": "execute_result"
    }
   ],
   "source": [
    "error = np.ones(shape=(9,))\n",
    "\n",
    "x1 = np.array([1,2,3])\n",
    "x2 = np.array([4,5,6])\n",
    "\n",
    "x =  np.meshgrid(x1, x2)\n",
    "x # get those directly from antecedent layer with inputs attribute\n",
    "\n"
   ]
  },
  {
   "cell_type": "code",
   "execution_count": 107,
   "metadata": {},
   "outputs": [
    {
     "name": "stdout",
     "output_type": "stream",
     "text": [
      "[[1. 1. 1.]\n",
      " [1. 1. 1.]\n",
      " [1. 1. 1.]]\n",
      "[array([[4., 4., 4.],\n",
      "       [5., 5., 5.],\n",
      "       [6., 6., 6.]]), array([[1., 2., 3.],\n",
      "       [1., 2., 3.],\n",
      "       [1., 2., 3.]])]\n"
     ]
    }
   ],
   "source": [
    "# reshape error to match each mu \n",
    "error = np.reshape(error, x[0].shape)\n",
    "print(error)\n",
    "\n",
    "delta = [mu * error for mu in x]\n",
    "delta.reverse() # the other mu\n",
    "print(delta)"
   ]
  },
  {
   "cell_type": "code",
   "execution_count": 108,
   "metadata": {},
   "outputs": [],
   "source": [
    "# these would result from derived MF function\n",
    "centers_prime = np.arange(stop=6) \n",
    "widths_prime = np.arange(stop=6)\n",
    "\n",
    "# imitate the whole meshgrid process like in antecedent layer\n",
    "x = np.array_split(centers_prime, range(3, len(centers_prime), 3))\n",
    "centers_grided = np.meshgrid(x[0], x[1]) \n",
    "\n",
    "x = np.array_split(widths_prime, range(3, len(widths_prime), 3))\n",
    "widths_grided = np.meshgrid(x[0], x[1]) "
   ]
  },
  {
   "cell_type": "code",
   "execution_count": 109,
   "metadata": {},
   "outputs": [
    {
     "name": "stdout",
     "output_type": "stream",
     "text": [
      "[array([[4., 4., 4.],\n",
      "       [5., 5., 5.],\n",
      "       [6., 6., 6.]]), array([[1., 2., 3.],\n",
      "       [1., 2., 3.],\n",
      "       [1., 2., 3.]])]\n",
      "\n",
      "\n",
      "[array([[0, 1, 2],\n",
      "       [0, 1, 2],\n",
      "       [0, 1, 2]]), array([[3, 3, 3],\n",
      "       [4, 4, 4],\n",
      "       [5, 5, 5]])]\n",
      "\n",
      "\n",
      "[array([[0, 1, 2],\n",
      "       [0, 1, 2],\n",
      "       [0, 1, 2]]), array([[3, 3, 3],\n",
      "       [4, 4, 4],\n",
      "       [5, 5, 5]])]\n"
     ]
    }
   ],
   "source": [
    "print(delta)\n",
    "print(\"\\n\")\n",
    "print(centers_grided)\n",
    "print(\"\\n\")\n",
    "print(widths_grided)"
   ]
  },
  {
   "cell_type": "code",
   "execution_count": 110,
   "metadata": {},
   "outputs": [
    {
     "data": {
      "text/plain": [
       "[array([[ 0.,  4.,  8.],\n",
       "        [ 0.,  5., 10.],\n",
       "        [ 0.,  6., 12.]]),\n",
       " array([[ 3.,  6.,  9.],\n",
       "        [ 4.,  8., 12.],\n",
       "        [ 5., 10., 15.]])]"
      ]
     },
     "execution_count": 110,
     "metadata": {},
     "output_type": "execute_result"
    }
   ],
   "source": [
    "delta = [d * centers for d,centers in zip(delta,centers_grided)]\n",
    "delta"
   ]
  },
  {
   "cell_type": "code",
   "execution_count": 111,
   "metadata": {},
   "outputs": [
    {
     "name": "stdout",
     "output_type": "stream",
     "text": [
      "[0 1 2 3 4 5]\n"
     ]
    }
   ],
   "source": [
    "centers_to_tune = np.arange(stop=6) \n",
    "widths_to_tune = np.arange(stop=6)\n",
    "print(centers_to_tune)"
   ]
  },
  {
   "cell_type": "code",
   "execution_count": 112,
   "metadata": {},
   "outputs": [
    {
     "data": {
      "text/plain": [
       "[array([0, 1, 2]), array([3, 4, 5])]"
      ]
     },
     "execution_count": 112,
     "metadata": {},
     "output_type": "execute_result"
    }
   ],
   "source": [
    "centers_to_tune = np.array_split(centers_to_tune, range(3, len(centers_to_tune), 3))\n",
    "widths_to_tune = np.array_split(widths_to_tune, range(3, len(widths_to_tune), 3))\n",
    "centers_to_tune"
   ]
  },
  {
   "cell_type": "code",
   "execution_count": 113,
   "metadata": {},
   "outputs": [],
   "source": [
    "centers_to_tune[0] = centers_to_tune[0]"
   ]
  },
  {
   "cell_type": "code",
   "execution_count": 114,
   "metadata": {},
   "outputs": [
    {
     "name": "stdout",
     "output_type": "stream",
     "text": [
      "[array([1, 2, 3]), array([4, 5, 6]), array([7, 8, 9])]\n"
     ]
    },
    {
     "data": {
      "text/plain": [
       "array([[[ 28,  32,  36],\n",
       "        [ 35,  40,  45],\n",
       "        [ 42,  48,  54]],\n",
       "\n",
       "       [[ 56,  64,  72],\n",
       "        [ 70,  80,  90],\n",
       "        [ 84,  96, 108]],\n",
       "\n",
       "       [[ 84,  96, 108],\n",
       "        [105, 120, 135],\n",
       "        [126, 144, 162]]])"
      ]
     },
     "execution_count": 114,
     "metadata": {},
     "output_type": "execute_result"
    }
   ],
   "source": [
    "error = np.arange(stop=9)\n",
    "\n",
    "x = np.array([1,2,3,4,5,6,7,8,9])\n",
    "\n",
    "x = np.array_split(x, range(3, len(x), 3))\n",
    "print(x)\n",
    "\n",
    "x =  np.meshgrid(*x, indexing=\"ij\")\n",
    "x = np.prod(x,axis=0)\n",
    "x # get those directly from antecedent layer with inputs attribute\n"
   ]
  },
  {
   "cell_type": "code",
   "execution_count": 115,
   "metadata": {},
   "outputs": [
    {
     "name": "stdout",
     "output_type": "stream",
     "text": [
      "[[0 1 2]\n",
      " [3 4 5]\n",
      " [6 7 8]]\n"
     ]
    }
   ],
   "source": [
    "# reshape error to match each mu \n",
    "error = np.reshape(error, x[0].shape)\n",
    "print(error)\n",
    "\n"
   ]
  },
  {
   "cell_type": "code",
   "execution_count": 116,
   "metadata": {},
   "outputs": [
    {
     "name": "stdout",
     "output_type": "stream",
     "text": [
      "[array([[   0,   96,  216],\n",
      "       [ 315,  480,  675],\n",
      "       [ 756, 1008, 1296]]), array([[  0,  64, 144],\n",
      "       [210, 320, 450],\n",
      "       [504, 672, 864]]), array([[  0,  32,  72],\n",
      "       [105, 160, 225],\n",
      "       [252, 336, 432]])]\n"
     ]
    }
   ],
   "source": [
    "delta = [mu * error for mu in x]\n",
    "delta.reverse() # the other mu\n",
    "print(delta)"
   ]
  },
  {
   "cell_type": "code",
   "execution_count": 117,
   "metadata": {},
   "outputs": [
    {
     "name": "stdout",
     "output_type": "stream",
     "text": [
      "i 0\n",
      "p None\n",
      "e [[0 1 2]\n",
      " [3 4 5]\n",
      " [6 7 8]]\n",
      "j 0\n",
      "j 1\n",
      "Delta [[  0  64 144]\n",
      " [210 320 450]\n",
      " [504 672 864]]\n",
      "j 2\n",
      "Delta [[     0   6144  15552]\n",
      " [ 22050  38400  60750]\n",
      " [ 63504  96768 139968]]\n",
      "i 1\n",
      "p None\n",
      "e [[     0   6144  15552]\n",
      " [ 22050  38400  60750]\n",
      " [ 63504  96768 139968]]\n",
      "j 0\n",
      "Delta [[      0  196608  559872]\n",
      " [ 771750 1536000 2733750]\n",
      " [2667168 4644864 7558272]]\n",
      "j 1\n",
      "j 2\n",
      "Delta [[         0   18874368   60466176]\n",
      " [  81033750  184320000  369056250]\n",
      " [ 336063168  668860416 1224440064]]\n",
      "i 2\n",
      "p None\n",
      "e [[         0   18874368   60466176]\n",
      " [  81033750  184320000  369056250]\n",
      " [ 336063168  668860416 1224440064]]\n",
      "j 0\n",
      "Delta [[          0   603979776 -2118184960]\n",
      " [-1458786046 -1217134592  -572337934]\n",
      " [ 1229751168  2040528896  1695254016]]\n",
      "j 1\n",
      "Delta [[          0           0  2109505536]\n",
      " [  964191884  1413480448    29193492]\n",
      " [  219883008 -1677721600 -1596160000]]\n",
      "j 2\n"
     ]
    },
    {
     "data": {
      "text/plain": [
       "[array([[          0,           0,  2109505536],\n",
       "        [  964191884,  1413480448,    29193492],\n",
       "        [  219883008, -1677721600, -1596160000]]),\n",
       " array([[          0,           0,  2109505536],\n",
       "        [  964191884,  1413480448,    29193492],\n",
       "        [  219883008, -1677721600, -1596160000]]),\n",
       " array([[          0,           0,  2109505536],\n",
       "        [  964191884,  1413480448,    29193492],\n",
       "        [  219883008, -1677721600, -1596160000]])]"
      ]
     },
     "execution_count": 117,
     "metadata": {},
     "output_type": "execute_result"
    }
   ],
   "source": [
    "deltas = []\n",
    "for i, _ in enumerate(x):\n",
    "    print(\"i\", i)\n",
    "    p = None\n",
    "    print(\"p\", p)\n",
    "    p = error\n",
    "    \n",
    "    print(\"e\", error)\n",
    "    for j, mu in enumerate(x):\n",
    "        \n",
    "        print(\"j\", j)\n",
    "        if i==j:\n",
    "            \n",
    "            continue\n",
    "        else:\n",
    "            p *= mu\n",
    "            print(\"Delta\", p)\n",
    "    deltas.append(p)\n",
    "deltas"
   ]
  },
  {
   "cell_type": "markdown",
   "metadata": {},
   "source": [
    "## decompose"
   ]
  },
  {
   "cell_type": "code",
   "execution_count": 118,
   "metadata": {},
   "outputs": [
    {
     "name": "stdout",
     "output_type": "stream",
     "text": [
      "[array([[[[1, 1, 1],\n",
      "         [1, 1, 1],\n",
      "         [1, 1, 1]],\n",
      "\n",
      "        [[1, 1, 1],\n",
      "         [1, 1, 1],\n",
      "         [1, 1, 1]],\n",
      "\n",
      "        [[1, 1, 1],\n",
      "         [1, 1, 1],\n",
      "         [1, 1, 1]]],\n",
      "\n",
      "\n",
      "       [[[2, 2, 2],\n",
      "         [2, 2, 2],\n",
      "         [2, 2, 2]],\n",
      "\n",
      "        [[2, 2, 2],\n",
      "         [2, 2, 2],\n",
      "         [2, 2, 2]],\n",
      "\n",
      "        [[2, 2, 2],\n",
      "         [2, 2, 2],\n",
      "         [2, 2, 2]]],\n",
      "\n",
      "\n",
      "       [[[3, 3, 3],\n",
      "         [3, 3, 3],\n",
      "         [3, 3, 3]],\n",
      "\n",
      "        [[3, 3, 3],\n",
      "         [3, 3, 3],\n",
      "         [3, 3, 3]],\n",
      "\n",
      "        [[3, 3, 3],\n",
      "         [3, 3, 3],\n",
      "         [3, 3, 3]]]]), array([[[[4, 4, 4],\n",
      "         [4, 4, 4],\n",
      "         [4, 4, 4]],\n",
      "\n",
      "        [[5, 5, 5],\n",
      "         [5, 5, 5],\n",
      "         [5, 5, 5]],\n",
      "\n",
      "        [[6, 6, 6],\n",
      "         [6, 6, 6],\n",
      "         [6, 6, 6]]],\n",
      "\n",
      "\n",
      "       [[[4, 4, 4],\n",
      "         [4, 4, 4],\n",
      "         [4, 4, 4]],\n",
      "\n",
      "        [[5, 5, 5],\n",
      "         [5, 5, 5],\n",
      "         [5, 5, 5]],\n",
      "\n",
      "        [[6, 6, 6],\n",
      "         [6, 6, 6],\n",
      "         [6, 6, 6]]],\n",
      "\n",
      "\n",
      "       [[[4, 4, 4],\n",
      "         [4, 4, 4],\n",
      "         [4, 4, 4]],\n",
      "\n",
      "        [[5, 5, 5],\n",
      "         [5, 5, 5],\n",
      "         [5, 5, 5]],\n",
      "\n",
      "        [[6, 6, 6],\n",
      "         [6, 6, 6],\n",
      "         [6, 6, 6]]]]), array([[[[7, 7, 7],\n",
      "         [8, 8, 8],\n",
      "         [9, 9, 9]],\n",
      "\n",
      "        [[7, 7, 7],\n",
      "         [8, 8, 8],\n",
      "         [9, 9, 9]],\n",
      "\n",
      "        [[7, 7, 7],\n",
      "         [8, 8, 8],\n",
      "         [9, 9, 9]]],\n",
      "\n",
      "\n",
      "       [[[7, 7, 7],\n",
      "         [8, 8, 8],\n",
      "         [9, 9, 9]],\n",
      "\n",
      "        [[7, 7, 7],\n",
      "         [8, 8, 8],\n",
      "         [9, 9, 9]],\n",
      "\n",
      "        [[7, 7, 7],\n",
      "         [8, 8, 8],\n",
      "         [9, 9, 9]]],\n",
      "\n",
      "\n",
      "       [[[7, 7, 7],\n",
      "         [8, 8, 8],\n",
      "         [9, 9, 9]],\n",
      "\n",
      "        [[7, 7, 7],\n",
      "         [8, 8, 8],\n",
      "         [9, 9, 9]],\n",
      "\n",
      "        [[7, 7, 7],\n",
      "         [8, 8, 8],\n",
      "         [9, 9, 9]]]]), array([[[[10, 11, 12],\n",
      "         [10, 11, 12],\n",
      "         [10, 11, 12]],\n",
      "\n",
      "        [[10, 11, 12],\n",
      "         [10, 11, 12],\n",
      "         [10, 11, 12]],\n",
      "\n",
      "        [[10, 11, 12],\n",
      "         [10, 11, 12],\n",
      "         [10, 11, 12]]],\n",
      "\n",
      "\n",
      "       [[[10, 11, 12],\n",
      "         [10, 11, 12],\n",
      "         [10, 11, 12]],\n",
      "\n",
      "        [[10, 11, 12],\n",
      "         [10, 11, 12],\n",
      "         [10, 11, 12]],\n",
      "\n",
      "        [[10, 11, 12],\n",
      "         [10, 11, 12],\n",
      "         [10, 11, 12]]],\n",
      "\n",
      "\n",
      "       [[[10, 11, 12],\n",
      "         [10, 11, 12],\n",
      "         [10, 11, 12]],\n",
      "\n",
      "        [[10, 11, 12],\n",
      "         [10, 11, 12],\n",
      "         [10, 11, 12]],\n",
      "\n",
      "        [[10, 11, 12],\n",
      "         [10, 11, 12],\n",
      "         [10, 11, 12]]]])]\n"
     ]
    }
   ],
   "source": [
    "error = np.arange(stop=9)\n",
    "\n",
    "x = np.array([1,2,3,4,5,6,7,8,9,10,11,12])\n",
    "\n",
    "x = np.array_split(x, range(3, len(x), 3))\n",
    "\n",
    "\n",
    "delta =  np.meshgrid(*x, indexing=\"ij\")\n",
    "print(delta)\n"
   ]
  },
  {
   "cell_type": "code",
   "execution_count": 119,
   "metadata": {},
   "outputs": [
    {
     "name": "stdout",
     "output_type": "stream",
     "text": [
      "[array([27, 54, 81]), array([108, 135, 162]), array([189, 216, 243]), array([270, 297, 324])]\n"
     ]
    }
   ],
   "source": [
    "deltas = []\n",
    "x = delta[0]\n",
    "x = np.sum(x, axis=3)\n",
    "x = np.sum(x, axis=1)\n",
    "x = np.sum(x, axis=1)\n",
    "deltas.append(x)\n",
    "\n",
    "x = delta[1]\n",
    "x = np.sum(x, axis=0)\n",
    "x = np.sum(x, axis=1)\n",
    "x = np.sum(x, axis=1)\n",
    "deltas.append(x)\n",
    "\n",
    "x = delta[2]\n",
    "x = np.sum(x, axis=0) # or 1\n",
    "x = np.sum(x, axis=2)\n",
    "x = np.sum(x, axis=0)\n",
    "deltas.append(x)\n",
    "\n",
    "x = delta[3]\n",
    "x = np.sum(x, axis=1) # or 2\n",
    "x = np.sum(x, axis=0)\n",
    "x = np.sum(x, axis=0)\n",
    "deltas.append(x)\n",
    "print(deltas)"
   ]
  },
  {
   "cell_type": "code",
   "execution_count": 120,
   "metadata": {},
   "outputs": [
    {
     "data": {
      "text/plain": [
       "array([ 27,  54,  81, 108, 135, 162, 189, 216, 243, 270, 297, 324])"
      ]
     },
     "execution_count": 120,
     "metadata": {},
     "output_type": "execute_result"
    }
   ],
   "source": [
    "deltas = np.array(deltas)\n",
    "deltas = deltas.ravel()\n",
    "deltas"
   ]
  },
  {
   "cell_type": "code",
   "execution_count": 121,
   "metadata": {},
   "outputs": [
    {
     "name": "stdout",
     "output_type": "stream",
     "text": [
      "[array([[[1, 1, 1],\n",
      "        [1, 1, 1],\n",
      "        [1, 1, 1]],\n",
      "\n",
      "       [[2, 2, 2],\n",
      "        [2, 2, 2],\n",
      "        [2, 2, 2]],\n",
      "\n",
      "       [[3, 3, 3],\n",
      "        [3, 3, 3],\n",
      "        [3, 3, 3]]]), array([[[4, 4, 4],\n",
      "        [5, 5, 5],\n",
      "        [6, 6, 6]],\n",
      "\n",
      "       [[4, 4, 4],\n",
      "        [5, 5, 5],\n",
      "        [6, 6, 6]],\n",
      "\n",
      "       [[4, 4, 4],\n",
      "        [5, 5, 5],\n",
      "        [6, 6, 6]]]), array([[[7, 8, 9],\n",
      "        [7, 8, 9],\n",
      "        [7, 8, 9]],\n",
      "\n",
      "       [[7, 8, 9],\n",
      "        [7, 8, 9],\n",
      "        [7, 8, 9]],\n",
      "\n",
      "       [[7, 8, 9],\n",
      "        [7, 8, 9],\n",
      "        [7, 8, 9]]])]\n"
     ]
    }
   ],
   "source": [
    "error = np.arange(stop=9)\n",
    "\n",
    "x = np.array([1,2,3,4,5,6,7,8,9])\n",
    "\n",
    "x = np.array_split(x, range(3, len(x), 3))\n",
    "\n",
    "\n",
    "delta =  np.meshgrid(*x, indexing=\"ij\")\n",
    "print(delta)\n"
   ]
  },
  {
   "cell_type": "code",
   "execution_count": 122,
   "metadata": {},
   "outputs": [
    {
     "data": {
      "text/plain": [
       "array([ 9, 18, 27])"
      ]
     },
     "execution_count": 122,
     "metadata": {},
     "output_type": "execute_result"
    }
   ],
   "source": [
    "x = delta[0]\n",
    "x = np.sum(x, axis=(1,2))\n",
    "\n",
    "\n",
    "#x = np.sum(x, axis=1)\n",
    "x"
   ]
  },
  {
   "cell_type": "code",
   "execution_count": 123,
   "metadata": {},
   "outputs": [
    {
     "data": {
      "text/plain": [
       "array([36, 45, 54])"
      ]
     },
     "execution_count": 123,
     "metadata": {},
     "output_type": "execute_result"
    }
   ],
   "source": [
    "x = delta[1]\n",
    "x = np.sum(x, axis=0)\n",
    "x = np.sum(x, axis=1)\n",
    "x"
   ]
  },
  {
   "cell_type": "code",
   "execution_count": 124,
   "metadata": {},
   "outputs": [
    {
     "data": {
      "text/plain": [
       "array([63, 72, 81])"
      ]
     },
     "execution_count": 124,
     "metadata": {},
     "output_type": "execute_result"
    }
   ],
   "source": [
    "x = delta[2]\n",
    "x = np.sum(x, axis=1)\n",
    "x = np.sum(x, axis=0)\n",
    "x"
   ]
  },
  {
   "cell_type": "code",
   "execution_count": 125,
   "metadata": {},
   "outputs": [
    {
     "name": "stdout",
     "output_type": "stream",
     "text": [
      "[[4 5 6]\n",
      " [4 5 6]\n",
      " [4 5 6]]\n",
      "[array([4, 5, 6]), array([4, 5, 6])]\n"
     ]
    }
   ],
   "source": [
    "x = np.array([1,2,3,4,5,6])\n",
    "x.setflags(write=1) # not needed \n",
    "x = np.array_split(x, range(3, len(x), 3))\n",
    "\n",
    "xi = x\n",
    "ndim = len(xi)\n",
    "\n",
    "\n",
    "\n",
    "s0 = (1,) * ndim\n",
    "output = [np.asanyarray(x).reshape(s0[:i] + (-1,) + s0[i + 1:])\n",
    "            for i, x in enumerate(xi)]\n",
    "\n",
    "if ndim > 1:\n",
    "    # switch first and second axis\n",
    "    output[0].shape = (1, -1) + s0[2:]\n",
    "    output[1].shape = (-1, 1) + s0[2:]\n",
    "\n",
    "\n",
    "# Return the full N-D matrix (not only the 1-D vector)\n",
    "output = np.broadcast_arrays(*output, subok=True)\n",
    "\n",
    "output = output[0]\n",
    "output.setflags(write=1) # needed \n",
    "output += 3\n",
    "#output = output * 3\n",
    "print(output)\n",
    "print(x)"
   ]
  },
  {
   "cell_type": "code",
   "execution_count": 126,
   "metadata": {},
   "outputs": [
    {
     "name": "stdout",
     "output_type": "stream",
     "text": [
      "[ 5 10 15  4  5  6]\n",
      "[ 5 10 15]\n"
     ]
    }
   ],
   "source": [
    "# params to tune\n",
    "param = np.array([1,2,3,4,5,6])\n",
    "\n",
    "param_split = np.array_split(param, range(3, len(param), 3)) # does return adress \n",
    "\n",
    "#param_gridded = [p*5 for p in param_gridded] # does not change param\n",
    "param_split = param_split[0]\n",
    "param_split *= 5 # changes param\n",
    "\n",
    "\n",
    "print(param)\n",
    "print(param_split)"
   ]
  },
  {
   "cell_type": "code",
   "execution_count": 127,
   "metadata": {},
   "outputs": [
    {
     "name": "stdout",
     "output_type": "stream",
     "text": [
      "[ 5 10 15  4  5  6]\n",
      "[array([ 5, 10, 15]), array([4, 5, 6])]\n",
      "[[ 5  5  5]\n",
      " [10 10 10]\n",
      " [15 15 15]]\n"
     ]
    }
   ],
   "source": [
    "# params to tune\n",
    "param = np.array([1,2,3,4,5,6])\n",
    "\n",
    "param_split = np.array_split(param, range(3, len(param), 3)) # does return adress \n",
    "\n",
    "param_gridded = np.meshgrid(*param_split, indexing=\"ij\", copy=False) # If False, a view into the original arrays are returned in order to conserve memory.  Default is True.\n",
    "param_gridded = param_gridded[0]\n",
    "param_gridded.setflags(write=1) # needed \n",
    "param_gridded *= 5 # changes param\n",
    "\n",
    "\n",
    "print(param)\n",
    "print(param_split)\n",
    "print(param_gridded)"
   ]
  },
  {
   "cell_type": "code",
   "execution_count": 128,
   "metadata": {},
   "outputs": [
    {
     "name": "stdout",
     "output_type": "stream",
     "text": [
      "[1 2 3 4 5 6]\n",
      "[array([1, 2, 3]), array([4, 5, 6])]\n",
      "[array([[1, 1, 1],\n",
      "       [2, 2, 2],\n",
      "       [3, 3, 3]]), array([[4, 5, 6],\n",
      "       [4, 5, 6],\n",
      "       [4, 5, 6]])]\n"
     ]
    }
   ],
   "source": [
    "param = np.array([1,2,3,4,5,6])\n",
    "\n",
    "param_split = np.array_split(param, range(3, len(param), 3)) # does return adress \n",
    "\n",
    "param_gridded = np.meshgrid(*param_split, indexing=\"ij\", copy=False) # If False, a view into the original arrays are returned in order to conserve memory.  Default is True.\n",
    "\n",
    "\n",
    "print(param)\n",
    "print(param_split)\n",
    "print(param_gridded)"
   ]
  },
  {
   "cell_type": "code",
   "execution_count": 131,
   "metadata": {},
   "outputs": [
    {
     "name": "stdout",
     "output_type": "stream",
     "text": [
      "[ 5 10 15 20 25 30]\n",
      "[array([ 5, 10, 15]), array([20, 25, 30])]\n",
      "[array([[ 5,  5,  5],\n",
      "       [10, 10, 10],\n",
      "       [15, 15, 15]]), array([[20, 25, 30],\n",
      "       [20, 25, 30],\n",
      "       [20, 25, 30]])]\n"
     ]
    }
   ],
   "source": [
    "# params to tune\n",
    "param = np.array([1,2,3,4,5,6])\n",
    "\n",
    "param_split = np.array_split(param, range(3, len(param), 3)) # does return adress \n",
    "\n",
    "param_gridded = np.meshgrid(*param_split, indexing=\"ij\", copy=False) # If False, a view into the original arrays are returned in order to conserve memory.  Default is True.\n",
    "\n",
    "for p in param_gridded:\n",
    "   # param_gridded = param_gridded[0]\n",
    "    p.setflags(write=1) # needed \n",
    "    p *= 5 # changes param\n",
    " \n",
    "\n",
    "print(param)\n",
    "print(param_split)\n",
    "print(param_gridded)"
   ]
  },
  {
   "cell_type": "code",
   "execution_count": 134,
   "metadata": {},
   "outputs": [
    {
     "name": "stdout",
     "output_type": "stream",
     "text": [
      "[0 0 0 0 0 0]\n",
      "[array([0, 0, 0]), array([0, 0, 0])]\n",
      "[array([[0, 0, 0],\n",
      "       [0, 0, 0],\n",
      "       [0, 0, 0]]), array([[0, 0, 0],\n",
      "       [0, 0, 0],\n",
      "       [0, 0, 0]])]\n"
     ]
    }
   ],
   "source": [
    "# params to tune\n",
    "param = np.array([1,2,3,4,5,6])\n",
    "\n",
    "param_split = np.array_split(param, range(3, len(param), 3)) # does return adress \n",
    "\n",
    "param_gridded = np.meshgrid(*param_split, indexing=\"ij\", copy=False) # If False, a view into the original arrays are returned in order to conserve memory.  Default is True.\n",
    "\n",
    "delta = np.array([1,2,3,4,5,6])\n",
    "\n",
    "delta = np.array_split(delta, range(3, len(delta), 3)) # does return adress \n",
    "\n",
    "delta = np.meshgrid(*delta, indexing=\"ij\", copy=False) \n",
    "\n",
    "\n",
    "for p, d in zip(param_gridded,delta):\n",
    "   # param_gridded = param_gridded[0]\n",
    "    p.setflags(write=1) # needed \n",
    "    p -= d # changes param\n",
    " \n",
    "\n",
    "print(param)\n",
    "print(param_split)\n",
    "print(param_gridded)"
   ]
  },
  {
   "cell_type": "code",
   "execution_count": 130,
   "metadata": {},
   "outputs": [
    {
     "name": "stdout",
     "output_type": "stream",
     "text": [
      "[[2 2 2]\n",
      " [4 4 4]\n",
      " [6 6 6]]\n",
      "[1 2 3 4 5 6]\n"
     ]
    }
   ],
   "source": [
    "x = np.array([1,2,3,4,5,6])\n",
    "\n",
    "mid = np.array_split(x, range(3, len(x), 3)) # does not return adress \n",
    "mid =  np.meshgrid(*mid, indexing=\"ij\")\n",
    "\n",
    "# out = mid[0]\n",
    "# out.setflags(write=1) # needed \n",
    "# out += 3\n",
    "\n",
    "mid = mid[0]\n",
    "mid *= 2\n",
    "\n",
    "print(mid)\n",
    "print(x)\n"
   ]
  },
  {
   "cell_type": "code",
   "execution_count": null,
   "metadata": {},
   "outputs": [],
   "source": []
  }
 ],
 "metadata": {
  "kernelspec": {
   "display_name": "base",
   "language": "python",
   "name": "python3"
  },
  "language_info": {
   "codemirror_mode": {
    "name": "ipython",
    "version": 3
   },
   "file_extension": ".py",
   "mimetype": "text/x-python",
   "name": "python",
   "nbconvert_exporter": "python",
   "pygments_lexer": "ipython3",
   "version": "3.10.13"
  }
 },
 "nbformat": 4,
 "nbformat_minor": 2
}
