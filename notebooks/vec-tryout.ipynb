{
 "cells": [
  {
   "cell_type": "markdown",
   "metadata": {},
   "source": [
    "## Try-out notebook for playing around with vectorization"
   ]
  },
  {
   "cell_type": "code",
   "execution_count": 2,
   "metadata": {},
   "outputs": [],
   "source": [
    "import numpy as np"
   ]
  },
  {
   "cell_type": "markdown",
   "metadata": {},
   "source": [
    "#### How to stretch np arrays so row wise mult will be possible"
   ]
  },
  {
   "cell_type": "code",
   "execution_count": 3,
   "metadata": {},
   "outputs": [
    {
     "data": {
      "text/plain": [
       "array([1, 1, 1, 2, 2, 2])"
      ]
     },
     "execution_count": 3,
     "metadata": {},
     "output_type": "execute_result"
    }
   ],
   "source": [
    "x = np.array([1, 2])\n",
    "x = np.tile(x[:, np.newaxis], 3).ravel()\n",
    "x"
   ]
  },
  {
   "cell_type": "code",
   "execution_count": 4,
   "metadata": {},
   "outputs": [
    {
     "data": {
      "text/plain": [
       "array([1, 1, 1, 2, 2, 2])"
      ]
     },
     "execution_count": 4,
     "metadata": {},
     "output_type": "execute_result"
    }
   ],
   "source": [
    "x = np.array([1,2])\n",
    "x = np.repeat(x, 3)\n",
    "x"
   ]
  },
  {
   "cell_type": "markdown",
   "metadata": {},
   "source": [
    "### Fuzzification Layer"
   ]
  },
  {
   "cell_type": "code",
   "execution_count": 5,
   "metadata": {},
   "outputs": [
    {
     "data": {
      "text/plain": [
       "array([0, 1, 2, 0, 1, 2])"
      ]
     },
     "execution_count": 5,
     "metadata": {},
     "output_type": "execute_result"
    }
   ],
   "source": [
    "multiplicator = np.arange(3)\n",
    "multiplicator = np.tile(np.arange(3), 2)\n",
    "multiplicator"
   ]
  },
  {
   "cell_type": "code",
   "execution_count": 6,
   "metadata": {},
   "outputs": [
    {
     "name": "stdout",
     "output_type": "stream",
     "text": [
      "<class 'numpy.ndarray'>\n",
      "[2.  4.  6.  2.5 5.  7.5]\n",
      "<class 'numpy.ndarray'>\n"
     ]
    }
   ],
   "source": [
    "def center_init(x, n_mfs):\n",
    "    \"\"\"Initializes the centers of MFs by partitioning the domain of the features\n",
    "\n",
    "    Args:\n",
    "        x (numpy.ndarray): the max values for each feature, i.e. the domain\n",
    "        n_mfs (int): number of MFs in Fuzzification Layer\n",
    "        \n",
    "    Returns: \n",
    "        numpy.ndarray: initalized widths with the shape (x.size,)\n",
    "    \"\"\"\n",
    "    n_inputs = x.size // n_mfs\n",
    "    multiplicator = np.tile(np.arange(1, n_mfs + 1), n_inputs)\n",
    "    return (x / (n_mfs + 1)) * multiplicator\n",
    "\n",
    "x = np.array([8,10])\n",
    "x = np.repeat(x, 3)\n",
    "print(type(x))\n",
    "print(center_init(x, 3))\n",
    "print(type(center_init(x, 3))) # numpy.ndarray'"
   ]
  },
  {
   "cell_type": "code",
   "execution_count": 7,
   "metadata": {},
   "outputs": [
    {
     "name": "stdout",
     "output_type": "stream",
     "text": [
      "6\n",
      "[2.  2.  2.  2.5 2.5 2.5]\n",
      "(6,)\n"
     ]
    }
   ],
   "source": [
    "def widths_init(x, n_mfs):\n",
    "    \"\"\"Initializes the widths of MFs by partitioning the domain of the features\n",
    "\n",
    "    Args:\n",
    "        x (numpy.ndarray): the max values for each feature, i.e. the feature's domain\n",
    "        n_mfs (int): number of MFs in Fuzzification Layer\n",
    "\n",
    "    Returns: \n",
    "        numpy.ndarray: initalized widths with the shape (x.size,)\n",
    "    \"\"\"\n",
    "    return x/(n_mfs+1)\n",
    "\n",
    "x = np.array([8,10])\n",
    "x = np.repeat(x, 3)\n",
    "print(x.size)\n",
    "print(widths_init(x, 3))\n",
    "print(widths_init(x, 3).shape)"
   ]
  },
  {
   "cell_type": "code",
   "execution_count": 8,
   "metadata": {},
   "outputs": [],
   "source": [
    "def MF(x, center, width):\n",
    "    return np.exp(-0.5*(((x-center)/width)**2))\n",
    "    "
   ]
  },
  {
   "cell_type": "code",
   "execution_count": 9,
   "metadata": {},
   "outputs": [
    {
     "name": "stdout",
     "output_type": "stream",
     "text": [
      "[1 1 1 2 2 2]\n"
     ]
    },
    {
     "data": {
      "text/plain": [
       "array([1.        , 0.8824969 , 0.8007374 , 0.8824969 , 0.83527021,\n",
       "       0.8007374 ])"
      ]
     },
     "execution_count": 9,
     "metadata": {},
     "output_type": "execute_result"
    }
   ],
   "source": [
    "x = np.array([1,2])\n",
    "x = np.repeat(x, 3)\n",
    "\n",
    "center = np.array([1, 2, 3, 4, 5, 6])# np.ones(3)\n",
    "width = np.array([1, 2, 3, 4, 5, 6])\n",
    "\n",
    "print(x)\n",
    "\n",
    "MF(x, center, width)"
   ]
  },
  {
   "cell_type": "markdown",
   "metadata": {},
   "source": [
    "### Rule Antecedent Layer\n"
   ]
  },
  {
   "cell_type": "code",
   "execution_count": null,
   "metadata": {},
   "outputs": [],
   "source": []
  },
  {
   "cell_type": "code",
   "execution_count": 10,
   "metadata": {},
   "outputs": [
    {
     "data": {
      "text/plain": [
       "array([ 280,  308,  336,  320,  352,  384,  360,  396,  432,  560,  616,\n",
       "        672,  640,  704,  768,  720,  792,  864,  840,  924, 1008,  960,\n",
       "       1056, 1152, 1080, 1188, 1296,  350,  385,  420,  400,  440,  480,\n",
       "        450,  495,  540,  700,  770,  840,  800,  880,  960,  900,  990,\n",
       "       1080, 1050, 1155, 1260, 1200, 1320, 1440, 1350, 1485, 1620,  420,\n",
       "        462,  504,  480,  528,  576,  540,  594,  648,  840,  924, 1008,\n",
       "        960, 1056, 1152, 1080, 1188, 1296, 1260, 1386, 1512, 1440, 1584,\n",
       "       1728, 1620, 1782, 1944])"
      ]
     },
     "execution_count": 10,
     "metadata": {},
     "output_type": "execute_result"
    }
   ],
   "source": [
    "#x = np.array([1,2,3,4,5,6])\n",
    "x = np.array([1,2,3,4,5,6,7,8,9,10,11,12])\n",
    "\n",
    "\n",
    "x = np.array_split(x, range(3, len(x), 3))\n",
    "\n",
    "\n",
    "\n",
    "x = np.meshgrid(*x) # the '*' unpacks x and passes to messgrid\n",
    "\n",
    "x = np.prod(x, axis=0).ravel()\n",
    "\n",
    "x"
   ]
  },
  {
   "cell_type": "code",
   "execution_count": 11,
   "metadata": {},
   "outputs": [
    {
     "name": "stdout",
     "output_type": "stream",
     "text": [
      "[array(['x2,low', 'x2,medium', 'x2,high'], dtype='<U9'), array(['x1,low', 'x1,medium', 'x1,high'], dtype='<U9')]\n",
      "[[['x2,low' 'x2,medium' 'x2,high']\n",
      "  ['x2,low' 'x2,medium' 'x2,high']\n",
      "  ['x2,low' 'x2,medium' 'x2,high']]\n",
      "\n",
      " [['x1,low' 'x1,low' 'x1,low']\n",
      "  ['x1,medium' 'x1,medium' 'x1,medium']\n",
      "  ['x1,high' 'x1,high' 'x1,high']]]\n"
     ]
    },
    {
     "data": {
      "text/plain": [
       "['x1,low,x2,low',\n",
       " 'x1,low,x2,medium',\n",
       " 'x1,low,x2,high',\n",
       " 'x1,medium,x2,low',\n",
       " 'x1,medium,x2,medium',\n",
       " 'x1,medium,x2,high',\n",
       " 'x1,high,x2,low',\n",
       " 'x1,high,x2,medium',\n",
       " 'x1,high,x2,high']"
      ]
     },
     "execution_count": 11,
     "metadata": {},
     "output_type": "execute_result"
    }
   ],
   "source": [
    "feature_names = np.array([\"x1\", \"x2\"])\n",
    "mfs = np.array([\"low\", \"medium\", \"high\"])\n",
    "\n",
    "\n",
    "x = feature_names\n",
    "x = np.tile(x[:, np.newaxis], 3).ravel()\n",
    "mfs = np.tile(mfs, 2)\n",
    "\n",
    "x = np.char.add(x, \",\")    \n",
    "x = np.char.add(x, mfs)    \n",
    "x = np.array_split(x, range(3, len(x), 3))\n",
    "x.reverse()\n",
    "print(x)\n",
    "x = np.array(np.meshgrid(*x)) # the '*' unpacks x and passes to messgrid\n",
    "print(x)\n",
    "m = x[1].ravel()\n",
    "m = np.char.add(m, \",\")   \n",
    "x = np.char.add(m, x[0].ravel())   \n",
    "x = x.tolist()\n",
    "x"
   ]
  },
  {
   "cell_type": "code",
   "execution_count": 12,
   "metadata": {},
   "outputs": [
    {
     "name": "stdout",
     "output_type": "stream",
     "text": [
      "[array([1, 2, 3]), array([4, 5, 6]), array([7, 8, 9]), array([10, 11, 12])]\n"
     ]
    },
    {
     "data": {
      "text/plain": [
       "array([ 4,  4,  4,  8,  8,  8, 12, 12, 12,  5,  5,  5, 10, 10, 10, 15, 15,\n",
       "       15,  6,  6,  6, 12, 12, 12, 18, 18, 18])"
      ]
     },
     "execution_count": 12,
     "metadata": {},
     "output_type": "execute_result"
    }
   ],
   "source": [
    "x = np.array([1,2,3,4,5,6,7,8,9,10,11,12])\n",
    "\n",
    "x = np.array_split(x, range(3, len(x), 3))\n",
    "print(x)\n",
    "\n",
    "x =  np.meshgrid(x[0], x[1], x[2])\n",
    "#print(x)\n",
    "x = (x[0] * x[1]).ravel()\n",
    "x"
   ]
  },
  {
   "cell_type": "markdown",
   "metadata": {},
   "source": [
    "### rule consequent layer"
   ]
  },
  {
   "cell_type": "code",
   "execution_count": 13,
   "metadata": {},
   "outputs": [
    {
     "name": "stdout",
     "output_type": "stream",
     "text": [
      "[1. 2. 3. 4. 5. 6. 7. 8. 9.]\n",
      "[[0. 0.]\n",
      " [0. 0.]\n",
      " [0. 0.]\n",
      " [0. 0.]\n",
      " [0. 0.]\n",
      " [0. 0.]\n",
      " [0. 0.]\n",
      " [0. 0.]\n",
      " [0. 0.]]\n",
      "[[1.]\n",
      " [2.]\n",
      " [3.]\n",
      " [4.]\n",
      " [5.]\n",
      " [6.]\n",
      " [7.]\n",
      " [8.]\n",
      " [9.]]\n"
     ]
    },
    {
     "data": {
      "text/plain": [
       "array([[0., 0.],\n",
       "       [0., 0.],\n",
       "       [0., 0.],\n",
       "       [0., 0.],\n",
       "       [0., 0.],\n",
       "       [0., 0.],\n",
       "       [0., 0.],\n",
       "       [0., 0.],\n",
       "       [0., 0.]])"
      ]
     },
     "execution_count": 13,
     "metadata": {},
     "output_type": "execute_result"
    }
   ],
   "source": [
    "x = np.array([1,2,3,4,5,6,7,8,9], dtype=np.float64)\n",
    "weights = np.zeros((x.shape[0], 2), dtype=np.float64)\n",
    "print(x)\n",
    "print(weights)\n",
    "\n",
    "x = x[:, np.newaxis]\n",
    "print(x)\n",
    "\n",
    "x= x* weights\n",
    "x"
   ]
  },
  {
   "cell_type": "markdown",
   "metadata": {},
   "source": [
    "## Training"
   ]
  },
  {
   "cell_type": "markdown",
   "metadata": {},
   "source": [
    "### error function"
   ]
  },
  {
   "cell_type": "code",
   "execution_count": 14,
   "metadata": {},
   "outputs": [
    {
     "name": "stdout",
     "output_type": "stream",
     "text": [
      "[0. 0. 0. 0.]\n"
     ]
    }
   ],
   "source": [
    "output = np.array([[0, 1], [1, 0], [0, 1], [1, 0]], dtype=np.float64)\n",
    "target = np.array([[1,0], [1, 0], [0, 1], [0, 1]], dtype=np.float64)\n",
    "output.shape[0]\n",
    "result = np.zeros(shape=(output.shape[0],), dtype=np.float64)\n",
    "print(result)"
   ]
  },
  {
   "cell_type": "code",
   "execution_count": 15,
   "metadata": {},
   "outputs": [
    {
     "data": {
      "text/plain": [
       "array([1., 0., 0., 1.])"
      ]
     },
     "execution_count": 15,
     "metadata": {},
     "output_type": "execute_result"
    }
   ],
   "source": [
    "# opt 1\n",
    "def calculate_difference(output, target):\n",
    "    # Find indices where the value is 1 in the output array\n",
    "    indices = np.where(output == 1)\n",
    "\n",
    "    # Create a zero-filled array of the same shape as output\n",
    "    result = np.zeros(shape=(output.shape[0],), dtype=np.float64)\n",
    "\n",
    "    # Set the values at the found indices to the difference of output and target\n",
    "    result = output[indices] - target[indices]\n",
    "\n",
    "    return result\n",
    "\n",
    "calculate_difference(output, target)"
   ]
  },
  {
   "cell_type": "code",
   "execution_count": 16,
   "metadata": {},
   "outputs": [
    {
     "data": {
      "text/plain": [
       "array([[0. , 0.5],\n",
       "       [0. , 0. ],\n",
       "       [0. , 0. ],\n",
       "       [0.5, 0. ]])"
      ]
     },
     "execution_count": 16,
     "metadata": {},
     "output_type": "execute_result"
    }
   ],
   "source": [
    "# opt 2\n",
    "result = np.zeros_like(output, dtype=np.float64)\n",
    "\n",
    "# Directly subtract target from output at the found indices\n",
    "0.5*np.subtract(output, target, where=output==1, out=result)**2"
   ]
  },
  {
   "cell_type": "markdown",
   "metadata": {},
   "source": [
    "### adapt"
   ]
  },
  {
   "cell_type": "code",
   "execution_count": 17,
   "metadata": {},
   "outputs": [
    {
     "data": {
      "text/plain": [
       "[array([[1, 2, 3],\n",
       "        [1, 2, 3],\n",
       "        [1, 2, 3]]),\n",
       " array([[4, 4, 4],\n",
       "        [5, 5, 5],\n",
       "        [6, 6, 6]])]"
      ]
     },
     "execution_count": 17,
     "metadata": {},
     "output_type": "execute_result"
    }
   ],
   "source": [
    "error = np.ones(shape=(9,))\n",
    "\n",
    "x1 = np.array([1,2,3])\n",
    "x2 = np.array([4,5,6])\n",
    "\n",
    "x =  np.meshgrid(x1, x2)\n",
    "x # get those directly from antecedent layer with inputs attribute\n",
    "\n"
   ]
  },
  {
   "cell_type": "code",
   "execution_count": 18,
   "metadata": {},
   "outputs": [
    {
     "name": "stdout",
     "output_type": "stream",
     "text": [
      "[[1. 1. 1.]\n",
      " [1. 1. 1.]\n",
      " [1. 1. 1.]]\n",
      "[array([[4., 4., 4.],\n",
      "       [5., 5., 5.],\n",
      "       [6., 6., 6.]]), array([[1., 2., 3.],\n",
      "       [1., 2., 3.],\n",
      "       [1., 2., 3.]])]\n"
     ]
    }
   ],
   "source": [
    "# reshape error to match each mu \n",
    "error = np.reshape(error, x[0].shape)\n",
    "print(error)\n",
    "\n",
    "delta = [mu * error for mu in x]\n",
    "delta.reverse() # the other mu\n",
    "print(delta)"
   ]
  },
  {
   "cell_type": "code",
   "execution_count": 19,
   "metadata": {},
   "outputs": [],
   "source": [
    "# these would result from derived MF function\n",
    "centers_prime = np.arange(stop=6) \n",
    "widths_prime = np.arange(stop=6)\n",
    "\n",
    "# imitate the whole meshgrid process like in antecedent layer\n",
    "x = np.array_split(centers_prime, range(3, len(centers_prime), 3))\n",
    "centers_grided = np.meshgrid(x[0], x[1]) \n",
    "\n",
    "x = np.array_split(widths_prime, range(3, len(widths_prime), 3))\n",
    "widths_grided = np.meshgrid(x[0], x[1]) "
   ]
  },
  {
   "cell_type": "code",
   "execution_count": 20,
   "metadata": {},
   "outputs": [
    {
     "name": "stdout",
     "output_type": "stream",
     "text": [
      "[array([[4., 4., 4.],\n",
      "       [5., 5., 5.],\n",
      "       [6., 6., 6.]]), array([[1., 2., 3.],\n",
      "       [1., 2., 3.],\n",
      "       [1., 2., 3.]])]\n",
      "\n",
      "\n",
      "[array([[0, 1, 2],\n",
      "       [0, 1, 2],\n",
      "       [0, 1, 2]]), array([[3, 3, 3],\n",
      "       [4, 4, 4],\n",
      "       [5, 5, 5]])]\n",
      "\n",
      "\n",
      "[array([[0, 1, 2],\n",
      "       [0, 1, 2],\n",
      "       [0, 1, 2]]), array([[3, 3, 3],\n",
      "       [4, 4, 4],\n",
      "       [5, 5, 5]])]\n"
     ]
    }
   ],
   "source": [
    "print(delta)\n",
    "print(\"\\n\")\n",
    "print(centers_grided)\n",
    "print(\"\\n\")\n",
    "print(widths_grided)"
   ]
  },
  {
   "cell_type": "code",
   "execution_count": 21,
   "metadata": {},
   "outputs": [
    {
     "data": {
      "text/plain": [
       "[array([[ 0.,  4.,  8.],\n",
       "        [ 0.,  5., 10.],\n",
       "        [ 0.,  6., 12.]]),\n",
       " array([[ 3.,  6.,  9.],\n",
       "        [ 4.,  8., 12.],\n",
       "        [ 5., 10., 15.]])]"
      ]
     },
     "execution_count": 21,
     "metadata": {},
     "output_type": "execute_result"
    }
   ],
   "source": [
    "delta = [d * centers for d,centers in zip(delta,centers_grided)]\n",
    "delta"
   ]
  },
  {
   "cell_type": "code",
   "execution_count": 22,
   "metadata": {},
   "outputs": [
    {
     "name": "stdout",
     "output_type": "stream",
     "text": [
      "[0 1 2 3 4 5]\n"
     ]
    }
   ],
   "source": [
    "centers_to_tune = np.arange(stop=6) \n",
    "widths_to_tune = np.arange(stop=6)\n",
    "print(centers_to_tune)"
   ]
  },
  {
   "cell_type": "code",
   "execution_count": 23,
   "metadata": {},
   "outputs": [
    {
     "data": {
      "text/plain": [
       "[array([0, 1, 2]), array([3, 4, 5])]"
      ]
     },
     "execution_count": 23,
     "metadata": {},
     "output_type": "execute_result"
    }
   ],
   "source": [
    "centers_to_tune = np.array_split(centers_to_tune, range(3, len(centers_to_tune), 3))\n",
    "widths_to_tune = np.array_split(widths_to_tune, range(3, len(widths_to_tune), 3))\n",
    "centers_to_tune"
   ]
  },
  {
   "cell_type": "code",
   "execution_count": 24,
   "metadata": {},
   "outputs": [],
   "source": [
    "centers_to_tune[0] = centers_to_tune[0]"
   ]
  },
  {
   "cell_type": "code",
   "execution_count": 25,
   "metadata": {},
   "outputs": [
    {
     "name": "stdout",
     "output_type": "stream",
     "text": [
      "[array([1, 2, 3]), array([4, 5, 6]), array([7, 8, 9])]\n"
     ]
    },
    {
     "data": {
      "text/plain": [
       "array([[[ 28,  32,  36],\n",
       "        [ 35,  40,  45],\n",
       "        [ 42,  48,  54]],\n",
       "\n",
       "       [[ 56,  64,  72],\n",
       "        [ 70,  80,  90],\n",
       "        [ 84,  96, 108]],\n",
       "\n",
       "       [[ 84,  96, 108],\n",
       "        [105, 120, 135],\n",
       "        [126, 144, 162]]])"
      ]
     },
     "execution_count": 25,
     "metadata": {},
     "output_type": "execute_result"
    }
   ],
   "source": [
    "error = np.arange(stop=9)\n",
    "\n",
    "x = np.array([1,2,3,4,5,6,7,8,9])\n",
    "\n",
    "x = np.array_split(x, range(3, len(x), 3))\n",
    "print(x)\n",
    "\n",
    "x =  np.meshgrid(*x, indexing=\"ij\")\n",
    "x = np.prod(x,axis=0)\n",
    "x # get those directly from antecedent layer with inputs attribute\n"
   ]
  },
  {
   "cell_type": "code",
   "execution_count": 26,
   "metadata": {},
   "outputs": [
    {
     "name": "stdout",
     "output_type": "stream",
     "text": [
      "[[0 1 2]\n",
      " [3 4 5]\n",
      " [6 7 8]]\n"
     ]
    }
   ],
   "source": [
    "# reshape error to match each mu \n",
    "error = np.reshape(error, x[0].shape)\n",
    "print(error)\n",
    "\n"
   ]
  },
  {
   "cell_type": "code",
   "execution_count": 27,
   "metadata": {},
   "outputs": [
    {
     "name": "stdout",
     "output_type": "stream",
     "text": [
      "[array([[   0,   96,  216],\n",
      "       [ 315,  480,  675],\n",
      "       [ 756, 1008, 1296]]), array([[  0,  64, 144],\n",
      "       [210, 320, 450],\n",
      "       [504, 672, 864]]), array([[  0,  32,  72],\n",
      "       [105, 160, 225],\n",
      "       [252, 336, 432]])]\n"
     ]
    }
   ],
   "source": [
    "delta = [mu * error for mu in x]\n",
    "delta.reverse() # the other mu\n",
    "print(delta)"
   ]
  },
  {
   "cell_type": "code",
   "execution_count": 28,
   "metadata": {},
   "outputs": [
    {
     "name": "stdout",
     "output_type": "stream",
     "text": [
      "i 0\n",
      "p None\n",
      "e [[0 1 2]\n",
      " [3 4 5]\n",
      " [6 7 8]]\n",
      "j 0\n",
      "j 1\n",
      "Delta [[  0  64 144]\n",
      " [210 320 450]\n",
      " [504 672 864]]\n",
      "j 2\n",
      "Delta [[     0   6144  15552]\n",
      " [ 22050  38400  60750]\n",
      " [ 63504  96768 139968]]\n",
      "i 1\n",
      "p None\n",
      "e [[     0   6144  15552]\n",
      " [ 22050  38400  60750]\n",
      " [ 63504  96768 139968]]\n",
      "j 0\n",
      "Delta [[      0  196608  559872]\n",
      " [ 771750 1536000 2733750]\n",
      " [2667168 4644864 7558272]]\n",
      "j 1\n",
      "j 2\n",
      "Delta [[         0   18874368   60466176]\n",
      " [  81033750  184320000  369056250]\n",
      " [ 336063168  668860416 1224440064]]\n",
      "i 2\n",
      "p None\n",
      "e [[         0   18874368   60466176]\n",
      " [  81033750  184320000  369056250]\n",
      " [ 336063168  668860416 1224440064]]\n",
      "j 0\n",
      "Delta [[          0   603979776 -2118184960]\n",
      " [-1458786046 -1217134592  -572337934]\n",
      " [ 1229751168  2040528896  1695254016]]\n",
      "j 1\n",
      "Delta [[          0           0  2109505536]\n",
      " [  964191884  1413480448    29193492]\n",
      " [  219883008 -1677721600 -1596160000]]\n",
      "j 2\n"
     ]
    },
    {
     "data": {
      "text/plain": [
       "[array([[          0,           0,  2109505536],\n",
       "        [  964191884,  1413480448,    29193492],\n",
       "        [  219883008, -1677721600, -1596160000]]),\n",
       " array([[          0,           0,  2109505536],\n",
       "        [  964191884,  1413480448,    29193492],\n",
       "        [  219883008, -1677721600, -1596160000]]),\n",
       " array([[          0,           0,  2109505536],\n",
       "        [  964191884,  1413480448,    29193492],\n",
       "        [  219883008, -1677721600, -1596160000]])]"
      ]
     },
     "execution_count": 28,
     "metadata": {},
     "output_type": "execute_result"
    }
   ],
   "source": [
    "deltas = []\n",
    "for i, _ in enumerate(x):\n",
    "    print(\"i\", i)\n",
    "    p = None\n",
    "    print(\"p\", p)\n",
    "    p = error\n",
    "    \n",
    "    print(\"e\", error)\n",
    "    for j, mu in enumerate(x):\n",
    "        \n",
    "        print(\"j\", j)\n",
    "        if i==j:\n",
    "            \n",
    "            continue\n",
    "        else:\n",
    "            p *= mu\n",
    "            print(\"Delta\", p)\n",
    "    deltas.append(p)\n",
    "deltas"
   ]
  },
  {
   "cell_type": "markdown",
   "metadata": {},
   "source": [
    "## decompose"
   ]
  },
  {
   "cell_type": "code",
   "execution_count": 29,
   "metadata": {},
   "outputs": [
    {
     "name": "stdout",
     "output_type": "stream",
     "text": [
      "[array([[[[1, 1, 1],\n",
      "         [1, 1, 1],\n",
      "         [1, 1, 1]],\n",
      "\n",
      "        [[1, 1, 1],\n",
      "         [1, 1, 1],\n",
      "         [1, 1, 1]],\n",
      "\n",
      "        [[1, 1, 1],\n",
      "         [1, 1, 1],\n",
      "         [1, 1, 1]]],\n",
      "\n",
      "\n",
      "       [[[2, 2, 2],\n",
      "         [2, 2, 2],\n",
      "         [2, 2, 2]],\n",
      "\n",
      "        [[2, 2, 2],\n",
      "         [2, 2, 2],\n",
      "         [2, 2, 2]],\n",
      "\n",
      "        [[2, 2, 2],\n",
      "         [2, 2, 2],\n",
      "         [2, 2, 2]]],\n",
      "\n",
      "\n",
      "       [[[3, 3, 3],\n",
      "         [3, 3, 3],\n",
      "         [3, 3, 3]],\n",
      "\n",
      "        [[3, 3, 3],\n",
      "         [3, 3, 3],\n",
      "         [3, 3, 3]],\n",
      "\n",
      "        [[3, 3, 3],\n",
      "         [3, 3, 3],\n",
      "         [3, 3, 3]]]]), array([[[[4, 4, 4],\n",
      "         [4, 4, 4],\n",
      "         [4, 4, 4]],\n",
      "\n",
      "        [[5, 5, 5],\n",
      "         [5, 5, 5],\n",
      "         [5, 5, 5]],\n",
      "\n",
      "        [[6, 6, 6],\n",
      "         [6, 6, 6],\n",
      "         [6, 6, 6]]],\n",
      "\n",
      "\n",
      "       [[[4, 4, 4],\n",
      "         [4, 4, 4],\n",
      "         [4, 4, 4]],\n",
      "\n",
      "        [[5, 5, 5],\n",
      "         [5, 5, 5],\n",
      "         [5, 5, 5]],\n",
      "\n",
      "        [[6, 6, 6],\n",
      "         [6, 6, 6],\n",
      "         [6, 6, 6]]],\n",
      "\n",
      "\n",
      "       [[[4, 4, 4],\n",
      "         [4, 4, 4],\n",
      "         [4, 4, 4]],\n",
      "\n",
      "        [[5, 5, 5],\n",
      "         [5, 5, 5],\n",
      "         [5, 5, 5]],\n",
      "\n",
      "        [[6, 6, 6],\n",
      "         [6, 6, 6],\n",
      "         [6, 6, 6]]]]), array([[[[7, 7, 7],\n",
      "         [8, 8, 8],\n",
      "         [9, 9, 9]],\n",
      "\n",
      "        [[7, 7, 7],\n",
      "         [8, 8, 8],\n",
      "         [9, 9, 9]],\n",
      "\n",
      "        [[7, 7, 7],\n",
      "         [8, 8, 8],\n",
      "         [9, 9, 9]]],\n",
      "\n",
      "\n",
      "       [[[7, 7, 7],\n",
      "         [8, 8, 8],\n",
      "         [9, 9, 9]],\n",
      "\n",
      "        [[7, 7, 7],\n",
      "         [8, 8, 8],\n",
      "         [9, 9, 9]],\n",
      "\n",
      "        [[7, 7, 7],\n",
      "         [8, 8, 8],\n",
      "         [9, 9, 9]]],\n",
      "\n",
      "\n",
      "       [[[7, 7, 7],\n",
      "         [8, 8, 8],\n",
      "         [9, 9, 9]],\n",
      "\n",
      "        [[7, 7, 7],\n",
      "         [8, 8, 8],\n",
      "         [9, 9, 9]],\n",
      "\n",
      "        [[7, 7, 7],\n",
      "         [8, 8, 8],\n",
      "         [9, 9, 9]]]]), array([[[[10, 11, 12],\n",
      "         [10, 11, 12],\n",
      "         [10, 11, 12]],\n",
      "\n",
      "        [[10, 11, 12],\n",
      "         [10, 11, 12],\n",
      "         [10, 11, 12]],\n",
      "\n",
      "        [[10, 11, 12],\n",
      "         [10, 11, 12],\n",
      "         [10, 11, 12]]],\n",
      "\n",
      "\n",
      "       [[[10, 11, 12],\n",
      "         [10, 11, 12],\n",
      "         [10, 11, 12]],\n",
      "\n",
      "        [[10, 11, 12],\n",
      "         [10, 11, 12],\n",
      "         [10, 11, 12]],\n",
      "\n",
      "        [[10, 11, 12],\n",
      "         [10, 11, 12],\n",
      "         [10, 11, 12]]],\n",
      "\n",
      "\n",
      "       [[[10, 11, 12],\n",
      "         [10, 11, 12],\n",
      "         [10, 11, 12]],\n",
      "\n",
      "        [[10, 11, 12],\n",
      "         [10, 11, 12],\n",
      "         [10, 11, 12]],\n",
      "\n",
      "        [[10, 11, 12],\n",
      "         [10, 11, 12],\n",
      "         [10, 11, 12]]]])]\n"
     ]
    }
   ],
   "source": [
    "error = np.arange(stop=9)\n",
    "\n",
    "x = np.array([1,2,3,4,5,6,7,8,9,10,11,12])\n",
    "\n",
    "x = np.array_split(x, range(3, len(x), 3))\n",
    "\n",
    "\n",
    "delta =  np.meshgrid(*x, indexing=\"ij\")\n",
    "print(delta)\n"
   ]
  },
  {
   "cell_type": "code",
   "execution_count": 30,
   "metadata": {},
   "outputs": [
    {
     "name": "stdout",
     "output_type": "stream",
     "text": [
      "[array([27, 54, 81]), array([108, 135, 162]), array([189, 216, 243]), array([270, 297, 324])]\n"
     ]
    }
   ],
   "source": [
    "deltas = []\n",
    "x = delta[0]\n",
    "x = np.sum(x, axis=3)\n",
    "x = np.sum(x, axis=1)\n",
    "x = np.sum(x, axis=1)\n",
    "deltas.append(x)\n",
    "\n",
    "x = delta[1]\n",
    "x = np.sum(x, axis=0)\n",
    "x = np.sum(x, axis=1)\n",
    "x = np.sum(x, axis=1)\n",
    "deltas.append(x)\n",
    "\n",
    "x = delta[2]\n",
    "x = np.sum(x, axis=0) # or 1\n",
    "x = np.sum(x, axis=2)\n",
    "x = np.sum(x, axis=0)\n",
    "deltas.append(x)\n",
    "\n",
    "x = delta[3]\n",
    "x = np.sum(x, axis=1) # or 2\n",
    "x = np.sum(x, axis=0)\n",
    "x = np.sum(x, axis=0)\n",
    "deltas.append(x)\n",
    "print(deltas)"
   ]
  },
  {
   "cell_type": "code",
   "execution_count": 31,
   "metadata": {},
   "outputs": [
    {
     "data": {
      "text/plain": [
       "array([ 27,  54,  81, 108, 135, 162, 189, 216, 243, 270, 297, 324])"
      ]
     },
     "execution_count": 31,
     "metadata": {},
     "output_type": "execute_result"
    }
   ],
   "source": [
    "deltas = np.array(deltas)\n",
    "deltas = deltas.ravel()\n",
    "deltas"
   ]
  },
  {
   "cell_type": "code",
   "execution_count": 8,
   "metadata": {},
   "outputs": [
    {
     "name": "stdout",
     "output_type": "stream",
     "text": [
      "[array([0.16415125, 0.17187373, 0.22180631]), array([0.21101901, 0.27785319, 0.26623276]), array([[0.24004803, 0.22306363, 0.15447204, 0.20865861, 0.16393541],\n",
      "       [0.25616939, 0.26444755, 0.26702338, 0.12955922, 0.23229978],\n",
      "       [0.18507388, 0.2771561 , 0.26395508, 0.11358388, 0.20813628]]), array([[0.23058423, 0.26951646, 0.17918621, 0.0887091 , 0.21171047],\n",
      "       [0.09477579, 0.21396303, 0.26934604, 0.21363319, 0.18443018],\n",
      "       [0.23757571, 0.19263416, 0.16228633, 0.19858016, 0.09983406]]), array([[0.32892161, 0.19604254, 0.20814024],\n",
      "       [0.23162268, 0.26786412, 0.24224618],\n",
      "       [0.32561674, 0.1523264 , 0.30210325],\n",
      "       [0.14334395, 0.19624472, 0.18773259]]), array([[[0.10422766, 0.1962008 , 0.29084886, 0.35275942, 0.159673  ,\n",
      "         0.17084491],\n",
      "        [0.22484666, 0.06073674, 0.31359835, 0.27895938, 0.24009376,\n",
      "         0.27169364],\n",
      "        [0.29876992, 0.27365172, 0.26012036, 0.25557023, 0.16550569,\n",
      "         0.15731904],\n",
      "        [0.11684562, 0.31029052, 0.1699698 , 0.27206689, 0.17323091,\n",
      "         0.2523202 ],\n",
      "        [0.22571085, 0.24556726, 0.29553651, 0.13203803, 0.17643941,\n",
      "         0.15536939]],\n",
      "\n",
      "       [[0.14819496, 0.21471094, 0.1743129 , 0.26542859, 0.31159186,\n",
      "         0.17788003],\n",
      "        [0.21998803, 0.20105782, 0.20493066, 0.2834377 , 0.24378203,\n",
      "         0.17342319],\n",
      "        [0.15958129, 0.25508352, 0.24580487, 0.21331441, 0.24702022,\n",
      "         0.25718079],\n",
      "        [0.17752594, 0.21646793, 0.16759628, 0.13109899, 0.24604856,\n",
      "         0.21146152],\n",
      "        [0.18173032, 0.16498817, 0.12851194, 0.15403263, 0.24246593,\n",
      "         0.17982126]],\n",
      "\n",
      "       [[0.25414272, 0.22228989, 0.16235605, 0.21153375, 0.27880482,\n",
      "         0.25996937],\n",
      "        [0.22073166, 0.21175321, 0.21531001, 0.28506958, 0.20758962,\n",
      "         0.22993351],\n",
      "        [0.21596352, 0.11159321, 0.15327152, 0.25989317, 0.19378493,\n",
      "         0.12129557],\n",
      "        [0.20681241, 0.11972745, 0.15684633, 0.27816022, 0.05192195,\n",
      "         0.27856065],\n",
      "        [0.24623957, 0.25388571, 0.17841031, 0.11436959, 0.24156341,\n",
      "         0.16780192]]]), array([[[0.24294044, 0.27860615, 0.30371653, 0.30781228, 0.10123948,\n",
      "         0.13143468],\n",
      "        [0.11304929, 0.2309996 , 0.1146507 , 0.2401855 , 0.16312908,\n",
      "         0.2472978 ],\n",
      "        [0.1627223 , 0.16196929, 0.22905309, 0.21324645, 0.17995171,\n",
      "         0.26113386],\n",
      "        [0.09433432, 0.17938132, 0.28561154, 0.29096057, 0.22038281,\n",
      "         0.15177682],\n",
      "        [0.19777663, 0.11904629, 0.23155485, 0.15275508, 0.25149501,\n",
      "         0.21786462]],\n",
      "\n",
      "       [[0.28153815, 0.16054033, 0.16495178, 0.06956206, 0.27258769,\n",
      "         0.14893155],\n",
      "        [0.16538916, 0.1569965 , 0.18053342, 0.21585232, 0.18666008,\n",
      "         0.28549722],\n",
      "        [0.16900402, 0.20483451, 0.20947028, 0.22572776, 0.21554395,\n",
      "         0.30711817],\n",
      "        [0.22304963, 0.17190296, 0.25025287, 0.17610071, 0.17917483,\n",
      "         0.18055051],\n",
      "        [0.28368012, 0.15978821, 0.20218895, 0.32146345, 0.27500334,\n",
      "         0.12767014]],\n",
      "\n",
      "       [[0.20066627, 0.15442839, 0.20695317, 0.29090049, 0.19124523,\n",
      "         0.2022538 ],\n",
      "        [0.16904669, 0.13342271, 0.25204306, 0.27719664, 0.13589628,\n",
      "         0.22383052],\n",
      "        [0.21154491, 0.15971983, 0.20086108, 0.26535975, 0.27606565,\n",
      "         0.16520403],\n",
      "        [0.24119135, 0.15876096, 0.18283234, 0.18352085, 0.21844891,\n",
      "         0.14157135],\n",
      "        [0.18156466, 0.17970404, 0.1785206 , 0.24136347, 0.17647463,\n",
      "         0.21475064]]]), array([[[0.26778003, 0.30759755, 0.24966997, 0.26200788, 0.33010907,\n",
      "         0.16195338],\n",
      "        [0.29392341, 0.19730648, 0.34812587, 0.3187242 , 0.28543937,\n",
      "         0.21634146],\n",
      "        [0.30025584, 0.29814823, 0.32138534, 0.17234321, 0.2715557 ,\n",
      "         0.24749359]],\n",
      "\n",
      "       [[0.21385735, 0.27762678, 0.27249124, 0.19603668, 0.34757626,\n",
      "         0.20108089],\n",
      "        [0.24032553, 0.16756293, 0.20459332, 0.23802936, 0.36873591,\n",
      "         0.22882997],\n",
      "        [0.29365011, 0.20609028, 0.31622794, 0.3761999 , 0.32603803,\n",
      "         0.26708913]],\n",
      "\n",
      "       [[0.30409924, 0.22006465, 0.2919087 , 0.3132438 , 0.13525386,\n",
      "         0.2503408 ],\n",
      "        [0.17977389, 0.35636581, 0.36321445, 0.24521145, 0.29168906,\n",
      "         0.19641209],\n",
      "        [0.25663258, 0.20179306, 0.30569289, 0.26128239, 0.14347191,\n",
      "         0.24823993]],\n",
      "\n",
      "       [[0.26493371, 0.1329813 , 0.30718522, 0.17189667, 0.33384593,\n",
      "         0.22234663],\n",
      "        [0.25208246, 0.27053759, 0.41271057, 0.22692684, 0.24181062,\n",
      "         0.16859902],\n",
      "        [0.29829956, 0.26714703, 0.16586591, 0.25177781, 0.20559418,\n",
      "         0.27070569]]]), array([[[0.24762981, 0.20880655, 0.25125199],\n",
      "        [0.20665574, 0.17932427, 0.19451438],\n",
      "        [0.13018121, 0.15565314, 0.21415547],\n",
      "        [0.25406118, 0.18035574, 0.30410083],\n",
      "        [0.23234709, 0.16123657, 0.28128488],\n",
      "        [0.18017329, 0.19372659, 0.20901023]],\n",
      "\n",
      "       [[0.21334519, 0.27021244, 0.28325838],\n",
      "        [0.29846891, 0.20590749, 0.14315777],\n",
      "        [0.19387877, 0.22620982, 0.15772194],\n",
      "        [0.13309011, 0.14738974, 0.19451304],\n",
      "        [0.15342505, 0.22676196, 0.1511165 ],\n",
      "        [0.24752277, 0.11190863, 0.15853456]],\n",
      "\n",
      "       [[0.20799378, 0.3396554 , 0.21327704],\n",
      "        [0.17693425, 0.1974848 , 0.09264913],\n",
      "        [0.17295484, 0.2287424 , 0.16499053],\n",
      "        [0.11633854, 0.17888691, 0.12095528],\n",
      "        [0.29404039, 0.21895075, 0.26800247],\n",
      "        [0.28166304, 0.10132711, 0.14912878]],\n",
      "\n",
      "       [[0.13533597, 0.14723055, 0.23685111],\n",
      "        [0.16084522, 0.26881116, 0.18640747],\n",
      "        [0.08068882, 0.1383871 , 0.20381148],\n",
      "        [0.15726785, 0.16263681, 0.15077555],\n",
      "        [0.14501776, 0.10727596, 0.21792944],\n",
      "        [0.17129795, 0.19070883, 0.174112  ]],\n",
      "\n",
      "       [[0.13323495, 0.21312066, 0.29753925],\n",
      "        [0.18176145, 0.25511446, 0.13523022],\n",
      "        [0.23763512, 0.17424751, 0.14790115],\n",
      "        [0.08524517, 0.08132183, 0.22346042],\n",
      "        [0.19552913, 0.14515289, 0.28074429],\n",
      "        [0.10587238, 0.1877775 , 0.20485581]]])]\n"
     ]
    }
   ],
   "source": [
    "import numpy as np\n",
    "\n",
    "def recursive_sum(delta, depth, deltas, learning_rate):\n",
    "    if depth == 0:\n",
    "        return\n",
    "\n",
    "    x = delta[depth - 1]\n",
    "    x = np.sum(x, axis=depth % 2)\n",
    "    recursive_sum(delta, depth - 1, deltas, learning_rate)\n",
    "    deltas.append(x * learning_rate)\n",
    "\n",
    "# Example usage:\n",
    "delta_2d = [np.random.rand(3, 4), np.random.rand(4, 3)]\n",
    "delta_3d = [np.random.rand(3, 4, 5), np.random.rand(4, 3, 5), np.random.rand(4, 5, 3)]\n",
    "delta_4d = [np.random.rand(3, 4, 5, 6), np.random.rand(4, 3, 5, 6), np.random.rand(4, 5, 3, 6), np.random.rand(4, 5, 6, 3)]\n",
    "\n",
    "deltas = []\n",
    "learning_rate = 0.1\n",
    "\n",
    "recursive_sum(delta_2d, len(delta_2d), deltas, learning_rate)\n",
    "recursive_sum(delta_3d, len(delta_3d), deltas, learning_rate)\n",
    "recursive_sum(delta_4d, len(delta_4d), deltas, learning_rate)\n",
    "\n",
    "# Check the results\n",
    "print(deltas)"
   ]
  },
  {
   "cell_type": "code",
   "execution_count": 6,
   "metadata": {},
   "outputs": [
    {
     "data": {
      "text/plain": [
       "[array([[6, 6, 6],\n",
       "        [6, 6, 6],\n",
       "        [6, 6, 6]]),\n",
       " array([[15, 15, 15],\n",
       "        [15, 15, 15],\n",
       "        [15, 15, 15]]),\n",
       " array([[21, 24, 27],\n",
       "        [21, 24, 27],\n",
       "        [21, 24, 27]])]"
      ]
     },
     "execution_count": 6,
     "metadata": {},
     "output_type": "execute_result"
    }
   ],
   "source": [
    "learning_rate = 0.1\n",
    "import numpy as np\n",
    "\n",
    "error = np.arange(stop=9)\n",
    "\n",
    "x = np.array([1,2,3,4,5,6,7,8,9])\n",
    "\n",
    "x = np.array_split(x, range(3, len(x), 3))\n",
    "\n",
    "\n",
    "delta =  np.meshgrid(*x, indexing=\"ij\")\n",
    "learning_rate = 1\n",
    "\n",
    "deltas = []\n",
    "def recursive_sum(delta, depth, deltas, learning_rate):\n",
    "    if depth == 0:\n",
    "        return\n",
    "\n",
    "    x = delta[depth - 1]\n",
    "    x = np.sum(x, axis=depth % 2)\n",
    "    recursive_sum(delta, depth - 1, deltas, learning_rate)\n",
    "    deltas.append(x * learning_rate)\n",
    "\n",
    "recursive_sum(delta, len(delta), deltas, learning_rate)\n",
    "deltas"
   ]
  },
  {
   "cell_type": "code",
   "execution_count": 32,
   "metadata": {},
   "outputs": [
    {
     "name": "stdout",
     "output_type": "stream",
     "text": [
      "[array([[[1, 1, 1],\n",
      "        [1, 1, 1],\n",
      "        [1, 1, 1]],\n",
      "\n",
      "       [[2, 2, 2],\n",
      "        [2, 2, 2],\n",
      "        [2, 2, 2]],\n",
      "\n",
      "       [[3, 3, 3],\n",
      "        [3, 3, 3],\n",
      "        [3, 3, 3]]]), array([[[4, 4, 4],\n",
      "        [5, 5, 5],\n",
      "        [6, 6, 6]],\n",
      "\n",
      "       [[4, 4, 4],\n",
      "        [5, 5, 5],\n",
      "        [6, 6, 6]],\n",
      "\n",
      "       [[4, 4, 4],\n",
      "        [5, 5, 5],\n",
      "        [6, 6, 6]]]), array([[[7, 8, 9],\n",
      "        [7, 8, 9],\n",
      "        [7, 8, 9]],\n",
      "\n",
      "       [[7, 8, 9],\n",
      "        [7, 8, 9],\n",
      "        [7, 8, 9]],\n",
      "\n",
      "       [[7, 8, 9],\n",
      "        [7, 8, 9],\n",
      "        [7, 8, 9]]])]\n"
     ]
    }
   ],
   "source": [
    "error = np.arange(stop=9)\n",
    "\n",
    "x = np.array([1,2,3,4,5,6,7,8,9])\n",
    "\n",
    "x = np.array_split(x, range(3, len(x), 3))\n",
    "\n",
    "\n",
    "delta =  np.meshgrid(*x, indexing=\"ij\")\n",
    "print(delta)\n"
   ]
  },
  {
   "cell_type": "code",
   "execution_count": 33,
   "metadata": {},
   "outputs": [
    {
     "data": {
      "text/plain": [
       "array([ 9, 18, 27])"
      ]
     },
     "execution_count": 33,
     "metadata": {},
     "output_type": "execute_result"
    }
   ],
   "source": [
    "x = delta[0]\n",
    "x = np.sum(x, axis=(1,2))\n",
    "\n",
    "\n",
    "#x = np.sum(x, axis=1)\n",
    "x"
   ]
  },
  {
   "cell_type": "code",
   "execution_count": 34,
   "metadata": {},
   "outputs": [
    {
     "data": {
      "text/plain": [
       "array([36, 45, 54])"
      ]
     },
     "execution_count": 34,
     "metadata": {},
     "output_type": "execute_result"
    }
   ],
   "source": [
    "x = delta[1]\n",
    "x = np.sum(x, axis=0)\n",
    "x = np.sum(x, axis=1)\n",
    "x"
   ]
  },
  {
   "cell_type": "code",
   "execution_count": 35,
   "metadata": {},
   "outputs": [
    {
     "data": {
      "text/plain": [
       "array([63, 72, 81])"
      ]
     },
     "execution_count": 35,
     "metadata": {},
     "output_type": "execute_result"
    }
   ],
   "source": [
    "x = delta[2]\n",
    "x = np.sum(x, axis=1)\n",
    "x = np.sum(x, axis=0)\n",
    "x"
   ]
  },
  {
   "cell_type": "code",
   "execution_count": 36,
   "metadata": {},
   "outputs": [
    {
     "name": "stdout",
     "output_type": "stream",
     "text": [
      "out [array([[1, 2, 3]]), array([[4],\n",
      "       [5],\n",
      "       [6]])]\n",
      "[[4 5 6]\n",
      " [4 5 6]\n",
      " [4 5 6]]\n",
      "[array([4, 5, 6]), array([4, 5, 6])]\n"
     ]
    }
   ],
   "source": [
    "x = np.array([1,2,3,4,5,6])\n",
    "x.setflags(write=1) # not needed \n",
    "x = np.array_split(x, range(3, len(x), 3))\n",
    "\n",
    "xi = x\n",
    "ndim = len(xi)\n",
    "\n",
    "\n",
    "\n",
    "s0 = (1,) * ndim\n",
    "output = [np.asanyarray(x).reshape(s0[:i] + (-1,) + s0[i + 1:])\n",
    "            for i, x in enumerate(xi)]\n",
    "\n",
    "if ndim > 1:\n",
    "    # switch first and second axis\n",
    "    output[0].shape = (1, -1) + s0[2:]\n",
    "    output[1].shape = (-1, 1) + s0[2:]\n",
    "\n",
    "\n",
    "# Return the full N-D matrix (not only the 1-D vector)\n",
    "print(\"out\", output)\n",
    "output = np.broadcast_arrays(*output, subok=True)\n",
    "\n",
    "output = output[0]\n",
    "output.setflags(write=1) # needed \n",
    "output += 3\n",
    "#output = output * 3\n",
    "print(output)\n",
    "print(x)"
   ]
  },
  {
   "cell_type": "code",
   "execution_count": 37,
   "metadata": {},
   "outputs": [
    {
     "name": "stdout",
     "output_type": "stream",
     "text": [
      "[ 5 10 15  4  5  6]\n",
      "[ 5 10 15]\n"
     ]
    }
   ],
   "source": [
    "# params to tune\n",
    "param = np.array([1,2,3,4,5,6])\n",
    "\n",
    "param_split = np.array_split(param, range(3, len(param), 3)) # does return adress \n",
    "\n",
    "#param_gridded = [p*5 for p in param_gridded] # does not change param\n",
    "param_split = param_split[0]\n",
    "param_split *= 5 # changes param\n",
    "\n",
    "\n",
    "print(param)\n",
    "print(param_split)"
   ]
  },
  {
   "cell_type": "code",
   "execution_count": 38,
   "metadata": {},
   "outputs": [
    {
     "name": "stdout",
     "output_type": "stream",
     "text": [
      "[ 5 10 15  4  5  6]\n",
      "[array([ 5, 10, 15]), array([4, 5, 6])]\n",
      "[[ 5  5  5]\n",
      " [10 10 10]\n",
      " [15 15 15]]\n"
     ]
    }
   ],
   "source": [
    "# params to tune\n",
    "param = np.array([1,2,3,4,5,6])\n",
    "\n",
    "param_split = np.array_split(param, range(3, len(param), 3)) # does return adress \n",
    "\n",
    "param_gridded = np.meshgrid(*param_split, indexing=\"ij\", copy=False) # If False, a view into the original arrays are returned in order to conserve memory.  Default is True.\n",
    "param_gridded = param_gridded[0]\n",
    "param_gridded.setflags(write=1) # needed \n",
    "param_gridded *= 5 # changes param\n",
    "\n",
    "\n",
    "print(param)\n",
    "print(param_split)\n",
    "print(param_gridded)"
   ]
  },
  {
   "cell_type": "code",
   "execution_count": 39,
   "metadata": {},
   "outputs": [
    {
     "name": "stdout",
     "output_type": "stream",
     "text": [
      "[1 2 3 4 5 6]\n",
      "[array([1, 2, 3]), array([4, 5, 6])]\n",
      "[array([[1, 1, 1],\n",
      "       [2, 2, 2],\n",
      "       [3, 3, 3]]), array([[4, 5, 6],\n",
      "       [4, 5, 6],\n",
      "       [4, 5, 6]])]\n"
     ]
    }
   ],
   "source": [
    "param = np.array([1,2,3,4,5,6])\n",
    "\n",
    "param_split = np.array_split(param, range(3, len(param), 3)) # does return adress \n",
    "\n",
    "param_gridded = np.meshgrid(*param_split, indexing=\"ij\", copy=False) # If False, a view into the original arrays are returned in order to conserve memory.  Default is True.\n",
    "\n",
    "\n",
    "print(param)\n",
    "print(param_split)\n",
    "print(param_gridded)"
   ]
  },
  {
   "cell_type": "code",
   "execution_count": 40,
   "metadata": {},
   "outputs": [
    {
     "name": "stdout",
     "output_type": "stream",
     "text": [
      "[ 5 10 15 20 25 30]\n",
      "[array([ 5, 10, 15]), array([20, 25, 30])]\n",
      "[array([[ 5,  5,  5],\n",
      "       [10, 10, 10],\n",
      "       [15, 15, 15]]), array([[20, 25, 30],\n",
      "       [20, 25, 30],\n",
      "       [20, 25, 30]])]\n"
     ]
    }
   ],
   "source": [
    "# params to tune\n",
    "param = np.array([1,2,3,4,5,6])\n",
    "\n",
    "param_split = np.array_split(param, range(3, len(param), 3)) # does return adress \n",
    "\n",
    "param_gridded = np.meshgrid(*param_split, indexing=\"ij\", copy=False) # If False, a view into the original arrays are returned in order to conserve memory.  Default is True.\n",
    "\n",
    "for p in param_gridded:\n",
    "   # param_gridded = param_gridded[0]\n",
    "    p.setflags(write=1) # needed \n",
    "    p *= 5 # changes param\n",
    " \n",
    "\n",
    "print(param)\n",
    "print(param_split)\n",
    "print(param_gridded)"
   ]
  },
  {
   "cell_type": "code",
   "execution_count": 41,
   "metadata": {},
   "outputs": [],
   "source": [
    "\n",
    "\n",
    "def _broadcast_to(array, shape, subok, readonly):\n",
    "    print(\"arr\", array)\n",
    "    print(\"shape\", shape)\n",
    "    shape = tuple(shape) if np.iterable(shape) else (shape,)\n",
    "    array = np.array(array, copy=False, subok=subok)\n",
    "    if not shape and array.shape:\n",
    "        raise ValueError('cannot broadcast a non-scalar to a scalar array')\n",
    "    if any(size < 0 for size in shape):\n",
    "        raise ValueError('all elements of broadcast shape must be non-'\n",
    "                         'negative')\n",
    "    extras = []\n",
    "    it = np.nditer(\n",
    "        (array,), flags=['multi_index', 'refs_ok', 'zerosize_ok'] + extras,\n",
    "        op_flags=['readonly'], itershape=shape, order='C')\n",
    "    print(\"it views\", it.itviews)\n",
    "\n",
    "    with it:\n",
    "        # never really has writebackifcopy semantics\n",
    "        broadcast = it.itviews[0]\n",
    "        print(\"it views\", it.itviews)\n",
    "        print(\"broad\", broadcast)\n",
    "   # result = _maybe_view_as_subclass(array, broadcast)\n",
    "    # In a future version this will go away\n",
    "   # if not readonly and array.flags._writeable_no_warn:\n",
    "        \n",
    "\n",
    "\n",
    "    \n",
    "    broadcast.flags.writeable = True\n",
    "    broadcast = broadcast.reshape(-1, 1)\n",
    "   # broadcast.flags._warn_on_write = True\n",
    "    return broadcast\n",
    "\n",
    "\n",
    "def _maybe_view_as_subclass(original_array, new_array):\n",
    "    if type(original_array) is not type(new_array):\n",
    "        # if input was an ndarray subclass and subclasses were OK,\n",
    "        # then view the result as that subclass.\n",
    "        new_array = new_array.view(type=type(original_array))\n",
    "        # Since we have done something akin to a view from original_array, we\n",
    "        # should let the subclass finalize (if it has it implemented, i.e., is\n",
    "        # not None).\n",
    "        if new_array.__array_finalize__:\n",
    "            new_array.__array_finalize__(original_array)\n",
    "    return new_array\n",
    "\n",
    "\n",
    "def broadcast_to(array, shape, subok=False):\n",
    "    \"\"\"Broadcast an array to a new shape.\n",
    "\n",
    "    Parameters\n",
    "    ----------\n",
    "    array : array_like\n",
    "        The array to broadcast.\n",
    "    shape : tuple or int\n",
    "        The shape of the desired array. A single integer ``i`` is interpreted\n",
    "        as ``(i,)``.\n",
    "    subok : bool, optional\n",
    "        If True, then sub-classes will be passed-through, otherwise\n",
    "        the returned array will be forced to be a base-class array (default).\n",
    "\n",
    "    Returns\n",
    "    -------\n",
    "    broadcast : array\n",
    "        A readonly view on the original array with the given shape. It is\n",
    "        typically not contiguous. Furthermore, more than one element of a\n",
    "        broadcasted array may refer to a single memory location.\n",
    "\n",
    "    Raises\n",
    "    ------\n",
    "    ValueError\n",
    "        If the array is not compatible with the new shape according to NumPy's\n",
    "        broadcasting rules.\n",
    "\n",
    "    See Also\n",
    "    --------\n",
    "    broadcast\n",
    "    broadcast_arrays\n",
    "    broadcast_shapes\n",
    "\n",
    "    Notes\n",
    "    -----\n",
    "    .. versionadded:: 1.10.0\n",
    "\n",
    "    Examples\n",
    "    --------\n",
    "    >>> x = np.array([1, 2, 3])\n",
    "    >>> np.broadcast_to(x, (3, 3))\n",
    "    array([[1, 2, 3],\n",
    "           [1, 2, 3],\n",
    "           [1, 2, 3]])\n",
    "    \"\"\"\n",
    "    return _broadcast_to(array, shape, subok=subok, readonly=False)\n",
    "\n",
    "def _broadcast_shape(*args):\n",
    "    \"\"\"Returns the shape of the arrays that would result from broadcasting the\n",
    "    supplied arrays against each other.\n",
    "    \"\"\"\n",
    "    # use the old-iterator because np.nditer does not handle size 0 arrays\n",
    "    # consistently\n",
    "    b = np.broadcast(*args[:32])\n",
    "    # unfortunately, it cannot handle 32 or more arguments directly\n",
    "    for pos in range(32, len(args), 31):\n",
    "        # ironically, np.broadcast does not properly handle np.broadcast\n",
    "        # objects (it treats them as scalars)\n",
    "        # use broadcasting to avoid allocating the full array\n",
    "        b = broadcast_to(0, b.shape)\n",
    "        b = np.broadcast(b, *args[pos:(pos + 31)])\n",
    "    return b.shape\n",
    "\n",
    "\n",
    "\n",
    "def broadcast_arrays(*args, subok=True):\n",
    "    args = [np.array(_m, copy=False, subok=subok) for _m in args]\n",
    "    temp = args\n",
    "    #temp *= 5 \n",
    "    print(args)\n",
    "    shape = _broadcast_shape(*args)\n",
    "\n",
    "    if all(array.shape == shape for array in args):\n",
    "        # Common case where nothing needs to be broadcasted.\n",
    "        return args\n",
    "\n",
    "    return [_broadcast_to(array, shape, subok=subok, readonly=False) # changed\n",
    "            for array in args]\n"
   ]
  },
  {
   "cell_type": "code",
   "execution_count": 42,
   "metadata": {},
   "outputs": [],
   "source": [
    "\n",
    "\n",
    "\n",
    "\n",
    "\n",
    "def meshgrid_custom(*xi,  indexing='ij',copy=False):\n",
    "    \"\"\"\n",
    "    https://github.com/numpy/numpy/blob/v1.26.0/numpy/lib/function_base.py#L5010-L5165\n",
    "    \"\"\"\n",
    "    ndim = len(xi)\n",
    "\n",
    "\n",
    "    s0 = (1,) * ndim\n",
    "    output = [np.asanyarray(x).reshape(s0[:i] + (-1,) + s0[i + 1:])\n",
    "              for i, x in enumerate(xi)]\n",
    "   # output1 = [np.asanyarray(x).reshape(s0[:i] + (-1,) + s0[i + 1:])\n",
    "   #           for i, x in enumerate(xi)]\n",
    "   # output2 = [np.asanyarray(x).reshape(s0[:i] + (-1,) + s0[i + 1:])\n",
    "   #           for i, x in enumerate(xi)]\n",
    "\n",
    "    \n",
    "    # Return the full N-D matrix (not only the 1-D vector)\n",
    "  #  output = broadcast_arrays(*output, subok=True)\n",
    "    \n",
    "    args = [np.array(_m, copy=False, subok=True) for _m in output]\n",
    "    shape = _broadcast_shape(*args)\n",
    "\n",
    "   # out = [_broadcast_to(array, shape, subok=True, readonly=False) # changed\n",
    "     #       for array in args]\n",
    "    \n",
    "    out = []\n",
    "    for array in args:\n",
    "        \n",
    "        shape = tuple(shape) if np.iterable(shape) else (shape,)\n",
    "        array = np.array(array, copy=False, subok=True)\n",
    "        extras = []\n",
    "        it = np.nditer(\n",
    "            (array,), flags=['multi_index', 'refs_ok', 'zerosize_ok'] + extras,\n",
    "            op_flags=['readonly'], itershape=shape, order='C')\n",
    "        print(\"it views\", it.itviews)\n",
    "\n",
    "        with it:\n",
    "            # never really has writebackifcopy semantics\n",
    "            broadcast = it.itviews[0]\n",
    "            print(\"it views\", it.itviews)\n",
    "            print(\"broad\", broadcast)\n",
    "    \n",
    "        broadcast.flags.writeable = True\n",
    "       # broadcast = broadcast.reshape(-1, 1)\n",
    "   # broadcast.flags._warn_on_write = True\n",
    "        out.append(broadcast)\n",
    "\n",
    "\n",
    "\n",
    "\n",
    "          \n",
    "    print(\"Output\", out)\n",
    "    \n",
    "    \n",
    "  #  a1  = np.array(output[0], copy=False)    \n",
    "   # a2 = np.array(output[0], copy=False)    \n",
    " #   output[0]  = np.concatenate((output[0], output1[0], output2[0]), axis=1)\n",
    "\n",
    "\n",
    "   # a3  = np.array(output[1], copy=False)    \n",
    "  #  a4 = np.array(output[1], copy=False)    \n",
    "  #  output[1]  = np.concatenate((output[1], output1[1], output2[1]), axis=0)\n",
    "    return out\n",
    "\n",
    "\n",
    "\n",
    "\n"
   ]
  },
  {
   "cell_type": "code",
   "execution_count": 43,
   "metadata": {},
   "outputs": [],
   "source": [
    "\n",
    "\n",
    "\n",
    "def meshgrid_sum_reverse(*xi,  indexing='ij',copy=False):\n",
    "    \"\"\"\n",
    "    https://github.com/numpy/numpy/blob/v1.26.0/numpy/lib/function_base.py#L5010-L5165\n",
    "    \"\"\"\n",
    "\n",
    "    \n",
    "    args = [np.array(_m, copy=False, subok=True) for _m in xi]\n",
    "    print(\"args\", args)\n",
    "    shape = _broadcast_shape(*args)\n",
    "    out = []\n",
    "    for array in args:\n",
    "        \n",
    "        shape = tuple(shape) if np.iterable(shape) else (shape,)\n",
    "        array = np.array(array, copy=False, subok=True)\n",
    "        extras = []\n",
    "        it = np.nditer(\n",
    "            (array,), flags=['multi_index', 'refs_ok', 'zerosize_ok'] + extras,\n",
    "            op_flags=['readonly'], itershape=shape, order='C')\n",
    "        print(\"it views\", it.itviews)\n",
    "\n",
    "        with it:\n",
    "            # never really has writebackifcopy semantics\n",
    "            broadcast = it.itviews[0]\n",
    "            print(\"it views\", it.itviews)\n",
    "            print(\"broad\", broadcast)\n",
    "    \n",
    "        broadcast.flags.writeable = True\n",
    "       # broadcast = broadcast.reshape(-1, 1)\n",
    "   # broadcast.flags._warn_on_write = True\n",
    "        out.append(broadcast)\n",
    "\n",
    "    ndim = len(xi)\n",
    "    s0 = (1,) * ndim\n",
    "    print(\"HUH\", s0)\n",
    "    print(\"WHAT\", s0[:i] + (-1,) + s0[i + 1:])\n",
    "    output = [np.asanyarray(x).sum(s0[:i] + (-1,) + s0[i + 1:])\n",
    "              for i, x in enumerate(out)]\n",
    "    \n",
    "    print(\"oUT\", output)\n",
    "\n",
    "    return output"
   ]
  },
  {
   "cell_type": "code",
   "execution_count": 44,
   "metadata": {},
   "outputs": [
    {
     "name": "stdout",
     "output_type": "stream",
     "text": [
      "[1 2 3 4 5 6]\n",
      "it views (array([[1, 1, 1],\n",
      "       [2, 2, 2],\n",
      "       [3, 3, 3]]),)\n",
      "it views (array([[1, 1, 1],\n",
      "       [2, 2, 2],\n",
      "       [3, 3, 3]]),)\n",
      "broad [[1 1 1]\n",
      " [2 2 2]\n",
      " [3 3 3]]\n",
      "it views (array([[4, 5, 6],\n",
      "       [4, 5, 6],\n",
      "       [4, 5, 6]]),)\n",
      "it views (array([[4, 5, 6],\n",
      "       [4, 5, 6],\n",
      "       [4, 5, 6]]),)\n",
      "broad [[4 5 6]\n",
      " [4 5 6]\n",
      " [4 5 6]]\n",
      "Output [array([[1, 1, 1],\n",
      "       [2, 2, 2],\n",
      "       [3, 3, 3]]), array([[4, 5, 6],\n",
      "       [4, 5, 6],\n",
      "       [4, 5, 6]])]\n",
      "here [array([[1, 1, 1],\n",
      "       [2, 2, 2],\n",
      "       [3, 3, 3]]), array([[4, 5, 6],\n",
      "       [4, 5, 6],\n",
      "       [4, 5, 6]])]\n",
      "args [array([[[1, 1, 1],\n",
      "        [2, 2, 2],\n",
      "        [3, 3, 3]],\n",
      "\n",
      "       [[4, 5, 6],\n",
      "        [4, 5, 6],\n",
      "        [4, 5, 6]]])]\n",
      "it views (array([[[1, 1, 1],\n",
      "        [2, 2, 2],\n",
      "        [3, 3, 3]],\n",
      "\n",
      "       [[4, 5, 6],\n",
      "        [4, 5, 6],\n",
      "        [4, 5, 6]]]),)\n",
      "it views (array([[[1, 1, 1],\n",
      "        [2, 2, 2],\n",
      "        [3, 3, 3]],\n",
      "\n",
      "       [[4, 5, 6],\n",
      "        [4, 5, 6],\n",
      "        [4, 5, 6]]]),)\n",
      "broad [[[1 1 1]\n",
      "  [2 2 2]\n",
      "  [3 3 3]]\n",
      "\n",
      " [[4 5 6]\n",
      "  [4 5 6]\n",
      "  [4 5 6]]]\n",
      "HUH (1,)\n",
      "WHAT (1, -1)\n",
      "oUT [array([[ 3,  6,  9],\n",
      "       [15, 15, 15]])]\n"
     ]
    },
    {
     "data": {
      "text/plain": [
       "[array([[ 3,  6,  9],\n",
       "        [15, 15, 15]])]"
      ]
     },
     "execution_count": 44,
     "metadata": {},
     "output_type": "execute_result"
    }
   ],
   "source": [
    "\n",
    "# params to tune\n",
    "param = np.array([1,2,3,4,5,6])\n",
    "print(param)\n",
    "\n",
    "param_split = np.array_split(param, range(3, len(param), 3)) # does return adress \n",
    "\n",
    "param_gridded = meshgrid_custom(*param_split, indexing='ij', copy=False) # If False, a view into the original arrays are returned in order to conserve memory.  Default is True.\n",
    "print(\"here\",param_gridded)\n",
    "\n",
    "\n",
    "res = meshgrid_sum_reverse(param_gridded)\n",
    "res"
   ]
  },
  {
   "cell_type": "code",
   "execution_count": 45,
   "metadata": {},
   "outputs": [
    {
     "name": "stdout",
     "output_type": "stream",
     "text": [
      "[1 2 3 4 5 6]\n",
      "it views (array([[1, 1, 1],\n",
      "       [2, 2, 2],\n",
      "       [3, 3, 3]]),)\n",
      "it views (array([[1, 1, 1],\n",
      "       [2, 2, 2],\n",
      "       [3, 3, 3]]),)\n",
      "broad [[1 1 1]\n",
      " [2 2 2]\n",
      " [3 3 3]]\n",
      "it views (array([[4, 5, 6],\n",
      "       [4, 5, 6],\n",
      "       [4, 5, 6]]),)\n",
      "it views (array([[4, 5, 6],\n",
      "       [4, 5, 6],\n",
      "       [4, 5, 6]]),)\n",
      "broad [[4 5 6]\n",
      " [4 5 6]\n",
      " [4 5 6]]\n",
      "Output [array([[1, 1, 1],\n",
      "       [2, 2, 2],\n",
      "       [3, 3, 3]]), array([[4, 5, 6],\n",
      "       [4, 5, 6],\n",
      "       [4, 5, 6]])]\n",
      "here [array([[1, 1, 1],\n",
      "       [2, 2, 2],\n",
      "       [3, 3, 3]]), array([[4, 5, 6],\n",
      "       [4, 5, 6],\n",
      "       [4, 5, 6]])]\n",
      "_p [[1 1 1]\n",
      " [2 2 2]\n",
      " [3 3 3]]\n",
      "__d [[1 2 3]\n",
      " [4 5 6]\n",
      " [7 8 9]]\n",
      "p beyond [[ 4  4  4]\n",
      " [ 8  8  8]\n",
      " [12 12 12]]\n",
      "_p [[4 5 6]\n",
      " [4 5 6]\n",
      " [4 5 6]]\n",
      "__d [[10 11 12]\n",
      " [13 14 15]\n",
      " [16 17 18]]\n",
      "p beyond [[20 22 24]\n",
      " [20 22 24]\n",
      " [20 22 24]]\n",
      "after.........\n",
      "[ 4  8 12 20 22 24]\n",
      "[array([ 4,  8, 12]), array([20, 22, 24])]\n",
      "[array([[ 4,  4,  4],\n",
      "       [ 8,  8,  8],\n",
      "       [12, 12, 12]]), array([[20, 22, 24],\n",
      "       [20, 22, 24],\n",
      "       [20, 22, 24]])]\n"
     ]
    }
   ],
   "source": [
    "# params to tune\n",
    "param = np.array([1,2,3,4,5,6])\n",
    "print(param)\n",
    "\n",
    "param_split = np.array_split(param, range(3, len(param), 3)) # does return adress \n",
    "\n",
    "param_gridded = meshgrid_custom(*param_split, indexing='ij', copy=False) # If False, a view into the original arrays are returned in order to conserve memory.  Default is True.\n",
    "print(\"here\",param_gridded)\n",
    "\n",
    "delta = [np.array([[1, 2, 3],\n",
    "       [4, 5, 6],\n",
    "       [7, 8, 9]]), np.array([[ 10, 11, 12],\n",
    "       [ 13, 14, 15],\n",
    "       [ 16, 17, 18]])]\n",
    "\n",
    "#delta = [np.array(d).reshape(-1, 1) for d in delta]\n",
    "\n",
    "for p, d in zip(param_gridded,delta):\n",
    "   # param_gridded = param_gridded[0]\n",
    "   # for _p, _d in zip(p,d):\n",
    "              #temp = []\n",
    "             # for __p, __d in zip(_p,_d):\n",
    "       p.setflags(write=1) # needed \n",
    "       print(\"_p\", p)\n",
    "       print(\"__d\",d)\n",
    "       p += d # changes param\n",
    "       print(\"p beyond\", p)\n",
    "                     \n",
    " \n",
    "\n",
    "print(\"after.........\")\n",
    "print(param)\n",
    "print(param_split)\n",
    "print(param_gridded)"
   ]
  },
  {
   "cell_type": "code",
   "execution_count": null,
   "metadata": {},
   "outputs": [],
   "source": []
  },
  {
   "cell_type": "code",
   "execution_count": null,
   "metadata": {},
   "outputs": [],
   "source": []
  },
  {
   "cell_type": "code",
   "execution_count": 46,
   "metadata": {},
   "outputs": [
    {
     "data": {
      "text/plain": [
       "array([[ 28,  35,  42],\n",
       "       [ 64,  80,  96],\n",
       "       [108, 135, 162]])"
      ]
     },
     "execution_count": 46,
     "metadata": {},
     "output_type": "execute_result"
    }
   ],
   "source": [
    "\n",
    "x = np.array([1,2,3,4,5,6,7,8,9])\n",
    "\n",
    "mid = np.array_split(x, range(3, len(x), 3)) # does not return adress \n",
    "mid[0] = mid[0].reshape(-1, 1)\n",
    "hm = mid[0] * mid[1] * mid[2].reshape(-1, 1)\n",
    "hm"
   ]
  },
  {
   "cell_type": "code",
   "execution_count": 47,
   "metadata": {},
   "outputs": [
    {
     "data": {
      "text/plain": [
       "array([2, 3, 4, 5], dtype=int64)"
      ]
     },
     "execution_count": 47,
     "metadata": {},
     "output_type": "execute_result"
    }
   ],
   "source": [
    "x = np.array([1,2,3,4,5,6])\n",
    "n = 4\n",
    "best_indeces = np.argsort(x)[-n:] \n",
    "best_indeces"
   ]
  },
  {
   "cell_type": "code",
   "execution_count": 48,
   "metadata": {},
   "outputs": [
    {
     "name": "stdout",
     "output_type": "stream",
     "text": [
      "9\n",
      "[[[[ 280  308  336]\n",
      "   [ 320  352  384]\n",
      "   [ 360  396  432]]\n",
      "\n",
      "  [[ 350  385  420]\n",
      "   [ 400  440  480]\n",
      "   [ 450  495  540]]\n",
      "\n",
      "  [[ 420  462  504]\n",
      "   [ 480  528  576]\n",
      "   [ 540  594  648]]]\n",
      "\n",
      "\n",
      " [[[ 560  616  672]\n",
      "   [ 640  704  768]\n",
      "   [ 720  792  864]]\n",
      "\n",
      "  [[ 700  770  840]\n",
      "   [ 800  880  960]\n",
      "   [ 900  990 1080]]\n",
      "\n",
      "  [[ 840  924 1008]\n",
      "   [ 960 1056 1152]\n",
      "   [1080 1188 1296]]]\n",
      "\n",
      "\n",
      " [[[ 840  924 1008]\n",
      "   [ 960 1056 1152]\n",
      "   [1080 1188 1296]]\n",
      "\n",
      "  [[1050 1155 1260]\n",
      "   [1200 1320 1440]\n",
      "   [1350 1485 1620]]\n",
      "\n",
      "  [[1260 1386 1512]\n",
      "   [1440 1584 1728]\n",
      "   [1620 1782 1944]]]]\n"
     ]
    }
   ],
   "source": [
    "x = np.array([1,2,3,4,5,6,7,8,9,10,11,12])\n",
    "\n",
    "mid = np.array_split(x, range(3, len(x), 3)) # does not return adress \n",
    "mid =  np.meshgrid(*mid, indexing=\"ij\")\n",
    "\n",
    "# out = mid[0]\n",
    "# out.setflags(write=1) # needed \n",
    "# out += 3\n",
    "n_mfs = 3\n",
    "n_participants = 2\n",
    "rules = n_mfs ** n_participants\n",
    "print(rules)\n",
    "mid = np.prod(mid,axis=0)\n",
    "\n",
    "print(mid)\n",
    "#print(x)\n"
   ]
  },
  {
   "cell_type": "code",
   "execution_count": 49,
   "metadata": {},
   "outputs": [
    {
     "ename": "TypeError",
     "evalue": "arrays to stack must be passed as a \"sequence\" type such as list or tuple.",
     "output_type": "error",
     "traceback": [
      "\u001b[1;31m---------------------------------------------------------------------------\u001b[0m",
      "\u001b[1;31mTypeError\u001b[0m                                 Traceback (most recent call last)",
      "Cell \u001b[1;32mIn[49], line 6\u001b[0m\n\u001b[0;32m      3\u001b[0m mid \u001b[38;5;241m=\u001b[39m np\u001b[38;5;241m.\u001b[39marray_split(x, \u001b[38;5;28mrange\u001b[39m(\u001b[38;5;241m3\u001b[39m, \u001b[38;5;28mlen\u001b[39m(x), \u001b[38;5;241m3\u001b[39m)) \u001b[38;5;66;03m# does not return adress \u001b[39;00m\n\u001b[0;32m      4\u001b[0m mid \u001b[38;5;241m=\u001b[39m  np\u001b[38;5;241m.\u001b[39mmeshgrid(\u001b[38;5;241m*\u001b[39mmid, indexing\u001b[38;5;241m=\u001b[39m\u001b[38;5;124m\"\u001b[39m\u001b[38;5;124mij\u001b[39m\u001b[38;5;124m\"\u001b[39m)\n\u001b[1;32m----> 6\u001b[0m positions \u001b[38;5;241m=\u001b[39m \u001b[43mnp\u001b[49m\u001b[38;5;241;43m.\u001b[39;49m\u001b[43mvstack\u001b[49m\u001b[43m(\u001b[49m\u001b[38;5;28;43mmap\u001b[39;49m\u001b[43m(\u001b[49m\u001b[43mnp\u001b[49m\u001b[38;5;241;43m.\u001b[39;49m\u001b[43mravel\u001b[49m\u001b[43m,\u001b[49m\u001b[43m \u001b[49m\u001b[43mmid\u001b[49m\u001b[43m)\u001b[49m\u001b[43m)\u001b[49m\n\u001b[0;32m      7\u001b[0m positions\n",
      "File \u001b[1;32mc:\\Users\\julia\\anaconda3\\envs\\neurofuzzy\\lib\\site-packages\\numpy\\core\\shape_base.py:216\u001b[0m, in \u001b[0;36m_vhstack_dispatcher\u001b[1;34m(tup, dtype, casting)\u001b[0m\n\u001b[0;32m    215\u001b[0m \u001b[38;5;28;01mdef\u001b[39;00m \u001b[38;5;21m_vhstack_dispatcher\u001b[39m(tup, \u001b[38;5;241m*\u001b[39m, dtype\u001b[38;5;241m=\u001b[39m\u001b[38;5;28;01mNone\u001b[39;00m, casting\u001b[38;5;241m=\u001b[39m\u001b[38;5;28;01mNone\u001b[39;00m):\n\u001b[1;32m--> 216\u001b[0m     \u001b[38;5;28;01mreturn\u001b[39;00m \u001b[43m_arrays_for_stack_dispatcher\u001b[49m\u001b[43m(\u001b[49m\u001b[43mtup\u001b[49m\u001b[43m)\u001b[49m\n",
      "File \u001b[1;32mc:\\Users\\julia\\anaconda3\\envs\\neurofuzzy\\lib\\site-packages\\numpy\\core\\shape_base.py:209\u001b[0m, in \u001b[0;36m_arrays_for_stack_dispatcher\u001b[1;34m(arrays)\u001b[0m\n\u001b[0;32m    207\u001b[0m \u001b[38;5;28;01mdef\u001b[39;00m \u001b[38;5;21m_arrays_for_stack_dispatcher\u001b[39m(arrays):\n\u001b[0;32m    208\u001b[0m     \u001b[38;5;28;01mif\u001b[39;00m \u001b[38;5;129;01mnot\u001b[39;00m \u001b[38;5;28mhasattr\u001b[39m(arrays, \u001b[38;5;124m\"\u001b[39m\u001b[38;5;124m__getitem__\u001b[39m\u001b[38;5;124m\"\u001b[39m):\n\u001b[1;32m--> 209\u001b[0m         \u001b[38;5;28;01mraise\u001b[39;00m \u001b[38;5;167;01mTypeError\u001b[39;00m(\u001b[38;5;124m'\u001b[39m\u001b[38;5;124marrays to stack must be passed as a \u001b[39m\u001b[38;5;124m\"\u001b[39m\u001b[38;5;124msequence\u001b[39m\u001b[38;5;124m\"\u001b[39m\u001b[38;5;124m type \u001b[39m\u001b[38;5;124m'\u001b[39m\n\u001b[0;32m    210\u001b[0m                         \u001b[38;5;124m'\u001b[39m\u001b[38;5;124msuch as list or tuple.\u001b[39m\u001b[38;5;124m'\u001b[39m)\n\u001b[0;32m    212\u001b[0m     \u001b[38;5;28;01mreturn\u001b[39;00m \u001b[38;5;28mtuple\u001b[39m(arrays)\n",
      "\u001b[1;31mTypeError\u001b[0m: arrays to stack must be passed as a \"sequence\" type such as list or tuple."
     ]
    }
   ],
   "source": [
    "x = np.array([1,2,3,4,5,6])\n",
    "\n",
    "mid = np.array_split(x, range(3, len(x), 3)) # does not return adress \n",
    "mid =  np.meshgrid(*mid, indexing=\"ij\")\n",
    "\n",
    "positions = np.vstack(map(np.ravel, mid))\n",
    "positions"
   ]
  },
  {
   "cell_type": "code",
   "execution_count": null,
   "metadata": {},
   "outputs": [
    {
     "name": "stdout",
     "output_type": "stream",
     "text": [
      "[[0.71659513 0.         0.75135812 0.        ]\n",
      " [0.         0.47190284 0.         0.65214701]\n",
      " [0.         0.47169245 0.         0.65205271]\n",
      " [0.71323643 0.         0.74836295 0.        ]\n",
      " [0.         0.46969102 0.         0.64954733]\n",
      " [0.         0.46948161 0.         0.6494534 ]\n",
      " [0.97967696 0.         0.88774161 0.        ]\n",
      " [0.64515139 0.         0.7705221  0.        ]\n",
      " [0.64486374 0.         0.77041068 0.        ]]\n"
     ]
    },
    {
     "data": {
      "text/plain": [
       "array([1.46795325, 1.12404985, 1.12374516, 1.46159938, 1.11923835,\n",
       "       1.11893501, 1.86741857, 1.41567349, 1.41527442])"
      ]
     },
     "execution_count": 52,
     "metadata": {},
     "output_type": "execute_result"
    }
   ],
   "source": [
    "one = np.array([[0.71659513, 0.        ],\n",
    "       [0.        , 0.47190284],\n",
    "       [0.        , 0.47169245],\n",
    "       [0.71323643, 0.        ],\n",
    "       [0.        , 0.46969102],\n",
    "       [0.        , 0.46948161],\n",
    "       [0.97967696, 0.        ],\n",
    "       [0.64515139, 0.        ],\n",
    "       [0.64486374, 0.        ]])\n",
    "\n",
    "two = np.array([[0.75135812, 0.        ],\n",
    "       [0.        , 0.65214701],\n",
    "       [0.        , 0.65205271],\n",
    "       [0.74836295, 0.        ],\n",
    "       [0.        , 0.64954733],\n",
    "       [0.        , 0.6494534 ],\n",
    "       [0.88774161, 0.        ],\n",
    "       [0.7705221 , 0.        ],\n",
    "       [0.77041068, 0.        ]])\n",
    "\n",
    "\n",
    "\n",
    "arr = [one,two]\n",
    "x = np.concatenate(arr, axis=1)\n",
    "print(x)\n",
    "\n",
    "res = np.sum(x, axis =1)\n",
    "res"
   ]
  },
  {
   "cell_type": "code",
   "execution_count": null,
   "metadata": {},
   "outputs": [],
   "source": []
  },
  {
   "cell_type": "code",
   "execution_count": 77,
   "metadata": {},
   "outputs": [
    {
     "name": "stdout",
     "output_type": "stream",
     "text": [
      "[8 8 8 4 4 4]\n"
     ]
    },
    {
     "data": {
      "text/plain": [
       "array([1.14285714, 1.14285714, 1.14285714, 0.57142857, 0.57142857,\n",
       "       0.57142857])"
      ]
     },
     "execution_count": 77,
     "metadata": {},
     "output_type": "execute_result"
    }
   ],
   "source": [
    "\n",
    "n_mfs = 3\n",
    "\n",
    "x = np.array([8,4])\n",
    "y = np.array([2,1])\n",
    "n_inputs = x.size // n_mfs\n",
    "\n",
    "\n",
    "# multiplicator = np.tile(np.arange(1, n_mfs + 1), n_inputs)\n",
    "# cetnters = (x / (n_mfs + 1)) * multiplicator\n",
    "\n",
    "centers = []\n",
    "for i, _ in enumerate(x):    \n",
    "   # centers.append(np.arange(start=y[i], stop=x[i] + (x[i]-y[i])/(n_mfs-1),step=(x[i]-y[i])/(n_mfs-1)))\n",
    "    centers.append(np.linspace(start=y[i], stop=x[i], num=n_mfs, endpoint=True))\n",
    "centers = np.array(centers)\n",
    "centers.ravel()\n",
    "\n",
    "\n",
    "x = np.repeat(x, n_mfs)\n",
    "print(x)\n",
    "x/(2*n_mfs+1)\n"
   ]
  },
  {
   "cell_type": "code",
   "execution_count": 2,
   "metadata": {},
   "outputs": [
    {
     "name": "stdout",
     "output_type": "stream",
     "text": [
      "[array([0.17311924, 0.16956292, 0.14544873]), array([0.14311496, 0.14050097, 0.22062876]), array([[0.17128193, 0.14627981, 0.23442923, 0.24197455, 0.21640817],\n",
      "       [0.20013463, 0.14277229, 0.27392092, 0.19451476, 0.26881319],\n",
      "       [0.21763531, 0.21556099, 0.17321572, 0.18581366, 0.20328691]]), array([[0.16637953, 0.17921957, 0.19676947, 0.2243831 , 0.16458619],\n",
      "       [0.18561643, 0.12058211, 0.22704789, 0.21808042, 0.22944394],\n",
      "       [0.28588338, 0.07380084, 0.19164539, 0.16080077, 0.20646275]]), array([[0.15237478, 0.30112134, 0.17709567],\n",
      "       [0.23970953, 0.39646132, 0.09327096],\n",
      "       [0.18828891, 0.20259308, 0.32208054],\n",
      "       [0.27948438, 0.19818036, 0.38322945]]), array([[[0.07060491, 0.25850294, 0.13091011, 0.2889018 , 0.22257733,\n",
      "         0.23376523],\n",
      "        [0.1923557 , 0.22382612, 0.24551106, 0.20913125, 0.16983578,\n",
      "         0.20003368],\n",
      "        [0.30252273, 0.20442974, 0.20815911, 0.16705734, 0.17325586,\n",
      "         0.15421606],\n",
      "        [0.15893245, 0.16481176, 0.32226007, 0.14964835, 0.08102678,\n",
      "         0.26219978],\n",
      "        [0.23134638, 0.16434169, 0.19713231, 0.15129931, 0.18514659,\n",
      "         0.22915963]],\n",
      "\n",
      "       [[0.30049814, 0.20641532, 0.19432469, 0.16818564, 0.23032284,\n",
      "         0.25975002],\n",
      "        [0.21506259, 0.18520155, 0.24739985, 0.23772044, 0.2086938 ,\n",
      "         0.28513137],\n",
      "        [0.18744906, 0.23660129, 0.19795584, 0.12277434, 0.25528307,\n",
      "         0.15476157],\n",
      "        [0.13234896, 0.13680267, 0.21925897, 0.2070037 , 0.11715202,\n",
      "         0.22023908],\n",
      "        [0.24787359, 0.23802701, 0.23450686, 0.12031456, 0.20193957,\n",
      "         0.24419743]],\n",
      "\n",
      "       [[0.25008432, 0.15755503, 0.10110157, 0.17437151, 0.19692903,\n",
      "         0.18687415],\n",
      "        [0.13395162, 0.08872549, 0.08372625, 0.21742484, 0.19638433,\n",
      "         0.20802446],\n",
      "        [0.13117886, 0.33496055, 0.12953162, 0.14962086, 0.2724196 ,\n",
      "         0.16269062],\n",
      "        [0.19049741, 0.18416221, 0.24585762, 0.27471081, 0.20819599,\n",
      "         0.20057075],\n",
      "        [0.25991105, 0.27540621, 0.20169676, 0.21209907, 0.12892603,\n",
      "         0.22818195]]]), array([[[0.20109103, 0.23191508, 0.18204063, 0.16920636, 0.09862921,\n",
      "         0.22341365],\n",
      "        [0.06187664, 0.29197626, 0.20472998, 0.2056476 , 0.26478165,\n",
      "         0.12296314],\n",
      "        [0.14578141, 0.23970321, 0.16223529, 0.2397773 , 0.28972217,\n",
      "         0.09143117],\n",
      "        [0.22456862, 0.26233634, 0.19174337, 0.31266559, 0.25588206,\n",
      "         0.26731658],\n",
      "        [0.13304096, 0.24106049, 0.26469696, 0.15833884, 0.2766356 ,\n",
      "         0.16121383]],\n",
      "\n",
      "       [[0.12855128, 0.20366353, 0.06688551, 0.13551335, 0.19826006,\n",
      "         0.12067161],\n",
      "        [0.20404331, 0.23243051, 0.13144132, 0.18684042, 0.20536975,\n",
      "         0.20981142],\n",
      "        [0.24901944, 0.19316042, 0.03120986, 0.24105074, 0.20880721,\n",
      "         0.27705986],\n",
      "        [0.17743447, 0.25783017, 0.22401131, 0.14593529, 0.21032714,\n",
      "         0.16567339],\n",
      "        [0.17174045, 0.1850253 , 0.22722857, 0.16402366, 0.16938609,\n",
      "         0.22768665]],\n",
      "\n",
      "       [[0.20368607, 0.26483234, 0.20132662, 0.19693199, 0.20136537,\n",
      "         0.24947826],\n",
      "        [0.20241464, 0.19175097, 0.25783168, 0.10421753, 0.16644546,\n",
      "         0.1839694 ],\n",
      "        [0.20314706, 0.29554412, 0.1506371 , 0.22633088, 0.21642229,\n",
      "         0.16176556],\n",
      "        [0.195768  , 0.32052683, 0.17732861, 0.11368075, 0.15091547,\n",
      "         0.15989648],\n",
      "        [0.30582416, 0.26665399, 0.20356615, 0.19037231, 0.34382269,\n",
      "         0.22586781]]]), array([[[0.20135978, 0.12615774, 0.35530985, 0.2467501 , 0.24809159,\n",
      "         0.16639404],\n",
      "        [0.2168649 , 0.22496532, 0.34495389, 0.33171861, 0.22364335,\n",
      "         0.39718102],\n",
      "        [0.27930921, 0.25154618, 0.21250135, 0.33902445, 0.25208376,\n",
      "         0.25834079]],\n",
      "\n",
      "       [[0.30625842, 0.29230853, 0.18938435, 0.25884523, 0.20006663,\n",
      "         0.21962653],\n",
      "        [0.205214  , 0.22077481, 0.3109936 , 0.25101178, 0.30800728,\n",
      "         0.27982135],\n",
      "        [0.27807676, 0.30026133, 0.2287652 , 0.21196026, 0.19076048,\n",
      "         0.25339171]],\n",
      "\n",
      "       [[0.24295707, 0.38917404, 0.22114311, 0.23041651, 0.23090479,\n",
      "         0.24309836],\n",
      "        [0.19669199, 0.28605786, 0.32143277, 0.24473134, 0.30089241,\n",
      "         0.24966869],\n",
      "        [0.34406419, 0.28087148, 0.32931279, 0.29459008, 0.20019858,\n",
      "         0.264161  ]],\n",
      "\n",
      "       [[0.2233427 , 0.31715017, 0.26921011, 0.29300268, 0.22113768,\n",
      "         0.25772557],\n",
      "        [0.24936417, 0.24378729, 0.16182366, 0.2837923 , 0.2136227 ,\n",
      "         0.28911703],\n",
      "        [0.21983191, 0.36786041, 0.08755957, 0.18782152, 0.18425212,\n",
      "         0.28272472]]]), array([[[0.17650206, 0.10281076, 0.14054767],\n",
      "        [0.17582314, 0.2426478 , 0.24107183],\n",
      "        [0.23518515, 0.10870925, 0.12438236],\n",
      "        [0.22928991, 0.14994117, 0.17771106],\n",
      "        [0.25470247, 0.18031028, 0.26689549],\n",
      "        [0.22378587, 0.23179646, 0.28824316]],\n",
      "\n",
      "       [[0.09863757, 0.18609107, 0.19144779],\n",
      "        [0.22280348, 0.11972789, 0.14082031],\n",
      "        [0.19875726, 0.16172763, 0.17912152],\n",
      "        [0.17910238, 0.23275808, 0.30413887],\n",
      "        [0.20549787, 0.19514233, 0.15269871],\n",
      "        [0.27915762, 0.20813518, 0.19433549]],\n",
      "\n",
      "       [[0.3141167 , 0.2309417 , 0.2253605 ],\n",
      "        [0.25342846, 0.1484022 , 0.15907226],\n",
      "        [0.30634801, 0.18758928, 0.16752973],\n",
      "        [0.2442637 , 0.09681091, 0.30954706],\n",
      "        [0.13657596, 0.13644505, 0.26876217],\n",
      "        [0.24718167, 0.20344248, 0.20141566]],\n",
      "\n",
      "       [[0.14040043, 0.09312098, 0.2136029 ],\n",
      "        [0.25048701, 0.08442642, 0.20977698],\n",
      "        [0.13848803, 0.18339268, 0.0982221 ],\n",
      "        [0.29483765, 0.18488749, 0.18855213],\n",
      "        [0.21774619, 0.15169918, 0.14978876],\n",
      "        [0.14436135, 0.13218054, 0.19614132]],\n",
      "\n",
      "       [[0.30053011, 0.16147844, 0.18381389],\n",
      "        [0.17129625, 0.29719106, 0.16629361],\n",
      "        [0.2842558 , 0.13655505, 0.17674231],\n",
      "        [0.24527188, 0.22633169, 0.23177429],\n",
      "        [0.14465578, 0.32031785, 0.15494905],\n",
      "        [0.20627103, 0.17137208, 0.15526145]]])]\n"
     ]
    }
   ],
   "source": [
    "import numpy as np\n",
    "\n",
    "deltas = []\n",
    "def recursive_sum(delta, depth, deltas, learning_rate):\n",
    "    if depth == 0:\n",
    "        return\n",
    "\n",
    "    x = delta[depth - 1]\n",
    "    x = np.sum(x, axis=depth % 2)\n",
    "    recursive_sum(delta, depth - 1, deltas, learning_rate)\n",
    "    deltas.append(x * learning_rate)\n",
    "    \n",
    "\n",
    "# Example usage:\n",
    "delta_2d = [np.random.rand(3, 4), np.random.rand(4, 3)]\n",
    "delta_3d = [np.random.rand(3, 4, 5), np.random.rand(4, 3, 5), np.random.rand(4, 5, 3)]\n",
    "delta_4d = [np.random.rand(3, 4, 5, 6), np.random.rand(4, 3, 5, 6), np.random.rand(4, 5, 3, 6), np.random.rand(4, 5, 6, 3)]\n",
    "\n",
    "deltas = []\n",
    "learning_rate = 0.1\n",
    "\n",
    "recursive_sum(delta_2d, len(delta_2d), deltas, learning_rate)\n",
    "recursive_sum(delta_3d, len(delta_3d), deltas, learning_rate)\n",
    "recursive_sum(delta_4d, len(delta_4d), deltas, learning_rate)\n",
    "\n",
    "# Check the results\n",
    "print(deltas)\n"
   ]
  },
  {
   "cell_type": "code",
   "execution_count": null,
   "metadata": {},
   "outputs": [],
   "source": [
    "2 3 4 5 6 7 8"
   ]
  }
 ],
 "metadata": {
  "kernelspec": {
   "display_name": "base",
   "language": "python",
   "name": "python3"
  },
  "language_info": {
   "codemirror_mode": {
    "name": "ipython",
    "version": 3
   },
   "file_extension": ".py",
   "mimetype": "text/x-python",
   "name": "python",
   "nbconvert_exporter": "python",
   "pygments_lexer": "ipython3",
   "version": "3.10.13"
  }
 },
 "nbformat": 4,
 "nbformat_minor": 2
}
