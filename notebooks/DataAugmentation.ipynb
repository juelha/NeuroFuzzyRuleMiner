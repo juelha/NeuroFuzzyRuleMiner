{
  "cells": [
    {
      "cell_type": "markdown",
      "metadata": {
        "id": "_kPm35yZIcPA"
      },
      "source": [
        "Imports"
      ]
    },
    {
      "cell_type": "code",
      "execution_count": null,
      "metadata": {
        "id": "W05ZZD0OIPQu"
      },
      "outputs": [],
      "source": [
        "import pandas as pd\n",
        "import numpy as np\n",
        "import random"
      ]
    },
    {
      "cell_type": "markdown",
      "metadata": {
        "id": "LDq8lJC9IeE8"
      },
      "source": [
        "Fetching the data\n"
      ]
    },
    {
      "cell_type": "code",
      "execution_count": 1,
      "metadata": {
        "id": "w8ZRFzKPIbNe"
      },
      "outputs": [
        {
          "ename": "NameError",
          "evalue": "name 'pd' is not defined",
          "output_type": "error",
          "traceback": [
            "\u001b[0;31m---------------------------------------------------------------------------\u001b[0m",
            "\u001b[0;31mNameError\u001b[0m                                 Traceback (most recent call last)",
            "\u001b[0;32m/tmp/ipykernel_10217/1006059484.py\u001b[0m in \u001b[0;36m<module>\u001b[0;34m\u001b[0m\n\u001b[0;32m----> 1\u001b[0;31m \u001b[0mdf_citrusdal\u001b[0m \u001b[0;34m=\u001b[0m \u001b[0mpd\u001b[0m\u001b[0;34m.\u001b[0m\u001b[0mread_csv\u001b[0m\u001b[0;34m(\u001b[0m\u001b[0;34m'/content/drive/My Drive/Citrusdal_Cultivars.csv'\u001b[0m\u001b[0;34m)\u001b[0m\u001b[0;34m\u001b[0m\u001b[0;34m\u001b[0m\u001b[0m\n\u001b[0m\u001b[1;32m      2\u001b[0m \u001b[0mdf_east_cape\u001b[0m \u001b[0;34m=\u001b[0m \u001b[0mpd\u001b[0m\u001b[0;34m.\u001b[0m\u001b[0mread_csv\u001b[0m\u001b[0;34m(\u001b[0m\u001b[0;34m'/content/drive/My Drive/E.C cultivars.csv'\u001b[0m\u001b[0;34m)\u001b[0m\u001b[0;34m\u001b[0m\u001b[0;34m\u001b[0m\u001b[0m\n\u001b[1;32m      3\u001b[0m \u001b[0mdf_limpopo\u001b[0m \u001b[0;34m=\u001b[0m \u001b[0mpd\u001b[0m\u001b[0;34m.\u001b[0m\u001b[0mread_csv\u001b[0m\u001b[0;34m(\u001b[0m\u001b[0;34m'/content/drive/My Drive/Letsitele_valnecia data.csv'\u001b[0m\u001b[0;34m)\u001b[0m\u001b[0;34m\u001b[0m\u001b[0;34m\u001b[0m\u001b[0m\n",
            "\u001b[0;31mNameError\u001b[0m: name 'pd' is not defined"
          ]
        }
      ],
      "source": [
        "df_citrusdal = pd.read_csv('/content/drive/My Drive/Citrusdal_Cultivars.csv')\n",
        "df_east_cape = pd.read_csv('/content/drive/My Drive/E.C cultivars.csv')\n",
        "df_limpopo = pd.read_csv('/content/drive/My Drive/Letsitele_valnecia data.csv')"
      ]
    },
    {
      "cell_type": "markdown",
      "metadata": {
        "id": "Kz3e72RhIKG9"
      },
      "source": [
        "Generation of new data by sampling from a normal distribution"
      ]
    },
    {
      "cell_type": "code",
      "execution_count": null,
      "metadata": {
        "id": "3NKWIp6iIHcn"
      },
      "outputs": [],
      "source": [
        "new_row = {}    # dictionary for the new rows\n",
        "\n",
        "# construct a list with all columns that should have new values predicted\n",
        "predicter_columns = list(filter(lambda i: i not in ['season', 'yield'], df_citrusdal.columns.values.tolist()))\n",
        "\n",
        "# create an empty dataframe with columns\n",
        "aug_data  = pd.DataFrame(columns = df_citrusdal.columns.values.tolist())"
      ]
    },
    {
      "cell_type": "code",
      "execution_count": null,
      "metadata": {
        "id": "xu9E0gdeH49y"
      },
      "outputs": [],
      "source": [
        "# create dictionary with df by region\n",
        "data_dictionary = {'citrusdal': df_citrusdal, 'limpopo': df_limpopo, 'east_cape': df_east_cape}\n",
        "\n",
        "# iterate over the data frame dictionary\n",
        "for key, value in data_dictionary.items():\n",
        "    # only generate new data for rougly every 3rd row in the original data\n",
        "    if index % 3 == 0:\n",
        "        # iterating over the rows in the data frame\n",
        "        for index, row in value.iterrows():\n",
        "            # since the season won't be sampled, the original value will be used\n",
        "            new_row['season'] = row['season']\n",
        "            # iterate over the columns that we want to predict values for (all nutrient columns)\n",
        "            for feature in predicter_columns:\n",
        "                # sample new value from a normal distribution where mu = original data value\n",
        "                new_row[feature] = np.random.normal(loc = row[feature], scale = 0.05)\n",
        "            # since the yield won't be sampled, the original value will be used\n",
        "            new_row['yield'] = row['yield']\n",
        "            # the altered row is appened to a pandas dataframe\n",
        "            aug_data = aug_data.append(new_row, ignore_index = True)\n",
        "    \n",
        "    # appending the augmented data to the original data of the region\n",
        "    if key == 'citrusdal':\n",
        "        df_citrusdal_aug = df_citrusdal.append(aug_data, ignore_index=True)\n",
        "        df_citrusdal_aug.insert(loc = 0, column = 'region', value = 'Citrusdal')\n",
        "    elif key == 'limpopo':\n",
        "        df_limpopo_aug = df_limpopo.append(aug_data, ignore_index=True)\n",
        "        df_limpopo_aug.insert(loc = 0, column = 'region', value = 'Limpopo')\n",
        "    else:\n",
        "        df_east_cape_aug = df_east_cape.append(aug_data, ignore_index=True)\n",
        "        df_east_cape_aug.insert(loc = 0, column = 'region', value = 'Eastern Cape')\n",
        "    # aug_data is reset to be an empty df\n",
        "    aug_data  = pd.DataFrame(columns = df_citrusdal.columns.values.tolist())\n",
        "\n",
        "# creating merged dataframe of all (augmented and original) data\n",
        "df_merged_aug = df_citrusdal_aug.append(df_limpopo_aug, ignore_index=True)\n",
        "df_merged_aug = df_merged_aug.append(df_east_cape_aug, ignore_index=True)"
      ]
    },
    {
      "cell_type": "markdown",
      "metadata": {
        "id": "iJ9XH2nTIBVI"
      },
      "source": [
        "Exporting the new data sets"
      ]
    },
    {
      "cell_type": "code",
      "execution_count": null,
      "metadata": {
        "id": "2wlQPCqUIBo6"
      },
      "outputs": [],
      "source": [
        "## exporting dataframes\n",
        "# getting current folder \n",
        "current_folder = str(globals()['_dh'][0])\n",
        "\n",
        "# exporting to csv\n",
        "df_merged_aug.to_csv('/content/drive/My Drive/df_merged_aug.csv')\n",
        "df_merged_aug.to_csv(str(current_folder + '/../data/citrus_data/' + 'df_merged_aug.csv'), index=False)\n",
        "df_citrusdal_aug.to_csv(str(current_folder + '/../data/citrus_data/Citrusdal/' + 'df_citrusdal_aug.csv'), index=False)\n",
        "df_limpopo_aug.to_csv(str(current_folder + '/../data/citrus_data/Letsitele/' + 'df_limpopo_aug.csv'), index=False) \n",
        "df_east_cape_aug.to_csv(str(current_folder + '/../data/citrus_data/Eastern_Cape/' + 'df_east_cape_aug.csv'), index=False) "
      ]
    }
  ],
  "metadata": {
    "colab": {
      "collapsed_sections": [],
      "name": "DataAugmentation.ipynb",
      "provenance": []
    },
    "kernelspec": {
      "display_name": "Python 3",
      "name": "python3"
    },
    "language_info": {
      "codemirror_mode": {
        "name": "ipython",
        "version": 3
      },
      "file_extension": ".py",
      "mimetype": "text/x-python",
      "name": "python",
      "nbconvert_exporter": "python",
      "pygments_lexer": "ipython3",
      "version": "3.9.7"
    }
  },
  "nbformat": 4,
  "nbformat_minor": 0
}
