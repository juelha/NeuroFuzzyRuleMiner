{
 "cells": [
  {
   "cell_type": "markdown",
   "metadata": {},
   "source": [
    "## Notebook for trying out error and accuracy functions\n",
    "\n",
    "given a predicted and a target output \n",
    "\n",
    "Typical loss functions (also called “objective functions” or “scoring functions”) include:\n",
    "\n",
    "    Binary cross-entropy\n",
    "    Categorical cross-entropy\n",
    "    Sparse categorical cross-entropy\n",
    "    Mean Squared Error (MSE)\n",
    "    Mean Absolute Error (MAE)\n",
    "    Standard Hinge\n",
    "    Squared Hinge"
   ]
  },
  {
   "cell_type": "code",
   "execution_count": 38,
   "metadata": {},
   "outputs": [],
   "source": [
    "import numpy as np "
   ]
  },
  {
   "cell_type": "markdown",
   "metadata": {},
   "source": [
    "#### Mean square "
   ]
  },
  {
   "cell_type": "code",
   "execution_count": 39,
   "metadata": {},
   "outputs": [
    {
     "name": "stdout",
     "output_type": "stream",
     "text": [
      "[0.2 0.7 0.5 0.5]\n"
     ]
    }
   ],
   "source": [
    "pred = np.array([[0., 0.8], [0.3, 0.], [0., 0.5],  [0.5, 0.]])\n",
    "tar  = np.array([[0., 1.], [0., 1.], [1., 0.], [1., 0.]])\n",
    "\n",
    "print(np.sum( tar - pred  , axis=1))"
   ]
  },
  {
   "cell_type": "markdown",
   "metadata": {},
   "source": [
    "❌ error the same even though entirely wrong class was activated "
   ]
  },
  {
   "cell_type": "markdown",
   "metadata": {},
   "source": [
    "#### Cross Entropy Loss"
   ]
  },
  {
   "cell_type": "code",
   "execution_count": 76,
   "metadata": {},
   "outputs": [
    {
     "name": "stdout",
     "output_type": "stream",
     "text": [
      "here\n",
      "[-3.45387764e-14 -2.23143551e-01 -3.45387764e-14]\n",
      "here\n",
      "[-1.20397280e-15 -3.45387764e+01 -3.45387764e-14]\n",
      "here\n",
      "[-3.45387764e+01 -3.45387764e-14 -6.93147181e-16]\n",
      "here\n",
      "[-6.93147181e-16 -3.45387764e+01 -3.45387764e-14]\n",
      "[0.055785887828569636, 8.634694098727671, 8.634694098727671, 8.634694098727671]\n",
      "[0.05578589 8.6346941  8.6346941  8.6346941 ]\n",
      "[0.05  0.175 0.125 0.125]\n"
     ]
    }
   ],
   "source": [
    "pred = np.array([[0., 0.8], [0.3, 0.], [0., 0.5],  [0.5, 0.]])\n",
    "tar  = np.array([[0., 1.], [0., 1.], [1., 0.], [1., 0.]])\n",
    "\n",
    "pred = np.array([[0., 0.8, 0.], [0.3, 0., 0.], [0., 0., 0.5],  [0.5, 0., 0.]])\n",
    "tar  = np.array([[0., 1., 0.], [0., 1., 0.], [1., 0., 0.], [0., 1., 0.]])\n",
    "\n",
    "epsilon = 1e-15  # Small constant to prevent log(0)\n",
    "\n",
    "# Clip predicted probabilities to avoid log(0) or log(1)\n",
    "pred = np.clip(pred, epsilon, 1 - epsilon)\n",
    "tar = np.clip(tar, epsilon, 1 - epsilon)\n",
    "losses = []\n",
    "for p,t in zip(pred,tar):\n",
    "    # Calculate cross-entropy loss\n",
    "    print(\"here\")\n",
    "    print (t * np.log(p))# + (1 - t) * np.log(1 - p))\n",
    "    loss = - np.sum(t * np.log(p))# + (1 - t) * np.log(1 - p))\n",
    "   # print(\"loss\", loss)\n",
    "    # Normalize by the number of examples\n",
    "    num_examples = len(tar)\n",
    "   # print(\"num\", num_examples)\n",
    "    loss /= num_examples\n",
    "    losses.append(loss)\n",
    "\n",
    "\n",
    "def cross_entropy_loss(p, t):\n",
    "    # Calculate cross-entropy loss\n",
    "    \n",
    "    return - np.sum(t * np.log(p), axis=1) / len(t)\n",
    "\n",
    "\n",
    "def cross_entropy_loss_prime(p,t):\n",
    "    # https://shivammehta25.github.io/posts/deriving-categorical-cross-entropy-and-softmax/\n",
    "    return  np.sum(p- t, axis=1) / len(t)\n",
    "\n",
    "\n",
    "print(losses)\n",
    "print(cross_entropy_loss(pred,tar))\n",
    "print(cross_entropy_loss_prime(pred,tar))"
   ]
  },
  {
   "cell_type": "code",
   "execution_count": null,
   "metadata": {},
   "outputs": [],
   "source": [
    "\n",
    "pred = np.array([[0., 0.8, 0.], [0.3, 0., 0.], [0., 0., 0.5],  [0.5, 0., 0.]])\n",
    "tar  = np.array([[0., 1., 0.], [0., 1., 0.], [1., 0., 0.], [0., 1., 0.]])\n",
    "\n",
    "epsilon = 1e-15  # Small constant to prevent log(0)\n",
    "\n",
    "# Clip predicted probabilities to avoid log(0) or log(1)\n",
    "pred = np.clip(pred, epsilon, 1 - epsilon)\n",
    "tar = np.clip(tar, epsilon, 1 - epsilon)\n",
    "losses = []\n",
    "for cIDX in pred[0]: # for class in classses \n",
    "    for p,t in zip(pred,tar):\n",
    "        # Calculate cross-entropy loss\n",
    "        loss = - np.sum(t * np.log(p) + (1 - t) * np.log(1 - p))\n",
    "    # print(\"loss\", loss)\n",
    "        # Normalize by the number of examples\n",
    "        num_examples = len(tar)\n",
    "    # print(\"num\", num_examples)\n",
    "        loss /= num_examples\n",
    "        losses.append(loss)\n",
    "print(losses)"
   ]
  },
  {
   "cell_type": "markdown",
   "metadata": {},
   "source": [
    "✅ highest error for [[1., 0.], [1., 0.], [0., 1.]] and [[0., 1.], [0., 1.], [1., 0.]] is 34.53917619362575"
   ]
  },
  {
   "cell_type": "markdown",
   "metadata": {},
   "source": [
    "#### Coefficient of Determination"
   ]
  },
  {
   "cell_type": "code",
   "execution_count": 64,
   "metadata": {},
   "outputs": [
    {
     "name": "stdout",
     "output_type": "stream",
     "text": [
      "0.9999999999999998\n"
     ]
    }
   ],
   "source": [
    "pred = np.array([[1., 0.], [1., 0.], [0., 1.]])\n",
    "tar  = np.array([[0., 1.], [0., 1.], [1., 0.]])\n",
    "\n",
    "corr_matrix = np.corrcoef(tar, pred)\n",
    "corr = corr_matrix[0,1]\n",
    "R_sq = corr**2\n",
    " \n",
    "print(R_sq)"
   ]
  },
  {
   "cell_type": "code",
   "execution_count": 65,
   "metadata": {},
   "outputs": [
    {
     "name": "stdout",
     "output_type": "stream",
     "text": [
      "0.9999999999999998\n"
     ]
    }
   ],
   "source": [
    "pred = np.array([[0., 1.], [0., 1.], [1., 0.]])\n",
    "tar  = np.array([[0., 1.], [0., 1.], [1., 0.]])\n",
    "\n",
    "corr_matrix = np.corrcoef(tar, pred)\n",
    "corr = corr_matrix[0,1]\n",
    "R_sq = corr**2\n",
    " \n",
    "print(R_sq)"
   ]
  },
  {
   "cell_type": "markdown",
   "metadata": {},
   "source": [
    "❌ does not take one-hot into account at all"
   ]
  },
  {
   "cell_type": "code",
   "execution_count": 43,
   "metadata": {},
   "outputs": [
    {
     "name": "stdout",
     "output_type": "stream",
     "text": [
      "[[ True False]\n",
      " [ True False]\n",
      " [ True  True]\n",
      " [ True False]\n",
      " [ True False]\n",
      " [ True False]\n",
      " [ True False]\n",
      " [ True False]\n",
      " [ True False]]\n",
      "0.5555555555555556\n"
     ]
    }
   ],
   "source": [
    "prediction = np.array([[3.5409444e-09, 0.0000000e+00],\n",
    "                        [3.6693652e-06, 0.0000000e+00],\n",
    "                        [0.0000000e+00, 9.3634579e-01],\n",
    "                        [3.8932901e-09, 0.0000000e+00],\n",
    "                        [4.0344894e-06, 0.0000000e+00],\n",
    "                        [4.7976482e-01, 0.0000000e+00],\n",
    "                        [2.8737641e-09, 0.0000000e+00],\n",
    "                        [2.9779881e-06, 0.0000000e+00],\n",
    "                        [3.5413006e-01, 0.0000000e+00]])\n",
    "\n",
    "prediction = np.array([[3.5409444e-09, 0.0000000e+00],\n",
    "                        [3.6693652e-09, 0.0000000e+00],\n",
    "                        [0.0000000e+00, 9.9993634579e-01],\n",
    "                        [3.8932901e-09, 0.0000000e+00],\n",
    "                        [4.0344894e-06, 0.0000000e+00],\n",
    "                        [4.7976482e-09, 0.0000000e+00],\n",
    "                        [2.8737641e-09, 0.0000000e+00],\n",
    "                        [2.9779881e-09, 0.0000000e+00],\n",
    "                        [3.5413006e-09, 0.0000000e+00]])\n",
    "\n",
    "target = np.array([[0., 1.],\n",
    "                    [0., 1.],\n",
    "                    [0., 1.],\n",
    "                    [0., 1.],\n",
    "                    [0., 1.],\n",
    "                    [0., 1.],\n",
    "                    [0., 1.],\n",
    "                    [0., 1.],\n",
    "                    [0., 1.]])\n",
    "\n",
    "\n",
    "sample_test_accuracy =  target == np.round(prediction, 0)\n",
    "print(sample_test_accuracy)\n",
    "sample_test_accuracy = np.mean(sample_test_accuracy)\n",
    "print(sample_test_accuracy)"
   ]
  }
 ],
 "metadata": {
  "kernelspec": {
   "display_name": "neurofuzzy",
   "language": "python",
   "name": "python3"
  },
  "language_info": {
   "codemirror_mode": {
    "name": "ipython",
    "version": 3
   },
   "file_extension": ".py",
   "mimetype": "text/x-python",
   "name": "python",
   "nbconvert_exporter": "python",
   "pygments_lexer": "ipython3",
   "version": "3.10.13"
  }
 },
 "nbformat": 4,
 "nbformat_minor": 2
}
