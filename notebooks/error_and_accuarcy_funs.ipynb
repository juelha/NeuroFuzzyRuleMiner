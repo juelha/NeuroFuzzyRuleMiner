{
 "cells": [
  {
   "cell_type": "markdown",
   "metadata": {},
   "source": [
    "## Notebook for trying out error and accuracy functions\n",
    "\n",
    "given a predicted and a target output \n",
    "\n",
    "Typical loss functions (also called “objective functions” or “scoring functions”) include:\n",
    "\n",
    "    Binary cross-entropy\n",
    "    Categorical cross-entropy\n",
    "    Sparse categorical cross-entropy\n",
    "    Mean Squared Error (MSE)\n",
    "    Mean Absolute Error (MAE)\n",
    "    Standard Hinge\n",
    "    Squared Hinge"
   ]
  },
  {
   "cell_type": "code",
   "execution_count": 161,
   "metadata": {},
   "outputs": [],
   "source": [
    "import numpy as np "
   ]
  },
  {
   "cell_type": "markdown",
   "metadata": {},
   "source": [
    "#### Kullback–Leibler divergence\n",
    "vhttps://math.stackexchange.com/questions/4511868/gradient-of-kl-divergence"
   ]
  },
  {
   "cell_type": "code",
   "execution_count": 162,
   "metadata": {},
   "outputs": [
    {
     "data": {
      "text/plain": [
       "array([[-33.53877639,  35.31563284],\n",
       "       [ 34.33480359, -33.53877639],\n",
       "       [ 35.53877639, -33.53877639],\n",
       "       [  0.30685282,   1.        ]])"
      ]
     },
     "execution_count": 162,
     "metadata": {},
     "output_type": "execute_result"
    }
   ],
   "source": [
    "pred = np.array([[0., 0.8], [0.3, 0.], [1., 0.],  [0.5, 0.]])\n",
    "tar  = np.array([[1., 0.], [0., 1.], [0., 1.], [1., 0.]])\n",
    "\n",
    "epsilon = 1e-15  # Small constant to prevent log(0)\n",
    "# Clip predicted probabilities to avoid log(0) or log(1)\n",
    "pred = np.clip(pred, epsilon, 1 - epsilon)\n",
    "tar = np.clip(tar, epsilon, 1 - epsilon)\n",
    "\n",
    "error = np.log(pred/tar)+1\n",
    "\n",
    "error"
   ]
  },
  {
   "cell_type": "markdown",
   "metadata": {},
   "source": [
    "#### My hinge"
   ]
  },
  {
   "cell_type": "code",
   "execution_count": 191,
   "metadata": {},
   "outputs": [
    {
     "data": {
      "text/plain": [
       "array([0.2, 3.3, 3.5, 3.5])"
      ]
     },
     "execution_count": 191,
     "metadata": {},
     "output_type": "execute_result"
    }
   ],
   "source": [
    "pred = np.array([[0., 0.8], [0.3, 0.], [1., 0.],  [0.5, 0.]])\n",
    "tar  = np.array([[1., 0.], [0., 1.], [0., 1.], [1., 0.]])\n",
    "\n",
    "\n",
    "pred = np.array([[0., 0.8, 0.], [0.3, 0., 0.], [0., 0., 0.5],  [0.5, 0., 0.]])\n",
    "tar  = np.array([[0., 1., 0.], [0., 1., 0.], [1., 0., 0.], [0., 1., 0.]])\n",
    "\n",
    "\n",
    "pred = np.where(pred == 0, -1, pred)\n",
    "tar = np.where(tar == 0, -1, tar)\n",
    "\n",
    "zeros = np.zeros_like(tar)\n",
    "\n",
    "honk = np.concatenate((zeros, 1-tar*pred),axis=1)\n",
    "\n",
    "\n",
    "# my hinge\n",
    "error = np.sum(1-tar*pred, axis=1)\n",
    "error"
   ]
  },
  {
   "cell_type": "markdown",
   "metadata": {},
   "source": [
    "#### Hinge\n",
    "\n",
    "\"It is intended for use with binary classification where the target values are in the set {-1, 1}.\n",
    "\n",
    "The hinge loss function encourages examples to have the correct sign, assigning more error when there is a difference in the sign between the actual and predicted class values.\" \n",
    "(https://machinelearningmastery.com/how-to-choose-loss-functions-when-training-deep-learning-neural-networks/)"
   ]
  },
  {
   "cell_type": "code",
   "execution_count": 192,
   "metadata": {},
   "outputs": [
    {
     "data": {
      "text/plain": [
       "array([2. , 2. , 2. , 0.5])"
      ]
     },
     "execution_count": 192,
     "metadata": {},
     "output_type": "execute_result"
    }
   ],
   "source": [
    "pred = np.array([[0., 0.8], [0.3, 0.], [1., 0.],  [0.5, 0.]])\n",
    "tar  = np.array([[1., 0.], [0., 1.], [0., 1.], [1., 0.]])\n",
    "\n",
    "pred = np.where(pred == 0, -1, pred)\n",
    "tar = np.where(tar == 0, -1, tar)\n",
    "\n",
    "zeros = np.zeros_like(tar)\n",
    "\n",
    "honk = np.concatenate((zeros, 1-tar*pred),axis=1)\n",
    "\n",
    "\n",
    "# og hinge \n",
    "error = np.max(honk, axis=1)\n",
    "\n",
    "error\n"
   ]
  },
  {
   "cell_type": "markdown",
   "metadata": {},
   "source": [
    "\n",
    "\n",
    "\n",
    "❌ does care when entirely wrong class is activated but is not reflected in sign of error AND does not take into the 0.5 into account when: out = [0.5 0] and tar = [0 1]"
   ]
  },
  {
   "cell_type": "markdown",
   "metadata": {},
   "source": [
    "#### Mean square "
   ]
  },
  {
   "cell_type": "code",
   "execution_count": 193,
   "metadata": {},
   "outputs": [
    {
     "name": "stdout",
     "output_type": "stream",
     "text": [
      "[0.2 0.1 0.5 0.5]\n"
     ]
    }
   ],
   "source": [
    "pred = np.array([[0., 0.8], [0.9, 0.], [0., 0.5],  [0.5, 0.]])\n",
    "tar  = np.array([[0., 1.], [0., 1.], [1., 0.], [1., 0.]])\n",
    "\n",
    "print(np.sum( tar - pred  , axis=1))"
   ]
  },
  {
   "cell_type": "markdown",
   "metadata": {},
   "source": [
    "❌ error the same even though entirely wrong class was activated "
   ]
  },
  {
   "cell_type": "markdown",
   "metadata": {},
   "source": [
    "#### Cross Entropy Loss"
   ]
  },
  {
   "cell_type": "code",
   "execution_count": 194,
   "metadata": {},
   "outputs": [
    {
     "name": "stdout",
     "output_type": "stream",
     "text": [
      "here\n",
      "[-3.45387764e-14 -2.23143551e-01 -3.45387764e-14]\n",
      "here\n",
      "[-1.20397280e-15 -3.45387764e+01 -3.45387764e-14]\n",
      "here\n",
      "[-3.45387764e+01 -3.45387764e-14 -6.93147181e-16]\n",
      "here\n",
      "[-6.93147181e-16 -3.45387764e+01 -3.45387764e-14]\n",
      "[0.055785887828569636, 8.634694098727671, 8.634694098727671, 8.634694098727671]\n",
      "[0.05578589 8.6346941  8.6346941  8.6346941 ]\n",
      "[-0.05  -0.175 -0.125 -0.125]\n"
     ]
    }
   ],
   "source": [
    "pred = np.array([[0., 0.8], [0.3, 0.], [0., 0.5],  [0.5, 0.]])\n",
    "tar  = np.array([[0., 1.], [0., 1.], [1., 0.], [1., 0.]])\n",
    "\n",
    "pred = np.array([[0., 0.8, 0.], [0.3, 0., 0.], [0., 0., 0.5],  [0.5, 0., 0.]])\n",
    "tar  = np.array([[0., 1., 0.], [0., 1., 0.], [1., 0., 0.], [0., 1., 0.]])\n",
    "\n",
    "epsilon = 1e-15  # Small constant to prevent log(0)\n",
    "\n",
    "# Clip predicted probabilities to avoid log(0) or log(1)\n",
    "pred = np.clip(pred, epsilon, 1 - epsilon)\n",
    "tar = np.clip(tar, epsilon, 1 - epsilon)\n",
    "losses = []\n",
    "for p,t in zip(pred,tar):\n",
    "    # Calculate cross-entropy loss\n",
    "    print(\"here\")\n",
    "    print (t * np.log(p))# + (1 - t) * np.log(1 - p))\n",
    "    loss = - np.sum(t * np.log(p))# + (1 - t) * np.log(1 - p))\n",
    "   # print(\"loss\", loss)\n",
    "    # Normalize by the number of examples\n",
    "    num_examples = len(tar)\n",
    "   # print(\"num\", num_examples)\n",
    "    loss /= num_examples\n",
    "    losses.append(loss)\n",
    "\n",
    "\n",
    "def cross_entropy_loss(p, t):\n",
    "    # Calculate cross-entropy loss\n",
    "    \n",
    "    return - np.sum(t * np.log(p), axis=1) / len(t)\n",
    "\n",
    "\n",
    "def cross_entropy_loss_prime(p,t):\n",
    "    # https://shivammehta25.github.io/posts/deriving-categorical-cross-entropy-and-softmax/\n",
    "    return  np.sum(p- t, axis=1) / len(t)\n",
    "\n",
    "\n",
    "print(losses)\n",
    "print(cross_entropy_loss(pred,tar))\n",
    "print(cross_entropy_loss_prime(pred,tar))"
   ]
  },
  {
   "cell_type": "code",
   "execution_count": 195,
   "metadata": {},
   "outputs": [
    {
     "name": "stdout",
     "output_type": "stream",
     "text": [
      "[0.07438118377142738, 3.572769287470658, 11.743974525156878, 0.07438118377142738, 3.572769287470658, 11.743974525156878, 0.07438118377142738, 3.572769287470658, 11.743974525156878]\n"
     ]
    }
   ],
   "source": [
    "\n",
    "pred = np.array([[0., 0.8, 0.], [0.3, 0., 0.], [0., 0., 0.5]])\n",
    "tar  = np.array([[0., 1., 0.], [0., 0.3, 0.], [1., 0., 0.]])\n",
    "\n",
    "epsilon = 1e-15  # Small constant to prevent log(0)\n",
    "\n",
    "# Clip predicted probabilities to avoid log(0) or log(1)\n",
    "pred = np.clip(pred, epsilon, 1 - epsilon)\n",
    "tar = np.clip(tar, epsilon, 1 - epsilon)\n",
    "losses = []\n",
    "for cIDX in pred[0]: # for class in classses \n",
    "    for p,t in zip(pred,tar):\n",
    "        # Calculate cross-entropy loss\n",
    "        loss = - np.sum(t * np.log(p) + (1 - t) * np.log(1 - p))\n",
    "    # print(\"loss\", loss)\n",
    "        # Normalize by the number of examples\n",
    "        num_examples = len(tar)\n",
    "    # print(\"num\", num_examples)\n",
    "        loss /= num_examples\n",
    "        losses.append(loss)\n",
    "print(losses)"
   ]
  },
  {
   "cell_type": "markdown",
   "metadata": {},
   "source": [
    "❌ does not take into the 0.3 into account when: out = [0.3 0] and tar = [0 1]\n",
    "\n",
    "if target is zero but output is still activated to some degree it gets ignored.\n",
    "\n",
    "\"Cross-entropy with one-hot encoding implies that the target vector is all 0, except for one 1. So all of the zero entries are ignored and only the entry with 1 is used for updates. You can see this directly from the loss, since 0×log(something positive)=0, implying that only the predicted probability associated with the label influences the value of the loss\" (https://stats.stackexchange.com/questions/377966/cross-entropy-loss-for-one-hot-encoding)"
   ]
  },
  {
   "cell_type": "markdown",
   "metadata": {},
   "source": [
    "#### Coefficient of Determination"
   ]
  },
  {
   "cell_type": "code",
   "execution_count": 196,
   "metadata": {},
   "outputs": [
    {
     "name": "stdout",
     "output_type": "stream",
     "text": [
      "0.9999999999999998\n"
     ]
    }
   ],
   "source": [
    "pred = np.array([[1., 0.], [1., 0.], [0., 1.]])\n",
    "tar  = np.array([[0., 1.], [0., 1.], [1., 0.]])\n",
    "\n",
    "corr_matrix = np.corrcoef(tar, pred)\n",
    "corr = corr_matrix[0,1]\n",
    "R_sq = corr**2\n",
    " \n",
    "print(R_sq)"
   ]
  },
  {
   "cell_type": "code",
   "execution_count": 197,
   "metadata": {},
   "outputs": [
    {
     "name": "stdout",
     "output_type": "stream",
     "text": [
      "0.9999999999999998\n"
     ]
    }
   ],
   "source": [
    "pred = np.array([[0., 1.], [0., 1.], [1., 0.]])\n",
    "tar  = np.array([[0., 1.], [0., 1.], [1., 0.]])\n",
    "\n",
    "corr_matrix = np.corrcoef(tar, pred)\n",
    "corr = corr_matrix[0,1]\n",
    "R_sq = corr**2\n",
    " \n",
    "print(R_sq)"
   ]
  },
  {
   "cell_type": "markdown",
   "metadata": {},
   "source": [
    "❌ does not take one-hot into account at all"
   ]
  },
  {
   "cell_type": "code",
   "execution_count": 198,
   "metadata": {},
   "outputs": [
    {
     "name": "stdout",
     "output_type": "stream",
     "text": [
      "[[ True False]\n",
      " [ True False]\n",
      " [ True  True]\n",
      " [ True False]\n",
      " [ True False]\n",
      " [ True False]\n",
      " [ True False]\n",
      " [ True False]\n",
      " [ True False]]\n",
      "0.5555555555555556\n"
     ]
    }
   ],
   "source": [
    "prediction = np.array([[3.5409444e-09, 0.0000000e+00],\n",
    "                        [3.6693652e-06, 0.0000000e+00],\n",
    "                        [0.0000000e+00, 9.3634579e-01],\n",
    "                        [3.8932901e-09, 0.0000000e+00],\n",
    "                        [4.0344894e-06, 0.0000000e+00],\n",
    "                        [4.7976482e-01, 0.0000000e+00],\n",
    "                        [2.8737641e-09, 0.0000000e+00],\n",
    "                        [2.9779881e-06, 0.0000000e+00],\n",
    "                        [3.5413006e-01, 0.0000000e+00]])\n",
    "\n",
    "prediction = np.array([[3.5409444e-09, 0.0000000e+00],\n",
    "                        [3.6693652e-09, 0.0000000e+00],\n",
    "                        [0.0000000e+00, 9.9993634579e-01],\n",
    "                        [3.8932901e-09, 0.0000000e+00],\n",
    "                        [4.0344894e-06, 0.0000000e+00],\n",
    "                        [4.7976482e-09, 0.0000000e+00],\n",
    "                        [2.8737641e-09, 0.0000000e+00],\n",
    "                        [2.9779881e-09, 0.0000000e+00],\n",
    "                        [3.5413006e-09, 0.0000000e+00]])\n",
    "\n",
    "target = np.array([[0., 1.],\n",
    "                    [0., 1.],\n",
    "                    [0., 1.],\n",
    "                    [0., 1.],\n",
    "                    [0., 1.],\n",
    "                    [0., 1.],\n",
    "                    [0., 1.],\n",
    "                    [0., 1.],\n",
    "                    [0., 1.]])\n",
    "\n",
    "\n",
    "sample_test_accuracy =  target == np.round(prediction, 0)\n",
    "print(sample_test_accuracy)\n",
    "sample_test_accuracy = np.mean(sample_test_accuracy)\n",
    "print(sample_test_accuracy)"
   ]
  }
 ],
 "metadata": {
  "kernelspec": {
   "display_name": "neurofuzzy",
   "language": "python",
   "name": "python3"
  },
  "language_info": {
   "codemirror_mode": {
    "name": "ipython",
    "version": 3
   },
   "file_extension": ".py",
   "mimetype": "text/x-python",
   "name": "python",
   "nbconvert_exporter": "python",
   "pygments_lexer": "ipython3",
   "version": "3.10.13"
  }
 },
 "nbformat": 4,
 "nbformat_minor": 2
}
