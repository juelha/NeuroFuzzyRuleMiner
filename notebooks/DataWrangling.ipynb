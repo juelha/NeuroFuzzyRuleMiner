{
  "cells": [
    {
      "cell_type": "markdown",
      "metadata": {
        "id": "tluWln3cy78D"
      },
      "source": [
        "### Imports"
      ]
    },
    {
      "cell_type": "code",
      "execution_count": 27,
      "metadata": {
        "id": "If4fwnxTZRJJ"
      },
      "outputs": [],
      "source": [
        "import pandas as pd\n",
        "import re\n",
        "import os"
      ]
    },
    {
      "cell_type": "markdown",
      "metadata": {
        "id": "wWYM5d0czASC"
      },
      "source": [
        "# Reading and wrangling the data"
      ]
    },
    {
      "cell_type": "code",
      "execution_count": 2,
      "metadata": {
        "colab": {
          "base_uri": "https://localhost:8080/",
          "height": 441
        },
        "id": "hNnph2aOhHn1",
        "outputId": "427f4705-5d05-4d52-abbf-b13b5e64006c"
      },
      "outputs": [],
      "source": [
        "## fetching the data\n",
        "df_citrusdal = pd.read_csv('https://raw.githubusercontent.com/juelha/IANNWTF_FINAL/main/data/citrus%20data/Citrusdal/Citrusdal_cultivars.csv?token=GHSAT0AAAAAABSUU62YXD3HSSJF6KMXH5VAYSNRVSQ')\n",
        "df_east_cape = pd.read_csv('https://raw.githubusercontent.com/juelha/IANNWTF_FINAL/main/data/citrus%20data/Eastern%20-%20Cape/Eastern_Cape_cultivars.csv?token=GHSAT0AAAAAABSUU62YUQ3SZ3BY3ZD54JLSYSNRWDA')\n",
        "df_limpopo = pd.read_csv('https://raw.githubusercontent.com/juelha/IANNWTF_FINAL/main/data/citrus%20data/Letsitele/Letsitele_Valnecia_cultivars.csv?token=GHSAT0AAAAAABSUU62ZIIQARLYH4TUYL5KSYSNRX7A')\n",
        "\n",
        "# add the production region to the letsitele data set\n",
        "df_limpopo['Production region'] = 'Limpopo'\n",
        "\n",
        "# uniform naming for the seasonal data\n",
        "df_citrusdal.rename(columns = {'Year':'season'}, inplace = True)\n",
        "df_east_cape.rename(columns = {'Year':'season'}, inplace = True)\n",
        "\n",
        "# merge the relevant data sets for easier wrangling\n",
        "df_merged = pd.concat([df_citrusdal, df_east_cape, df_limpopo])\n",
        "\n",
        "# columns are renamed for easier handling and to remove the new lines\n",
        "df_merged.rename(columns = {'Production region':'region'}, inplace = True)\n",
        "\n",
        "# get columns and remove new lines from it, then set as new columns\n",
        "old_columns = df_merged.columns.values.tolist()\n",
        "df_merged.columns = [re.sub('\\n', ' ', column) for column in old_columns]"
      ]
    },
    {
      "cell_type": "code",
      "execution_count": 3,
      "metadata": {
        "id": "VB1x1R4wqlxT"
      },
      "outputs": [],
      "source": [
        "# dropping unneccesary columns\n",
        "df_merged = df_merged.drop(columns = ['Farm', 'Block', 'Rootstock', 'plant year',\n",
        "                                      'Age', 'Na (mg/kg)', 'S (%)', 'Cl (%)',\n",
        "                                      'Cu (mg/kg)', 'Fe (mg/kg)', 'Mn (mg/kg)',\n",
        "                                      'Zn (mg/kg)', 'B (mg/kg)', 'Mo (mg/kg)'])\n",
        "## missing values\n",
        "# drop columns that have na values for production or cultivar or season\n",
        "df_merged.dropna(subset=['production (ton/ha)', 'Cultivar', 'season'], inplace = True)\n",
        "\n",
        "# drop columns that have missing values for ALL macro nutrients\n",
        "df_merged = df_merged.dropna(subset=['N (%)', 'P (%)', 'K (%)', 'Ca (%)', 'Mg (%)'], how='all')\n",
        "\n",
        "# merge all Navel, Swartvlei and Midknight subclasses of cultivars\n",
        "df_merged['Cultivar'] = df_merged['Cultivar'].str.replace('^Navel.*', 'Navel (all)', regex=True)\n",
        "df_merged['Cultivar'] = df_merged['Cultivar'].str.replace('^Swartvlei.*', 'Swartvlei (all)', regex=True)\n",
        "df_merged['Cultivar'] = df_merged['Cultivar'].str.replace('^Midknight.*', 'Midknight', regex=True)\n",
        "\n",
        "df_merged = df_merged.replace(['Addo (SRV)', 'CT Miller', 'Kirkwood (SRV)', 'Sondagsriver'],\n",
        "                              ['Eastern Cape', 'Eastern Cape', 'Eastern Cape', 'Eastern Cape'])\n",
        "\n",
        "# create Species column based on cultivars then drop cultivars\n",
        "# list of cultivars and their species\n",
        "val_oranges = ['Midknight', 'Val Midnight', 'Val Delta', 'Delta', 'Valencia', 'Bennie', 'Lavalle', 'Swartvlei (all)']\n",
        "navel_oranges = ['Palmer', 'Navel (all)', 'Autumn Gold', 'Washington ']\n",
        "mandarins = ['Nova', 'Nadorcott', 'ORRI']\n",
        "\n",
        "# creating the new column 'Species' based on the lists\n",
        "df_merged = df_merged[df_merged['Cultivar'].isin(navel_oranges) == False]\n",
        "df_merged = df_merged[df_merged['Cultivar'].isin(mandarins) == False]\n",
        "df_merged.loc[df_merged['Cultivar'].isin(val_oranges) == True, 'species'] = 'Valencia Orange'\n",
        "df_merged.drop('Cultivar', axis=1, inplace=True)\n",
        "df_merged.drop('species', axis=1, inplace=True)\n",
        "\n",
        "# remove numerical 'production (ton/ha)' column and add 'yield' that categorizes the yield in high or low (current boundary = 50)\n",
        "df_merged.loc[df_merged['production (ton/ha)'] > 50, 'yield'] = 1\n",
        "df_merged.loc[df_merged['production (ton/ha)'] <= 50, 'yield'] = 0\n",
        "df_merged.drop('production (ton/ha)', axis=1, inplace=True)"
      ]
    },
    {
      "cell_type": "code",
      "execution_count": 29,
      "metadata": {
        "id": "L1yu3SayhHw9"
      },
      "outputs": [],
      "source": [
        "# split the wrangled data frame by their region and drop the column afterwards\n",
        "df_citrusdal = df_merged[df_merged['region'] == 'Citrusdal']\n",
        "df_citrusdal.drop('region', axis=1, inplace=True)\n",
        "\n",
        "df_limpopo = df_merged[df_merged['region'] == 'Limpopo']\n",
        "df_limpopo.drop('region', axis=1, inplace=True)\n",
        "\n",
        "df_east_cape = df_merged[df_merged.iloc[:,0].isin(['Citrusdal', 'Limpopo']) == False]\n",
        "df_east_cape.drop('region', axis=1, inplace=True)\n",
        "\n",
        "# reset and drop index\n",
        "df_merged.reset_index(drop=True, inplace=True)\n",
        "df_citrusdal.reset_index(drop=True, inplace=True)\n",
        "df_limpopo.reset_index(drop=True, inplace=True)\n",
        "df_east_cape.reset_index(drop=True, inplace=True)\n",
        "\n",
        "## exporting dataframes\n",
        "# getting current folder \n",
        "current_folder = str(globals()['_dh'][0])\n",
        "\n",
        "# exporting to csv\n",
        "df_merged.to_csv(str(current_folder + '/../data/' + 'df_merged.csv'), index=False)  \n",
        "df_citrusdal.to_csv(str(current_folder + '/../data/citrus_data/Citrusdal/' + 'df_citrusdal.csv'), index=False) \n",
        "df_east_cape.to_csv(str(current_folder + '/../data/citrus_data/Eastern_Cape/' + 'df_east_cape.csv'), index=False) \n",
        "df_limpopo.to_csv(str(current_folder + '/../data/citrus_data/Letsitele/' + 'df_limpopo.csv'), index=False) \n"
      ]
    },
    {
      "cell_type": "code",
      "execution_count": null,
      "metadata": {},
      "outputs": [],
      "source": []
    }
  ],
  "metadata": {
    "colab": {
      "collapsed_sections": [],
      "name": "Kopie von IANNWTF_final_project.ipynb",
      "provenance": []
    },
    "kernelspec": {
      "display_name": "Python 3",
      "name": "python3"
    },
    "language_info": {
      "codemirror_mode": {
        "name": "ipython",
        "version": 3
      },
      "file_extension": ".py",
      "mimetype": "text/x-python",
      "name": "python",
      "nbconvert_exporter": "python",
      "pygments_lexer": "ipython3",
      "version": "3.9.7"
    }
  },
  "nbformat": 4,
  "nbformat_minor": 0
}
